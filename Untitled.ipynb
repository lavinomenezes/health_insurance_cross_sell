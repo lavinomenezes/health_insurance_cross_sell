{
 "cells": [
  {
   "cell_type": "code",
   "execution_count": 3,
   "metadata": {
    "ExecuteTime": {
     "end_time": "2022-11-11T14:19:37.650312Z",
     "start_time": "2022-11-11T14:19:35.465072Z"
    }
   },
   "outputs": [],
   "source": [
    "import pandas as pd\n",
    "from IPython.core.display import HTML\n",
    "import seaborn as sns"
   ]
  },
  {
   "cell_type": "code",
   "execution_count": 4,
   "metadata": {
    "ExecuteTime": {
     "end_time": "2022-11-11T14:19:38.293203Z",
     "start_time": "2022-11-11T14:19:38.269272Z"
    }
   },
   "outputs": [
    {
     "name": "stdout",
     "output_type": "stream",
     "text": [
      "Populating the interactive namespace from numpy and matplotlib\n"
     ]
    },
    {
     "data": {
      "text/html": [
       "<style>.container { width:100% !important; }</style>"
      ],
      "text/plain": [
       "<IPython.core.display.HTML object>"
      ]
     },
     "metadata": {},
     "output_type": "display_data"
    }
   ],
   "source": [
    "def jupyter_settings():\n",
    "    %matplotlib inline\n",
    "    %pylab inline\n",
    "    plt.style.use( 'bmh' )\n",
    "    plt.rcParams['figure.figsize'] = [25, 12]\n",
    "    plt.rcParams['font.size'] = 24\n",
    "    display( HTML( '<style>.container { width:100% !important; }</style>') )\n",
    "    sns.set()\n",
    "jupyter_settings()"
   ]
  },
  {
   "cell_type": "code",
   "execution_count": 5,
   "metadata": {
    "ExecuteTime": {
     "end_time": "2022-11-11T14:19:40.462650Z",
     "start_time": "2022-11-11T14:19:40.423040Z"
    }
   },
   "outputs": [],
   "source": [
    "df = pd.read_csv('datamodels_comparison_balanced_accuracy.csv')"
   ]
  },
  {
   "cell_type": "code",
   "execution_count": 6,
   "metadata": {
    "ExecuteTime": {
     "end_time": "2022-11-11T14:19:41.331481Z",
     "start_time": "2022-11-11T14:19:41.315859Z"
    }
   },
   "outputs": [
    {
     "data": {
      "text/plain": [
       "Index(['Model name', 'PRECISION_CROSS_VAL', 'PRECISON_STD', 'RECALL_CROSS_VAL',\n",
       "       'RECALL_STD', 'BALANCED_ACC_CROSS_VALL', 'BALANCED_ACC_STD', 'K',\n",
       "       'PRECISION_AT_K_CROSS_VAL', 'PRECISION_AT_K_STD',\n",
       "       'RECALL_AT_K_CROSS_VAL', 'RECALL_AT_K_STD'],\n",
       "      dtype='object')"
      ]
     },
     "execution_count": 6,
     "metadata": {},
     "output_type": "execute_result"
    }
   ],
   "source": [
    "df.columns"
   ]
  },
  {
   "cell_type": "code",
   "execution_count": 8,
   "metadata": {
    "ExecuteTime": {
     "end_time": "2022-11-11T14:19:47.673254Z",
     "start_time": "2022-11-11T14:19:47.666274Z"
    }
   },
   "outputs": [],
   "source": [
    "df = df.sort_values(by='RECALL_AT_K_CROSS_VAL', ascending=False)"
   ]
  },
  {
   "cell_type": "code",
   "execution_count": 40,
   "metadata": {
    "ExecuteTime": {
     "end_time": "2022-11-11T14:25:29.628443Z",
     "start_time": "2022-11-11T14:25:29.600579Z"
    }
   },
   "outputs": [
    {
     "data": {
      "text/html": [
       "<div>\n",
       "<style scoped>\n",
       "    .dataframe tbody tr th:only-of-type {\n",
       "        vertical-align: middle;\n",
       "    }\n",
       "\n",
       "    .dataframe tbody tr th {\n",
       "        vertical-align: top;\n",
       "    }\n",
       "\n",
       "    .dataframe thead th {\n",
       "        text-align: right;\n",
       "    }\n",
       "</style>\n",
       "<table border=\"1\" class=\"dataframe\">\n",
       "  <thead>\n",
       "    <tr style=\"text-align: right;\">\n",
       "      <th></th>\n",
       "      <th>Model name</th>\n",
       "      <th>BALANCED_ACC_CROSS_VALL</th>\n",
       "      <th>BALANCED_ACC_STD</th>\n",
       "      <th>K</th>\n",
       "      <th>PRECISION_AT_K_CROSS_VAL</th>\n",
       "      <th>PRECISION_AT_K_STD</th>\n",
       "      <th>RECALL_AT_K_CROSS_VAL</th>\n",
       "      <th>RECALL_AT_K_STD</th>\n",
       "    </tr>\n",
       "  </thead>\n",
       "  <tbody>\n",
       "    <tr>\n",
       "      <th>4</th>\n",
       "      <td>XGBoost Cross_Val</td>\n",
       "      <td>0.50194</td>\n",
       "      <td>0.00021</td>\n",
       "      <td>20000</td>\n",
       "      <td>0.33590</td>\n",
       "      <td>0.00060</td>\n",
       "      <td>0.71979</td>\n",
       "      <td>0.0</td>\n",
       "    </tr>\n",
       "    <tr>\n",
       "      <th>2</th>\n",
       "      <td>Random forrest Cross_Val</td>\n",
       "      <td>0.54742</td>\n",
       "      <td>0.00120</td>\n",
       "      <td>20000</td>\n",
       "      <td>0.30978</td>\n",
       "      <td>0.00091</td>\n",
       "      <td>0.66382</td>\n",
       "      <td>0.0</td>\n",
       "    </tr>\n",
       "    <tr>\n",
       "      <th>1</th>\n",
       "      <td>Linear model Cross_Val</td>\n",
       "      <td>0.50043</td>\n",
       "      <td>0.00065</td>\n",
       "      <td>20000</td>\n",
       "      <td>0.30926</td>\n",
       "      <td>0.00134</td>\n",
       "      <td>0.66271</td>\n",
       "      <td>0.0</td>\n",
       "    </tr>\n",
       "    <tr>\n",
       "      <th>3</th>\n",
       "      <td>Extra trees Cross_Val</td>\n",
       "      <td>0.55293</td>\n",
       "      <td>0.00167</td>\n",
       "      <td>20000</td>\n",
       "      <td>0.30303</td>\n",
       "      <td>0.00179</td>\n",
       "      <td>0.64936</td>\n",
       "      <td>0.0</td>\n",
       "    </tr>\n",
       "    <tr>\n",
       "      <th>0</th>\n",
       "      <td>KNN Cross_Val</td>\n",
       "      <td>0.56681</td>\n",
       "      <td>0.00222</td>\n",
       "      <td>20000</td>\n",
       "      <td>0.28551</td>\n",
       "      <td>0.00117</td>\n",
       "      <td>0.61180</td>\n",
       "      <td>0.0</td>\n",
       "    </tr>\n",
       "  </tbody>\n",
       "</table>\n",
       "</div>"
      ],
      "text/plain": [
       "                 Model name  BALANCED_ACC_CROSS_VALL  BALANCED_ACC_STD      K  \\\n",
       "4         XGBoost Cross_Val                  0.50194           0.00021  20000   \n",
       "2  Random forrest Cross_Val                  0.54742           0.00120  20000   \n",
       "1    Linear model Cross_Val                  0.50043           0.00065  20000   \n",
       "3     Extra trees Cross_Val                  0.55293           0.00167  20000   \n",
       "0             KNN Cross_Val                  0.56681           0.00222  20000   \n",
       "\n",
       "   PRECISION_AT_K_CROSS_VAL  PRECISION_AT_K_STD  RECALL_AT_K_CROSS_VAL  \\\n",
       "4                   0.33590             0.00060                0.71979   \n",
       "2                   0.30978             0.00091                0.66382   \n",
       "1                   0.30926             0.00134                0.66271   \n",
       "3                   0.30303             0.00179                0.64936   \n",
       "0                   0.28551             0.00117                0.61180   \n",
       "\n",
       "   RECALL_AT_K_STD  \n",
       "4              0.0  \n",
       "2              0.0  \n",
       "1              0.0  \n",
       "3              0.0  \n",
       "0              0.0  "
      ]
     },
     "execution_count": 40,
     "metadata": {},
     "output_type": "execute_result"
    }
   ],
   "source": [
    "df.iloc[:,[0,5,6,7,8,9,10,11]]"
   ]
  }
 ],
 "metadata": {
  "kernelspec": {
   "display_name": "Python 3",
   "language": "python",
   "name": "python3"
  },
  "language_info": {
   "codemirror_mode": {
    "name": "ipython",
    "version": 3
   },
   "file_extension": ".py",
   "mimetype": "text/x-python",
   "name": "python",
   "nbconvert_exporter": "python",
   "pygments_lexer": "ipython3",
   "version": "3.8.5"
  }
 },
 "nbformat": 4,
 "nbformat_minor": 4
}
