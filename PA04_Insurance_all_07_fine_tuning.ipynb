{
 "cells": [
  {
   "cell_type": "markdown",
   "metadata": {
    "id": "GntYN-H7_bX6"
   },
   "source": [
    "# Imports"
   ]
  },
  {
   "cell_type": "code",
   "execution_count": 29,
   "metadata": {
    "ExecuteTime": {
     "end_time": "2022-10-19T14:31:33.287257Z",
     "start_time": "2022-10-19T14:31:29.943440Z"
    }
   },
   "outputs": [
    {
     "name": "stdout",
     "output_type": "stream",
     "text": [
      "Requirement already satisfied: xgboost in c:\\users\\lavin\\anaconda3\\lib\\site-packages (1.6.1)\n",
      "Requirement already satisfied: numpy in c:\\users\\lavin\\anaconda3\\lib\\site-packages (from xgboost) (1.19.2)\n",
      "Requirement already satisfied: scipy in c:\\users\\lavin\\anaconda3\\lib\\site-packages (from xgboost) (1.5.2)\n",
      "Note: you may need to restart the kernel to use updated packages.\n"
     ]
    }
   ],
   "source": [
    "pip install xgboost"
   ]
  },
  {
   "cell_type": "code",
   "execution_count": 30,
   "metadata": {
    "ExecuteTime": {
     "end_time": "2022-10-19T14:31:33.303215Z",
     "start_time": "2022-10-19T14:31:33.292245Z"
    },
    "executionInfo": {
     "elapsed": 483,
     "status": "ok",
     "timestamp": 1665679619066,
     "user": {
      "displayName": "Lavis",
      "userId": "11464059397454562428"
     },
     "user_tz": 180
    },
    "id": "g4bKRoJx_bX8",
    "scrolled": true
   },
   "outputs": [],
   "source": [
    "import pandas as pd\n",
    "import numpy as np\n",
    "import seaborn as sns\n",
    "import matplotlib.pyplot as plt\n",
    "\n",
    "import xgboost as xgb\n",
    "\n",
    "import sklearn.metrics\n",
    "import pickle\n",
    "from sklearn.model_selection import train_test_split\n",
    "\n",
    "from IPython.core.display import HTML\n",
    "pd.options.mode.chained_assignment = None  # default='warn'"
   ]
  },
  {
   "cell_type": "code",
   "execution_count": 31,
   "metadata": {
    "ExecuteTime": {
     "end_time": "2022-10-19T14:31:33.351124Z",
     "start_time": "2022-10-19T14:31:33.306208Z"
    },
    "colab": {
     "base_uri": "https://localhost:8080/"
    },
    "executionInfo": {
     "elapsed": 3846,
     "status": "ok",
     "timestamp": 1665679624922,
     "user": {
      "displayName": "Lavis",
      "userId": "11464059397454562428"
     },
     "user_tz": 180
    },
    "id": "HicOIzY0D8zK",
    "outputId": "c5542a57-e109-45ef-c08e-37c6cfc6ebc2"
   },
   "outputs": [],
   "source": [
    "# from google.colab import drive\n",
    "# drive.mount('/content/drive')"
   ]
  },
  {
   "cell_type": "markdown",
   "metadata": {
    "id": "PLefCAOf_bX-"
   },
   "source": [
    "# Helper functions"
   ]
  },
  {
   "cell_type": "code",
   "execution_count": 32,
   "metadata": {
    "ExecuteTime": {
     "end_time": "2022-10-19T14:31:33.397962Z",
     "start_time": "2022-10-19T14:31:33.361061Z"
    },
    "colab": {
     "base_uri": "https://localhost:8080/",
     "height": 34
    },
    "executionInfo": {
     "elapsed": 34,
     "status": "ok",
     "timestamp": 1665679624923,
     "user": {
      "displayName": "Lavis",
      "userId": "11464059397454562428"
     },
     "user_tz": 180
    },
    "id": "iwgIa8dr_bX_",
    "outputId": "b6ac74c7-dd71-44c6-9446-c42c249b411e"
   },
   "outputs": [
    {
     "name": "stdout",
     "output_type": "stream",
     "text": [
      "Populating the interactive namespace from numpy and matplotlib\n"
     ]
    },
    {
     "data": {
      "text/html": [
       "<style>.container { width:100% !important; }</style>"
      ],
      "text/plain": [
       "<IPython.core.display.HTML object>"
      ]
     },
     "metadata": {},
     "output_type": "display_data"
    }
   ],
   "source": [
    "def jupyter_settings():\n",
    "    %matplotlib inline\n",
    "    %pylab inline\n",
    "    plt.style.use( 'bmh' )\n",
    "    plt.rcParams['figure.figsize'] = [25, 12]\n",
    "    plt.rcParams['font.size'] = 24\n",
    "    display( HTML( '<style>.container { width:100% !important; }</style>') )\n",
    "    sns.set()\n",
    "jupyter_settings()"
   ]
  },
  {
   "cell_type": "code",
   "execution_count": 33,
   "metadata": {
    "ExecuteTime": {
     "end_time": "2022-10-19T14:31:33.413919Z",
     "start_time": "2022-10-19T14:31:33.400955Z"
    },
    "executionInfo": {
     "elapsed": 31,
     "status": "ok",
     "timestamp": 1665679624924,
     "user": {
      "displayName": "Lavis",
      "userId": "11464059397454562428"
     },
     "user_tz": 180
    },
    "id": "NNAj-prtWJZl"
   },
   "outputs": [],
   "source": [
    "# import sys \n",
    "# path_to_module = '/content/drive/MyDrive/health_insurance_cross_sell-main/health_insurance_cross_sell'\n",
    "# sys.path.append(path_to_module)"
   ]
  },
  {
   "cell_type": "code",
   "execution_count": 34,
   "metadata": {
    "ExecuteTime": {
     "end_time": "2022-10-19T14:31:33.429876Z",
     "start_time": "2022-10-19T14:31:33.416912Z"
    },
    "executionInfo": {
     "elapsed": 32,
     "status": "ok",
     "timestamp": 1665679624926,
     "user": {
      "displayName": "Lavis",
      "userId": "11464059397454562428"
     },
     "user_tz": 180
    },
    "id": "JcHEY-o9WKGC"
   },
   "outputs": [],
   "source": [
    "from functions import performace_cross_val, performace"
   ]
  },
  {
   "cell_type": "markdown",
   "metadata": {
    "id": "AKHRDzM9_bYC"
   },
   "source": [
    "# Load data"
   ]
  },
  {
   "cell_type": "code",
   "execution_count": 35,
   "metadata": {
    "ExecuteTime": {
     "end_time": "2022-10-19T14:31:34.126052Z",
     "start_time": "2022-10-19T14:31:33.432868Z"
    },
    "executionInfo": {
     "elapsed": 33,
     "status": "ok",
     "timestamp": 1665679624927,
     "user": {
      "displayName": "Lavis",
      "userId": "11464059397454562428"
     },
     "user_tz": 180
    },
    "id": "808FSwPh_bYD"
   },
   "outputs": [],
   "source": [
    "train = pd.read_csv('data/train.csv')\n",
    "val = pd.read_csv('data/test.csv')"
   ]
  },
  {
   "cell_type": "code",
   "execution_count": 36,
   "metadata": {
    "ExecuteTime": {
     "end_time": "2022-10-19T14:31:34.173889Z",
     "start_time": "2022-10-19T14:31:34.132001Z"
    },
    "colab": {
     "base_uri": "https://localhost:8080/",
     "height": 206
    },
    "executionInfo": {
     "elapsed": 34,
     "status": "ok",
     "timestamp": 1665679624928,
     "user": {
      "displayName": "Lavis",
      "userId": "11464059397454562428"
     },
     "user_tz": 180
    },
    "id": "LbjukzPx8hid",
    "outputId": "e2a7a434-e6b5-4388-b2c5-d4d57d8a1d7f"
   },
   "outputs": [
    {
     "data": {
      "text/html": [
       "<div>\n",
       "<style scoped>\n",
       "    .dataframe tbody tr th:only-of-type {\n",
       "        vertical-align: middle;\n",
       "    }\n",
       "\n",
       "    .dataframe tbody tr th {\n",
       "        vertical-align: top;\n",
       "    }\n",
       "\n",
       "    .dataframe thead th {\n",
       "        text-align: right;\n",
       "    }\n",
       "</style>\n",
       "<table border=\"1\" class=\"dataframe\">\n",
       "  <thead>\n",
       "    <tr style=\"text-align: right;\">\n",
       "      <th></th>\n",
       "      <th>id</th>\n",
       "      <th>gender</th>\n",
       "      <th>age</th>\n",
       "      <th>region_code</th>\n",
       "      <th>policy_sales_channel</th>\n",
       "      <th>previously_insured</th>\n",
       "      <th>annual_premium</th>\n",
       "      <th>vintage</th>\n",
       "      <th>vehicle_age</th>\n",
       "      <th>vehicle_damage</th>\n",
       "      <th>response</th>\n",
       "    </tr>\n",
       "  </thead>\n",
       "  <tbody>\n",
       "    <tr>\n",
       "      <th>0</th>\n",
       "      <td>196319</td>\n",
       "      <td>0</td>\n",
       "      <td>0.461538</td>\n",
       "      <td>33.0</td>\n",
       "      <td>124.0</td>\n",
       "      <td>0</td>\n",
       "      <td>0.597270</td>\n",
       "      <td>0.498270</td>\n",
       "      <td>3</td>\n",
       "      <td>1</td>\n",
       "      <td>0</td>\n",
       "    </tr>\n",
       "    <tr>\n",
       "      <th>1</th>\n",
       "      <td>377373</td>\n",
       "      <td>0</td>\n",
       "      <td>0.307692</td>\n",
       "      <td>8.0</td>\n",
       "      <td>124.0</td>\n",
       "      <td>1</td>\n",
       "      <td>-1.622718</td>\n",
       "      <td>0.467128</td>\n",
       "      <td>2</td>\n",
       "      <td>0</td>\n",
       "      <td>0</td>\n",
       "    </tr>\n",
       "    <tr>\n",
       "      <th>2</th>\n",
       "      <td>96687</td>\n",
       "      <td>1</td>\n",
       "      <td>0.692308</td>\n",
       "      <td>41.0</td>\n",
       "      <td>109.0</td>\n",
       "      <td>0</td>\n",
       "      <td>-0.245443</td>\n",
       "      <td>0.816609</td>\n",
       "      <td>2</td>\n",
       "      <td>1</td>\n",
       "      <td>0</td>\n",
       "    </tr>\n",
       "    <tr>\n",
       "      <th>3</th>\n",
       "      <td>303533</td>\n",
       "      <td>0</td>\n",
       "      <td>0.615385</td>\n",
       "      <td>28.0</td>\n",
       "      <td>124.0</td>\n",
       "      <td>0</td>\n",
       "      <td>1.287244</td>\n",
       "      <td>0.446367</td>\n",
       "      <td>2</td>\n",
       "      <td>1</td>\n",
       "      <td>0</td>\n",
       "    </tr>\n",
       "    <tr>\n",
       "      <th>4</th>\n",
       "      <td>256233</td>\n",
       "      <td>0</td>\n",
       "      <td>0.246154</td>\n",
       "      <td>36.0</td>\n",
       "      <td>26.0</td>\n",
       "      <td>0</td>\n",
       "      <td>0.500537</td>\n",
       "      <td>0.217993</td>\n",
       "      <td>2</td>\n",
       "      <td>1</td>\n",
       "      <td>1</td>\n",
       "    </tr>\n",
       "  </tbody>\n",
       "</table>\n",
       "</div>"
      ],
      "text/plain": [
       "       id  gender       age  region_code  policy_sales_channel  \\\n",
       "0  196319       0  0.461538         33.0                 124.0   \n",
       "1  377373       0  0.307692          8.0                 124.0   \n",
       "2   96687       1  0.692308         41.0                 109.0   \n",
       "3  303533       0  0.615385         28.0                 124.0   \n",
       "4  256233       0  0.246154         36.0                  26.0   \n",
       "\n",
       "   previously_insured  annual_premium   vintage  vehicle_age  vehicle_damage  \\\n",
       "0                   0        0.597270  0.498270            3               1   \n",
       "1                   1       -1.622718  0.467128            2               0   \n",
       "2                   0       -0.245443  0.816609            2               1   \n",
       "3                   0        1.287244  0.446367            2               1   \n",
       "4                   0        0.500537  0.217993            2               1   \n",
       "\n",
       "   response  \n",
       "0         0  \n",
       "1         0  \n",
       "2         0  \n",
       "3         0  \n",
       "4         1  "
      ]
     },
     "execution_count": 36,
     "metadata": {},
     "output_type": "execute_result"
    }
   ],
   "source": [
    "val.head()"
   ]
  },
  {
   "cell_type": "code",
   "execution_count": 37,
   "metadata": {
    "ExecuteTime": {
     "end_time": "2022-10-19T14:31:34.236720Z",
     "start_time": "2022-10-19T14:31:34.178874Z"
    },
    "executionInfo": {
     "elapsed": 33,
     "status": "ok",
     "timestamp": 1665679624929,
     "user": {
      "displayName": "Lavis",
      "userId": "11464059397454562428"
     },
     "user_tz": 180
    },
    "id": "pCd8TlaDvbFv"
   },
   "outputs": [],
   "source": [
    "val = val[train.columns].copy()\n",
    "#df7 = pd.concat([train,val],axis=0)"
   ]
  },
  {
   "cell_type": "code",
   "execution_count": 38,
   "metadata": {
    "ExecuteTime": {
     "end_time": "2022-10-19T14:31:34.251679Z",
     "start_time": "2022-10-19T14:31:34.239711Z"
    },
    "executionInfo": {
     "elapsed": 33,
     "status": "ok",
     "timestamp": 1665679624930,
     "user": {
      "displayName": "Lavis",
      "userId": "11464059397454562428"
     },
     "user_tz": 180
    },
    "id": "Ey5XBhM4_bYD"
   },
   "outputs": [],
   "source": [
    "#df7.head()"
   ]
  },
  {
   "cell_type": "code",
   "execution_count": 39,
   "metadata": {
    "ExecuteTime": {
     "end_time": "2022-10-19T14:31:34.267638Z",
     "start_time": "2022-10-19T14:31:34.256665Z"
    },
    "executionInfo": {
     "elapsed": 35,
     "status": "ok",
     "timestamp": 1665679624932,
     "user": {
      "displayName": "Lavis",
      "userId": "11464059397454562428"
     },
     "user_tz": 180
    },
    "id": "oeYS6NoJ_bYE"
   },
   "outputs": [],
   "source": [
    "#df7.dtypes"
   ]
  },
  {
   "cell_type": "markdown",
   "metadata": {
    "id": "5pVw7W4a_bYF"
   },
   "source": [
    "# Fine tuning - Baysian search"
   ]
  },
  {
   "cell_type": "markdown",
   "metadata": {
    "id": "CGa7TfnOInF9"
   },
   "source": [
    "Após escolher o algoritimo que melhor se comportou nos testes, vamos melhorar o desempenho do modelo alterando seus hyperparametros. Para isso utilizaremos a optimização baysiana, que é um modelo probabilistico utilizado para encontar o minimo erro da função\n",
    "\n",
    "Essa técnica requer uma quantidade menor de iterações para achar o melhor conjunto de parametros, ignorando os valores de parametros desnecessários e economizando tempo e poder computacional."
   ]
  },
  {
   "cell_type": "code",
   "execution_count": 40,
   "metadata": {
    "ExecuteTime": {
     "end_time": "2022-10-19T14:31:34.283594Z",
     "start_time": "2022-10-19T14:31:34.270628Z"
    },
    "executionInfo": {
     "elapsed": 35,
     "status": "ok",
     "timestamp": 1665679624933,
     "user": {
      "displayName": "Lavis",
      "userId": "11464059397454562428"
     },
     "user_tz": 180
    },
    "id": "2NPwCkhS_bYG"
   },
   "outputs": [],
   "source": [
    "from hyperopt import tpe, Trials, hp, fmin, STATUS_OK\n",
    "\n",
    "import warnings\n",
    "warnings.filterwarnings('ignore')"
   ]
  },
  {
   "cell_type": "code",
   "execution_count": 41,
   "metadata": {
    "ExecuteTime": {
     "end_time": "2022-10-19T14:31:34.363386Z",
     "start_time": "2022-10-19T14:31:34.287583Z"
    },
    "executionInfo": {
     "elapsed": 36,
     "status": "ok",
     "timestamp": 1665679624934,
     "user": {
      "displayName": "Lavis",
      "userId": "11464059397454562428"
     },
     "user_tz": 180
    },
    "id": "UwuqJVq2_bYH"
   },
   "outputs": [],
   "source": [
    "space={'n_estimators': hp.choice('n_estimators',np.arange(300,3000+1,250)),\n",
    "      'max_depth': hp.quniform(\"max_depth\", 3, 12, 1),\n",
    "      'colsample_bytree' : hp.uniform('colsample_bytree', 0.5,1),\n",
    "      'min_child_weight' : hp.quniform('min_child_weight', 0, 10, 1),\n",
    "      'eta': hp.uniform('eta',0.01,0.2),\n",
    "      'seed': 42\n",
    "    }"
   ]
  },
  {
   "cell_type": "markdown",
   "metadata": {
    "id": "TJormp_5KMno"
   },
   "source": [
    "Definindo os limites do valores dos parametros e quais serão utilizados"
   ]
  },
  {
   "cell_type": "code",
   "execution_count": 42,
   "metadata": {
    "ExecuteTime": {
     "end_time": "2022-10-19T14:31:34.379342Z",
     "start_time": "2022-10-19T14:31:34.365376Z"
    },
    "executionInfo": {
     "elapsed": 37,
     "status": "ok",
     "timestamp": 1665679624935,
     "user": {
      "displayName": "Lavis",
      "userId": "11464059397454562428"
     },
     "user_tz": 180
    },
    "id": "t2H2CQty_bYH"
   },
   "outputs": [],
   "source": [
    "# def objective_function(space):\n",
    "#     xgb_model = xgb.XGBClassifier(n_estimators =int(space['n_estimators']),\n",
    "#                                   max_depth = int(space['max_depth']), \n",
    "#                                   min_child_weight=int(space['min_child_weight']),\n",
    "#                                   colsample_bytree=int(space['colsample_bytree']),\n",
    "#                                   eta=int(space['eta']),\n",
    "#                                   seed = space['seed'],\n",
    "#                                   tree_method = 'gpu_hist')      \n",
    "#     score = performace_cross_val(df7,'response',xgb_model,'XGB_MODEL',round_n=5,splits=6,k=20000)\n",
    "#     print(space)\n",
    "#     print(score['RECALL_AT_K_CROSS_VAL'][0])\n",
    "#     return {'loss': -score['RECALL_AT_K_CROSS_VAL'][0],'status':STATUS_OK}"
   ]
  },
  {
   "cell_type": "markdown",
   "metadata": {
    "id": "qYL9rbvMKUID"
   },
   "source": [
    "Função que retornar o valor que queremos otimizar."
   ]
  },
  {
   "cell_type": "code",
   "execution_count": 43,
   "metadata": {
    "ExecuteTime": {
     "end_time": "2022-10-19T14:31:34.395295Z",
     "start_time": "2022-10-19T14:31:34.383327Z"
    },
    "executionInfo": {
     "elapsed": 37,
     "status": "ok",
     "timestamp": 1665679624935,
     "user": {
      "displayName": "Lavis",
      "userId": "11464059397454562428"
     },
     "user_tz": 180
    },
    "id": "0zqEtqIA_bYI"
   },
   "outputs": [],
   "source": [
    "tpe_algorithm = tpe.suggest\n",
    "trials = Trials()\n",
    "num_eval = 100"
   ]
  },
  {
   "cell_type": "markdown",
   "metadata": {
    "id": "syGE51atKjEp"
   },
   "source": [
    "Algoritmo de otimização"
   ]
  },
  {
   "cell_type": "code",
   "execution_count": 44,
   "metadata": {
    "ExecuteTime": {
     "end_time": "2022-10-19T14:31:34.411253Z",
     "start_time": "2022-10-19T14:31:34.398287Z"
    },
    "executionInfo": {
     "elapsed": 37,
     "status": "ok",
     "timestamp": 1665679624936,
     "user": {
      "displayName": "Lavis",
      "userId": "11464059397454562428"
     },
     "user_tz": 180
    },
    "id": "pUd3okZi_bYI",
    "scrolled": true
   },
   "outputs": [],
   "source": [
    "#best_paramns = fmin(fn=objective_function,space=space,algo=tpe_algorithm,max_evals=num_eval,trials=trials)"
   ]
  },
  {
   "cell_type": "code",
   "execution_count": 45,
   "metadata": {
    "ExecuteTime": {
     "end_time": "2022-10-19T14:31:34.427211Z",
     "start_time": "2022-10-19T14:31:34.414246Z"
    },
    "executionInfo": {
     "elapsed": 38,
     "status": "ok",
     "timestamp": 1665679624937,
     "user": {
      "displayName": "Lavis",
      "userId": "11464059397454562428"
     },
     "user_tz": 180
    },
    "id": "V2l59jLm_bYI"
   },
   "outputs": [],
   "source": [
    "#best_paramns"
   ]
  },
  {
   "cell_type": "code",
   "execution_count": 46,
   "metadata": {
    "ExecuteTime": {
     "end_time": "2022-10-19T14:31:34.443166Z",
     "start_time": "2022-10-19T14:31:34.429205Z"
    },
    "executionInfo": {
     "elapsed": 39,
     "status": "ok",
     "timestamp": 1665679624938,
     "user": {
      "displayName": "Lavis",
      "userId": "11464059397454562428"
     },
     "user_tz": 180
    },
    "id": "xUifl0hyZvyl"
   },
   "outputs": [],
   "source": [
    "# best_paramns_select_recall@K = {'colsample_bytree': 0.8665878779090729,\n",
    "#                                 'eta': 0.05078467297264412,\n",
    "#                                 'max_depth': 3.0,\n",
    "#                                 'min_child_weight': 0.0,\n",
    "#                                 'n_estimators': 1300}"
   ]
  },
  {
   "cell_type": "markdown",
   "metadata": {
    "id": "XPkQf7dtKp02"
   },
   "source": [
    "Melhores parâmetros levando em consideração o valor de recall at k"
   ]
  },
  {
   "cell_type": "code",
   "execution_count": 47,
   "metadata": {
    "ExecuteTime": {
     "end_time": "2022-10-19T14:31:34.459129Z",
     "start_time": "2022-10-19T14:31:34.445163Z"
    },
    "executionInfo": {
     "elapsed": 38,
     "status": "ok",
     "timestamp": 1665679624938,
     "user": {
      "displayName": "Lavis",
      "userId": "11464059397454562428"
     },
     "user_tz": 180
    },
    "id": "4v5a-ensLdEk"
   },
   "outputs": [],
   "source": [
    "# best_paramns_select_balance_acc = {'colsample_bytree': 0.5510880215728314,\n",
    "#                                     'eta': 0.09226011272550536,\n",
    "#                                     'max_depth': 12.0,\n",
    "#                                     'min_child_weight': 4.0,\n",
    "#                                     'n_estimators': 1050}"
   ]
  },
  {
   "cell_type": "code",
   "execution_count": 48,
   "metadata": {
    "ExecuteTime": {
     "end_time": "2022-10-19T14:31:34.474084Z",
     "start_time": "2022-10-19T14:31:34.464112Z"
    },
    "executionInfo": {
     "elapsed": 39,
     "status": "ok",
     "timestamp": 1665679624939,
     "user": {
      "displayName": "Lavis",
      "userId": "11464059397454562428"
     },
     "user_tz": 180
    },
    "id": "68lzHnUN-s3I"
   },
   "outputs": [],
   "source": [
    "best_paramns_select_balance_acc = {'colsample_bytree': 0.7328187504855774, 'eta': 0.02593212072382746, 'max_depth': 3.0, 'min_child_weight': 1.0, 'n_estimators': 1800, 'seed': 42}"
   ]
  },
  {
   "cell_type": "markdown",
   "metadata": {
    "id": "6LAp7CUaKx-X"
   },
   "source": [
    "Melhores parâmetros levando em consideração o valor de Balanced accuracy score"
   ]
  },
  {
   "cell_type": "markdown",
   "metadata": {
    "id": "l3JOJwPiK9im"
   },
   "source": [
    "# Final Model"
   ]
  },
  {
   "cell_type": "markdown",
   "metadata": {
    "id": "QGOKbHoHv78y"
   },
   "source": []
  },
  {
   "cell_type": "code",
   "execution_count": 49,
   "metadata": {
    "ExecuteTime": {
     "end_time": "2022-10-19T14:31:34.536921Z",
     "start_time": "2022-10-19T14:31:34.478073Z"
    },
    "executionInfo": {
     "elapsed": 39,
     "status": "ok",
     "timestamp": 1665679624939,
     "user": {
      "displayName": "Lavis",
      "userId": "11464059397454562428"
     },
     "user_tz": 180
    },
    "id": "OIeTHwlta8Ql"
   },
   "outputs": [],
   "source": [
    "X_train = train.copy()\n",
    "y_train = X_train['response']\n",
    "X_train.drop(columns=['id','response'],inplace = True)\n",
    "\n",
    "X_test = val.copy()\n",
    "y_test = X_test['response']\n",
    "X_test.drop(columns=['id','response'],inplace = True)"
   ]
  },
  {
   "cell_type": "code",
   "execution_count": 50,
   "metadata": {
    "ExecuteTime": {
     "end_time": "2022-10-19T14:32:46.010974Z",
     "start_time": "2022-10-19T14:31:34.538911Z"
    },
    "executionInfo": {
     "elapsed": 72227,
     "status": "ok",
     "timestamp": 1665679702991,
     "user": {
      "displayName": "Lavis",
      "userId": "11464059397454562428"
     },
     "user_tz": 180
    },
    "id": "AKz3__uxzoho"
   },
   "outputs": [],
   "source": [
    "xgb_model_final = xgb.XGBClassifier(n_estimators =int(best_paramns_select_balance_acc['n_estimators']),\n",
    "                                  max_depth = int(best_paramns_select_balance_acc['max_depth']), \n",
    "                                  min_child_weight=int(best_paramns_select_balance_acc['min_child_weight']),\n",
    "                                  colsample_bytree=int(best_paramns_select_balance_acc['colsample_bytree']),\n",
    "                                  eta=int(best_paramns_select_balance_acc['eta']),\n",
    "                                  seed = 42).fit(X_train,y_train.values.ravel()) "
   ]
  },
  {
   "cell_type": "code",
   "execution_count": 51,
   "metadata": {
    "ExecuteTime": {
     "end_time": "2022-10-19T14:32:47.368345Z",
     "start_time": "2022-10-19T14:32:46.016960Z"
    },
    "executionInfo": {
     "elapsed": 12749,
     "status": "ok",
     "timestamp": 1665677057777,
     "user": {
      "displayName": "Lavis",
      "userId": "11464059397454562428"
     },
     "user_tz": 180
    },
    "id": "pzTKgQze4nDs"
   },
   "outputs": [],
   "source": [
    "#model prediction proba - poder de generalização\n",
    "yhat_proba = xgb_model_final.predict_proba( X_test )\n",
    "\n",
    "#model prediction - poder de generalização\n",
    "yhat_class = xgb_model_final.predict( X_test )"
   ]
  },
  {
   "cell_type": "code",
   "execution_count": 52,
   "metadata": {
    "ExecuteTime": {
     "end_time": "2022-10-19T14:32:47.463095Z",
     "start_time": "2022-10-19T14:32:47.372335Z"
    },
    "executionInfo": {
     "elapsed": 44,
     "status": "ok",
     "timestamp": 1665677057780,
     "user": {
      "displayName": "Lavis",
      "userId": "11464059397454562428"
     },
     "user_tz": 180
    },
    "id": "QkDjUI-p4-4w"
   },
   "outputs": [],
   "source": [
    "model_df = val.copy()\n",
    "model_df['model_score'] = yhat_proba[:,1].tolist()\n",
    "# sorte by score\n",
    "model_df = model_df.sort_values('model_score',ascending=False)"
   ]
  },
  {
   "cell_type": "code",
   "execution_count": 53,
   "metadata": {
    "ExecuteTime": {
     "end_time": "2022-10-19T14:32:47.697464Z",
     "start_time": "2022-10-19T14:32:47.467081Z"
    },
    "executionInfo": {
     "elapsed": 44,
     "status": "ok",
     "timestamp": 1665677057782,
     "user": {
      "displayName": "Lavis",
      "userId": "11464059397454562428"
     },
     "user_tz": 180
    },
    "id": "JblitVzn5CMg"
   },
   "outputs": [],
   "source": [
    "xgb_performace = performace(\"XGBoost\",model_df,y_test,yhat_class,20000)"
   ]
  },
  {
   "cell_type": "code",
   "execution_count": 54,
   "metadata": {
    "ExecuteTime": {
     "end_time": "2022-10-19T14:32:47.728385Z",
     "start_time": "2022-10-19T14:32:47.700458Z"
    },
    "colab": {
     "base_uri": "https://localhost:8080/",
     "height": 81
    },
    "executionInfo": {
     "elapsed": 47,
     "status": "ok",
     "timestamp": 1665677057786,
     "user": {
      "displayName": "Lavis",
      "userId": "11464059397454562428"
     },
     "user_tz": 180
    },
    "id": "xIySM2S88R-I",
    "outputId": "020f1899-9279-4124-ae7b-5611e0bc2ae7"
   },
   "outputs": [
    {
     "data": {
      "text/html": [
       "<div>\n",
       "<style scoped>\n",
       "    .dataframe tbody tr th:only-of-type {\n",
       "        vertical-align: middle;\n",
       "    }\n",
       "\n",
       "    .dataframe tbody tr th {\n",
       "        vertical-align: top;\n",
       "    }\n",
       "\n",
       "    .dataframe thead th {\n",
       "        text-align: right;\n",
       "    }\n",
       "</style>\n",
       "<table border=\"1\" class=\"dataframe\">\n",
       "  <thead>\n",
       "    <tr style=\"text-align: right;\">\n",
       "      <th></th>\n",
       "      <th>Model Name</th>\n",
       "      <th>Precison</th>\n",
       "      <th>Recall</th>\n",
       "      <th>Balanced_acc</th>\n",
       "      <th>k</th>\n",
       "      <th>Precison at k</th>\n",
       "      <th>Recall at k</th>\n",
       "    </tr>\n",
       "  </thead>\n",
       "  <tbody>\n",
       "    <tr>\n",
       "      <th>0</th>\n",
       "      <td>XGBoost</td>\n",
       "      <td>0.0</td>\n",
       "      <td>0.0</td>\n",
       "      <td>0.5</td>\n",
       "      <td>20000</td>\n",
       "      <td>0.125894</td>\n",
       "      <td>0.179844</td>\n",
       "    </tr>\n",
       "  </tbody>\n",
       "</table>\n",
       "</div>"
      ],
      "text/plain": [
       "  Model Name  Precison  Recall  Balanced_acc      k  Precison at k  \\\n",
       "0    XGBoost       0.0     0.0           0.5  20000       0.125894   \n",
       "\n",
       "   Recall at k  \n",
       "0     0.179844  "
      ]
     },
     "execution_count": 54,
     "metadata": {},
     "output_type": "execute_result"
    }
   ],
   "source": [
    "xgb_performace"
   ]
  },
  {
   "cell_type": "code",
   "execution_count": 55,
   "metadata": {
    "ExecuteTime": {
     "end_time": "2022-10-19T14:32:47.776255Z",
     "start_time": "2022-10-19T14:32:47.731376Z"
    },
    "colab": {
     "base_uri": "https://localhost:8080/",
     "height": 424
    },
    "executionInfo": {
     "elapsed": 48,
     "status": "ok",
     "timestamp": 1665677057789,
     "user": {
      "displayName": "Lavis",
      "userId": "11464059397454562428"
     },
     "user_tz": 180
    },
    "id": "GSeaiNUQ5Giy",
    "outputId": "05a1dff4-5299-41f9-ba1b-145ed52561d6"
   },
   "outputs": [
    {
     "data": {
      "text/html": [
       "<div>\n",
       "<style scoped>\n",
       "    .dataframe tbody tr th:only-of-type {\n",
       "        vertical-align: middle;\n",
       "    }\n",
       "\n",
       "    .dataframe tbody tr th {\n",
       "        vertical-align: top;\n",
       "    }\n",
       "\n",
       "    .dataframe thead th {\n",
       "        text-align: right;\n",
       "    }\n",
       "</style>\n",
       "<table border=\"1\" class=\"dataframe\">\n",
       "  <thead>\n",
       "    <tr style=\"text-align: right;\">\n",
       "      <th></th>\n",
       "      <th>id</th>\n",
       "      <th>gender</th>\n",
       "      <th>age</th>\n",
       "      <th>region_code</th>\n",
       "      <th>policy_sales_channel</th>\n",
       "      <th>previously_insured</th>\n",
       "      <th>annual_premium</th>\n",
       "      <th>vintage</th>\n",
       "      <th>vehicle_age</th>\n",
       "      <th>vehicle_damage</th>\n",
       "      <th>response</th>\n",
       "      <th>model_score</th>\n",
       "    </tr>\n",
       "  </thead>\n",
       "  <tbody>\n",
       "    <tr>\n",
       "      <th>0</th>\n",
       "      <td>196319</td>\n",
       "      <td>0</td>\n",
       "      <td>0.461538</td>\n",
       "      <td>33.0</td>\n",
       "      <td>124.0</td>\n",
       "      <td>0</td>\n",
       "      <td>0.597270</td>\n",
       "      <td>0.498270</td>\n",
       "      <td>3</td>\n",
       "      <td>1</td>\n",
       "      <td>0</td>\n",
       "      <td>0.5</td>\n",
       "    </tr>\n",
       "    <tr>\n",
       "      <th>76055</th>\n",
       "      <td>206612</td>\n",
       "      <td>1</td>\n",
       "      <td>0.769231</td>\n",
       "      <td>8.0</td>\n",
       "      <td>26.0</td>\n",
       "      <td>0</td>\n",
       "      <td>-0.140460</td>\n",
       "      <td>0.799308</td>\n",
       "      <td>2</td>\n",
       "      <td>1</td>\n",
       "      <td>0</td>\n",
       "      <td>0.5</td>\n",
       "    </tr>\n",
       "    <tr>\n",
       "      <th>76066</th>\n",
       "      <td>99903</td>\n",
       "      <td>1</td>\n",
       "      <td>0.507692</td>\n",
       "      <td>1.0</td>\n",
       "      <td>26.0</td>\n",
       "      <td>0</td>\n",
       "      <td>-1.622718</td>\n",
       "      <td>0.089965</td>\n",
       "      <td>3</td>\n",
       "      <td>1</td>\n",
       "      <td>0</td>\n",
       "      <td>0.5</td>\n",
       "    </tr>\n",
       "    <tr>\n",
       "      <th>76065</th>\n",
       "      <td>289557</td>\n",
       "      <td>0</td>\n",
       "      <td>0.430769</td>\n",
       "      <td>28.0</td>\n",
       "      <td>26.0</td>\n",
       "      <td>0</td>\n",
       "      <td>-1.622718</td>\n",
       "      <td>0.346021</td>\n",
       "      <td>2</td>\n",
       "      <td>1</td>\n",
       "      <td>0</td>\n",
       "      <td>0.5</td>\n",
       "    </tr>\n",
       "    <tr>\n",
       "      <th>76064</th>\n",
       "      <td>224629</td>\n",
       "      <td>0</td>\n",
       "      <td>0.046154</td>\n",
       "      <td>9.0</td>\n",
       "      <td>152.0</td>\n",
       "      <td>1</td>\n",
       "      <td>-0.345256</td>\n",
       "      <td>0.093426</td>\n",
       "      <td>1</td>\n",
       "      <td>0</td>\n",
       "      <td>0</td>\n",
       "      <td>0.5</td>\n",
       "    </tr>\n",
       "    <tr>\n",
       "      <th>...</th>\n",
       "      <td>...</td>\n",
       "      <td>...</td>\n",
       "      <td>...</td>\n",
       "      <td>...</td>\n",
       "      <td>...</td>\n",
       "      <td>...</td>\n",
       "      <td>...</td>\n",
       "      <td>...</td>\n",
       "      <td>...</td>\n",
       "      <td>...</td>\n",
       "      <td>...</td>\n",
       "      <td>...</td>\n",
       "    </tr>\n",
       "    <tr>\n",
       "      <th>38027</th>\n",
       "      <td>2972</td>\n",
       "      <td>0</td>\n",
       "      <td>0.138462</td>\n",
       "      <td>39.0</td>\n",
       "      <td>124.0</td>\n",
       "      <td>1</td>\n",
       "      <td>-0.193503</td>\n",
       "      <td>0.712803</td>\n",
       "      <td>1</td>\n",
       "      <td>0</td>\n",
       "      <td>0</td>\n",
       "      <td>0.5</td>\n",
       "    </tr>\n",
       "    <tr>\n",
       "      <th>38026</th>\n",
       "      <td>299296</td>\n",
       "      <td>1</td>\n",
       "      <td>0.000000</td>\n",
       "      <td>42.0</td>\n",
       "      <td>160.0</td>\n",
       "      <td>1</td>\n",
       "      <td>0.115172</td>\n",
       "      <td>0.871972</td>\n",
       "      <td>1</td>\n",
       "      <td>0</td>\n",
       "      <td>0</td>\n",
       "      <td>0.5</td>\n",
       "    </tr>\n",
       "    <tr>\n",
       "      <th>38025</th>\n",
       "      <td>245297</td>\n",
       "      <td>0</td>\n",
       "      <td>0.430769</td>\n",
       "      <td>41.0</td>\n",
       "      <td>26.0</td>\n",
       "      <td>0</td>\n",
       "      <td>1.383861</td>\n",
       "      <td>0.273356</td>\n",
       "      <td>2</td>\n",
       "      <td>1</td>\n",
       "      <td>0</td>\n",
       "      <td>0.5</td>\n",
       "    </tr>\n",
       "    <tr>\n",
       "      <th>38024</th>\n",
       "      <td>366938</td>\n",
       "      <td>0</td>\n",
       "      <td>0.061538</td>\n",
       "      <td>28.0</td>\n",
       "      <td>152.0</td>\n",
       "      <td>0</td>\n",
       "      <td>-1.622718</td>\n",
       "      <td>0.280277</td>\n",
       "      <td>1</td>\n",
       "      <td>1</td>\n",
       "      <td>0</td>\n",
       "      <td>0.5</td>\n",
       "    </tr>\n",
       "    <tr>\n",
       "      <th>114089</th>\n",
       "      <td>190978</td>\n",
       "      <td>0</td>\n",
       "      <td>0.030769</td>\n",
       "      <td>30.0</td>\n",
       "      <td>152.0</td>\n",
       "      <td>1</td>\n",
       "      <td>-0.297557</td>\n",
       "      <td>0.480969</td>\n",
       "      <td>1</td>\n",
       "      <td>0</td>\n",
       "      <td>0</td>\n",
       "      <td>0.5</td>\n",
       "    </tr>\n",
       "  </tbody>\n",
       "</table>\n",
       "<p>114090 rows × 12 columns</p>\n",
       "</div>"
      ],
      "text/plain": [
       "            id  gender       age  region_code  policy_sales_channel  \\\n",
       "0       196319       0  0.461538         33.0                 124.0   \n",
       "76055   206612       1  0.769231          8.0                  26.0   \n",
       "76066    99903       1  0.507692          1.0                  26.0   \n",
       "76065   289557       0  0.430769         28.0                  26.0   \n",
       "76064   224629       0  0.046154          9.0                 152.0   \n",
       "...        ...     ...       ...          ...                   ...   \n",
       "38027     2972       0  0.138462         39.0                 124.0   \n",
       "38026   299296       1  0.000000         42.0                 160.0   \n",
       "38025   245297       0  0.430769         41.0                  26.0   \n",
       "38024   366938       0  0.061538         28.0                 152.0   \n",
       "114089  190978       0  0.030769         30.0                 152.0   \n",
       "\n",
       "        previously_insured  annual_premium   vintage  vehicle_age  \\\n",
       "0                        0        0.597270  0.498270            3   \n",
       "76055                    0       -0.140460  0.799308            2   \n",
       "76066                    0       -1.622718  0.089965            3   \n",
       "76065                    0       -1.622718  0.346021            2   \n",
       "76064                    1       -0.345256  0.093426            1   \n",
       "...                    ...             ...       ...          ...   \n",
       "38027                    1       -0.193503  0.712803            1   \n",
       "38026                    1        0.115172  0.871972            1   \n",
       "38025                    0        1.383861  0.273356            2   \n",
       "38024                    0       -1.622718  0.280277            1   \n",
       "114089                   1       -0.297557  0.480969            1   \n",
       "\n",
       "        vehicle_damage  response  model_score  \n",
       "0                    1         0          0.5  \n",
       "76055                1         0          0.5  \n",
       "76066                1         0          0.5  \n",
       "76065                1         0          0.5  \n",
       "76064                0         0          0.5  \n",
       "...                ...       ...          ...  \n",
       "38027                0         0          0.5  \n",
       "38026                0         0          0.5  \n",
       "38025                1         0          0.5  \n",
       "38024                1         0          0.5  \n",
       "114089               0         0          0.5  \n",
       "\n",
       "[114090 rows x 12 columns]"
      ]
     },
     "execution_count": 55,
     "metadata": {},
     "output_type": "execute_result"
    }
   ],
   "source": [
    "model_df"
   ]
  },
  {
   "cell_type": "code",
   "execution_count": 56,
   "metadata": {
    "ExecuteTime": {
     "end_time": "2022-10-19T14:32:47.792213Z",
     "start_time": "2022-10-19T14:32:47.781242Z"
    },
    "executionInfo": {
     "elapsed": 2,
     "status": "ok",
     "timestamp": 1665677070765,
     "user": {
      "displayName": "Lavis",
      "userId": "11464059397454562428"
     },
     "user_tz": 180
    },
    "id": "qrOr2I1vz9a_"
   },
   "outputs": [],
   "source": [
    "#pickle.dump(xgb_model_final,open('/content/drive/MyDrive/health_insurance_cross_sell-main/health_insurance_cross_sell/models/xgb_model_final.pkl','wb'))"
   ]
  }
 ],
 "metadata": {
  "accelerator": "GPU",
  "colab": {
   "collapsed_sections": [],
   "provenance": []
  },
  "deepnote": {},
  "deepnote_execution_queue": [],
  "deepnote_notebook_id": "1c4ae238-6d82-4b11-b14c-6a3b5dfcbe14",
  "kernelspec": {
   "display_name": "Python 3",
   "language": "python",
   "name": "python3"
  },
  "language_info": {
   "codemirror_mode": {
    "name": "ipython",
    "version": 3
   },
   "file_extension": ".py",
   "mimetype": "text/x-python",
   "name": "python",
   "nbconvert_exporter": "python",
   "pygments_lexer": "ipython3",
   "version": "3.8.5"
  }
 },
 "nbformat": 4,
 "nbformat_minor": 1
}
