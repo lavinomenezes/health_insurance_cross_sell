{
 "cells": [
  {
   "cell_type": "markdown",
   "metadata": {
    "cell_id": "2666b11c-f369-41e6-b25a-4006b85c4df6",
    "deepnote_cell_height": 81.60000610351562,
    "deepnote_cell_type": "markdown",
    "id": "m2Qg2lqXgq8I"
   },
   "source": [
    "# imports"
   ]
  },
  {
   "cell_type": "code",
   "execution_count": 1,
   "metadata": {
    "ExecuteTime": {
     "end_time": "2022-08-31T18:48:49.854893Z",
     "start_time": "2022-08-31T18:48:44.909755Z"
    },
    "cell_id": "00001-f66b50ac-05aa-46bb-9360-52b86428a8b5",
    "deepnote_cell_height": 147.60000610351562,
    "deepnote_cell_type": "code",
    "deepnote_to_be_reexecuted": false,
    "executionInfo": {
     "elapsed": 1000,
     "status": "ok",
     "timestamp": 1660658311500,
     "user": {
      "displayName": "Lavis",
      "userId": "11464059397454562428"
     },
     "user_tz": 0
    },
    "execution_millis": 2988,
    "execution_start": 1660912151787,
    "id": "8-a4dm0Zgq8I",
    "source_hash": "c77f524a"
   },
   "outputs": [],
   "source": [
    "import pandas as pd\n",
    "import numpy as np\n",
    "import seaborn as sns\n",
    "import matplotlib.pyplot as plt\n",
    "from IPython.core.display import HTML"
   ]
  },
  {
   "cell_type": "code",
   "execution_count": 2,
   "metadata": {
    "ExecuteTime": {
     "end_time": "2022-08-31T18:48:49.889793Z",
     "start_time": "2022-08-31T18:48:49.854893Z"
    },
    "cell_id": "00002-c856ca02-44c2-415f-b45b-aa8c957ecd06",
    "colab": {
     "base_uri": "https://localhost:8080/",
     "height": 34
    },
    "deepnote_cell_height": 302.20001220703125,
    "deepnote_cell_type": "code",
    "deepnote_output_heights": [
     null,
     1
    ],
    "deepnote_to_be_reexecuted": false,
    "executionInfo": {
     "elapsed": 400,
     "status": "ok",
     "timestamp": 1660658314000,
     "user": {
      "displayName": "Lavis",
      "userId": "11464059397454562428"
     },
     "user_tz": 0
    },
    "execution_millis": 61,
    "execution_start": 1660912154783,
    "id": "XONuzfOZ8nlk",
    "outputId": "0141611e-eb1e-4c86-9ef6-32b5305141ce",
    "source_hash": "46a4bb4d"
   },
   "outputs": [
    {
     "name": "stdout",
     "output_type": "stream",
     "text": [
      "Populating the interactive namespace from numpy and matplotlib\n"
     ]
    },
    {
     "data": {
      "text/html": [
       "<style>.container { width:100% !important; }</style>"
      ],
      "text/plain": [
       "<IPython.core.display.HTML object>"
      ]
     },
     "metadata": {},
     "output_type": "display_data"
    }
   ],
   "source": [
    "def jupyter_settings():\n",
    "    %matplotlib inline\n",
    "    %pylab inline\n",
    "    plt.style.use( 'bmh' )\n",
    "    plt.rcParams['figure.figsize'] = [25, 12]\n",
    "    plt.rcParams['font.size'] = 24\n",
    "    display( HTML( '<style>.container { width:100% !important; }</style>') )\n",
    "    sns.set()\n",
    "jupyter_settings()"
   ]
  },
  {
   "cell_type": "markdown",
   "metadata": {
    "cell_id": "00003-ac9361ce-d9a1-42da-a82f-072188f79e66",
    "deepnote_cell_height": 81.60000610351562,
    "deepnote_cell_type": "markdown",
    "id": "hbeo3XPrgq8I"
   },
   "source": [
    "# load data"
   ]
  },
  {
   "cell_type": "code",
   "execution_count": 3,
   "metadata": {
    "ExecuteTime": {
     "end_time": "2022-08-31T18:48:50.615371Z",
     "start_time": "2022-08-31T18:48:49.889793Z"
    },
    "cell_id": "00004-71974b3b-0733-4c16-a781-1c5cc7a1606a",
    "deepnote_cell_height": 75.60000610351562,
    "deepnote_cell_type": "code",
    "deepnote_to_be_reexecuted": false,
    "executionInfo": {
     "elapsed": 2800,
     "status": "ok",
     "timestamp": 1660651162500,
     "user": {
      "displayName": "Lavis",
      "userId": "11464059397454562428"
     },
     "user_tz": 0
    },
    "execution_millis": 822,
    "execution_start": 1660912154843,
    "id": "Ah1r8jyggq8I",
    "source_hash": "acb118ef"
   },
   "outputs": [],
   "source": [
    "data_raw = pd.read_csv('data/clients.csv')"
   ]
  },
  {
   "cell_type": "markdown",
   "metadata": {
    "cell_id": "00005-098b3f4a-fc3d-4a88-848f-cf17b94bf38a",
    "deepnote_cell_height": 74.39999389648438,
    "deepnote_cell_type": "markdown"
   },
   "source": [
    "Dados coletados do dataset \"comunidadeds\" atrávez do software \"Dbeaver\" onde 3 dataframes com informaçõe sforam unidos com base no id de cada usuário"
   ]
  },
  {
   "cell_type": "code",
   "execution_count": 4,
   "metadata": {
    "ExecuteTime": {
     "end_time": "2022-08-31T18:48:50.694679Z",
     "start_time": "2022-08-31T18:48:50.619875Z"
    },
    "cell_id": "00005-c06f965a-6be4-41c6-ada0-33f3486e6df7",
    "colab": {
     "base_uri": "https://localhost:8080/",
     "height": 270
    },
    "deepnote_cell_height": 389.20001220703125,
    "deepnote_cell_type": "code",
    "deepnote_to_be_reexecuted": false,
    "executionInfo": {
     "elapsed": 0,
     "status": "ok",
     "timestamp": 1660651326900,
     "user": {
      "displayName": "Lavis",
      "userId": "11464059397454562428"
     },
     "user_tz": 0
    },
    "execution_millis": 98,
    "execution_start": 1660912155672,
    "id": "R7jnIO9agq8I",
    "outputId": "209616cc-7699-4185-9599-e8c1fbb0aadb",
    "source_hash": "4492d658"
   },
   "outputs": [
    {
     "data": {
      "text/html": [
       "<div>\n",
       "<style scoped>\n",
       "    .dataframe tbody tr th:only-of-type {\n",
       "        vertical-align: middle;\n",
       "    }\n",
       "\n",
       "    .dataframe tbody tr th {\n",
       "        vertical-align: top;\n",
       "    }\n",
       "\n",
       "    .dataframe thead th {\n",
       "        text-align: right;\n",
       "    }\n",
       "</style>\n",
       "<table border=\"1\" class=\"dataframe\">\n",
       "  <thead>\n",
       "    <tr style=\"text-align: right;\">\n",
       "      <th></th>\n",
       "      <th>id</th>\n",
       "      <th>gender</th>\n",
       "      <th>age</th>\n",
       "      <th>region_code</th>\n",
       "      <th>policy_sales_channel</th>\n",
       "      <th>id.1</th>\n",
       "      <th>previously_insured</th>\n",
       "      <th>annual_premium</th>\n",
       "      <th>vintage</th>\n",
       "      <th>response</th>\n",
       "      <th>id.2</th>\n",
       "      <th>driving_license</th>\n",
       "      <th>vehicle_age</th>\n",
       "      <th>vehicle_damage</th>\n",
       "    </tr>\n",
       "  </thead>\n",
       "  <tbody>\n",
       "    <tr>\n",
       "      <th>0</th>\n",
       "      <td>1</td>\n",
       "      <td>Male</td>\n",
       "      <td>44</td>\n",
       "      <td>28.0</td>\n",
       "      <td>26.0</td>\n",
       "      <td>1</td>\n",
       "      <td>0</td>\n",
       "      <td>40454.0</td>\n",
       "      <td>217</td>\n",
       "      <td>1</td>\n",
       "      <td>1</td>\n",
       "      <td>1</td>\n",
       "      <td>&gt; 2 Years</td>\n",
       "      <td>Yes</td>\n",
       "    </tr>\n",
       "    <tr>\n",
       "      <th>1</th>\n",
       "      <td>2</td>\n",
       "      <td>Male</td>\n",
       "      <td>76</td>\n",
       "      <td>3.0</td>\n",
       "      <td>26.0</td>\n",
       "      <td>2</td>\n",
       "      <td>0</td>\n",
       "      <td>33536.0</td>\n",
       "      <td>183</td>\n",
       "      <td>0</td>\n",
       "      <td>2</td>\n",
       "      <td>1</td>\n",
       "      <td>1-2 Year</td>\n",
       "      <td>No</td>\n",
       "    </tr>\n",
       "    <tr>\n",
       "      <th>2</th>\n",
       "      <td>3</td>\n",
       "      <td>Male</td>\n",
       "      <td>47</td>\n",
       "      <td>28.0</td>\n",
       "      <td>26.0</td>\n",
       "      <td>3</td>\n",
       "      <td>0</td>\n",
       "      <td>38294.0</td>\n",
       "      <td>27</td>\n",
       "      <td>1</td>\n",
       "      <td>3</td>\n",
       "      <td>1</td>\n",
       "      <td>&gt; 2 Years</td>\n",
       "      <td>Yes</td>\n",
       "    </tr>\n",
       "    <tr>\n",
       "      <th>3</th>\n",
       "      <td>4</td>\n",
       "      <td>Male</td>\n",
       "      <td>21</td>\n",
       "      <td>11.0</td>\n",
       "      <td>152.0</td>\n",
       "      <td>4</td>\n",
       "      <td>1</td>\n",
       "      <td>28619.0</td>\n",
       "      <td>203</td>\n",
       "      <td>0</td>\n",
       "      <td>4</td>\n",
       "      <td>1</td>\n",
       "      <td>&lt; 1 Year</td>\n",
       "      <td>No</td>\n",
       "    </tr>\n",
       "    <tr>\n",
       "      <th>4</th>\n",
       "      <td>5</td>\n",
       "      <td>Female</td>\n",
       "      <td>29</td>\n",
       "      <td>41.0</td>\n",
       "      <td>152.0</td>\n",
       "      <td>5</td>\n",
       "      <td>1</td>\n",
       "      <td>27496.0</td>\n",
       "      <td>39</td>\n",
       "      <td>0</td>\n",
       "      <td>5</td>\n",
       "      <td>1</td>\n",
       "      <td>&lt; 1 Year</td>\n",
       "      <td>No</td>\n",
       "    </tr>\n",
       "  </tbody>\n",
       "</table>\n",
       "</div>"
      ],
      "text/plain": [
       "   id  gender  age  region_code  policy_sales_channel  id.1  \\\n",
       "0   1    Male   44         28.0                  26.0     1   \n",
       "1   2    Male   76          3.0                  26.0     2   \n",
       "2   3    Male   47         28.0                  26.0     3   \n",
       "3   4    Male   21         11.0                 152.0     4   \n",
       "4   5  Female   29         41.0                 152.0     5   \n",
       "\n",
       "   previously_insured  annual_premium  vintage  response  id.2  \\\n",
       "0                   0         40454.0      217         1     1   \n",
       "1                   0         33536.0      183         0     2   \n",
       "2                   0         38294.0       27         1     3   \n",
       "3                   1         28619.0      203         0     4   \n",
       "4                   1         27496.0       39         0     5   \n",
       "\n",
       "   driving_license vehicle_age vehicle_damage  \n",
       "0                1   > 2 Years            Yes  \n",
       "1                1    1-2 Year             No  \n",
       "2                1   > 2 Years            Yes  \n",
       "3                1    < 1 Year             No  \n",
       "4                1    < 1 Year             No  "
      ]
     },
     "execution_count": 4,
     "metadata": {},
     "output_type": "execute_result"
    }
   ],
   "source": [
    "data_raw.head()"
   ]
  },
  {
   "cell_type": "markdown",
   "metadata": {
    "cell_id": "00006-3de8ba69-cd3e-4be8-a63a-ef8e3a3d37b0",
    "deepnote_cell_height": 52,
    "deepnote_cell_type": "markdown",
    "id": "ug0aPjSZi770"
   },
   "source": [
    "**drop id's columns left by the datasets merge**"
   ]
  },
  {
   "cell_type": "code",
   "execution_count": 5,
   "metadata": {
    "ExecuteTime": {
     "end_time": "2022-08-31T18:48:50.755183Z",
     "start_time": "2022-08-31T18:48:50.694679Z"
    },
    "cell_id": "00007-4094e2a2-51e5-46d1-8480-5a8500e7522b",
    "deepnote_cell_height": 75.60000610351562,
    "deepnote_cell_type": "code",
    "deepnote_to_be_reexecuted": false,
    "executionInfo": {
     "elapsed": 300,
     "status": "ok",
     "timestamp": 1660651264800,
     "user": {
      "displayName": "Lavis",
      "userId": "11464059397454562428"
     },
     "user_tz": 0
    },
    "execution_millis": 55,
    "execution_start": 1660912155776,
    "id": "B71GeaFzhhgU",
    "source_hash": "90687e7"
   },
   "outputs": [],
   "source": [
    "data_raw = data_raw.drop(columns=['id.1','id.2'])"
   ]
  },
  {
   "cell_type": "code",
   "execution_count": 6,
   "metadata": {
    "ExecuteTime": {
     "end_time": "2022-08-31T18:48:50.774893Z",
     "start_time": "2022-08-31T18:48:50.759695Z"
    },
    "cell_id": "00008-1e3344f3-416b-42fc-b258-84e3e3a90461",
    "colab": {
     "base_uri": "https://localhost:8080/"
    },
    "deepnote_cell_height": 169.39999389648438,
    "deepnote_cell_type": "code",
    "deepnote_output_heights": [
     78
    ],
    "deepnote_to_be_reexecuted": false,
    "executionInfo": {
     "elapsed": 900,
     "status": "ok",
     "timestamp": 1660651284000,
     "user": {
      "displayName": "Lavis",
      "userId": "11464059397454562428"
     },
     "user_tz": 0
    },
    "execution_millis": 834,
    "execution_start": 1660912155833,
    "id": "mRNTN-Ahh2c8",
    "outputId": "29d991ff-6227-425b-816f-5d8abac9218e",
    "source_hash": "e014b618"
   },
   "outputs": [
    {
     "data": {
      "text/plain": [
       "Index(['id', 'gender', 'age', 'region_code', 'policy_sales_channel',\n",
       "       'previously_insured', 'annual_premium', 'vintage', 'response',\n",
       "       'driving_license', 'vehicle_age', 'vehicle_damage'],\n",
       "      dtype='object')"
      ]
     },
     "execution_count": 6,
     "metadata": {},
     "output_type": "execute_result"
    }
   ],
   "source": [
    "data_raw.columns"
   ]
  },
  {
   "cell_type": "code",
   "execution_count": 7,
   "metadata": {
    "ExecuteTime": {
     "end_time": "2022-08-31T18:48:50.844674Z",
     "start_time": "2022-08-31T18:48:50.774893Z"
    },
    "cell_id": "ea3c1b23691146cabf676d3470404db6",
    "deepnote_cell_height": 111.60000610351562,
    "deepnote_cell_type": "code",
    "deepnote_to_be_reexecuted": false,
    "execution_millis": 44,
    "execution_start": 1660912155851,
    "source_hash": "6a876202",
    "tags": []
   },
   "outputs": [],
   "source": [
    "data_raw = data_raw[['id', 'gender', 'age', 'region_code', 'policy_sales_channel',\n",
    "       'previously_insured', 'annual_premium', 'vintage',\n",
    "       'driving_license', 'vehicle_age', 'vehicle_damage','response']]"
   ]
  },
  {
   "cell_type": "markdown",
   "metadata": {
    "cell_id": "00009-6ee2204a-17e4-4a56-9acb-1e4ace24c793",
    "deepnote_cell_height": 52,
    "deepnote_cell_type": "markdown",
    "id": "siMZr8N0jLm8"
   },
   "source": [
    "**Datasets dimensions**"
   ]
  },
  {
   "cell_type": "code",
   "execution_count": 8,
   "metadata": {
    "ExecuteTime": {
     "end_time": "2022-08-31T18:48:50.864703Z",
     "start_time": "2022-08-31T18:48:50.844674Z"
    },
    "cell_id": "00010-d555967e-e07f-4313-aa00-914808d9fb16",
    "colab": {
     "base_uri": "https://localhost:8080/"
    },
    "deepnote_cell_height": 111.39999389648438,
    "deepnote_cell_type": "code",
    "deepnote_output_heights": [
     20
    ],
    "deepnote_to_be_reexecuted": false,
    "executionInfo": {
     "elapsed": 300,
     "status": "ok",
     "timestamp": 1660651343900,
     "user": {
      "displayName": "Lavis",
      "userId": "11464059397454562428"
     },
     "user_tz": 0
    },
    "execution_millis": 776,
    "execution_start": 1660912155896,
    "id": "rOK9LHpCiGTA",
    "outputId": "085a4cc6-74e5-4157-91ca-14c249da415b",
    "source_hash": "db401972"
   },
   "outputs": [
    {
     "data": {
      "text/plain": [
       "(381109, 12)"
      ]
     },
     "execution_count": 8,
     "metadata": {},
     "output_type": "execute_result"
    }
   ],
   "source": [
    "data_raw.shape"
   ]
  },
  {
   "cell_type": "markdown",
   "metadata": {
    "cell_id": "00011-83837802-9caf-4608-a1b8-c7d768c68270",
    "deepnote_cell_height": 81.60000610351562,
    "deepnote_cell_type": "markdown",
    "id": "YddqEh7cjy5A"
   },
   "source": [
    "# Checking data types"
   ]
  },
  {
   "cell_type": "code",
   "execution_count": 9,
   "metadata": {
    "ExecuteTime": {
     "end_time": "2022-08-31T18:48:50.884480Z",
     "start_time": "2022-08-31T18:48:50.864703Z"
    },
    "cell_id": "00012-862a6f54-af4e-4c4d-8f92-223fa557ff04",
    "colab": {
     "base_uri": "https://localhost:8080/"
    },
    "deepnote_cell_height": 342.3999938964844,
    "deepnote_cell_type": "code",
    "deepnote_output_heights": [
     251
    ],
    "deepnote_to_be_reexecuted": false,
    "executionInfo": {
     "elapsed": 200,
     "status": "ok",
     "timestamp": 1660651307000,
     "user": {
      "displayName": "Lavis",
      "userId": "11464059397454562428"
     },
     "user_tz": 0
    },
    "execution_millis": 746,
    "execution_start": 1660912155926,
    "id": "sCqTWeiLh9BQ",
    "outputId": "6ed287c9-e900-43df-c9db-509a6d0d4308",
    "source_hash": "8f3c5461"
   },
   "outputs": [
    {
     "data": {
      "text/plain": [
       "id                        int64\n",
       "gender                   object\n",
       "age                       int64\n",
       "region_code             float64\n",
       "policy_sales_channel    float64\n",
       "previously_insured        int64\n",
       "annual_premium          float64\n",
       "vintage                   int64\n",
       "driving_license           int64\n",
       "vehicle_age              object\n",
       "vehicle_damage           object\n",
       "response                  int64\n",
       "dtype: object"
      ]
     },
     "execution_count": 9,
     "metadata": {},
     "output_type": "execute_result"
    }
   ],
   "source": [
    "data_raw.dtypes"
   ]
  },
  {
   "cell_type": "markdown",
   "metadata": {
    "cell_id": "00013-6f3d8c3b-9747-4337-84ba-edc2c6e6d683",
    "deepnote_cell_height": 81.60000610351562,
    "deepnote_cell_type": "markdown",
    "id": "HGpNA3OpoMs8"
   },
   "source": [
    "# Checking NA values"
   ]
  },
  {
   "cell_type": "code",
   "execution_count": 10,
   "metadata": {
    "ExecuteTime": {
     "end_time": "2022-08-31T18:48:51.014755Z",
     "start_time": "2022-08-31T18:48:50.884480Z"
    },
    "cell_id": "00014-cf6bcad7-1d28-4b2b-8f30-8e83cf77fb4b",
    "colab": {
     "base_uri": "https://localhost:8080/"
    },
    "deepnote_cell_height": 342.3999938964844,
    "deepnote_cell_type": "code",
    "deepnote_output_heights": [
     251
    ],
    "deepnote_to_be_reexecuted": false,
    "executionInfo": {
     "elapsed": 300,
     "status": "ok",
     "timestamp": 1660651820400,
     "user": {
      "displayName": "Lavis",
      "userId": "11464059397454562428"
     },
     "user_tz": 0
    },
    "execution_millis": 721,
    "execution_start": 1660912155953,
    "id": "PvXlukCVj6b0",
    "outputId": "2a987b66-fec4-4c6e-fb97-3fdc9f8ef135",
    "source_hash": "1a028bb3"
   },
   "outputs": [
    {
     "data": {
      "text/plain": [
       "id                      0\n",
       "gender                  0\n",
       "age                     0\n",
       "region_code             0\n",
       "policy_sales_channel    0\n",
       "previously_insured      0\n",
       "annual_premium          0\n",
       "vintage                 0\n",
       "driving_license         0\n",
       "vehicle_age             0\n",
       "vehicle_damage          0\n",
       "response                0\n",
       "dtype: int64"
      ]
     },
     "execution_count": 10,
     "metadata": {},
     "output_type": "execute_result"
    }
   ],
   "source": [
    "data_raw.isnull().sum()"
   ]
  },
  {
   "cell_type": "markdown",
   "metadata": {
    "cell_id": "00015-ac059e48-f585-4a19-a233-741e9d1fd5c0",
    "deepnote_cell_height": 81.60000610351562,
    "deepnote_cell_type": "markdown",
    "id": "ndyl8gBoogvw"
   },
   "source": [
    "# Descriptive Statistical"
   ]
  },
  {
   "cell_type": "markdown",
   "metadata": {
    "cell_id": "00016-78f56bec-b788-4c89-b25e-2338c628682b",
    "deepnote_cell_height": 452.3999938964844,
    "deepnote_cell_type": "markdown",
    "id": "0AogTTbuwVW0"
   },
   "source": [
    "'id': numerical statistics\n",
    "\n",
    "'gender': categorical statistics\n",
    "\n",
    "'age': numerical statistics\n",
    "\n",
    "'region_code': agroup e and count ids by region \n",
    "\n",
    "'policy_sales_channel': categorical statistics\n",
    "\n",
    "'previously_insured': categorical statistics\n",
    "\n",
    "'annual_premium': numerical statistics\n",
    "\n",
    "'vintage': numerical statistics\n",
    "\n",
    "'response': categorical statistics\n",
    "\n",
    "'driving_license': categorical statistics\n",
    "\n",
    "'vehicle_age': numerical statistics\n",
    "\n",
    "\n",
    " 'vehicle_damage': categorical statistics"
   ]
  },
  {
   "cell_type": "code",
   "execution_count": 11,
   "metadata": {
    "ExecuteTime": {
     "end_time": "2022-08-31T18:48:51.054746Z",
     "start_time": "2022-08-31T18:48:51.014755Z"
    },
    "cell_id": "00017-c9735762-fcc0-419d-bd9a-ca335c981f65",
    "deepnote_cell_height": 75.60000610351562,
    "deepnote_cell_type": "code",
    "deepnote_to_be_reexecuted": false,
    "executionInfo": {
     "elapsed": 300,
     "status": "ok",
     "timestamp": 1660653956000,
     "user": {
      "displayName": "Lavis",
      "userId": "11464059397454562428"
     },
     "user_tz": 0
    },
    "execution_millis": 81,
    "execution_start": 1660912156122,
    "id": "OhcYm_m5sET0",
    "source_hash": "10e7854f"
   },
   "outputs": [],
   "source": [
    "df1 = data_raw.copy()"
   ]
  },
  {
   "cell_type": "code",
   "execution_count": 12,
   "metadata": {
    "ExecuteTime": {
     "end_time": "2022-08-31T18:48:51.115005Z",
     "start_time": "2022-08-31T18:48:51.059758Z"
    },
    "cell_id": "00018-4407640a-900e-400a-ab84-053932bb3299",
    "deepnote_cell_height": 98.60000610351562,
    "deepnote_cell_type": "code",
    "deepnote_to_be_reexecuted": false,
    "executionInfo": {
     "elapsed": 300,
     "status": "ok",
     "timestamp": 1660658444300,
     "user": {
      "displayName": "Lavis",
      "userId": "11464059397454562428"
     },
     "user_tz": 0
    },
    "execution_millis": 45,
    "execution_start": 1660912156203,
    "id": "VOjkPN25sAjM",
    "source_hash": "b8c4782c"
   },
   "outputs": [],
   "source": [
    "num_atributtes = df1[['id','age','annual_premium', 'vintage']]\n",
    "cat_atributtes = df1[['gender','policy_sales_channel','region_code','previously_insured','driving_license','vehicle_damage','vehicle_age','response']]"
   ]
  },
  {
   "cell_type": "markdown",
   "metadata": {
    "cell_id": "00019-e63a84f5-09e7-401d-bf5e-290d9854a175",
    "deepnote_cell_height": 69.60000610351562,
    "deepnote_cell_type": "markdown",
    "id": "p6YxAgtDtOHQ"
   },
   "source": [
    "## Numerical statistics"
   ]
  },
  {
   "cell_type": "code",
   "execution_count": 13,
   "metadata": {
    "ExecuteTime": {
     "end_time": "2022-08-31T18:48:51.414423Z",
     "start_time": "2022-08-31T18:48:51.121062Z"
    },
    "cell_id": "00020-bf6ed655-2251-467d-929d-82f964727f6e",
    "colab": {
     "base_uri": "https://localhost:8080/",
     "height": 239
    },
    "deepnote_cell_height": 402.20001220703125,
    "deepnote_cell_type": "code",
    "deepnote_to_be_reexecuted": false,
    "executionInfo": {
     "elapsed": 700,
     "status": "ok",
     "timestamp": 1660656317000,
     "user": {
      "displayName": "Lavis",
      "userId": "11464059397454562428"
     },
     "user_tz": 0
    },
    "execution_millis": 634,
    "execution_start": 1660913620470,
    "id": "gENVt2W0tNNc",
    "outputId": "5021bef3-1056-47c9-9aac-083c3a1a2e5c",
    "source_hash": "76a47221"
   },
   "outputs": [
    {
     "data": {
      "text/html": [
       "<div>\n",
       "<style scoped>\n",
       "    .dataframe tbody tr th:only-of-type {\n",
       "        vertical-align: middle;\n",
       "    }\n",
       "\n",
       "    .dataframe tbody tr th {\n",
       "        vertical-align: top;\n",
       "    }\n",
       "\n",
       "    .dataframe thead th {\n",
       "        text-align: right;\n",
       "    }\n",
       "</style>\n",
       "<table border=\"1\" class=\"dataframe\">\n",
       "  <thead>\n",
       "    <tr style=\"text-align: right;\">\n",
       "      <th></th>\n",
       "      <th>max</th>\n",
       "      <th>min</th>\n",
       "      <th>range</th>\n",
       "      <th>mean</th>\n",
       "      <th>median</th>\n",
       "      <th>std</th>\n",
       "      <th>skew</th>\n",
       "      <th>kurtosis</th>\n",
       "    </tr>\n",
       "  </thead>\n",
       "  <tbody>\n",
       "    <tr>\n",
       "      <th>id</th>\n",
       "      <td>381109.0</td>\n",
       "      <td>1.0</td>\n",
       "      <td>381108.0</td>\n",
       "      <td>190555.000000</td>\n",
       "      <td>190555.0</td>\n",
       "      <td>110016.836208</td>\n",
       "      <td>9.443274e-16</td>\n",
       "      <td>-1.200000</td>\n",
       "    </tr>\n",
       "    <tr>\n",
       "      <th>age</th>\n",
       "      <td>85.0</td>\n",
       "      <td>20.0</td>\n",
       "      <td>65.0</td>\n",
       "      <td>38.822584</td>\n",
       "      <td>36.0</td>\n",
       "      <td>15.511611</td>\n",
       "      <td>6.725390e-01</td>\n",
       "      <td>-0.565655</td>\n",
       "    </tr>\n",
       "    <tr>\n",
       "      <th>annual_premium</th>\n",
       "      <td>540165.0</td>\n",
       "      <td>2630.0</td>\n",
       "      <td>537535.0</td>\n",
       "      <td>30564.389581</td>\n",
       "      <td>31669.0</td>\n",
       "      <td>17213.155057</td>\n",
       "      <td>1.766087e+00</td>\n",
       "      <td>34.004569</td>\n",
       "    </tr>\n",
       "    <tr>\n",
       "      <th>vintage</th>\n",
       "      <td>299.0</td>\n",
       "      <td>10.0</td>\n",
       "      <td>289.0</td>\n",
       "      <td>154.347397</td>\n",
       "      <td>154.0</td>\n",
       "      <td>83.671304</td>\n",
       "      <td>3.029517e-03</td>\n",
       "      <td>-1.200688</td>\n",
       "    </tr>\n",
       "  </tbody>\n",
       "</table>\n",
       "</div>"
      ],
      "text/plain": [
       "                     max     min     range           mean    median  \\\n",
       "id              381109.0     1.0  381108.0  190555.000000  190555.0   \n",
       "age                 85.0    20.0      65.0      38.822584      36.0   \n",
       "annual_premium  540165.0  2630.0  537535.0   30564.389581   31669.0   \n",
       "vintage            299.0    10.0     289.0     154.347397     154.0   \n",
       "\n",
       "                          std          skew   kurtosis  \n",
       "id              110016.836208  9.443274e-16  -1.200000  \n",
       "age                 15.511611  6.725390e-01  -0.565655  \n",
       "annual_premium   17213.155057  1.766087e+00  34.004569  \n",
       "vintage             83.671304  3.029517e-03  -1.200688  "
      ]
     },
     "execution_count": 13,
     "metadata": {},
     "output_type": "execute_result"
    }
   ],
   "source": [
    "num_statistics = num_atributtes.agg(['max','min','mean','median','std','skew','kurtosis']).T\n",
    "num_statistics['range'] = num_statistics['max'] - num_statistics['min']\n",
    "num_statistics = num_statistics[['max','min','range','mean','median','std','skew','kurtosis']]\n",
    "num_statistics"
   ]
  },
  {
   "cell_type": "code",
   "execution_count": 34,
   "metadata": {
    "ExecuteTime": {
     "end_time": "2022-08-31T18:50:54.883338Z",
     "start_time": "2022-08-31T18:50:54.282111Z"
    },
    "cell_id": "00022-bd105bab-46a2-496d-a0a0-4671edb490fa",
    "deepnote_cell_height": 551.2000122070312,
    "deepnote_cell_type": "code",
    "deepnote_output_heights": [
     20,
     409
    ],
    "deepnote_to_be_reexecuted": false,
    "execution_millis": 734,
    "execution_start": 1660912156427,
    "scrolled": true,
    "source_hash": "ecc7cd37"
   },
   "outputs": [
    {
     "data": {
      "text/plain": [
       "<AxesSubplot:xlabel='response', ylabel='age'>"
      ]
     },
     "execution_count": 34,
     "metadata": {},
     "output_type": "execute_result"
    },
    {
     "data": {
      "image/png": "[encoded data removed]",
      "text/plain": [
       "<Figure size 1800x864 with 2 Axes>"
      ]
     },
     "metadata": {},
     "output_type": "display_data"
    }
   ],
   "source": [
    "plt.subplot(1,2,1)\n",
    "num_atributtes['age'].hist(bins=65)\n",
    "plt.subplot(1,2,2)\n",
    "sns.boxplot(x='response',y='age',data=df1)"
   ]
  },
  {
   "cell_type": "code",
   "execution_count": 37,
   "metadata": {
    "ExecuteTime": {
     "end_time": "2022-08-31T18:53:29.118842Z",
     "start_time": "2022-08-31T18:53:28.249200Z"
    },
    "cell_id": "137b26cbd5004bcfa34375700d6306e6",
    "deepnote_cell_height": 551.2000122070312,
    "deepnote_cell_type": "code",
    "deepnote_output_heights": [
     20,
     409
    ],
    "deepnote_to_be_reexecuted": false,
    "execution_millis": 1468,
    "execution_start": 1660912582531,
    "source_hash": "f421f0ec",
    "tags": []
   },
   "outputs": [
    {
     "data": {
      "text/plain": [
       "<AxesSubplot:xlabel='response', ylabel='annual_premium'>"
      ]
     },
     "execution_count": 37,
     "metadata": {},
     "output_type": "execute_result"
    },
    {
     "data": {
      "image/png": "[encoded data removed]",
      "text/plain": [
       "<Figure size 1800x864 with 2 Axes>"
      ]
     },
     "metadata": {},
     "output_type": "display_data"
    }
   ],
   "source": [
    "plt.subplot(1,2,1)\n",
    "num_atributtes['annual_premium'].hist(bins=100)\n",
    "plt.subplot(1,2,2)\n",
    "sns.boxplot(x='response',y='annual_premium',data=df1)"
   ]
  },
  {
   "cell_type": "code",
   "execution_count": 39,
   "metadata": {
    "ExecuteTime": {
     "end_time": "2022-08-31T18:55:44.478713Z",
     "start_time": "2022-08-31T18:55:43.899103Z"
    },
    "cell_id": "00023-b79395b2-cd75-4839-8468-48af83bccdb6",
    "deepnote_cell_height": 551.2000122070312,
    "deepnote_cell_type": "code",
    "deepnote_output_heights": [
     20,
     409
    ],
    "deepnote_to_be_reexecuted": false,
    "execution_millis": 495,
    "execution_start": 1660912157171,
    "source_hash": "fb234a3e"
   },
   "outputs": [
    {
     "data": {
      "text/plain": [
       "<AxesSubplot:xlabel='response', ylabel='vintage'>"
      ]
     },
     "execution_count": 39,
     "metadata": {},
     "output_type": "execute_result"
    },
    {
     "data": {
      "image/png": "[encoded data removed]",
      "text/plain": [
       "<Figure size 1800x864 with 2 Axes>"
      ]
     },
     "metadata": {},
     "output_type": "display_data"
    }
   ],
   "source": [
    "plt.subplot(1,2,1)\n",
    "num_atributtes['vintage'].hist()\n",
    "plt.subplot(1,2,2)\n",
    "sns.boxplot(x='response',y='vintage',data=df1)"
   ]
  },
  {
   "cell_type": "markdown",
   "metadata": {
    "cell_id": "00021-8407152e-81f5-47e9-b9b4-b0bef819539f",
    "deepnote_cell_height": 81.60000610351562,
    "deepnote_cell_type": "markdown",
    "id": "2GYgVJgo51qE"
   },
   "source": [
    "# Categorical statistics"
   ]
  },
  {
   "cell_type": "code",
   "execution_count": 17,
   "metadata": {
    "ExecuteTime": {
     "end_time": "2022-08-31T18:48:53.609412Z",
     "start_time": "2022-08-31T18:48:53.555210Z"
    },
    "cell_id": "00022-0ed6a154-490c-4f8b-8ce1-1764ddab0969",
    "colab": {
     "base_uri": "https://localhost:8080/",
     "height": 488
    },
    "deepnote_cell_height": 389.20001220703125,
    "deepnote_cell_type": "code",
    "deepnote_to_be_reexecuted": false,
    "executionInfo": {
     "elapsed": 300,
     "status": "ok",
     "timestamp": 1660658448600,
     "user": {
      "displayName": "Lavis",
      "userId": "11464059397454562428"
     },
     "user_tz": 0
    },
    "execution_millis": 19,
    "execution_start": 1660912157680,
    "id": "K7ImJcVh88iM",
    "outputId": "539d0901-1f51-4661-9bef-2347028b4bae",
    "source_hash": "fd4733e5"
   },
   "outputs": [
    {
     "data": {
      "text/html": [
       "<div>\n",
       "<style scoped>\n",
       "    .dataframe tbody tr th:only-of-type {\n",
       "        vertical-align: middle;\n",
       "    }\n",
       "\n",
       "    .dataframe tbody tr th {\n",
       "        vertical-align: top;\n",
       "    }\n",
       "\n",
       "    .dataframe thead th {\n",
       "        text-align: right;\n",
       "    }\n",
       "</style>\n",
       "<table border=\"1\" class=\"dataframe\">\n",
       "  <thead>\n",
       "    <tr style=\"text-align: right;\">\n",
       "      <th></th>\n",
       "      <th>gender</th>\n",
       "      <th>policy_sales_channel</th>\n",
       "      <th>region_code</th>\n",
       "      <th>previously_insured</th>\n",
       "      <th>driving_license</th>\n",
       "      <th>vehicle_damage</th>\n",
       "      <th>vehicle_age</th>\n",
       "      <th>response</th>\n",
       "    </tr>\n",
       "  </thead>\n",
       "  <tbody>\n",
       "    <tr>\n",
       "      <th>0</th>\n",
       "      <td>Male</td>\n",
       "      <td>26.0</td>\n",
       "      <td>28.0</td>\n",
       "      <td>0</td>\n",
       "      <td>1</td>\n",
       "      <td>Yes</td>\n",
       "      <td>&gt; 2 Years</td>\n",
       "      <td>1</td>\n",
       "    </tr>\n",
       "    <tr>\n",
       "      <th>1</th>\n",
       "      <td>Male</td>\n",
       "      <td>26.0</td>\n",
       "      <td>3.0</td>\n",
       "      <td>0</td>\n",
       "      <td>1</td>\n",
       "      <td>No</td>\n",
       "      <td>1-2 Year</td>\n",
       "      <td>0</td>\n",
       "    </tr>\n",
       "    <tr>\n",
       "      <th>2</th>\n",
       "      <td>Male</td>\n",
       "      <td>26.0</td>\n",
       "      <td>28.0</td>\n",
       "      <td>0</td>\n",
       "      <td>1</td>\n",
       "      <td>Yes</td>\n",
       "      <td>&gt; 2 Years</td>\n",
       "      <td>1</td>\n",
       "    </tr>\n",
       "    <tr>\n",
       "      <th>3</th>\n",
       "      <td>Male</td>\n",
       "      <td>152.0</td>\n",
       "      <td>11.0</td>\n",
       "      <td>1</td>\n",
       "      <td>1</td>\n",
       "      <td>No</td>\n",
       "      <td>&lt; 1 Year</td>\n",
       "      <td>0</td>\n",
       "    </tr>\n",
       "    <tr>\n",
       "      <th>4</th>\n",
       "      <td>Female</td>\n",
       "      <td>152.0</td>\n",
       "      <td>41.0</td>\n",
       "      <td>1</td>\n",
       "      <td>1</td>\n",
       "      <td>No</td>\n",
       "      <td>&lt; 1 Year</td>\n",
       "      <td>0</td>\n",
       "    </tr>\n",
       "  </tbody>\n",
       "</table>\n",
       "</div>"
      ],
      "text/plain": [
       "   gender  policy_sales_channel  region_code  previously_insured  \\\n",
       "0    Male                  26.0         28.0                   0   \n",
       "1    Male                  26.0          3.0                   0   \n",
       "2    Male                  26.0         28.0                   0   \n",
       "3    Male                 152.0         11.0                   1   \n",
       "4  Female                 152.0         41.0                   1   \n",
       "\n",
       "   driving_license vehicle_damage vehicle_age  response  \n",
       "0                1            Yes   > 2 Years         1  \n",
       "1                1             No    1-2 Year         0  \n",
       "2                1            Yes   > 2 Years         1  \n",
       "3                1             No    < 1 Year         0  \n",
       "4                1             No    < 1 Year         0  "
      ]
     },
     "execution_count": 17,
     "metadata": {},
     "output_type": "execute_result"
    }
   ],
   "source": [
    "cat_atributtes.head()"
   ]
  },
  {
   "cell_type": "code",
   "execution_count": 18,
   "metadata": {
    "ExecuteTime": {
     "end_time": "2022-08-31T18:48:53.764927Z",
     "start_time": "2022-08-31T18:48:53.614468Z"
    },
    "cell_id": "00023-0fba07ab-963d-471a-a38b-5d26d067172d",
    "colab": {
     "base_uri": "https://localhost:8080/"
    },
    "deepnote_cell_height": 265.3999938964844,
    "deepnote_cell_type": "code",
    "deepnote_output_heights": [
     174
    ],
    "deepnote_to_be_reexecuted": false,
    "executionInfo": {
     "elapsed": 600,
     "status": "ok",
     "timestamp": 1660658457000,
     "user": {
      "displayName": "Lavis",
      "userId": "11464059397454562428"
     },
     "user_tz": 0
    },
    "execution_millis": 129,
    "execution_start": 1660912157759,
    "id": "HgL75uMjtL_U",
    "outputId": "9a26021f-3844-48b0-947b-e60bd9af0f83",
    "source_hash": "67ad8b61"
   },
   "outputs": [
    {
     "data": {
      "text/plain": [
       "gender                    2\n",
       "policy_sales_channel    155\n",
       "region_code              53\n",
       "previously_insured        2\n",
       "driving_license           2\n",
       "vehicle_damage            2\n",
       "vehicle_age               3\n",
       "response                  2\n",
       "dtype: int64"
      ]
     },
     "execution_count": 18,
     "metadata": {},
     "output_type": "execute_result"
    }
   ],
   "source": [
    "cat_atributtes.apply(lambda x: x.unique().shape[0])"
   ]
  },
  {
   "cell_type": "code",
   "execution_count": 19,
   "metadata": {
    "ExecuteTime": {
     "end_time": "2022-08-31T18:48:53.823940Z",
     "start_time": "2022-08-31T18:48:53.764927Z"
    },
    "cell_id": "00024-ddcd582f-bc00-4f6a-9325-30ea0ee9db94",
    "colab": {
     "base_uri": "https://localhost:8080/",
     "height": 112
    },
    "deepnote_cell_height": 320.20001220703125,
    "deepnote_cell_type": "code",
    "deepnote_to_be_reexecuted": false,
    "executionInfo": {
     "elapsed": 500,
     "status": "ok",
     "timestamp": 1660659493700,
     "user": {
      "displayName": "Lavis",
      "userId": "11464059397454562428"
     },
     "user_tz": 0
    },
    "execution_millis": 43,
    "execution_start": 1660912157889,
    "id": "dUCd10ajA7Pw",
    "outputId": "299cdd6d-6f08-46f1-da1a-b219e0774bd1",
    "source_hash": "a189bddf"
   },
   "outputs": [
    {
     "data": {
      "text/html": [
       "<div>\n",
       "<style scoped>\n",
       "    .dataframe tbody tr th:only-of-type {\n",
       "        vertical-align: middle;\n",
       "    }\n",
       "\n",
       "    .dataframe tbody tr th {\n",
       "        vertical-align: top;\n",
       "    }\n",
       "\n",
       "    .dataframe thead th {\n",
       "        text-align: right;\n",
       "    }\n",
       "</style>\n",
       "<table border=\"1\" class=\"dataframe\">\n",
       "  <thead>\n",
       "    <tr style=\"text-align: right;\">\n",
       "      <th></th>\n",
       "      <th>response</th>\n",
       "      <th>count</th>\n",
       "      <th>%</th>\n",
       "    </tr>\n",
       "  </thead>\n",
       "  <tbody>\n",
       "    <tr>\n",
       "      <th>0</th>\n",
       "      <td>0</td>\n",
       "      <td>334399</td>\n",
       "      <td>87.74</td>\n",
       "    </tr>\n",
       "    <tr>\n",
       "      <th>1</th>\n",
       "      <td>1</td>\n",
       "      <td>46710</td>\n",
       "      <td>12.26</td>\n",
       "    </tr>\n",
       "  </tbody>\n",
       "</table>\n",
       "</div>"
      ],
      "text/plain": [
       "   response   count      %\n",
       "0         0  334399  87.74\n",
       "1         1   46710  12.26"
      ]
     },
     "execution_count": 19,
     "metadata": {},
     "output_type": "execute_result"
    }
   ],
   "source": [
    "resp = cat_atributtes[['response']].value_counts().reset_index()\n",
    "resp[\"%\"] =round( resp[0]/resp[0].sum()*100,2)\n",
    "resp.columns=['response','count','%']\n",
    "resp"
   ]
  },
  {
   "cell_type": "code",
   "execution_count": 20,
   "metadata": {
    "ExecuteTime": {
     "end_time": "2022-08-31T18:48:54.094434Z",
     "start_time": "2022-08-31T18:48:53.829469Z"
    },
    "cell_id": "a40f58b3e562493584505bd0992f5382",
    "deepnote_cell_height": 505.3999938964844,
    "deepnote_cell_type": "code",
    "deepnote_output_heights": [
     414,
     414
    ],
    "deepnote_to_be_reexecuted": false,
    "execution_millis": 332,
    "execution_start": 1660912157932,
    "source_hash": "4688fb84",
    "tags": []
   },
   "outputs": [
    {
     "data": {
      "image/png": "[encoded data removed]",
      "text/plain": [
       "<Figure size 1800x864 with 1 Axes>"
      ]
     },
     "metadata": {},
     "output_type": "display_data"
    }
   ],
   "source": [
    "sns.barplot(x='response',y='count',data=resp);"
   ]
  },
  {
   "cell_type": "markdown",
   "metadata": {
    "cell_id": "00025-82d267d7-f9e6-410f-8b92-af6b76183104",
    "deepnote_cell_height": 52,
    "deepnote_cell_type": "markdown",
    "id": "gxidmTzOBGHE"
   },
   "source": [
    "Variável resposta está desbalanceada"
   ]
  },
  {
   "cell_type": "code",
   "execution_count": 21,
   "metadata": {
    "ExecuteTime": {
     "end_time": "2022-08-31T18:48:54.874533Z",
     "start_time": "2022-08-31T18:48:54.094434Z"
    },
    "cell_id": "00029-0e4d6ef8-d862-423a-b422-50ffdba6ff14",
    "colab": {
     "base_uri": "https://localhost:8080/",
     "height": 345
    },
    "deepnote_cell_height": 564.4000244140625,
    "deepnote_cell_type": "code",
    "deepnote_output_heights": [
     419,
     419
    ],
    "deepnote_to_be_reexecuted": false,
    "executionInfo": {
     "elapsed": 1200,
     "status": "ok",
     "timestamp": 1660658320300,
     "user": {
      "displayName": "Lavis",
      "userId": "11464059397454562428"
     },
     "user_tz": 0
    },
    "execution_millis": 1371,
    "execution_start": 1660912158266,
    "id": "0TdL5Bb07bOE",
    "outputId": "cdd052e3-3c70-4d73-e2f3-7d6db62abbc9",
    "source_hash": "abf0df9e"
   },
   "outputs": [
    {
     "data": {
      "image/png": "[encoded data removed]",
      "text/plain": [
       "<Figure size 1800x864 with 2 Axes>"
      ]
     },
     "metadata": {},
     "output_type": "display_data"
    }
   ],
   "source": [
    "plt.subplot(1,2,1)\n",
    "sns.barplot(x='gender',y=0,data=cat_atributtes[['gender']].value_counts(normalize=True).reset_index())\n",
    "plt.subplot(1,2,2)\n",
    "sns.countplot(x='gender',hue='response',data=cat_atributtes);"
   ]
  },
  {
   "cell_type": "code",
   "execution_count": 22,
   "metadata": {
    "ExecuteTime": {
     "end_time": "2022-08-31T18:48:55.024702Z",
     "start_time": "2022-08-31T18:48:54.879544Z"
    },
    "cell_id": "00028-0bd70a1f-ab4d-4bd0-a35a-3deeabc4fb49",
    "deepnote_cell_height": 384.20001220703125,
    "deepnote_cell_type": "code",
    "deepnote_to_be_reexecuted": false,
    "execution_millis": 185,
    "execution_start": 1660912159455,
    "source_hash": "bad48005"
   },
   "outputs": [
    {
     "data": {
      "text/html": [
       "<div>\n",
       "<style scoped>\n",
       "    .dataframe tbody tr th:only-of-type {\n",
       "        vertical-align: middle;\n",
       "    }\n",
       "\n",
       "    .dataframe tbody tr th {\n",
       "        vertical-align: top;\n",
       "    }\n",
       "\n",
       "    .dataframe thead th {\n",
       "        text-align: right;\n",
       "    }\n",
       "</style>\n",
       "<table border=\"1\" class=\"dataframe\">\n",
       "  <thead>\n",
       "    <tr style=\"text-align: right;\">\n",
       "      <th></th>\n",
       "      <th>response</th>\n",
       "      <th>gender</th>\n",
       "      <th>0</th>\n",
       "      <th>_%</th>\n",
       "    </tr>\n",
       "  </thead>\n",
       "  <tbody>\n",
       "    <tr>\n",
       "      <th>0</th>\n",
       "      <td>0</td>\n",
       "      <td>Male</td>\n",
       "      <td>177564</td>\n",
       "      <td>46.59</td>\n",
       "    </tr>\n",
       "    <tr>\n",
       "      <th>1</th>\n",
       "      <td>0</td>\n",
       "      <td>Female</td>\n",
       "      <td>156835</td>\n",
       "      <td>41.15</td>\n",
       "    </tr>\n",
       "    <tr>\n",
       "      <th>2</th>\n",
       "      <td>1</td>\n",
       "      <td>Male</td>\n",
       "      <td>28525</td>\n",
       "      <td>7.48</td>\n",
       "    </tr>\n",
       "    <tr>\n",
       "      <th>3</th>\n",
       "      <td>1</td>\n",
       "      <td>Female</td>\n",
       "      <td>18185</td>\n",
       "      <td>4.77</td>\n",
       "    </tr>\n",
       "  </tbody>\n",
       "</table>\n",
       "</div>"
      ],
      "text/plain": [
       "   response  gender       0     _%\n",
       "0         0    Male  177564  46.59\n",
       "1         0  Female  156835  41.15\n",
       "2         1    Male   28525   7.48\n",
       "3         1  Female   18185   4.77"
      ]
     },
     "execution_count": 22,
     "metadata": {},
     "output_type": "execute_result"
    }
   ],
   "source": [
    "rep_gen = cat_atributtes[['response','gender']].value_counts().reset_index()\n",
    "rep_gen['_%'] = (round(rep_gen[0]/rep_gen[0].sum()*100,2))\n",
    "rep_gen"
   ]
  },
  {
   "cell_type": "markdown",
   "metadata": {
    "cell_id": "cb1f8b9a9df243dd91b192a961d77eb9",
    "deepnote_cell_height": 74.39999389648438,
    "deepnote_cell_type": "markdown",
    "tags": []
   },
   "source": [
    "A variável genêro apresenta um pequeno deslanço tendo em sua maioria pessoas do sexo masculino, mas apresenta proporção parecida em relação a variável resposta"
   ]
  },
  {
   "cell_type": "code",
   "execution_count": 51,
   "metadata": {
    "ExecuteTime": {
     "end_time": "2022-08-31T19:14:12.409151Z",
     "start_time": "2022-08-31T19:14:01.929276Z"
    },
    "cell_id": "8132a97657eb47e783ff4a5c5e6ada3e",
    "deepnote_cell_height": 561.2000122070312,
    "deepnote_cell_type": "code",
    "deepnote_output_heights": [
     20,
     419
    ],
    "deepnote_to_be_reexecuted": false,
    "execution_millis": 8886,
    "execution_start": 1660912159592,
    "source_hash": "12efb96b",
    "tags": []
   },
   "outputs": [
    {
     "data": {
      "text/plain": [
       "<AxesSubplot:>"
      ]
     },
     "execution_count": 51,
     "metadata": {},
     "output_type": "execute_result"
    },
    {
     "data": {
      "image/png": "[encoded data removed]",
      "text/plain": [
       "<Figure size 1800x864 with 1 Axes>"
      ]
     },
     "metadata": {},
     "output_type": "display_data"
    }
   ],
   "source": [
    "cat_atributtes['policy_sales_channel'].value_counts().plot(kind='bar')"
   ]
  },
  {
   "cell_type": "code",
   "execution_count": 24,
   "metadata": {
    "ExecuteTime": {
     "end_time": "2022-08-31T18:49:05.794524Z",
     "start_time": "2022-08-31T18:49:05.754656Z"
    },
    "cell_id": "d092a8925b3a4fe28ba2e6e067b70957",
    "deepnote_cell_height": 594.2000122070312,
    "deepnote_cell_type": "code",
    "deepnote_to_be_reexecuted": false,
    "execution_millis": 73,
    "execution_start": 1660912168418,
    "source_hash": "ed71a5b9",
    "tags": []
   },
   "outputs": [
    {
     "data": {
      "text/html": [
       "<div>\n",
       "<style scoped>\n",
       "    .dataframe tbody tr th:only-of-type {\n",
       "        vertical-align: middle;\n",
       "    }\n",
       "\n",
       "    .dataframe tbody tr th {\n",
       "        vertical-align: top;\n",
       "    }\n",
       "\n",
       "    .dataframe thead th {\n",
       "        text-align: right;\n",
       "    }\n",
       "</style>\n",
       "<table border=\"1\" class=\"dataframe\">\n",
       "  <thead>\n",
       "    <tr style=\"text-align: right;\">\n",
       "      <th></th>\n",
       "      <th>index</th>\n",
       "      <th>policy_sales_channel</th>\n",
       "    </tr>\n",
       "  </thead>\n",
       "  <tbody>\n",
       "    <tr>\n",
       "      <th>0</th>\n",
       "      <td>152.0</td>\n",
       "      <td>134784</td>\n",
       "    </tr>\n",
       "    <tr>\n",
       "      <th>1</th>\n",
       "      <td>26.0</td>\n",
       "      <td>79700</td>\n",
       "    </tr>\n",
       "    <tr>\n",
       "      <th>2</th>\n",
       "      <td>124.0</td>\n",
       "      <td>73995</td>\n",
       "    </tr>\n",
       "    <tr>\n",
       "      <th>3</th>\n",
       "      <td>160.0</td>\n",
       "      <td>21779</td>\n",
       "    </tr>\n",
       "    <tr>\n",
       "      <th>4</th>\n",
       "      <td>156.0</td>\n",
       "      <td>10661</td>\n",
       "    </tr>\n",
       "    <tr>\n",
       "      <th>5</th>\n",
       "      <td>122.0</td>\n",
       "      <td>9930</td>\n",
       "    </tr>\n",
       "    <tr>\n",
       "      <th>6</th>\n",
       "      <td>157.0</td>\n",
       "      <td>6684</td>\n",
       "    </tr>\n",
       "    <tr>\n",
       "      <th>7</th>\n",
       "      <td>154.0</td>\n",
       "      <td>5993</td>\n",
       "    </tr>\n",
       "    <tr>\n",
       "      <th>8</th>\n",
       "      <td>151.0</td>\n",
       "      <td>3885</td>\n",
       "    </tr>\n",
       "    <tr>\n",
       "      <th>9</th>\n",
       "      <td>163.0</td>\n",
       "      <td>2893</td>\n",
       "    </tr>\n",
       "  </tbody>\n",
       "</table>\n",
       "</div>"
      ],
      "text/plain": [
       "   index  policy_sales_channel\n",
       "0  152.0                134784\n",
       "1   26.0                 79700\n",
       "2  124.0                 73995\n",
       "3  160.0                 21779\n",
       "4  156.0                 10661\n",
       "5  122.0                  9930\n",
       "6  157.0                  6684\n",
       "7  154.0                  5993\n",
       "8  151.0                  3885\n",
       "9  163.0                  2893"
      ]
     },
     "execution_count": 24,
     "metadata": {},
     "output_type": "execute_result"
    }
   ],
   "source": [
    "cat_atributtes['policy_sales_channel'].value_counts().reset_index()[0:10]"
   ]
  },
  {
   "cell_type": "code",
   "execution_count": 25,
   "metadata": {
    "ExecuteTime": {
     "end_time": "2022-08-31T18:49:05.834845Z",
     "start_time": "2022-08-31T18:49:05.799538Z"
    },
    "cell_id": "d1676b0b08b840e4a209d4e411aeea3d",
    "deepnote_cell_height": 155.39999389648438,
    "deepnote_cell_type": "code",
    "deepnote_output_heights": [
     59
    ],
    "deepnote_to_be_reexecuted": false,
    "execution_millis": 38,
    "execution_start": 1660912168499,
    "source_hash": "4a4f380b",
    "tags": []
   },
   "outputs": [
    {
     "data": {
      "text/plain": [
       "index                   0.003582\n",
       "policy_sales_channel    0.919170\n",
       "dtype: float64"
      ]
     },
     "execution_count": 25,
     "metadata": {},
     "output_type": "execute_result"
    }
   ],
   "source": [
    "cat_atributtes['policy_sales_channel'].value_counts().reset_index()[0:10].sum()/len(cat_atributtes['policy_sales_channel'])"
   ]
  },
  {
   "cell_type": "markdown",
   "metadata": {
    "cell_id": "d88d6f986f69460f85b5c4b784cdeb17",
    "deepnote_cell_height": 74.39999389648438,
    "deepnote_cell_type": "markdown",
    "tags": []
   },
   "source": [
    "Dos 155 meio de contato com o clientes 10 deles contém cerca de 92 % das interrasões, infelimente não temos o conhecimento sobre oq seria esses meios de contato"
   ]
  },
  {
   "cell_type": "code",
   "execution_count": 48,
   "metadata": {
    "ExecuteTime": {
     "end_time": "2022-08-31T19:11:52.199027Z",
     "start_time": "2022-08-31T19:11:48.474570Z"
    },
    "cell_id": "214734544698400e85cc596ffcf4d86d",
    "deepnote_cell_height": 558.2000122070312,
    "deepnote_cell_type": "code",
    "deepnote_output_heights": [
     20,
     416
    ],
    "deepnote_to_be_reexecuted": false,
    "execution_millis": 3278,
    "execution_start": 1660912168546,
    "scrolled": true,
    "source_hash": "7bb7dbdf",
    "tags": []
   },
   "outputs": [
    {
     "data": {
      "text/plain": [
       "<AxesSubplot:xlabel='region_code', ylabel='count'>"
      ]
     },
     "execution_count": 48,
     "metadata": {},
     "output_type": "execute_result"
    },
    {
     "data": {
      "image/png": "[encoded data removed]",
      "text/plain": [
       "<Figure size 1800x864 with 1 Axes>"
      ]
     },
     "metadata": {},
     "output_type": "display_data"
    }
   ],
   "source": [
    "sns.countplot(x='region_code',data=cat_atributtes,hue='response')"
   ]
  },
  {
   "cell_type": "markdown",
   "metadata": {
    "cell_id": "c085bdee27084283b6a5415331e51051",
    "deepnote_cell_height": 52,
    "deepnote_cell_type": "markdown",
    "tags": []
   },
   "source": [
    "Boa parte dos clientes se encontram concentrados em algumas regiões"
   ]
  },
  {
   "cell_type": "code",
   "execution_count": 27,
   "metadata": {
    "ExecuteTime": {
     "end_time": "2022-08-31T18:49:10.224643Z",
     "start_time": "2022-08-31T18:49:09.624703Z"
    },
    "cell_id": "2e8037e949324e668b18f8e517b1896e",
    "deepnote_cell_height": 569.4000244140625,
    "deepnote_cell_type": "code",
    "deepnote_output_heights": [
     419
    ],
    "deepnote_to_be_reexecuted": false,
    "execution_millis": 632,
    "execution_start": 1660912171899,
    "scrolled": true,
    "source_hash": "3a4fe581",
    "tags": []
   },
   "outputs": [
    {
     "data": {
      "image/png": "[encoded data removed]",
      "text/plain": [
       "<Figure size 1800x864 with 2 Axes>"
      ]
     },
     "metadata": {},
     "output_type": "display_data"
    }
   ],
   "source": [
    "plt.subplot(1,2,1)\n",
    "sns.barplot(x='previously_insured',y=0,data=cat_atributtes[['previously_insured']].value_counts(normalize=True).reset_index())\n",
    "plt.subplot(1,2,2)\n",
    "sns.countplot(x='previously_insured',hue='response',data=cat_atributtes);"
   ]
  },
  {
   "cell_type": "markdown",
   "metadata": {
    "cell_id": "00040-0e7bc207-f11d-40a5-b22b-65a1cfec76ba",
    "deepnote_cell_height": 52,
    "deepnote_cell_type": "markdown"
   },
   "source": [
    "Uma boa quantidade de clientes já possui seguro de carro"
   ]
  },
  {
   "cell_type": "code",
   "execution_count": 28,
   "metadata": {
    "ExecuteTime": {
     "end_time": "2022-08-31T18:49:10.804827Z",
     "start_time": "2022-08-31T18:49:10.229657Z"
    },
    "cell_id": "8fb9cb25ad5641349820f29946fb9774",
    "deepnote_cell_height": 571.4000244140625,
    "deepnote_cell_type": "code",
    "deepnote_output_heights": [
     421
    ],
    "deepnote_to_be_reexecuted": false,
    "execution_millis": 678,
    "execution_start": 1660912172594,
    "source_hash": "95de4a1c",
    "tags": []
   },
   "outputs": [
    {
     "data": {
      "image/png": "[encoded data removed]",
      "text/plain": [
       "<Figure size 1800x864 with 2 Axes>"
      ]
     },
     "metadata": {},
     "output_type": "display_data"
    }
   ],
   "source": [
    "plt.subplot(1,2,1)\n",
    "sns.barplot(x='driving_license',y=0,data=cat_atributtes[['driving_license']].value_counts(normalize=True).reset_index())\n",
    "plt.subplot(1,2,2)\n",
    "sns.countplot(x='driving_license',hue='response',data=cat_atributtes);"
   ]
  },
  {
   "cell_type": "code",
   "execution_count": 45,
   "metadata": {
    "ExecuteTime": {
     "end_time": "2022-08-31T19:07:54.646718Z",
     "start_time": "2022-08-31T19:07:54.578230Z"
    },
    "cell_id": "7a402316891345c7a3fbb9ec58656c3a",
    "deepnote_cell_height": 150.39999389648438,
    "deepnote_cell_type": "code",
    "deepnote_output_heights": [
     59
    ],
    "deepnote_to_be_reexecuted": false,
    "execution_millis": 17,
    "execution_start": 1660912173277,
    "source_hash": "695560aa",
    "tags": []
   },
   "outputs": [
    {
     "data": {
      "text/html": [
       "<div>\n",
       "<style scoped>\n",
       "    .dataframe tbody tr th:only-of-type {\n",
       "        vertical-align: middle;\n",
       "    }\n",
       "\n",
       "    .dataframe tbody tr th {\n",
       "        vertical-align: top;\n",
       "    }\n",
       "\n",
       "    .dataframe thead th {\n",
       "        text-align: right;\n",
       "    }\n",
       "</style>\n",
       "<table border=\"1\" class=\"dataframe\">\n",
       "  <thead>\n",
       "    <tr style=\"text-align: right;\">\n",
       "      <th></th>\n",
       "      <th>driving_license</th>\n",
       "      <th>response</th>\n",
       "      <th>0</th>\n",
       "    </tr>\n",
       "  </thead>\n",
       "  <tbody>\n",
       "    <tr>\n",
       "      <th>0</th>\n",
       "      <td>0</td>\n",
       "      <td>0</td>\n",
       "      <td>771</td>\n",
       "    </tr>\n",
       "    <tr>\n",
       "      <th>1</th>\n",
       "      <td>0</td>\n",
       "      <td>1</td>\n",
       "      <td>41</td>\n",
       "    </tr>\n",
       "    <tr>\n",
       "      <th>2</th>\n",
       "      <td>1</td>\n",
       "      <td>0</td>\n",
       "      <td>333628</td>\n",
       "    </tr>\n",
       "    <tr>\n",
       "      <th>3</th>\n",
       "      <td>1</td>\n",
       "      <td>1</td>\n",
       "      <td>46669</td>\n",
       "    </tr>\n",
       "  </tbody>\n",
       "</table>\n",
       "</div>"
      ],
      "text/plain": [
       "   driving_license  response       0\n",
       "0                0         0     771\n",
       "1                0         1      41\n",
       "2                1         0  333628\n",
       "3                1         1   46669"
      ]
     },
     "execution_count": 45,
     "metadata": {},
     "output_type": "execute_result"
    }
   ],
   "source": [
    "cat_atributtes[['driving_license','response']].groupby(['driving_license','response']).size().reset_index()"
   ]
  },
  {
   "cell_type": "markdown",
   "metadata": {
    "cell_id": "00043-f93ae873-04dc-4a6d-ba39-8211b542a130",
    "deepnote_cell_height": 52,
    "deepnote_cell_type": "markdown"
   },
   "source": [
    "Apenas uma pequena quantidade de clientes não possui carro, oq mostra que a pesquisa teve o foco certo"
   ]
  },
  {
   "cell_type": "code",
   "execution_count": 52,
   "metadata": {
    "ExecuteTime": {
     "end_time": "2022-08-31T19:35:28.227036Z",
     "start_time": "2022-08-31T19:35:27.481148Z"
    },
    "cell_id": "00044-426bc974-960e-40e8-94f4-9727c65b3caa",
    "deepnote_cell_height": 569.4000244140625,
    "deepnote_cell_type": "code",
    "deepnote_output_heights": [
     419
    ],
    "deepnote_to_be_reexecuted": false,
    "execution_millis": 1191,
    "execution_start": 1660912173297,
    "source_hash": "b6e1a673"
   },
   "outputs": [
    {
     "data": {
      "image/png": "[encoded data removed]",
      "text/plain": [
       "<Figure size 1800x864 with 2 Axes>"
      ]
     },
     "metadata": {},
     "output_type": "display_data"
    }
   ],
   "source": [
    "plt.subplot(1,2,1)\n",
    "sns.barplot(x='vehicle_age',y=0,data=cat_atributtes[['vehicle_age']].value_counts(normalize=True).reset_index(),order=['< 1 Year','1-2 Year','> 2 Years'])\n",
    "plt.subplot(1,2,2)\n",
    "sns.countplot(x='vehicle_age',hue='response',data=cat_atributtes,order=['< 1 Year','1-2 Year','> 2 Years']);"
   ]
  },
  {
   "cell_type": "code",
   "execution_count": 31,
   "metadata": {
    "ExecuteTime": {
     "end_time": "2022-08-31T18:49:11.764640Z",
     "start_time": "2022-08-31T18:49:11.669810Z"
    },
    "cell_id": "00045-25b0ce23-b91e-4423-8d9a-59b7e0e7b2b0",
    "deepnote_cell_height": 343.20001220703125,
    "deepnote_cell_type": "code",
    "deepnote_output_heights": [
     117
    ],
    "deepnote_to_be_reexecuted": false,
    "execution_millis": 179,
    "execution_start": 1660912174501,
    "source_hash": "31ea8451"
   },
   "outputs": [
    {
     "data": {
      "text/html": [
       "<div>\n",
       "<style scoped>\n",
       "    .dataframe tbody tr th:only-of-type {\n",
       "        vertical-align: middle;\n",
       "    }\n",
       "\n",
       "    .dataframe tbody tr th {\n",
       "        vertical-align: top;\n",
       "    }\n",
       "\n",
       "    .dataframe thead th {\n",
       "        text-align: right;\n",
       "    }\n",
       "</style>\n",
       "<table border=\"1\" class=\"dataframe\">\n",
       "  <thead>\n",
       "    <tr style=\"text-align: right;\">\n",
       "      <th></th>\n",
       "      <th>vehicle_age</th>\n",
       "      <th>vehicle_age_%</th>\n",
       "    </tr>\n",
       "  </thead>\n",
       "  <tbody>\n",
       "    <tr>\n",
       "      <th>0</th>\n",
       "      <td>1-2 Year</td>\n",
       "      <td>0.525613</td>\n",
       "    </tr>\n",
       "    <tr>\n",
       "      <th>1</th>\n",
       "      <td>&lt; 1 Year</td>\n",
       "      <td>0.432385</td>\n",
       "    </tr>\n",
       "    <tr>\n",
       "      <th>2</th>\n",
       "      <td>&gt; 2 Years</td>\n",
       "      <td>0.042001</td>\n",
       "    </tr>\n",
       "  </tbody>\n",
       "</table>\n",
       "</div>"
      ],
      "text/plain": [
       "  vehicle_age  vehicle_age_%\n",
       "0    1-2 Year       0.525613\n",
       "1    < 1 Year       0.432385\n",
       "2   > 2 Years       0.042001"
      ]
     },
     "execution_count": 31,
     "metadata": {},
     "output_type": "execute_result"
    }
   ],
   "source": [
    "veh = cat_atributtes['vehicle_age'].value_counts(normalize=True).reset_index()\n",
    "veh.columns = ['vehicle_age','vehicle_age_%']\n",
    "veh"
   ]
  },
  {
   "cell_type": "markdown",
   "metadata": {
    "cell_id": "00046-1de01e37-c88e-4608-ae35-af6a06492f9b",
    "deepnote_cell_height": 52,
    "deepnote_cell_type": "markdown"
   },
   "source": [
    "95.8% dos veiculos na pesquisa são tem até 2 anos de idade "
   ]
  },
  {
   "cell_type": "code",
   "execution_count": 32,
   "metadata": {
    "ExecuteTime": {
     "end_time": "2022-08-31T18:49:11.824749Z",
     "start_time": "2022-08-31T18:49:11.764640Z"
    },
    "cell_id": "00047-4f8d22bf-1e96-4bae-9c4d-24f05e80c636",
    "deepnote_cell_height": 75.60000610351562,
    "deepnote_cell_type": "code",
    "deepnote_to_be_reexecuted": false,
    "execution_millis": 3811,
    "execution_start": 1660912267035,
    "source_hash": "6d111ee0"
   },
   "outputs": [],
   "source": [
    "#df1.to_csv('data/df1.csv',index=False)"
   ]
  },
  {
   "cell_type": "markdown",
   "metadata": {
    "created_in_deepnote_cell": true,
    "deepnote_cell_type": "markdown",
    "tags": []
   },
   "source": [
    "<a style='text-decoration:none;line-height:16px;display:flex;color:#5B5B62;padding:10px;justify-content:end;' href='https://deepnote.com?utm_source=created-in-deepnote-cell&projectId=3161d838-98a4-47ed-ae81-127ad2068af4' target=\"_blank\">\n",
    "<img alt='Created in deepnote.com' style='display:inline;max-height:16px;margin:0px;margin-right:7.5px;' src='data:image/svg+xml;base64,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' > </img>\n",
    "Created in <span style='font-weight:600;margin-left:4px;'>Deepnote</span></a>"
   ]
  }
 ],
 "metadata": {
  "colab": {
   "collapsed_sections": [],
   "name": "PA04_Insurance_all_coleta_de_dados.ipynb",
   "provenance": []
  },
  "deepnote": {},
  "deepnote_execution_queue": [],
  "deepnote_notebook_id": "4911266d-f687-4d2d-b72c-3508f1f610f6",
  "kernelspec": {
   "display_name": "Python 3",
   "language": "python",
   "name": "python3"
  },
  "language_info": {
   "codemirror_mode": {
    "name": "ipython",
    "version": 3
   },
   "file_extension": ".py",
   "mimetype": "text/x-python",
   "name": "python",
   "nbconvert_exporter": "python",
   "pygments_lexer": "ipython3",
   "version": "3.8.5"
  }
 },
 "nbformat": 4,
 "nbformat_minor": 1
}
