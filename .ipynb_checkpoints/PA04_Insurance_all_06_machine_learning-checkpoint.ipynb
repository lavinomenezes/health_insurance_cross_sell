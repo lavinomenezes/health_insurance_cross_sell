{
 "cells": [
  {
   "cell_type": "markdown",
   "metadata": {
    "cell_id": "14d744d2-4748-4c95-903c-15a9d3adc6e6",
    "deepnote_cell_height": 81.60000610351562,
    "deepnote_cell_type": "markdown"
   },
   "source": [
    "# Imports"
   ]
  },
  {
   "cell_type": "code",
   "execution_count": 1,
   "metadata": {
    "ExecuteTime": {
     "end_time": "2022-09-21T22:18:20.213719Z",
     "start_time": "2022-09-21T22:18:10.294005Z"
    },
    "cell_id": "00001-8f2e38cd-122d-43db-9f3e-17e868bf9b11",
    "deepnote_cell_height": 327.6000061035156,
    "deepnote_cell_type": "code",
    "deepnote_to_be_reexecuted": false,
    "execution_millis": 776,
    "execution_start": 1663115735944,
    "source_hash": "fe089ebc"
   },
   "outputs": [],
   "source": [
    "import pandas as pd\n",
    "import numpy as np\n",
    "import seaborn as sns\n",
    "import matplotlib.pyplot as plt\n",
    "import xgboost as xgb\n",
    "from IPython.core.display import HTML\n",
    "from sklearn.model_selection import train_test_split\n",
    "from sklearn.ensemble import RandomForestClassifier\n",
    "from sklearn.ensemble import ExtraTreesClassifier\n",
    "from sklearn.neighbors import KNeighborsClassifier\n",
    "from sklearn.model_selection import StratifiedKFold\n",
    "import sklearn.metrics\n",
    "from sklearn import linear_model as lm\n",
    "import scikitplot as skplt\n",
    "pd.options.mode.chained_assignment = None  # default='warn'"
   ]
  },
  {
   "cell_type": "markdown",
   "metadata": {
    "cell_id": "00002-c8dd785f-c8d1-46e1-a60a-736494a581d6",
    "deepnote_cell_height": 81.60000610351562,
    "deepnote_cell_type": "markdown"
   },
   "source": [
    "# helper functions"
   ]
  },
  {
   "cell_type": "code",
   "execution_count": 2,
   "metadata": {
    "ExecuteTime": {
     "end_time": "2022-09-21T22:18:20.261184Z",
     "start_time": "2022-09-21T22:18:20.216716Z"
    },
    "cell_id": "00003-5517e9ba-f076-4b96-a62d-e53e82cfe237",
    "deepnote_cell_height": 282.20001220703125,
    "deepnote_cell_type": "code",
    "deepnote_output_heights": [
     null,
     1
    ],
    "deepnote_to_be_reexecuted": false,
    "execution_millis": 82,
    "execution_start": 1663075328122,
    "source_hash": "46a4bb4d"
   },
   "outputs": [
    {
     "name": "stdout",
     "output_type": "stream",
     "text": [
      "Populating the interactive namespace from numpy and matplotlib\n"
     ]
    },
    {
     "data": {
      "text/html": [
       "<style>.container { width:100% !important; }</style>"
      ],
      "text/plain": [
       "<IPython.core.display.HTML object>"
      ]
     },
     "metadata": {},
     "output_type": "display_data"
    }
   ],
   "source": [
    "def jupyter_settings():\n",
    "    %matplotlib inline\n",
    "    %pylab inline\n",
    "    plt.style.use( 'bmh' )\n",
    "    plt.rcParams['figure.figsize'] = [25, 12]\n",
    "    plt.rcParams['font.size'] = 24\n",
    "    display( HTML( '<style>.container { width:100% !important; }</style>') )\n",
    "    sns.set()\n",
    "jupyter_settings()"
   ]
  },
  {
   "cell_type": "code",
   "execution_count": 3,
   "metadata": {
    "ExecuteTime": {
     "end_time": "2022-09-21T22:18:20.402807Z",
     "start_time": "2022-09-21T22:18:20.265175Z"
    },
    "cell_id": "00004-47f8bd42-4273-4320-bc31-e5a79be3291f",
    "deepnote_cell_height": 237.60000610351562,
    "deepnote_cell_type": "code",
    "deepnote_to_be_reexecuted": false,
    "execution_millis": 3,
    "execution_start": 1663115739466,
    "source_hash": "3c1bb37b"
   },
   "outputs": [],
   "source": [
    "def precision_at_k( data, k=2000 ):\n",
    "    # reset index\n",
    "    data = data.reset_index( drop=True )\n",
    "\n",
    "    # create ranking order\n",
    "    data['ranking'] = data.index + 1 \n",
    "\n",
    "    data['precision_at_k'] = data['response'].cumsum() / data['ranking']\n",
    "\n",
    "    return data.loc[k, 'precision_at_k']"
   ]
  },
  {
   "cell_type": "code",
   "execution_count": 4,
   "metadata": {
    "ExecuteTime": {
     "end_time": "2022-09-21T22:18:20.480599Z",
     "start_time": "2022-09-21T22:18:20.406795Z"
    },
    "cell_id": "00005-9d92dab6-46cd-49b8-8ed3-62f3a5a3e035",
    "deepnote_cell_height": 237.60000610351562,
    "deepnote_cell_type": "code",
    "deepnote_to_be_reexecuted": false,
    "execution_millis": 3,
    "execution_start": 1663115741181,
    "source_hash": "979ce389"
   },
   "outputs": [],
   "source": [
    "def recall_at_k( data, k=2000 ):\n",
    "    # reset index\n",
    "    data = data.reset_index( drop=True )\n",
    "\n",
    "    # create ranking order\n",
    "    data['ranking'] = data.index + 1 \n",
    "\n",
    "    data['recall_at_k'] = data['response'].cumsum() / data['response'].sum()\n",
    "\n",
    "    return data.loc[k, 'recall_at_k']"
   ]
  },
  {
   "cell_type": "code",
   "execution_count": 5,
   "metadata": {
    "ExecuteTime": {
     "end_time": "2022-09-21T22:18:20.512513Z",
     "start_time": "2022-09-21T22:18:20.487581Z"
    },
    "cell_id": "00006-ab8794da-ac1a-4a74-a1c7-59a2709e69f8",
    "deepnote_cell_height": 291.6000061035156,
    "deepnote_cell_type": "code",
    "deepnote_to_be_reexecuted": false,
    "execution_millis": 9,
    "execution_start": 1663115743484,
    "source_hash": "1776f534"
   },
   "outputs": [],
   "source": [
    "def performace(model_name,data,y_val,yhat_class,k):\n",
    "    import sklearn.metrics\n",
    "    prec = sklearn.metrics.precision_score(y_val,yhat_class)\n",
    "    recal = sklearn.metrics.recall_score(y_val,yhat_class)\n",
    "    recal_k = recall_at_k(data,k)\n",
    "    prec_k = precision_at_k(data,k)\n",
    "    balan_acc_score = sklearn.metrics.balanced_accuracy_score(y_val,yhat_class)\n",
    "    \n",
    "    return pd.DataFrame({'Model Name':model_name,\n",
    "                        'Precison':prec,\n",
    "                        'Recall':recal,\n",
    "                        'Balanced_acc':balan_acc_score,\n",
    "                        'k':k,\n",
    "                        'Precison at k':prec_k,\n",
    "                        'Recall at k':recal_k},index=[0])"
   ]
  },
  {
   "cell_type": "code",
   "execution_count": 6,
   "metadata": {
    "ExecuteTime": {
     "end_time": "2022-09-21T22:18:20.543430Z",
     "start_time": "2022-09-21T22:18:20.515505Z"
    },
    "cell_id": "742c29517f224f6298fe9b0cab0c09de",
    "deepnote_cell_height": 993.5999755859375,
    "deepnote_cell_type": "code",
    "deepnote_to_be_reexecuted": false,
    "execution_millis": 3,
    "execution_start": 1663115745298,
    "source_hash": "14efc264",
    "tags": []
   },
   "outputs": [],
   "source": [
    "def performace_cross_val(data,target,model,model_name,round_n=3,splits=4,shuffle_n=True,random=42,k=2000):\n",
    "    \n",
    "    import sklearn.model_selection as ms\n",
    "    import sklearn.metrics\n",
    "    import numpy as np\n",
    "    skf = ms.StratifiedKFold(n_splits=splits,shuffle=shuffle_n,random_state=random)\n",
    "    X = data\n",
    "    y = X[target]\n",
    "    X = X.drop(columns=[target,'id'])\n",
    "    precision = []\n",
    "    recall = []\n",
    "    balan_acc = []\n",
    "    prec_k = []\n",
    "    rec_k = []\n",
    "    for train_index, test_index in skf.split(X,y):\n",
    "        #train the model \n",
    "        model.fit(X.iloc[train_index],y.iloc[train_index].values.ravel())\n",
    "\n",
    "        #predict the classification \n",
    "        yhat_class = model.predict( X.iloc[test_index] )\n",
    "\n",
    "        #predict the probabilit\n",
    "        yhat_proba = model.predict_proba(X.iloc[test_index])\n",
    "\n",
    "        # precision and recall\n",
    "        prec = sklearn.metrics.precision_score(y.iloc[test_index],yhat_class)\n",
    "        rec = sklearn.metrics.recall_score(y.iloc[test_index],yhat_class)\n",
    "        balan_acc_score = sklearn.metrics.balanced_accuracy_score(y.iloc[test_index],yhat_class)\n",
    "        precision.append(prec)\n",
    "        recall.append(rec)\n",
    "        balan_acc.append(balan_acc_score)\n",
    "\n",
    "        # sort the test dataframe by the probabiliti score of the model\n",
    "        aux = X.iloc[test_index]\n",
    "        aux[target] = y.iloc[test_index]\n",
    "        aux['score'] = yhat_proba[:,1].tolist()\n",
    "\n",
    "        # sorte by score\n",
    "        aux = aux.sort_values('score',ascending=False)\n",
    "\n",
    "        # precision and recall at k\n",
    "        prec_k.append(precision_at_k(aux,k))\n",
    "        rec_k.append(recall_at_k(aux,k))\n",
    "\n",
    "    # return a dataset with the metrics    \n",
    "    return pd.DataFrame({'Model name': model_name + \" Cross_Val\",\n",
    "                                'PRECISION_CROSS_VAL': np.round( np.mean( precision ), round_n ),\n",
    "                                'PRECISON_STD': np.round( np.std( precision ), round_n ),\n",
    "                                'RECALL_CROSS_VAL': np.round( np.mean( recall ), round_n ),\n",
    "                                'RECALL_STD': np.round( np.std( recall ), round_n ),\n",
    "                                'BALANCED_ACC_CROSS_VALL': np.round(np.mean(balan_acc),round_n),\n",
    "                                'BALANCED_ACC_STD': np.round(np.std(balan_acc),round_n),\n",
    "                                'K': k,\n",
    "                                'PRECISION AT K CROSS_VAL': np.round( np.mean( prec_k ), round_n ),\n",
    "                                'PRECISION AT K STD': np.round( np.std( prec_k ), round_n ),\n",
    "                                'RECALL AT K CROSS_VAL': np.round( np.mean( rec_k), round_n ),\n",
    "                                'RECALL AT K STD': np.round( np.std( rec_k )) },index=[0]) "
   ]
  },
  {
   "cell_type": "markdown",
   "metadata": {
    "cell_id": "00007-84180494-931e-413c-ac91-7d9eb41170ee",
    "deepnote_cell_height": 81.60000610351562,
    "deepnote_cell_type": "markdown"
   },
   "source": [
    "# Load data"
   ]
  },
  {
   "cell_type": "code",
   "execution_count": 7,
   "metadata": {
    "ExecuteTime": {
     "end_time": "2022-09-21T22:18:21.264502Z",
     "start_time": "2022-09-21T22:18:20.547420Z"
    },
    "cell_id": "00008-c41e43a5-52c6-4310-9007-b7ae4b5435fa",
    "deepnote_cell_height": 75.60000610351562,
    "deepnote_cell_type": "code",
    "deepnote_to_be_reexecuted": false,
    "execution_millis": 319,
    "execution_start": 1663115748567,
    "source_hash": "37361c87"
   },
   "outputs": [],
   "source": [
    "df6 = pd.read_csv('data/df5.csv')"
   ]
  },
  {
   "cell_type": "code",
   "execution_count": 8,
   "metadata": {
    "ExecuteTime": {
     "end_time": "2022-09-21T22:18:21.469992Z",
     "start_time": "2022-09-21T22:18:21.288438Z"
    },
    "cell_id": "00009-51310743-184f-4924-9bd7-bad07ab35a12",
    "deepnote_cell_height": 266.3999938964844,
    "deepnote_cell_type": "code",
    "deepnote_output_heights": [
     175
    ],
    "deepnote_to_be_reexecuted": false,
    "execution_millis": 78,
    "execution_start": 1663115754551,
    "scrolled": true,
    "source_hash": "8f2e4d8a"
   },
   "outputs": [
    {
     "data": {
      "text/html": [
       "<div>\n",
       "<style scoped>\n",
       "    .dataframe tbody tr th:only-of-type {\n",
       "        vertical-align: middle;\n",
       "    }\n",
       "\n",
       "    .dataframe tbody tr th {\n",
       "        vertical-align: top;\n",
       "    }\n",
       "\n",
       "    .dataframe thead th {\n",
       "        text-align: right;\n",
       "    }\n",
       "</style>\n",
       "<table border=\"1\" class=\"dataframe\">\n",
       "  <thead>\n",
       "    <tr style=\"text-align: right;\">\n",
       "      <th></th>\n",
       "      <th>id</th>\n",
       "      <th>age</th>\n",
       "      <th>region_code</th>\n",
       "      <th>policy_sales_channel</th>\n",
       "      <th>previously_insured</th>\n",
       "      <th>vintage</th>\n",
       "      <th>vehicle_age</th>\n",
       "      <th>vehicle_damage</th>\n",
       "      <th>annual_premium</th>\n",
       "      <th>response</th>\n",
       "    </tr>\n",
       "  </thead>\n",
       "  <tbody>\n",
       "    <tr>\n",
       "      <th>0</th>\n",
       "      <td>1</td>\n",
       "      <td>0.369231</td>\n",
       "      <td>28.0</td>\n",
       "      <td>26.0</td>\n",
       "      <td>0</td>\n",
       "      <td>0.716263</td>\n",
       "      <td>3</td>\n",
       "      <td>1</td>\n",
       "      <td>0.574539</td>\n",
       "      <td>1</td>\n",
       "    </tr>\n",
       "    <tr>\n",
       "      <th>1</th>\n",
       "      <td>2</td>\n",
       "      <td>0.861538</td>\n",
       "      <td>3.0</td>\n",
       "      <td>26.0</td>\n",
       "      <td>0</td>\n",
       "      <td>0.598616</td>\n",
       "      <td>2</td>\n",
       "      <td>0</td>\n",
       "      <td>0.172636</td>\n",
       "      <td>0</td>\n",
       "    </tr>\n",
       "    <tr>\n",
       "      <th>2</th>\n",
       "      <td>3</td>\n",
       "      <td>0.415385</td>\n",
       "      <td>28.0</td>\n",
       "      <td>26.0</td>\n",
       "      <td>0</td>\n",
       "      <td>0.058824</td>\n",
       "      <td>3</td>\n",
       "      <td>1</td>\n",
       "      <td>0.449053</td>\n",
       "      <td>1</td>\n",
       "    </tr>\n",
       "    <tr>\n",
       "      <th>3</th>\n",
       "      <td>4</td>\n",
       "      <td>0.015385</td>\n",
       "      <td>11.0</td>\n",
       "      <td>152.0</td>\n",
       "      <td>1</td>\n",
       "      <td>0.667820</td>\n",
       "      <td>1</td>\n",
       "      <td>0</td>\n",
       "      <td>-0.113018</td>\n",
       "      <td>0</td>\n",
       "    </tr>\n",
       "    <tr>\n",
       "      <th>4</th>\n",
       "      <td>5</td>\n",
       "      <td>0.138462</td>\n",
       "      <td>41.0</td>\n",
       "      <td>152.0</td>\n",
       "      <td>1</td>\n",
       "      <td>0.100346</td>\n",
       "      <td>1</td>\n",
       "      <td>0</td>\n",
       "      <td>-0.178259</td>\n",
       "      <td>0</td>\n",
       "    </tr>\n",
       "  </tbody>\n",
       "</table>\n",
       "</div>"
      ],
      "text/plain": [
       "   id       age  region_code  policy_sales_channel  previously_insured  \\\n",
       "0   1  0.369231         28.0                  26.0                   0   \n",
       "1   2  0.861538          3.0                  26.0                   0   \n",
       "2   3  0.415385         28.0                  26.0                   0   \n",
       "3   4  0.015385         11.0                 152.0                   1   \n",
       "4   5  0.138462         41.0                 152.0                   1   \n",
       "\n",
       "    vintage  vehicle_age  vehicle_damage  annual_premium  response  \n",
       "0  0.716263            3               1        0.574539         1  \n",
       "1  0.598616            2               0        0.172636         0  \n",
       "2  0.058824            3               1        0.449053         1  \n",
       "3  0.667820            1               0       -0.113018         0  \n",
       "4  0.100346            1               0       -0.178259         0  "
      ]
     },
     "execution_count": 8,
     "metadata": {},
     "output_type": "execute_result"
    }
   ],
   "source": [
    "df6.head()"
   ]
  },
  {
   "cell_type": "code",
   "execution_count": 9,
   "metadata": {
    "ExecuteTime": {
     "end_time": "2022-09-21T22:18:21.516867Z",
     "start_time": "2022-09-21T22:18:21.483955Z"
    },
    "cell_id": "00010-9bcda57f-6c10-4b76-a917-7cc123ffa627",
    "deepnote_cell_height": 284.3999938964844,
    "deepnote_cell_type": "code",
    "deepnote_output_heights": [
     193
    ],
    "deepnote_to_be_reexecuted": false,
    "execution_millis": 785,
    "execution_start": 1663075328587,
    "source_hash": "ac6ebbf9"
   },
   "outputs": [
    {
     "data": {
      "text/plain": [
       "id                        int64\n",
       "age                     float64\n",
       "region_code             float64\n",
       "policy_sales_channel    float64\n",
       "previously_insured        int64\n",
       "vintage                 float64\n",
       "vehicle_age               int64\n",
       "vehicle_damage            int64\n",
       "annual_premium          float64\n",
       "response                  int64\n",
       "dtype: object"
      ]
     },
     "execution_count": 9,
     "metadata": {},
     "output_type": "execute_result"
    }
   ],
   "source": [
    "df6.dtypes"
   ]
  },
  {
   "cell_type": "markdown",
   "metadata": {
    "cell_id": "00011-8ade3ecc-bbc3-41e9-a58a-9ed7c892b3e5",
    "deepnote_cell_height": 69.60000610351562,
    "deepnote_cell_type": "markdown"
   },
   "source": [
    "## Slipt train test"
   ]
  },
  {
   "cell_type": "code",
   "execution_count": 10,
   "metadata": {
    "ExecuteTime": {
     "end_time": "2022-09-21T22:18:23.016855Z",
     "start_time": "2022-09-21T22:18:21.551774Z"
    },
    "cell_id": "00014-300c7c0c-ae4e-4c09-82c3-e8890820e92b",
    "deepnote_cell_height": 237.60000610351562,
    "deepnote_cell_type": "code",
    "deepnote_to_be_reexecuted": false,
    "execution_millis": 167,
    "execution_start": 1663075328588,
    "source_hash": "6fdaa04d"
   },
   "outputs": [],
   "source": [
    "train, val = train_test_split(df6,test_size=0.3,stratify=df6['response'],random_state=42)\n",
    "\n",
    "# train dataframes\n",
    "X_train = train.copy()\n",
    "y_train = X_train['response']\n",
    "X_train.drop(columns = ['response','id'],inplace=True)\n",
    "# validation dataframes\n",
    "x_val = val.copy()\n",
    "y_val = val['response']\n",
    "x_val.drop(columns = ['response','id'],inplace=True)"
   ]
  },
  {
   "cell_type": "markdown",
   "metadata": {
    "cell_id": "00015-e802f5a4-b869-4d12-8fa2-9235c385383f",
    "deepnote_cell_height": 81.60000610351562,
    "deepnote_cell_type": "markdown"
   },
   "source": [
    "# Machine learning"
   ]
  },
  {
   "cell_type": "markdown",
   "metadata": {
    "cell_id": "00016-2a0bce78-f887-46fc-bacb-c84b26d3beda",
    "deepnote_cell_height": 69.60000610351562,
    "deepnote_cell_type": "markdown"
   },
   "source": [
    "## KNN"
   ]
  },
  {
   "cell_type": "code",
   "execution_count": 11,
   "metadata": {
    "ExecuteTime": {
     "end_time": "2022-09-21T22:18:28.473262Z",
     "start_time": "2022-09-21T22:18:23.067720Z"
    },
    "cell_id": "00017-edcd367a-ef36-45f6-b004-e7dfad534627",
    "deepnote_cell_height": 222.39999389648438,
    "deepnote_cell_type": "code",
    "deepnote_output_heights": [
     59
    ],
    "deepnote_to_be_reexecuted": false,
    "execution_millis": 0,
    "execution_start": 1663115833468,
    "source_hash": "10a81161"
   },
   "outputs": [
    {
     "data": {
      "text/html": [
       "<style>#sk-container-id-1 {color: black;background-color: white;}#sk-container-id-1 pre{padding: 0;}#sk-container-id-1 div.sk-toggleable {background-color: white;}#sk-container-id-1 label.sk-toggleable__label {cursor: pointer;display: block;width: 100%;margin-bottom: 0;padding: 0.3em;box-sizing: border-box;text-align: center;}#sk-container-id-1 label.sk-toggleable__label-arrow:before {content: \"▸\";float: left;margin-right: 0.25em;color: #696969;}#sk-container-id-1 label.sk-toggleable__label-arrow:hover:before {color: black;}#sk-container-id-1 div.sk-estimator:hover label.sk-toggleable__label-arrow:before {color: black;}#sk-container-id-1 div.sk-toggleable__content {max-height: 0;max-width: 0;overflow: hidden;text-align: left;background-color: #f0f8ff;}#sk-container-id-1 div.sk-toggleable__content pre {margin: 0.2em;color: black;border-radius: 0.25em;background-color: #f0f8ff;}#sk-container-id-1 input.sk-toggleable__control:checked~div.sk-toggleable__content {max-height: 200px;max-width: 100%;overflow: auto;}#sk-container-id-1 input.sk-toggleable__control:checked~label.sk-toggleable__label-arrow:before {content: \"▾\";}#sk-container-id-1 div.sk-estimator input.sk-toggleable__control:checked~label.sk-toggleable__label {background-color: #d4ebff;}#sk-container-id-1 div.sk-label input.sk-toggleable__control:checked~label.sk-toggleable__label {background-color: #d4ebff;}#sk-container-id-1 input.sk-hidden--visually {border: 0;clip: rect(1px 1px 1px 1px);clip: rect(1px, 1px, 1px, 1px);height: 1px;margin: -1px;overflow: hidden;padding: 0;position: absolute;width: 1px;}#sk-container-id-1 div.sk-estimator {font-family: monospace;background-color: #f0f8ff;border: 1px dotted black;border-radius: 0.25em;box-sizing: border-box;margin-bottom: 0.5em;}#sk-container-id-1 div.sk-estimator:hover {background-color: #d4ebff;}#sk-container-id-1 div.sk-parallel-item::after {content: \"\";width: 100%;border-bottom: 1px solid gray;flex-grow: 1;}#sk-container-id-1 div.sk-label:hover label.sk-toggleable__label {background-color: #d4ebff;}#sk-container-id-1 div.sk-serial::before {content: \"\";position: absolute;border-left: 1px solid gray;box-sizing: border-box;top: 0;bottom: 0;left: 50%;z-index: 0;}#sk-container-id-1 div.sk-serial {display: flex;flex-direction: column;align-items: center;background-color: white;padding-right: 0.2em;padding-left: 0.2em;position: relative;}#sk-container-id-1 div.sk-item {position: relative;z-index: 1;}#sk-container-id-1 div.sk-parallel {display: flex;align-items: stretch;justify-content: center;background-color: white;position: relative;}#sk-container-id-1 div.sk-item::before, #sk-container-id-1 div.sk-parallel-item::before {content: \"\";position: absolute;border-left: 1px solid gray;box-sizing: border-box;top: 0;bottom: 0;left: 50%;z-index: -1;}#sk-container-id-1 div.sk-parallel-item {display: flex;flex-direction: column;z-index: 1;position: relative;background-color: white;}#sk-container-id-1 div.sk-parallel-item:first-child::after {align-self: flex-end;width: 50%;}#sk-container-id-1 div.sk-parallel-item:last-child::after {align-self: flex-start;width: 50%;}#sk-container-id-1 div.sk-parallel-item:only-child::after {width: 0;}#sk-container-id-1 div.sk-dashed-wrapped {border: 1px dashed gray;margin: 0 0.4em 0.5em 0.4em;box-sizing: border-box;padding-bottom: 0.4em;background-color: white;}#sk-container-id-1 div.sk-label label {font-family: monospace;font-weight: bold;display: inline-block;line-height: 1.2em;}#sk-container-id-1 div.sk-label-container {text-align: center;}#sk-container-id-1 div.sk-container {/* jupyter's `normalize.less` sets `[hidden] { display: none; }` but bootstrap.min.css set `[hidden] { display: none !important; }` so we also need the `!important` here to be able to override the default hidden behavior on the sphinx rendered scikit-learn.org. See: https://github.com/scikit-learn/scikit-learn/issues/21755 */display: inline-block !important;position: relative;}#sk-container-id-1 div.sk-text-repr-fallback {display: none;}</style><div id=\"sk-container-id-1\" class=\"sk-top-container\"><div class=\"sk-text-repr-fallback\"><pre>KNeighborsClassifier()</pre><b>In a Jupyter environment, please rerun this cell to show the HTML representation or trust the notebook. <br />On GitHub, the HTML representation is unable to render, please try loading this page with nbviewer.org.</b></div><div class=\"sk-container\" hidden><div class=\"sk-item\"><div class=\"sk-estimator sk-toggleable\"><input class=\"sk-toggleable__control sk-hidden--visually\" id=\"sk-estimator-id-1\" type=\"checkbox\" checked><label for=\"sk-estimator-id-1\" class=\"sk-toggleable__label sk-toggleable__label-arrow\">KNeighborsClassifier</label><div class=\"sk-toggleable__content\"><pre>KNeighborsClassifier()</pre></div></div></div></div></div>"
      ],
      "text/plain": [
       "KNeighborsClassifier()"
      ]
     },
     "execution_count": 11,
     "metadata": {},
     "output_type": "execute_result"
    }
   ],
   "source": [
    "#model\n",
    "knn_model = KNeighborsClassifier(n_neighbors=5)\n",
    "\n",
    "# model training\n",
    "knn_model.fit(X_train,y_train.values.ravel())"
   ]
  },
  {
   "cell_type": "code",
   "execution_count": 12,
   "metadata": {
    "ExecuteTime": {
     "end_time": "2022-09-21T22:19:01.936824Z",
     "start_time": "2022-09-21T22:18:28.479247Z"
    },
    "cell_id": "00018-73123b44-fc09-4483-84e1-8c67af5f6f3a",
    "deepnote_cell_height": 147.60000610351562,
    "deepnote_cell_type": "code",
    "deepnote_to_be_reexecuted": false,
    "execution_millis": 25512,
    "execution_start": 1663075329189,
    "source_hash": "e479a2c4"
   },
   "outputs": [],
   "source": [
    "#model prediction proba - poder de generalizção\n",
    "yhat_knn_proba = knn_model.predict_proba( x_val )\n",
    "\n",
    "#model prediction - poder de generalizção\n",
    "yhat_knn_class = knn_model.predict( x_val )"
   ]
  },
  {
   "cell_type": "code",
   "execution_count": 13,
   "metadata": {
    "ExecuteTime": {
     "end_time": "2022-09-21T22:19:02.995186Z",
     "start_time": "2022-09-21T22:19:01.938759Z"
    },
    "cell_id": "00019-287ff93b-6fce-49eb-97a2-4de2942ff0ba",
    "deepnote_cell_height": 128.39999389648438,
    "deepnote_cell_type": "code",
    "deepnote_output_heights": [
     1
    ],
    "deepnote_to_be_reexecuted": false,
    "execution_millis": 1621,
    "execution_start": 1663075354714,
    "scrolled": false,
    "source_hash": "4922d075"
   },
   "outputs": [
    {
     "data": {
      "image/png": "[encoded data removed]",
      "text/plain": [
       "<Figure size 1800x864 with 2 Axes>"
      ]
     },
     "metadata": {},
     "output_type": "display_data"
    }
   ],
   "source": [
    "fig ,ax = plt.subplots(1,2)\n",
    "skplt.metrics.plot_cumulative_gain(y_val,yhat_knn_proba,ax=ax[0]);\n",
    "skplt.metrics.plot_lift_curve(y_val,yhat_knn_proba,ax=ax[1]);"
   ]
  },
  {
   "cell_type": "markdown",
   "metadata": {
    "cell_id": "00020-ee979896-bb38-4467-b22e-8003e0d9b462",
    "deepnote_cell_height": 69.60000610351562,
    "deepnote_cell_type": "markdown"
   },
   "source": [
    "## Linear model"
   ]
  },
  {
   "cell_type": "code",
   "execution_count": 14,
   "metadata": {
    "ExecuteTime": {
     "end_time": "2022-09-21T22:19:10.631345Z",
     "start_time": "2022-09-21T22:19:03.011142Z"
    },
    "cell_id": "00021-f4bab372-bb15-4b26-a4de-f6769167124c",
    "deepnote_cell_height": 168.39999389648438,
    "deepnote_cell_type": "code",
    "deepnote_output_heights": [
     59
    ],
    "deepnote_to_be_reexecuted": false,
    "execution_millis": 3,
    "execution_start": 1663115839990,
    "source_hash": "d481df20"
   },
   "outputs": [
    {
     "data": {
      "text/html": [
       "<style>#sk-container-id-2 {color: black;background-color: white;}#sk-container-id-2 pre{padding: 0;}#sk-container-id-2 div.sk-toggleable {background-color: white;}#sk-container-id-2 label.sk-toggleable__label {cursor: pointer;display: block;width: 100%;margin-bottom: 0;padding: 0.3em;box-sizing: border-box;text-align: center;}#sk-container-id-2 label.sk-toggleable__label-arrow:before {content: \"▸\";float: left;margin-right: 0.25em;color: #696969;}#sk-container-id-2 label.sk-toggleable__label-arrow:hover:before {color: black;}#sk-container-id-2 div.sk-estimator:hover label.sk-toggleable__label-arrow:before {color: black;}#sk-container-id-2 div.sk-toggleable__content {max-height: 0;max-width: 0;overflow: hidden;text-align: left;background-color: #f0f8ff;}#sk-container-id-2 div.sk-toggleable__content pre {margin: 0.2em;color: black;border-radius: 0.25em;background-color: #f0f8ff;}#sk-container-id-2 input.sk-toggleable__control:checked~div.sk-toggleable__content {max-height: 200px;max-width: 100%;overflow: auto;}#sk-container-id-2 input.sk-toggleable__control:checked~label.sk-toggleable__label-arrow:before {content: \"▾\";}#sk-container-id-2 div.sk-estimator input.sk-toggleable__control:checked~label.sk-toggleable__label {background-color: #d4ebff;}#sk-container-id-2 div.sk-label input.sk-toggleable__control:checked~label.sk-toggleable__label {background-color: #d4ebff;}#sk-container-id-2 input.sk-hidden--visually {border: 0;clip: rect(1px 1px 1px 1px);clip: rect(1px, 1px, 1px, 1px);height: 1px;margin: -1px;overflow: hidden;padding: 0;position: absolute;width: 1px;}#sk-container-id-2 div.sk-estimator {font-family: monospace;background-color: #f0f8ff;border: 1px dotted black;border-radius: 0.25em;box-sizing: border-box;margin-bottom: 0.5em;}#sk-container-id-2 div.sk-estimator:hover {background-color: #d4ebff;}#sk-container-id-2 div.sk-parallel-item::after {content: \"\";width: 100%;border-bottom: 1px solid gray;flex-grow: 1;}#sk-container-id-2 div.sk-label:hover label.sk-toggleable__label {background-color: #d4ebff;}#sk-container-id-2 div.sk-serial::before {content: \"\";position: absolute;border-left: 1px solid gray;box-sizing: border-box;top: 0;bottom: 0;left: 50%;z-index: 0;}#sk-container-id-2 div.sk-serial {display: flex;flex-direction: column;align-items: center;background-color: white;padding-right: 0.2em;padding-left: 0.2em;position: relative;}#sk-container-id-2 div.sk-item {position: relative;z-index: 1;}#sk-container-id-2 div.sk-parallel {display: flex;align-items: stretch;justify-content: center;background-color: white;position: relative;}#sk-container-id-2 div.sk-item::before, #sk-container-id-2 div.sk-parallel-item::before {content: \"\";position: absolute;border-left: 1px solid gray;box-sizing: border-box;top: 0;bottom: 0;left: 50%;z-index: -1;}#sk-container-id-2 div.sk-parallel-item {display: flex;flex-direction: column;z-index: 1;position: relative;background-color: white;}#sk-container-id-2 div.sk-parallel-item:first-child::after {align-self: flex-end;width: 50%;}#sk-container-id-2 div.sk-parallel-item:last-child::after {align-self: flex-start;width: 50%;}#sk-container-id-2 div.sk-parallel-item:only-child::after {width: 0;}#sk-container-id-2 div.sk-dashed-wrapped {border: 1px dashed gray;margin: 0 0.4em 0.5em 0.4em;box-sizing: border-box;padding-bottom: 0.4em;background-color: white;}#sk-container-id-2 div.sk-label label {font-family: monospace;font-weight: bold;display: inline-block;line-height: 1.2em;}#sk-container-id-2 div.sk-label-container {text-align: center;}#sk-container-id-2 div.sk-container {/* jupyter's `normalize.less` sets `[hidden] { display: none; }` but bootstrap.min.css set `[hidden] { display: none !important; }` so we also need the `!important` here to be able to override the default hidden behavior on the sphinx rendered scikit-learn.org. See: https://github.com/scikit-learn/scikit-learn/issues/21755 */display: inline-block !important;position: relative;}#sk-container-id-2 div.sk-text-repr-fallback {display: none;}</style><div id=\"sk-container-id-2\" class=\"sk-top-container\"><div class=\"sk-text-repr-fallback\"><pre>LogisticRegression(n_jobs=-1, random_state=42)</pre><b>In a Jupyter environment, please rerun this cell to show the HTML representation or trust the notebook. <br />On GitHub, the HTML representation is unable to render, please try loading this page with nbviewer.org.</b></div><div class=\"sk-container\" hidden><div class=\"sk-item\"><div class=\"sk-estimator sk-toggleable\"><input class=\"sk-toggleable__control sk-hidden--visually\" id=\"sk-estimator-id-2\" type=\"checkbox\" checked><label for=\"sk-estimator-id-2\" class=\"sk-toggleable__label sk-toggleable__label-arrow\">LogisticRegression</label><div class=\"sk-toggleable__content\"><pre>LogisticRegression(n_jobs=-1, random_state=42)</pre></div></div></div></div></div>"
      ],
      "text/plain": [
       "LogisticRegression(n_jobs=-1, random_state=42)"
      ]
     },
     "execution_count": 14,
     "metadata": {},
     "output_type": "execute_result"
    }
   ],
   "source": [
    "lm_model = lm.LogisticRegression(random_state=42,n_jobs=-1)\n",
    "lm_model.fit(X_train,y_train.values.ravel())"
   ]
  },
  {
   "cell_type": "code",
   "execution_count": 15,
   "metadata": {
    "ExecuteTime": {
     "end_time": "2022-09-21T22:19:10.742132Z",
     "start_time": "2022-09-21T22:19:10.635335Z"
    },
    "cell_id": "00022-3be5e03f-fcad-4558-b5de-952efaf0c41e",
    "deepnote_cell_height": 147.60000610351562,
    "deepnote_cell_type": "code",
    "deepnote_to_be_reexecuted": false,
    "execution_millis": 102,
    "execution_start": 1663075367316,
    "source_hash": "478f3e19"
   },
   "outputs": [],
   "source": [
    "#model prediction proba - poder de generalizção\n",
    "yhat_lm_proba = lm_model.predict_proba( x_val )\n",
    "\n",
    "#model prediction - poder de generalizção\n",
    "yhat_lm_class = lm_model.predict( x_val )"
   ]
  },
  {
   "cell_type": "code",
   "execution_count": 16,
   "metadata": {
    "ExecuteTime": {
     "end_time": "2022-09-21T22:19:11.503056Z",
     "start_time": "2022-09-21T22:19:10.745084Z"
    },
    "cell_id": "00023-f8e2c4a6-d24d-46f3-b32a-7b23f29db642",
    "deepnote_cell_height": 128.39999389648438,
    "deepnote_cell_type": "code",
    "deepnote_output_heights": [
     1
    ],
    "deepnote_to_be_reexecuted": false,
    "execution_millis": 932,
    "execution_start": 1663075367501,
    "scrolled": true,
    "source_hash": "cc604100"
   },
   "outputs": [
    {
     "data": {
      "image/png": "[encoded data removed]",
      "text/plain": [
       "<Figure size 1800x864 with 2 Axes>"
      ]
     },
     "metadata": {},
     "output_type": "display_data"
    }
   ],
   "source": [
    "fig ,ax = plt.subplots(1,2)\n",
    "skplt.metrics.plot_cumulative_gain(y_val,yhat_lm_proba,ax=ax[0]);\n",
    "skplt.metrics.plot_lift_curve(y_val,yhat_lm_proba,ax=ax[1]);"
   ]
  },
  {
   "cell_type": "markdown",
   "metadata": {
    "cell_id": "00024-ca2a8dd8-8310-48f8-999f-6799c50992ac",
    "deepnote_cell_height": 69.60000610351562,
    "deepnote_cell_type": "markdown"
   },
   "source": [
    "## Random forrest classifier"
   ]
  },
  {
   "cell_type": "code",
   "execution_count": 17,
   "metadata": {
    "ExecuteTime": {
     "end_time": "2022-09-21T22:23:33.840722Z",
     "start_time": "2022-09-21T22:19:11.506048Z"
    },
    "cell_id": "00025-57c9c35f-0bae-4a9b-898e-e25b1f58e4c5",
    "deepnote_cell_height": 168.39999389648438,
    "deepnote_cell_type": "code",
    "deepnote_output_heights": [
     59
    ],
    "deepnote_to_be_reexecuted": false,
    "execution_millis": 73481,
    "execution_start": 1663075368252,
    "source_hash": "92259f83"
   },
   "outputs": [
    {
     "data": {
      "text/html": [
       "<style>#sk-container-id-3 {color: black;background-color: white;}#sk-container-id-3 pre{padding: 0;}#sk-container-id-3 div.sk-toggleable {background-color: white;}#sk-container-id-3 label.sk-toggleable__label {cursor: pointer;display: block;width: 100%;margin-bottom: 0;padding: 0.3em;box-sizing: border-box;text-align: center;}#sk-container-id-3 label.sk-toggleable__label-arrow:before {content: \"▸\";float: left;margin-right: 0.25em;color: #696969;}#sk-container-id-3 label.sk-toggleable__label-arrow:hover:before {color: black;}#sk-container-id-3 div.sk-estimator:hover label.sk-toggleable__label-arrow:before {color: black;}#sk-container-id-3 div.sk-toggleable__content {max-height: 0;max-width: 0;overflow: hidden;text-align: left;background-color: #f0f8ff;}#sk-container-id-3 div.sk-toggleable__content pre {margin: 0.2em;color: black;border-radius: 0.25em;background-color: #f0f8ff;}#sk-container-id-3 input.sk-toggleable__control:checked~div.sk-toggleable__content {max-height: 200px;max-width: 100%;overflow: auto;}#sk-container-id-3 input.sk-toggleable__control:checked~label.sk-toggleable__label-arrow:before {content: \"▾\";}#sk-container-id-3 div.sk-estimator input.sk-toggleable__control:checked~label.sk-toggleable__label {background-color: #d4ebff;}#sk-container-id-3 div.sk-label input.sk-toggleable__control:checked~label.sk-toggleable__label {background-color: #d4ebff;}#sk-container-id-3 input.sk-hidden--visually {border: 0;clip: rect(1px 1px 1px 1px);clip: rect(1px, 1px, 1px, 1px);height: 1px;margin: -1px;overflow: hidden;padding: 0;position: absolute;width: 1px;}#sk-container-id-3 div.sk-estimator {font-family: monospace;background-color: #f0f8ff;border: 1px dotted black;border-radius: 0.25em;box-sizing: border-box;margin-bottom: 0.5em;}#sk-container-id-3 div.sk-estimator:hover {background-color: #d4ebff;}#sk-container-id-3 div.sk-parallel-item::after {content: \"\";width: 100%;border-bottom: 1px solid gray;flex-grow: 1;}#sk-container-id-3 div.sk-label:hover label.sk-toggleable__label {background-color: #d4ebff;}#sk-container-id-3 div.sk-serial::before {content: \"\";position: absolute;border-left: 1px solid gray;box-sizing: border-box;top: 0;bottom: 0;left: 50%;z-index: 0;}#sk-container-id-3 div.sk-serial {display: flex;flex-direction: column;align-items: center;background-color: white;padding-right: 0.2em;padding-left: 0.2em;position: relative;}#sk-container-id-3 div.sk-item {position: relative;z-index: 1;}#sk-container-id-3 div.sk-parallel {display: flex;align-items: stretch;justify-content: center;background-color: white;position: relative;}#sk-container-id-3 div.sk-item::before, #sk-container-id-3 div.sk-parallel-item::before {content: \"\";position: absolute;border-left: 1px solid gray;box-sizing: border-box;top: 0;bottom: 0;left: 50%;z-index: -1;}#sk-container-id-3 div.sk-parallel-item {display: flex;flex-direction: column;z-index: 1;position: relative;background-color: white;}#sk-container-id-3 div.sk-parallel-item:first-child::after {align-self: flex-end;width: 50%;}#sk-container-id-3 div.sk-parallel-item:last-child::after {align-self: flex-start;width: 50%;}#sk-container-id-3 div.sk-parallel-item:only-child::after {width: 0;}#sk-container-id-3 div.sk-dashed-wrapped {border: 1px dashed gray;margin: 0 0.4em 0.5em 0.4em;box-sizing: border-box;padding-bottom: 0.4em;background-color: white;}#sk-container-id-3 div.sk-label label {font-family: monospace;font-weight: bold;display: inline-block;line-height: 1.2em;}#sk-container-id-3 div.sk-label-container {text-align: center;}#sk-container-id-3 div.sk-container {/* jupyter's `normalize.less` sets `[hidden] { display: none; }` but bootstrap.min.css set `[hidden] { display: none !important; }` so we also need the `!important` here to be able to override the default hidden behavior on the sphinx rendered scikit-learn.org. See: https://github.com/scikit-learn/scikit-learn/issues/21755 */display: inline-block !important;position: relative;}#sk-container-id-3 div.sk-text-repr-fallback {display: none;}</style><div id=\"sk-container-id-3\" class=\"sk-top-container\"><div class=\"sk-text-repr-fallback\"><pre>RandomForestClassifier(n_estimators=1000, n_jobs=-1, random_state=42)</pre><b>In a Jupyter environment, please rerun this cell to show the HTML representation or trust the notebook. <br />On GitHub, the HTML representation is unable to render, please try loading this page with nbviewer.org.</b></div><div class=\"sk-container\" hidden><div class=\"sk-item\"><div class=\"sk-estimator sk-toggleable\"><input class=\"sk-toggleable__control sk-hidden--visually\" id=\"sk-estimator-id-3\" type=\"checkbox\" checked><label for=\"sk-estimator-id-3\" class=\"sk-toggleable__label sk-toggleable__label-arrow\">RandomForestClassifier</label><div class=\"sk-toggleable__content\"><pre>RandomForestClassifier(n_estimators=1000, n_jobs=-1, random_state=42)</pre></div></div></div></div></div>"
      ],
      "text/plain": [
       "RandomForestClassifier(n_estimators=1000, n_jobs=-1, random_state=42)"
      ]
     },
     "execution_count": 17,
     "metadata": {},
     "output_type": "execute_result"
    }
   ],
   "source": [
    "rf_model = RandomForestClassifier(n_estimators=1000,random_state=42,n_jobs=-1)\n",
    "rf_model.fit(X_train,y_train.values.ravel())"
   ]
  },
  {
   "cell_type": "code",
   "execution_count": 18,
   "metadata": {
    "ExecuteTime": {
     "end_time": "2022-09-21T22:24:44.503523Z",
     "start_time": "2022-09-21T22:23:33.852690Z"
    },
    "cell_id": "00026-f232cb90-923d-453b-9727-a2f224179aa3",
    "deepnote_cell_height": 147.60000610351562,
    "deepnote_cell_type": "code",
    "deepnote_to_be_reexecuted": false,
    "execution_millis": 18219,
    "execution_start": 1663075441732,
    "source_hash": "5bb0233b"
   },
   "outputs": [],
   "source": [
    "#model prediction proba - poder de generalizção\n",
    "yhat_rf_proba = rf_model.predict_proba( x_val )\n",
    "\n",
    "#model prediction - poder de generalizção\n",
    "yhat_rf_class = rf_model.predict( x_val )"
   ]
  },
  {
   "cell_type": "code",
   "execution_count": 19,
   "metadata": {
    "ExecuteTime": {
     "end_time": "2022-09-21T22:24:46.040513Z",
     "start_time": "2022-09-21T22:24:44.519481Z"
    },
    "cell_id": "00027-fd53a067-8226-4d8a-94f7-400b7890c90d",
    "deepnote_cell_height": 128.39999389648438,
    "deepnote_cell_type": "code",
    "deepnote_output_heights": [
     1
    ],
    "deepnote_to_be_reexecuted": false,
    "execution_millis": 1539,
    "execution_start": 1663075459955,
    "scrolled": true,
    "source_hash": "d0650421"
   },
   "outputs": [
    {
     "data": {
      "image/png": "[encoded data removed]",
      "text/plain": [
       "<Figure size 1800x864 with 2 Axes>"
      ]
     },
     "metadata": {},
     "output_type": "display_data"
    }
   ],
   "source": [
    "fig ,ax = plt.subplots(1,2)\n",
    "skplt.metrics.plot_cumulative_gain(y_val,yhat_rf_proba,ax=ax[0]);\n",
    "skplt.metrics.plot_lift_curve(y_val,yhat_rf_proba,ax=ax[1]);"
   ]
  },
  {
   "cell_type": "markdown",
   "metadata": {
    "cell_id": "00028-e34935f1-dd41-4aa6-8221-7a8391895f6c",
    "deepnote_cell_height": 69.60000610351562,
    "deepnote_cell_type": "markdown"
   },
   "source": [
    "## Extratree classifier"
   ]
  },
  {
   "cell_type": "code",
   "execution_count": 20,
   "metadata": {
    "ExecuteTime": {
     "end_time": "2022-09-21T22:28:15.581174Z",
     "start_time": "2022-09-21T22:24:46.046497Z"
    },
    "cell_id": "00029-e590be43-30d2-4729-9575-edf6e2e66bb7",
    "deepnote_cell_height": 187.39999389648438,
    "deepnote_cell_type": "code",
    "deepnote_output_heights": [
     78
    ],
    "deepnote_to_be_reexecuted": false,
    "execution_millis": 7976,
    "execution_start": 1663075460627,
    "source_hash": "808783ba"
   },
   "outputs": [
    {
     "data": {
      "text/html": [
       "<style>#sk-container-id-4 {color: black;background-color: white;}#sk-container-id-4 pre{padding: 0;}#sk-container-id-4 div.sk-toggleable {background-color: white;}#sk-container-id-4 label.sk-toggleable__label {cursor: pointer;display: block;width: 100%;margin-bottom: 0;padding: 0.3em;box-sizing: border-box;text-align: center;}#sk-container-id-4 label.sk-toggleable__label-arrow:before {content: \"▸\";float: left;margin-right: 0.25em;color: #696969;}#sk-container-id-4 label.sk-toggleable__label-arrow:hover:before {color: black;}#sk-container-id-4 div.sk-estimator:hover label.sk-toggleable__label-arrow:before {color: black;}#sk-container-id-4 div.sk-toggleable__content {max-height: 0;max-width: 0;overflow: hidden;text-align: left;background-color: #f0f8ff;}#sk-container-id-4 div.sk-toggleable__content pre {margin: 0.2em;color: black;border-radius: 0.25em;background-color: #f0f8ff;}#sk-container-id-4 input.sk-toggleable__control:checked~div.sk-toggleable__content {max-height: 200px;max-width: 100%;overflow: auto;}#sk-container-id-4 input.sk-toggleable__control:checked~label.sk-toggleable__label-arrow:before {content: \"▾\";}#sk-container-id-4 div.sk-estimator input.sk-toggleable__control:checked~label.sk-toggleable__label {background-color: #d4ebff;}#sk-container-id-4 div.sk-label input.sk-toggleable__control:checked~label.sk-toggleable__label {background-color: #d4ebff;}#sk-container-id-4 input.sk-hidden--visually {border: 0;clip: rect(1px 1px 1px 1px);clip: rect(1px, 1px, 1px, 1px);height: 1px;margin: -1px;overflow: hidden;padding: 0;position: absolute;width: 1px;}#sk-container-id-4 div.sk-estimator {font-family: monospace;background-color: #f0f8ff;border: 1px dotted black;border-radius: 0.25em;box-sizing: border-box;margin-bottom: 0.5em;}#sk-container-id-4 div.sk-estimator:hover {background-color: #d4ebff;}#sk-container-id-4 div.sk-parallel-item::after {content: \"\";width: 100%;border-bottom: 1px solid gray;flex-grow: 1;}#sk-container-id-4 div.sk-label:hover label.sk-toggleable__label {background-color: #d4ebff;}#sk-container-id-4 div.sk-serial::before {content: \"\";position: absolute;border-left: 1px solid gray;box-sizing: border-box;top: 0;bottom: 0;left: 50%;z-index: 0;}#sk-container-id-4 div.sk-serial {display: flex;flex-direction: column;align-items: center;background-color: white;padding-right: 0.2em;padding-left: 0.2em;position: relative;}#sk-container-id-4 div.sk-item {position: relative;z-index: 1;}#sk-container-id-4 div.sk-parallel {display: flex;align-items: stretch;justify-content: center;background-color: white;position: relative;}#sk-container-id-4 div.sk-item::before, #sk-container-id-4 div.sk-parallel-item::before {content: \"\";position: absolute;border-left: 1px solid gray;box-sizing: border-box;top: 0;bottom: 0;left: 50%;z-index: -1;}#sk-container-id-4 div.sk-parallel-item {display: flex;flex-direction: column;z-index: 1;position: relative;background-color: white;}#sk-container-id-4 div.sk-parallel-item:first-child::after {align-self: flex-end;width: 50%;}#sk-container-id-4 div.sk-parallel-item:last-child::after {align-self: flex-start;width: 50%;}#sk-container-id-4 div.sk-parallel-item:only-child::after {width: 0;}#sk-container-id-4 div.sk-dashed-wrapped {border: 1px dashed gray;margin: 0 0.4em 0.5em 0.4em;box-sizing: border-box;padding-bottom: 0.4em;background-color: white;}#sk-container-id-4 div.sk-label label {font-family: monospace;font-weight: bold;display: inline-block;line-height: 1.2em;}#sk-container-id-4 div.sk-label-container {text-align: center;}#sk-container-id-4 div.sk-container {/* jupyter's `normalize.less` sets `[hidden] { display: none; }` but bootstrap.min.css set `[hidden] { display: none !important; }` so we also need the `!important` here to be able to override the default hidden behavior on the sphinx rendered scikit-learn.org. See: https://github.com/scikit-learn/scikit-learn/issues/21755 */display: inline-block !important;position: relative;}#sk-container-id-4 div.sk-text-repr-fallback {display: none;}</style><div id=\"sk-container-id-4\" class=\"sk-top-container\"><div class=\"sk-text-repr-fallback\"><pre>ExtraTreesClassifier(n_estimators=1000, n_jobs=-1, random_state=42)</pre><b>In a Jupyter environment, please rerun this cell to show the HTML representation or trust the notebook. <br />On GitHub, the HTML representation is unable to render, please try loading this page with nbviewer.org.</b></div><div class=\"sk-container\" hidden><div class=\"sk-item\"><div class=\"sk-estimator sk-toggleable\"><input class=\"sk-toggleable__control sk-hidden--visually\" id=\"sk-estimator-id-4\" type=\"checkbox\" checked><label for=\"sk-estimator-id-4\" class=\"sk-toggleable__label sk-toggleable__label-arrow\">ExtraTreesClassifier</label><div class=\"sk-toggleable__content\"><pre>ExtraTreesClassifier(n_estimators=1000, n_jobs=-1, random_state=42)</pre></div></div></div></div></div>"
      ],
      "text/plain": [
       "ExtraTreesClassifier(n_estimators=1000, n_jobs=-1, random_state=42)"
      ]
     },
     "execution_count": 20,
     "metadata": {},
     "output_type": "execute_result"
    }
   ],
   "source": [
    "et_model = ExtraTreesClassifier(n_estimators=1000,random_state=42,n_jobs=-1)\n",
    "et_model.fit(X_train,y_train.values.ravel())"
   ]
  },
  {
   "cell_type": "code",
   "execution_count": 21,
   "metadata": {
    "ExecuteTime": {
     "end_time": "2022-09-21T22:33:16.382583Z",
     "start_time": "2022-09-21T22:28:15.595136Z"
    },
    "cell_id": "00030-7d26fbc0-c61f-4321-a96b-e8a0ce64c60c",
    "deepnote_cell_height": 147.60000610351562,
    "deepnote_cell_type": "code",
    "deepnote_to_be_reexecuted": false,
    "execution_millis": 2246,
    "execution_start": 1663075468610,
    "source_hash": "dcc23347"
   },
   "outputs": [],
   "source": [
    "#model prediction proba - poder de generalizção\n",
    "yhat_et_proba = et_model.predict_proba( x_val )\n",
    "\n",
    "#model prediction - poder de generalizção\n",
    "yhat_et_class = et_model.predict( x_val )"
   ]
  },
  {
   "cell_type": "code",
   "execution_count": 22,
   "metadata": {
    "ExecuteTime": {
     "end_time": "2022-09-21T22:33:18.532374Z",
     "start_time": "2022-09-21T22:33:16.439188Z"
    },
    "cell_id": "00031-5b456b84-3792-42d6-8c91-c99e792bf168",
    "deepnote_cell_height": 128.39999389648438,
    "deepnote_cell_type": "code",
    "deepnote_output_heights": [
     1
    ],
    "deepnote_to_be_reexecuted": false,
    "execution_millis": 664,
    "execution_start": 1663075470860,
    "scrolled": true,
    "source_hash": "d18b4278"
   },
   "outputs": [
    {
     "data": {
      "image/png": "[encoded data removed]",
      "text/plain": [
       "<Figure size 1800x864 with 2 Axes>"
      ]
     },
     "metadata": {},
     "output_type": "display_data"
    }
   ],
   "source": [
    "fig ,ax = plt.subplots(1,2)\n",
    "skplt.metrics.plot_cumulative_gain(y_val,yhat_et_proba,ax=ax[0]);\n",
    "skplt.metrics.plot_lift_curve(y_val,yhat_et_proba,ax=ax[1]);"
   ]
  },
  {
   "cell_type": "markdown",
   "metadata": {
    "cell_id": "00032-05e3d8ce-6628-4b64-8481-e513b51e0439",
    "deepnote_cell_height": 69.60000610351562,
    "deepnote_cell_type": "markdown"
   },
   "source": [
    "## XGBoost"
   ]
  },
  {
   "cell_type": "code",
   "execution_count": 23,
   "metadata": {
    "ExecuteTime": {
     "end_time": "2022-09-21T22:36:33.897206Z",
     "start_time": "2022-09-21T22:33:18.597781Z"
    },
    "cell_id": "00033-51b3229f-cf51-4b33-a8d2-4333b9435c2e",
    "deepnote_cell_height": 165.60000610351562,
    "deepnote_cell_type": "code",
    "deepnote_to_be_reexecuted": false,
    "execution_millis": 339660,
    "execution_start": 1663075471521,
    "source_hash": "57151775"
   },
   "outputs": [],
   "source": [
    "xgb_model = xgb.XGBClassifier(n_estimators=1000,seed=42).fit(X_train,y_train.values.ravel())"
   ]
  },
  {
   "cell_type": "code",
   "execution_count": 24,
   "metadata": {
    "ExecuteTime": {
     "end_time": "2022-09-21T22:36:36.823359Z",
     "start_time": "2022-09-21T22:36:33.906183Z"
    },
    "cell_id": "00034-2cda73e1-1a7f-487b-8561-c94ba23f24d7",
    "deepnote_cell_height": 147.60000610351562,
    "deepnote_cell_type": "code",
    "deepnote_to_be_reexecuted": false,
    "execution_millis": 17732,
    "execution_start": 1663075811185,
    "source_hash": "d5fa6e95"
   },
   "outputs": [],
   "source": [
    "#model prediction proba - poder de generalizção\n",
    "yhat_xgb_proba = xgb_model.predict_proba( x_val )\n",
    "\n",
    "#model prediction - poder de generalizção\n",
    "yhat_xgb_class = xgb_model.predict( x_val )"
   ]
  },
  {
   "cell_type": "code",
   "execution_count": 25,
   "metadata": {
    "ExecuteTime": {
     "end_time": "2022-09-21T22:36:37.721522Z",
     "start_time": "2022-09-21T22:36:36.827348Z"
    },
    "cell_id": "00035-4ecf6a99-50af-4a0c-bd4e-61325abf311c",
    "deepnote_cell_height": 128.39999389648438,
    "deepnote_cell_type": "code",
    "deepnote_output_heights": [
     1
    ],
    "deepnote_to_be_reexecuted": false,
    "execution_millis": 829,
    "execution_start": 1663075828920,
    "source_hash": "221f8686"
   },
   "outputs": [
    {
     "data": {
      "image/png": "[encoded data removed]",
      "text/plain": [
       "<Figure size 1800x864 with 2 Axes>"
      ]
     },
     "metadata": {},
     "output_type": "display_data"
    }
   ],
   "source": [
    "fig ,ax = plt.subplots(1,2)\n",
    "skplt.metrics.plot_cumulative_gain(y_val,yhat_xgb_proba,ax=ax[0]);\n",
    "skplt.metrics.plot_lift_curve(y_val,yhat_xgb_proba,ax=ax[1]);"
   ]
  },
  {
   "cell_type": "markdown",
   "metadata": {
    "cell_id": "00036-e6b2d869-4189-43cf-8f7e-6c63eee6eba7",
    "deepnote_cell_height": 81.60000610351562,
    "deepnote_cell_type": "markdown"
   },
   "source": [
    "# Model performace "
   ]
  },
  {
   "cell_type": "code",
   "execution_count": 26,
   "metadata": {
    "ExecuteTime": {
     "end_time": "2022-09-21T22:36:37.752653Z",
     "start_time": "2022-09-21T22:36:37.724506Z"
    },
    "cell_id": "00037-ec461c44-3aac-4dc3-9f36-550ab0bb9f98",
    "deepnote_cell_height": 75.60000610351562,
    "deepnote_cell_type": "code",
    "deepnote_to_be_reexecuted": false,
    "execution_millis": 19,
    "execution_start": 1663075829696,
    "source_hash": "5100a059"
   },
   "outputs": [],
   "source": [
    "clients = 20000"
   ]
  },
  {
   "cell_type": "markdown",
   "metadata": {
    "cell_id": "00038-0f6c4694-3c8c-4bdd-bf62-e373191bfd4e",
    "deepnote_cell_height": 69.60000610351562,
    "deepnote_cell_type": "markdown"
   },
   "source": [
    "## KNN"
   ]
  },
  {
   "cell_type": "code",
   "execution_count": 27,
   "metadata": {
    "ExecuteTime": {
     "end_time": "2022-09-21T22:36:37.878464Z",
     "start_time": "2022-09-21T22:36:37.757640Z"
    },
    "cell_id": "00039-5c151074-e16d-42d9-96a7-69a4ee7c2be3",
    "deepnote_cell_height": 75.60000610351562,
    "deepnote_cell_type": "code",
    "deepnote_to_be_reexecuted": false,
    "execution_millis": 0,
    "execution_start": 1663075829716,
    "source_hash": "62e7a121"
   },
   "outputs": [],
   "source": [
    "knn_df = val.copy()"
   ]
  },
  {
   "cell_type": "code",
   "execution_count": 28,
   "metadata": {
    "ExecuteTime": {
     "end_time": "2022-09-21T22:36:38.067788Z",
     "start_time": "2022-09-21T22:36:37.884446Z"
    },
    "cell_id": "00040-7e8456a4-922d-489f-81b0-ec1da174bbac",
    "deepnote_cell_height": 111.60000610351562,
    "deepnote_cell_type": "code",
    "deepnote_to_be_reexecuted": false,
    "execution_millis": 37,
    "execution_start": 1663075829721,
    "source_hash": "c91651cb"
   },
   "outputs": [],
   "source": [
    "knn_df['score_knn'] = yhat_knn_proba[:,1].tolist()\n",
    "# sorte by score\n",
    "knn_df = knn_df.sort_values('score_knn',ascending=False)"
   ]
  },
  {
   "cell_type": "code",
   "execution_count": 29,
   "metadata": {
    "ExecuteTime": {
     "end_time": "2022-09-21T22:36:38.208594Z",
     "start_time": "2022-09-21T22:36:38.070782Z"
    },
    "cell_id": "00041-e8751d43-0672-4296-9375-d4fd533622a1",
    "deepnote_cell_height": 266.3999938964844,
    "deepnote_cell_type": "code",
    "deepnote_output_heights": [
     175
    ],
    "deepnote_to_be_reexecuted": false,
    "execution_millis": 65,
    "execution_start": 1663075829763,
    "source_hash": "241cdc53"
   },
   "outputs": [
    {
     "data": {
      "text/html": [
       "<div>\n",
       "<style scoped>\n",
       "    .dataframe tbody tr th:only-of-type {\n",
       "        vertical-align: middle;\n",
       "    }\n",
       "\n",
       "    .dataframe tbody tr th {\n",
       "        vertical-align: top;\n",
       "    }\n",
       "\n",
       "    .dataframe thead th {\n",
       "        text-align: right;\n",
       "    }\n",
       "</style>\n",
       "<table border=\"1\" class=\"dataframe\">\n",
       "  <thead>\n",
       "    <tr style=\"text-align: right;\">\n",
       "      <th></th>\n",
       "      <th>id</th>\n",
       "      <th>age</th>\n",
       "      <th>region_code</th>\n",
       "      <th>policy_sales_channel</th>\n",
       "      <th>previously_insured</th>\n",
       "      <th>vintage</th>\n",
       "      <th>vehicle_age</th>\n",
       "      <th>vehicle_damage</th>\n",
       "      <th>annual_premium</th>\n",
       "      <th>response</th>\n",
       "      <th>score_knn</th>\n",
       "    </tr>\n",
       "  </thead>\n",
       "  <tbody>\n",
       "    <tr>\n",
       "      <th>84617</th>\n",
       "      <td>84618</td>\n",
       "      <td>0.353846</td>\n",
       "      <td>45.0</td>\n",
       "      <td>124.0</td>\n",
       "      <td>0</td>\n",
       "      <td>0.875433</td>\n",
       "      <td>2</td>\n",
       "      <td>1</td>\n",
       "      <td>-0.354752</td>\n",
       "      <td>0</td>\n",
       "      <td>1.0</td>\n",
       "    </tr>\n",
       "    <tr>\n",
       "      <th>80408</th>\n",
       "      <td>80409</td>\n",
       "      <td>0.246154</td>\n",
       "      <td>28.0</td>\n",
       "      <td>154.0</td>\n",
       "      <td>0</td>\n",
       "      <td>0.346021</td>\n",
       "      <td>2</td>\n",
       "      <td>1</td>\n",
       "      <td>-0.172623</td>\n",
       "      <td>1</td>\n",
       "      <td>1.0</td>\n",
       "    </tr>\n",
       "    <tr>\n",
       "      <th>95802</th>\n",
       "      <td>95803</td>\n",
       "      <td>0.215385</td>\n",
       "      <td>28.0</td>\n",
       "      <td>122.0</td>\n",
       "      <td>0</td>\n",
       "      <td>0.778547</td>\n",
       "      <td>2</td>\n",
       "      <td>1</td>\n",
       "      <td>0.983296</td>\n",
       "      <td>0</td>\n",
       "      <td>1.0</td>\n",
       "    </tr>\n",
       "    <tr>\n",
       "      <th>240597</th>\n",
       "      <td>240598</td>\n",
       "      <td>0.461538</td>\n",
       "      <td>28.0</td>\n",
       "      <td>124.0</td>\n",
       "      <td>0</td>\n",
       "      <td>0.283737</td>\n",
       "      <td>3</td>\n",
       "      <td>1</td>\n",
       "      <td>1.138004</td>\n",
       "      <td>0</td>\n",
       "      <td>1.0</td>\n",
       "    </tr>\n",
       "    <tr>\n",
       "      <th>202167</th>\n",
       "      <td>202168</td>\n",
       "      <td>0.153846</td>\n",
       "      <td>28.0</td>\n",
       "      <td>124.0</td>\n",
       "      <td>0</td>\n",
       "      <td>0.006920</td>\n",
       "      <td>2</td>\n",
       "      <td>1</td>\n",
       "      <td>-0.331862</td>\n",
       "      <td>1</td>\n",
       "      <td>1.0</td>\n",
       "    </tr>\n",
       "  </tbody>\n",
       "</table>\n",
       "</div>"
      ],
      "text/plain": [
       "            id       age  region_code  policy_sales_channel  \\\n",
       "84617    84618  0.353846         45.0                 124.0   \n",
       "80408    80409  0.246154         28.0                 154.0   \n",
       "95802    95803  0.215385         28.0                 122.0   \n",
       "240597  240598  0.461538         28.0                 124.0   \n",
       "202167  202168  0.153846         28.0                 124.0   \n",
       "\n",
       "        previously_insured   vintage  vehicle_age  vehicle_damage  \\\n",
       "84617                    0  0.875433            2               1   \n",
       "80408                    0  0.346021            2               1   \n",
       "95802                    0  0.778547            2               1   \n",
       "240597                   0  0.283737            3               1   \n",
       "202167                   0  0.006920            2               1   \n",
       "\n",
       "        annual_premium  response  score_knn  \n",
       "84617        -0.354752         0        1.0  \n",
       "80408        -0.172623         1        1.0  \n",
       "95802         0.983296         0        1.0  \n",
       "240597        1.138004         0        1.0  \n",
       "202167       -0.331862         1        1.0  "
      ]
     },
     "execution_count": 29,
     "metadata": {},
     "output_type": "execute_result"
    }
   ],
   "source": [
    "knn_df.head()"
   ]
  },
  {
   "cell_type": "code",
   "execution_count": 30,
   "metadata": {
    "ExecuteTime": {
     "end_time": "2022-09-21T22:36:38.850368Z",
     "start_time": "2022-09-21T22:36:38.214577Z"
    },
    "cell_id": "00042-a4d1060d-fe1e-40e6-8483-840387e9ff97",
    "deepnote_cell_height": 75.60000610351562,
    "deepnote_cell_type": "code",
    "deepnote_to_be_reexecuted": false,
    "execution_millis": 92,
    "execution_start": 1663075829826,
    "source_hash": "cc0a5808"
   },
   "outputs": [],
   "source": [
    "knn_performace = performace(\"KNN\",knn_df,y_val,yhat_knn_class,clients)"
   ]
  },
  {
   "cell_type": "code",
   "execution_count": 31,
   "metadata": {
    "ExecuteTime": {
     "end_time": "2022-09-21T22:36:38.881974Z",
     "start_time": "2022-09-21T22:36:38.854085Z"
    },
    "cell_id": "00043-522682fb-0425-405c-9e4f-a84fe3f921d2",
    "deepnote_cell_height": 150.39999389648438,
    "deepnote_cell_type": "code",
    "deepnote_output_heights": [
     59
    ],
    "deepnote_to_be_reexecuted": false,
    "execution_millis": 46,
    "execution_start": 1663075829921,
    "source_hash": "2a4b12ec"
   },
   "outputs": [
    {
     "data": {
      "text/html": [
       "<div>\n",
       "<style scoped>\n",
       "    .dataframe tbody tr th:only-of-type {\n",
       "        vertical-align: middle;\n",
       "    }\n",
       "\n",
       "    .dataframe tbody tr th {\n",
       "        vertical-align: top;\n",
       "    }\n",
       "\n",
       "    .dataframe thead th {\n",
       "        text-align: right;\n",
       "    }\n",
       "</style>\n",
       "<table border=\"1\" class=\"dataframe\">\n",
       "  <thead>\n",
       "    <tr style=\"text-align: right;\">\n",
       "      <th></th>\n",
       "      <th>Model Name</th>\n",
       "      <th>Precison</th>\n",
       "      <th>Recall</th>\n",
       "      <th>Balanced_acc</th>\n",
       "      <th>k</th>\n",
       "      <th>Precison at k</th>\n",
       "      <th>Recall at k</th>\n",
       "    </tr>\n",
       "  </thead>\n",
       "  <tbody>\n",
       "    <tr>\n",
       "      <th>0</th>\n",
       "      <td>KNN</td>\n",
       "      <td>0.334086</td>\n",
       "      <td>0.179476</td>\n",
       "      <td>0.564753</td>\n",
       "      <td>20000</td>\n",
       "      <td>0.308635</td>\n",
       "      <td>0.44052</td>\n",
       "    </tr>\n",
       "  </tbody>\n",
       "</table>\n",
       "</div>"
      ],
      "text/plain": [
       "  Model Name  Precison    Recall  Balanced_acc      k  Precison at k  \\\n",
       "0        KNN  0.334086  0.179476      0.564753  20000       0.308635   \n",
       "\n",
       "   Recall at k  \n",
       "0      0.44052  "
      ]
     },
     "execution_count": 31,
     "metadata": {},
     "output_type": "execute_result"
    }
   ],
   "source": [
    "knn_performace"
   ]
  },
  {
   "cell_type": "markdown",
   "metadata": {
    "cell_id": "00044-2f3d17c0-0789-41ee-8b61-32961a365368",
    "deepnote_cell_height": 69.60000610351562,
    "deepnote_cell_type": "markdown"
   },
   "source": [
    "## Linear model"
   ]
  },
  {
   "cell_type": "code",
   "execution_count": 32,
   "metadata": {
    "ExecuteTime": {
     "end_time": "2022-09-21T22:36:38.897929Z",
     "start_time": "2022-09-21T22:36:38.885961Z"
    },
    "cell_id": "00045-39b57d7f-fcf5-40c4-9d68-d0ccd1331b48",
    "deepnote_cell_height": 75.60000610351562,
    "deepnote_cell_type": "code",
    "deepnote_to_be_reexecuted": false,
    "execution_millis": 3,
    "execution_start": 1663075829945,
    "source_hash": "ed4ec854"
   },
   "outputs": [],
   "source": [
    "lm_df = val.copy()"
   ]
  },
  {
   "cell_type": "code",
   "execution_count": 33,
   "metadata": {
    "ExecuteTime": {
     "end_time": "2022-09-21T22:36:39.054609Z",
     "start_time": "2022-09-21T22:36:38.902917Z"
    },
    "cell_id": "00046-c0b26255-6cd8-4bca-adda-37d36242005c",
    "deepnote_cell_height": 111.60000610351562,
    "deepnote_cell_type": "code",
    "deepnote_to_be_reexecuted": false,
    "execution_millis": 234,
    "execution_start": 1663075829950,
    "source_hash": "15c9d82a"
   },
   "outputs": [],
   "source": [
    "lm_df['score_lm'] = yhat_lm_proba[:,1].tolist()\n",
    "# sorte by score\n",
    "lm_df = lm_df.sort_values('score_lm',ascending=False)"
   ]
  },
  {
   "cell_type": "code",
   "execution_count": 34,
   "metadata": {
    "ExecuteTime": {
     "end_time": "2022-09-21T22:36:39.162883Z",
     "start_time": "2022-09-21T22:36:39.131540Z"
    },
    "cell_id": "00047-12820bf5-37f7-4ff5-916c-96ff096c1932",
    "deepnote_cell_height": 266.3999938964844,
    "deepnote_cell_type": "code",
    "deepnote_output_heights": [
     175
    ],
    "deepnote_to_be_reexecuted": false,
    "execution_millis": 38,
    "execution_start": 1663075830184,
    "source_hash": "b43de6bd"
   },
   "outputs": [
    {
     "data": {
      "text/html": [
       "<div>\n",
       "<style scoped>\n",
       "    .dataframe tbody tr th:only-of-type {\n",
       "        vertical-align: middle;\n",
       "    }\n",
       "\n",
       "    .dataframe tbody tr th {\n",
       "        vertical-align: top;\n",
       "    }\n",
       "\n",
       "    .dataframe thead th {\n",
       "        text-align: right;\n",
       "    }\n",
       "</style>\n",
       "<table border=\"1\" class=\"dataframe\">\n",
       "  <thead>\n",
       "    <tr style=\"text-align: right;\">\n",
       "      <th></th>\n",
       "      <th>id</th>\n",
       "      <th>age</th>\n",
       "      <th>region_code</th>\n",
       "      <th>policy_sales_channel</th>\n",
       "      <th>previously_insured</th>\n",
       "      <th>vintage</th>\n",
       "      <th>vehicle_age</th>\n",
       "      <th>vehicle_damage</th>\n",
       "      <th>annual_premium</th>\n",
       "      <th>response</th>\n",
       "      <th>score_lm</th>\n",
       "    </tr>\n",
       "  </thead>\n",
       "  <tbody>\n",
       "    <tr>\n",
       "      <th>330638</th>\n",
       "      <td>330639</td>\n",
       "      <td>0.184615</td>\n",
       "      <td>28.0</td>\n",
       "      <td>26.0</td>\n",
       "      <td>0</td>\n",
       "      <td>0.432526</td>\n",
       "      <td>3</td>\n",
       "      <td>1</td>\n",
       "      <td>1.263025</td>\n",
       "      <td>1</td>\n",
       "      <td>0.538002</td>\n",
       "    </tr>\n",
       "    <tr>\n",
       "      <th>334418</th>\n",
       "      <td>334419</td>\n",
       "      <td>0.184615</td>\n",
       "      <td>28.0</td>\n",
       "      <td>26.0</td>\n",
       "      <td>0</td>\n",
       "      <td>0.141869</td>\n",
       "      <td>3</td>\n",
       "      <td>1</td>\n",
       "      <td>1.118135</td>\n",
       "      <td>0</td>\n",
       "      <td>0.537731</td>\n",
       "    </tr>\n",
       "    <tr>\n",
       "      <th>375383</th>\n",
       "      <td>375384</td>\n",
       "      <td>0.153846</td>\n",
       "      <td>9.0</td>\n",
       "      <td>31.0</td>\n",
       "      <td>0</td>\n",
       "      <td>0.782007</td>\n",
       "      <td>3</td>\n",
       "      <td>1</td>\n",
       "      <td>-1.622853</td>\n",
       "      <td>0</td>\n",
       "      <td>0.536377</td>\n",
       "    </tr>\n",
       "    <tr>\n",
       "      <th>205844</th>\n",
       "      <td>205845</td>\n",
       "      <td>0.169231</td>\n",
       "      <td>1.0</td>\n",
       "      <td>26.0</td>\n",
       "      <td>0</td>\n",
       "      <td>0.380623</td>\n",
       "      <td>3</td>\n",
       "      <td>1</td>\n",
       "      <td>-1.622853</td>\n",
       "      <td>0</td>\n",
       "      <td>0.536344</td>\n",
       "    </tr>\n",
       "    <tr>\n",
       "      <th>237257</th>\n",
       "      <td>237258</td>\n",
       "      <td>0.200000</td>\n",
       "      <td>28.0</td>\n",
       "      <td>26.0</td>\n",
       "      <td>0</td>\n",
       "      <td>0.335640</td>\n",
       "      <td>3</td>\n",
       "      <td>1</td>\n",
       "      <td>1.109537</td>\n",
       "      <td>0</td>\n",
       "      <td>0.532284</td>\n",
       "    </tr>\n",
       "  </tbody>\n",
       "</table>\n",
       "</div>"
      ],
      "text/plain": [
       "            id       age  region_code  policy_sales_channel  \\\n",
       "330638  330639  0.184615         28.0                  26.0   \n",
       "334418  334419  0.184615         28.0                  26.0   \n",
       "375383  375384  0.153846          9.0                  31.0   \n",
       "205844  205845  0.169231          1.0                  26.0   \n",
       "237257  237258  0.200000         28.0                  26.0   \n",
       "\n",
       "        previously_insured   vintage  vehicle_age  vehicle_damage  \\\n",
       "330638                   0  0.432526            3               1   \n",
       "334418                   0  0.141869            3               1   \n",
       "375383                   0  0.782007            3               1   \n",
       "205844                   0  0.380623            3               1   \n",
       "237257                   0  0.335640            3               1   \n",
       "\n",
       "        annual_premium  response  score_lm  \n",
       "330638        1.263025         1  0.538002  \n",
       "334418        1.118135         0  0.537731  \n",
       "375383       -1.622853         0  0.536377  \n",
       "205844       -1.622853         0  0.536344  \n",
       "237257        1.109537         0  0.532284  "
      ]
     },
     "execution_count": 34,
     "metadata": {},
     "output_type": "execute_result"
    }
   ],
   "source": [
    "lm_df.head()"
   ]
  },
  {
   "cell_type": "code",
   "execution_count": 35,
   "metadata": {
    "ExecuteTime": {
     "end_time": "2022-09-21T22:36:39.336456Z",
     "start_time": "2022-09-21T22:36:39.167869Z"
    },
    "cell_id": "00048-3d7d9cfb-03f2-495f-832d-e177a6440a73",
    "deepnote_cell_height": 75.60000610351562,
    "deepnote_cell_type": "code",
    "deepnote_to_be_reexecuted": false,
    "execution_millis": 0,
    "execution_start": 1663075830185,
    "source_hash": "ff62ee21"
   },
   "outputs": [],
   "source": [
    "lm_performace = performace(\"linear model\",lm_df,y_val,yhat_lm_class,clients)"
   ]
  },
  {
   "cell_type": "code",
   "execution_count": 36,
   "metadata": {
    "ExecuteTime": {
     "end_time": "2022-09-21T22:36:39.367375Z",
     "start_time": "2022-09-21T22:36:39.343440Z"
    },
    "cell_id": "00049-08cc8e3d-0ea6-406e-985f-9e0b1ad313bd",
    "deepnote_cell_height": 150.39999389648438,
    "deepnote_cell_type": "code",
    "deepnote_output_heights": [
     59
    ],
    "deepnote_to_be_reexecuted": false,
    "execution_millis": 39,
    "execution_start": 1663075830185,
    "scrolled": true,
    "source_hash": "6f0100eb"
   },
   "outputs": [
    {
     "data": {
      "text/html": [
       "<div>\n",
       "<style scoped>\n",
       "    .dataframe tbody tr th:only-of-type {\n",
       "        vertical-align: middle;\n",
       "    }\n",
       "\n",
       "    .dataframe tbody tr th {\n",
       "        vertical-align: top;\n",
       "    }\n",
       "\n",
       "    .dataframe thead th {\n",
       "        text-align: right;\n",
       "    }\n",
       "</style>\n",
       "<table border=\"1\" class=\"dataframe\">\n",
       "  <thead>\n",
       "    <tr style=\"text-align: right;\">\n",
       "      <th></th>\n",
       "      <th>Model Name</th>\n",
       "      <th>Precison</th>\n",
       "      <th>Recall</th>\n",
       "      <th>Balanced_acc</th>\n",
       "      <th>k</th>\n",
       "      <th>Precison at k</th>\n",
       "      <th>Recall at k</th>\n",
       "    </tr>\n",
       "  </thead>\n",
       "  <tbody>\n",
       "    <tr>\n",
       "      <th>0</th>\n",
       "      <td>linear model</td>\n",
       "      <td>0.430233</td>\n",
       "      <td>0.00264</td>\n",
       "      <td>0.501076</td>\n",
       "      <td>20000</td>\n",
       "      <td>0.331033</td>\n",
       "      <td>0.47249</td>\n",
       "    </tr>\n",
       "  </tbody>\n",
       "</table>\n",
       "</div>"
      ],
      "text/plain": [
       "     Model Name  Precison   Recall  Balanced_acc      k  Precison at k  \\\n",
       "0  linear model  0.430233  0.00264      0.501076  20000       0.331033   \n",
       "\n",
       "   Recall at k  \n",
       "0      0.47249  "
      ]
     },
     "execution_count": 36,
     "metadata": {},
     "output_type": "execute_result"
    }
   ],
   "source": [
    "lm_performace"
   ]
  },
  {
   "cell_type": "markdown",
   "metadata": {
    "cell_id": "00050-e6b0f135-4fa7-4b06-a9fa-c2951bd5e88a",
    "deepnote_cell_height": 69.60000610351562,
    "deepnote_cell_type": "markdown"
   },
   "source": [
    "## Randon forrest"
   ]
  },
  {
   "cell_type": "code",
   "execution_count": 37,
   "metadata": {
    "ExecuteTime": {
     "end_time": "2022-09-21T22:36:39.398293Z",
     "start_time": "2022-09-21T22:36:39.371364Z"
    },
    "cell_id": "00051-69a2972c-6073-4c73-9495-c75f08b585c8",
    "deepnote_cell_height": 75.60000610351562,
    "deepnote_cell_type": "code",
    "deepnote_to_be_reexecuted": false,
    "execution_millis": 0,
    "execution_start": 1663075830194,
    "source_hash": "a252b339"
   },
   "outputs": [],
   "source": [
    "rf_df = val.copy()"
   ]
  },
  {
   "cell_type": "code",
   "execution_count": 38,
   "metadata": {
    "ExecuteTime": {
     "end_time": "2022-09-21T22:36:39.492944Z",
     "start_time": "2022-09-21T22:36:39.401284Z"
    },
    "cell_id": "00052-9a1a2149-e455-4660-94b7-ada3a784b077",
    "deepnote_cell_height": 111.60000610351562,
    "deepnote_cell_type": "code",
    "deepnote_to_be_reexecuted": false,
    "execution_millis": 84,
    "execution_start": 1663075830194,
    "source_hash": "e6544e31"
   },
   "outputs": [],
   "source": [
    "rf_df['score_rf'] = yhat_rf_proba[:,1].tolist()\n",
    "# sorte by score\n",
    "rf_df = rf_df.sort_values('score_rf',ascending=False)"
   ]
  },
  {
   "cell_type": "code",
   "execution_count": 39,
   "metadata": {
    "ExecuteTime": {
     "end_time": "2022-09-21T22:36:39.524345Z",
     "start_time": "2022-09-21T22:36:39.497931Z"
    },
    "cell_id": "00053-ae3f04e1-419b-417a-ad20-8d95a50b4d38",
    "deepnote_cell_height": 266.3999938964844,
    "deepnote_cell_type": "code",
    "deepnote_output_heights": [
     175
    ],
    "deepnote_to_be_reexecuted": false,
    "execution_millis": 16,
    "execution_start": 1663075830278,
    "scrolled": true,
    "source_hash": "46481eba"
   },
   "outputs": [
    {
     "data": {
      "text/html": [
       "<div>\n",
       "<style scoped>\n",
       "    .dataframe tbody tr th:only-of-type {\n",
       "        vertical-align: middle;\n",
       "    }\n",
       "\n",
       "    .dataframe tbody tr th {\n",
       "        vertical-align: top;\n",
       "    }\n",
       "\n",
       "    .dataframe thead th {\n",
       "        text-align: right;\n",
       "    }\n",
       "</style>\n",
       "<table border=\"1\" class=\"dataframe\">\n",
       "  <thead>\n",
       "    <tr style=\"text-align: right;\">\n",
       "      <th></th>\n",
       "      <th>id</th>\n",
       "      <th>age</th>\n",
       "      <th>region_code</th>\n",
       "      <th>policy_sales_channel</th>\n",
       "      <th>previously_insured</th>\n",
       "      <th>vintage</th>\n",
       "      <th>vehicle_age</th>\n",
       "      <th>vehicle_damage</th>\n",
       "      <th>annual_premium</th>\n",
       "      <th>response</th>\n",
       "      <th>score_rf</th>\n",
       "    </tr>\n",
       "  </thead>\n",
       "  <tbody>\n",
       "    <tr>\n",
       "      <th>357537</th>\n",
       "      <td>357538</td>\n",
       "      <td>0.338462</td>\n",
       "      <td>28.0</td>\n",
       "      <td>26.0</td>\n",
       "      <td>0</td>\n",
       "      <td>0.484429</td>\n",
       "      <td>2</td>\n",
       "      <td>1</td>\n",
       "      <td>-1.622853</td>\n",
       "      <td>1</td>\n",
       "      <td>0.972</td>\n",
       "    </tr>\n",
       "    <tr>\n",
       "      <th>73724</th>\n",
       "      <td>73725</td>\n",
       "      <td>0.353846</td>\n",
       "      <td>28.0</td>\n",
       "      <td>26.0</td>\n",
       "      <td>0</td>\n",
       "      <td>0.647059</td>\n",
       "      <td>2</td>\n",
       "      <td>1</td>\n",
       "      <td>-1.622853</td>\n",
       "      <td>0</td>\n",
       "      <td>0.945</td>\n",
       "    </tr>\n",
       "    <tr>\n",
       "      <th>105709</th>\n",
       "      <td>105710</td>\n",
       "      <td>0.338462</td>\n",
       "      <td>28.0</td>\n",
       "      <td>26.0</td>\n",
       "      <td>0</td>\n",
       "      <td>0.231834</td>\n",
       "      <td>2</td>\n",
       "      <td>1</td>\n",
       "      <td>-1.622853</td>\n",
       "      <td>0</td>\n",
       "      <td>0.943</td>\n",
       "    </tr>\n",
       "    <tr>\n",
       "      <th>83921</th>\n",
       "      <td>83922</td>\n",
       "      <td>0.138462</td>\n",
       "      <td>28.0</td>\n",
       "      <td>124.0</td>\n",
       "      <td>0</td>\n",
       "      <td>0.702422</td>\n",
       "      <td>1</td>\n",
       "      <td>1</td>\n",
       "      <td>0.053483</td>\n",
       "      <td>0</td>\n",
       "      <td>0.940</td>\n",
       "    </tr>\n",
       "    <tr>\n",
       "      <th>206025</th>\n",
       "      <td>206026</td>\n",
       "      <td>0.276923</td>\n",
       "      <td>28.0</td>\n",
       "      <td>124.0</td>\n",
       "      <td>0</td>\n",
       "      <td>0.757785</td>\n",
       "      <td>2</td>\n",
       "      <td>1</td>\n",
       "      <td>-1.622853</td>\n",
       "      <td>1</td>\n",
       "      <td>0.939</td>\n",
       "    </tr>\n",
       "  </tbody>\n",
       "</table>\n",
       "</div>"
      ],
      "text/plain": [
       "            id       age  region_code  policy_sales_channel  \\\n",
       "357537  357538  0.338462         28.0                  26.0   \n",
       "73724    73725  0.353846         28.0                  26.0   \n",
       "105709  105710  0.338462         28.0                  26.0   \n",
       "83921    83922  0.138462         28.0                 124.0   \n",
       "206025  206026  0.276923         28.0                 124.0   \n",
       "\n",
       "        previously_insured   vintage  vehicle_age  vehicle_damage  \\\n",
       "357537                   0  0.484429            2               1   \n",
       "73724                    0  0.647059            2               1   \n",
       "105709                   0  0.231834            2               1   \n",
       "83921                    0  0.702422            1               1   \n",
       "206025                   0  0.757785            2               1   \n",
       "\n",
       "        annual_premium  response  score_rf  \n",
       "357537       -1.622853         1     0.972  \n",
       "73724        -1.622853         0     0.945  \n",
       "105709       -1.622853         0     0.943  \n",
       "83921         0.053483         0     0.940  \n",
       "206025       -1.622853         1     0.939  "
      ]
     },
     "execution_count": 39,
     "metadata": {},
     "output_type": "execute_result"
    }
   ],
   "source": [
    "rf_df.head()"
   ]
  },
  {
   "cell_type": "code",
   "execution_count": 40,
   "metadata": {
    "ExecuteTime": {
     "end_time": "2022-09-21T22:36:39.667961Z",
     "start_time": "2022-09-21T22:36:39.527338Z"
    },
    "cell_id": "00054-34328c7b-ef48-4413-a617-e954eb8af022",
    "deepnote_cell_height": 75.60000610351562,
    "deepnote_cell_type": "code",
    "deepnote_to_be_reexecuted": false,
    "execution_millis": 92,
    "execution_start": 1663075830287,
    "source_hash": "ea237d99"
   },
   "outputs": [],
   "source": [
    "rf_performace = performace(\"Random forest\",rf_df,y_val,yhat_rf_class,clients)"
   ]
  },
  {
   "cell_type": "code",
   "execution_count": 41,
   "metadata": {
    "ExecuteTime": {
     "end_time": "2022-09-21T22:36:39.699876Z",
     "start_time": "2022-09-21T22:36:39.672948Z"
    },
    "cell_id": "00055-9db3f910-6e56-4d5c-b448-f000a9b00e36",
    "deepnote_cell_height": 150.39999389648438,
    "deepnote_cell_type": "code",
    "deepnote_output_heights": [
     59
    ],
    "deepnote_to_be_reexecuted": false,
    "execution_millis": 4,
    "execution_start": 1663075830418,
    "source_hash": "ed170d2f"
   },
   "outputs": [
    {
     "data": {
      "text/html": [
       "<div>\n",
       "<style scoped>\n",
       "    .dataframe tbody tr th:only-of-type {\n",
       "        vertical-align: middle;\n",
       "    }\n",
       "\n",
       "    .dataframe tbody tr th {\n",
       "        vertical-align: top;\n",
       "    }\n",
       "\n",
       "    .dataframe thead th {\n",
       "        text-align: right;\n",
       "    }\n",
       "</style>\n",
       "<table border=\"1\" class=\"dataframe\">\n",
       "  <thead>\n",
       "    <tr style=\"text-align: right;\">\n",
       "      <th></th>\n",
       "      <th>Model Name</th>\n",
       "      <th>Precison</th>\n",
       "      <th>Recall</th>\n",
       "      <th>Balanced_acc</th>\n",
       "      <th>k</th>\n",
       "      <th>Precison at k</th>\n",
       "      <th>Recall at k</th>\n",
       "    </tr>\n",
       "  </thead>\n",
       "  <tbody>\n",
       "    <tr>\n",
       "      <th>0</th>\n",
       "      <td>Random forest</td>\n",
       "      <td>0.371303</td>\n",
       "      <td>0.126311</td>\n",
       "      <td>0.548218</td>\n",
       "      <td>20000</td>\n",
       "      <td>0.326884</td>\n",
       "      <td>0.466567</td>\n",
       "    </tr>\n",
       "  </tbody>\n",
       "</table>\n",
       "</div>"
      ],
      "text/plain": [
       "      Model Name  Precison    Recall  Balanced_acc      k  Precison at k  \\\n",
       "0  Random forest  0.371303  0.126311      0.548218  20000       0.326884   \n",
       "\n",
       "   Recall at k  \n",
       "0     0.466567  "
      ]
     },
     "execution_count": 41,
     "metadata": {},
     "output_type": "execute_result"
    }
   ],
   "source": [
    "rf_performace"
   ]
  },
  {
   "cell_type": "markdown",
   "metadata": {
    "cell_id": "00056-d6b22faf-9ace-4332-82b7-25c9eef166ed",
    "deepnote_cell_height": 69.60000610351562,
    "deepnote_cell_type": "markdown"
   },
   "source": [
    "## Extra trees"
   ]
  },
  {
   "cell_type": "code",
   "execution_count": 42,
   "metadata": {
    "ExecuteTime": {
     "end_time": "2022-09-21T22:36:39.715834Z",
     "start_time": "2022-09-21T22:36:39.702868Z"
    },
    "cell_id": "00057-ab10e8ec-87df-4a0b-8d17-092ff9bd7d9c",
    "deepnote_cell_height": 75.60000610351562,
    "deepnote_cell_type": "code",
    "deepnote_to_be_reexecuted": false,
    "execution_millis": 4,
    "execution_start": 1663075830419,
    "source_hash": "1b318dfe"
   },
   "outputs": [],
   "source": [
    "et_df = val.copy()"
   ]
  },
  {
   "cell_type": "code",
   "execution_count": 43,
   "metadata": {
    "ExecuteTime": {
     "end_time": "2022-09-21T22:36:39.779716Z",
     "start_time": "2022-09-21T22:36:39.718825Z"
    },
    "cell_id": "00058-f309bae6-132f-492f-aee5-2eeb9d63e3e3",
    "deepnote_cell_height": 111.60000610351562,
    "deepnote_cell_type": "code",
    "deepnote_to_be_reexecuted": false,
    "execution_millis": 33,
    "execution_start": 1663075830427,
    "source_hash": "c65c3bec"
   },
   "outputs": [],
   "source": [
    "et_df['score_et'] = yhat_et_proba[:,1].tolist()\n",
    "# sorte by score\n",
    "et_df = et_df.sort_values('score_et',ascending=False)"
   ]
  },
  {
   "cell_type": "code",
   "execution_count": 44,
   "metadata": {
    "ExecuteTime": {
     "end_time": "2022-09-21T22:36:39.826717Z",
     "start_time": "2022-09-21T22:36:39.791472Z"
    },
    "cell_id": "00059-f1641854-fefd-47a9-9944-1b45bab93295",
    "deepnote_cell_height": 266.3999938964844,
    "deepnote_cell_type": "code",
    "deepnote_output_heights": [
     175
    ],
    "deepnote_to_be_reexecuted": false,
    "execution_millis": 56,
    "execution_start": 1663075830465,
    "source_hash": "9c48153f"
   },
   "outputs": [
    {
     "data": {
      "text/html": [
       "<div>\n",
       "<style scoped>\n",
       "    .dataframe tbody tr th:only-of-type {\n",
       "        vertical-align: middle;\n",
       "    }\n",
       "\n",
       "    .dataframe tbody tr th {\n",
       "        vertical-align: top;\n",
       "    }\n",
       "\n",
       "    .dataframe thead th {\n",
       "        text-align: right;\n",
       "    }\n",
       "</style>\n",
       "<table border=\"1\" class=\"dataframe\">\n",
       "  <thead>\n",
       "    <tr style=\"text-align: right;\">\n",
       "      <th></th>\n",
       "      <th>id</th>\n",
       "      <th>age</th>\n",
       "      <th>region_code</th>\n",
       "      <th>policy_sales_channel</th>\n",
       "      <th>previously_insured</th>\n",
       "      <th>vintage</th>\n",
       "      <th>vehicle_age</th>\n",
       "      <th>vehicle_damage</th>\n",
       "      <th>annual_premium</th>\n",
       "      <th>response</th>\n",
       "      <th>score_et</th>\n",
       "    </tr>\n",
       "  </thead>\n",
       "  <tbody>\n",
       "    <tr>\n",
       "      <th>346570</th>\n",
       "      <td>346571</td>\n",
       "      <td>0.353846</td>\n",
       "      <td>28.0</td>\n",
       "      <td>124.0</td>\n",
       "      <td>0</td>\n",
       "      <td>0.425606</td>\n",
       "      <td>2</td>\n",
       "      <td>1</td>\n",
       "      <td>-1.622853</td>\n",
       "      <td>0</td>\n",
       "      <td>1.0</td>\n",
       "    </tr>\n",
       "    <tr>\n",
       "      <th>254656</th>\n",
       "      <td>254657</td>\n",
       "      <td>0.369231</td>\n",
       "      <td>28.0</td>\n",
       "      <td>124.0</td>\n",
       "      <td>0</td>\n",
       "      <td>0.003460</td>\n",
       "      <td>2</td>\n",
       "      <td>1</td>\n",
       "      <td>-1.622853</td>\n",
       "      <td>1</td>\n",
       "      <td>1.0</td>\n",
       "    </tr>\n",
       "    <tr>\n",
       "      <th>334542</th>\n",
       "      <td>334543</td>\n",
       "      <td>0.246154</td>\n",
       "      <td>41.0</td>\n",
       "      <td>157.0</td>\n",
       "      <td>0</td>\n",
       "      <td>0.961938</td>\n",
       "      <td>2</td>\n",
       "      <td>1</td>\n",
       "      <td>-1.622853</td>\n",
       "      <td>0</td>\n",
       "      <td>1.0</td>\n",
       "    </tr>\n",
       "    <tr>\n",
       "      <th>153319</th>\n",
       "      <td>153320</td>\n",
       "      <td>0.030769</td>\n",
       "      <td>48.0</td>\n",
       "      <td>124.0</td>\n",
       "      <td>0</td>\n",
       "      <td>0.245675</td>\n",
       "      <td>1</td>\n",
       "      <td>1</td>\n",
       "      <td>-1.622853</td>\n",
       "      <td>0</td>\n",
       "      <td>1.0</td>\n",
       "    </tr>\n",
       "    <tr>\n",
       "      <th>287200</th>\n",
       "      <td>287201</td>\n",
       "      <td>0.323077</td>\n",
       "      <td>28.0</td>\n",
       "      <td>124.0</td>\n",
       "      <td>0</td>\n",
       "      <td>0.768166</td>\n",
       "      <td>2</td>\n",
       "      <td>1</td>\n",
       "      <td>-1.622853</td>\n",
       "      <td>0</td>\n",
       "      <td>1.0</td>\n",
       "    </tr>\n",
       "  </tbody>\n",
       "</table>\n",
       "</div>"
      ],
      "text/plain": [
       "            id       age  region_code  policy_sales_channel  \\\n",
       "346570  346571  0.353846         28.0                 124.0   \n",
       "254656  254657  0.369231         28.0                 124.0   \n",
       "334542  334543  0.246154         41.0                 157.0   \n",
       "153319  153320  0.030769         48.0                 124.0   \n",
       "287200  287201  0.323077         28.0                 124.0   \n",
       "\n",
       "        previously_insured   vintage  vehicle_age  vehicle_damage  \\\n",
       "346570                   0  0.425606            2               1   \n",
       "254656                   0  0.003460            2               1   \n",
       "334542                   0  0.961938            2               1   \n",
       "153319                   0  0.245675            1               1   \n",
       "287200                   0  0.768166            2               1   \n",
       "\n",
       "        annual_premium  response  score_et  \n",
       "346570       -1.622853         0       1.0  \n",
       "254656       -1.622853         1       1.0  \n",
       "334542       -1.622853         0       1.0  \n",
       "153319       -1.622853         0       1.0  \n",
       "287200       -1.622853         0       1.0  "
      ]
     },
     "execution_count": 44,
     "metadata": {},
     "output_type": "execute_result"
    }
   ],
   "source": [
    "et_df.head()"
   ]
  },
  {
   "cell_type": "code",
   "execution_count": 45,
   "metadata": {
    "ExecuteTime": {
     "end_time": "2022-09-21T22:36:40.001096Z",
     "start_time": "2022-09-21T22:36:39.831998Z"
    },
    "cell_id": "00060-7253624e-e847-4c39-9e7c-098ca220fb82",
    "deepnote_cell_height": 75.60000610351562,
    "deepnote_cell_type": "code",
    "deepnote_to_be_reexecuted": false,
    "execution_millis": 89,
    "execution_start": 1663075830523,
    "source_hash": "72701628"
   },
   "outputs": [],
   "source": [
    "et_performace = performace(\"Extra trees\",et_df,y_val,yhat_et_class,clients)"
   ]
  },
  {
   "cell_type": "code",
   "execution_count": 46,
   "metadata": {
    "ExecuteTime": {
     "end_time": "2022-09-21T22:36:40.017054Z",
     "start_time": "2022-09-21T22:36:40.003090Z"
    },
    "cell_id": "00061-1bd81c17-ac04-48c0-8c5e-3218c8bfd7c6",
    "deepnote_cell_height": 150.39999389648438,
    "deepnote_cell_type": "code",
    "deepnote_output_heights": [
     59
    ],
    "deepnote_to_be_reexecuted": false,
    "execution_millis": 4,
    "execution_start": 1663075830634,
    "scrolled": true,
    "source_hash": "b4f684ea"
   },
   "outputs": [
    {
     "data": {
      "text/html": [
       "<div>\n",
       "<style scoped>\n",
       "    .dataframe tbody tr th:only-of-type {\n",
       "        vertical-align: middle;\n",
       "    }\n",
       "\n",
       "    .dataframe tbody tr th {\n",
       "        vertical-align: top;\n",
       "    }\n",
       "\n",
       "    .dataframe thead th {\n",
       "        text-align: right;\n",
       "    }\n",
       "</style>\n",
       "<table border=\"1\" class=\"dataframe\">\n",
       "  <thead>\n",
       "    <tr style=\"text-align: right;\">\n",
       "      <th></th>\n",
       "      <th>Model Name</th>\n",
       "      <th>Precison</th>\n",
       "      <th>Recall</th>\n",
       "      <th>Balanced_acc</th>\n",
       "      <th>k</th>\n",
       "      <th>Precison at k</th>\n",
       "      <th>Recall at k</th>\n",
       "    </tr>\n",
       "  </thead>\n",
       "  <tbody>\n",
       "    <tr>\n",
       "      <th>0</th>\n",
       "      <td>Extra trees</td>\n",
       "      <td>0.349501</td>\n",
       "      <td>0.147577</td>\n",
       "      <td>0.554605</td>\n",
       "      <td>20000</td>\n",
       "      <td>0.324384</td>\n",
       "      <td>0.462999</td>\n",
       "    </tr>\n",
       "  </tbody>\n",
       "</table>\n",
       "</div>"
      ],
      "text/plain": [
       "    Model Name  Precison    Recall  Balanced_acc      k  Precison at k  \\\n",
       "0  Extra trees  0.349501  0.147577      0.554605  20000       0.324384   \n",
       "\n",
       "   Recall at k  \n",
       "0     0.462999  "
      ]
     },
     "execution_count": 46,
     "metadata": {},
     "output_type": "execute_result"
    }
   ],
   "source": [
    "et_performace"
   ]
  },
  {
   "cell_type": "markdown",
   "metadata": {
    "cell_id": "00062-2f0e872a-5a97-40e8-bde0-34a8874eb3b4",
    "deepnote_cell_height": 69.60000610351562,
    "deepnote_cell_type": "markdown"
   },
   "source": [
    "## XGboost"
   ]
  },
  {
   "cell_type": "code",
   "execution_count": 47,
   "metadata": {
    "ExecuteTime": {
     "end_time": "2022-09-21T22:36:40.033010Z",
     "start_time": "2022-09-21T22:36:40.020045Z"
    },
    "cell_id": "00063-3ba13c60-7eb9-495e-b4ed-06c546647462",
    "deepnote_cell_height": 75.60000610351562,
    "deepnote_cell_type": "code",
    "deepnote_to_be_reexecuted": false,
    "execution_millis": 0,
    "execution_start": 1663075830683,
    "source_hash": "ce3549ee"
   },
   "outputs": [],
   "source": [
    "xgb_df = val.copy()"
   ]
  },
  {
   "cell_type": "code",
   "execution_count": 48,
   "metadata": {
    "ExecuteTime": {
     "end_time": "2022-09-21T22:36:40.128151Z",
     "start_time": "2022-09-21T22:36:40.037002Z"
    },
    "cell_id": "00064-af73a354-da26-47fe-afaf-da6516ae265d",
    "deepnote_cell_height": 111.60000610351562,
    "deepnote_cell_type": "code",
    "deepnote_to_be_reexecuted": false,
    "execution_millis": 44,
    "execution_start": 1663075830684,
    "source_hash": "bfe8602"
   },
   "outputs": [],
   "source": [
    "xgb_df['score_xgb'] = yhat_xgb_proba[:,1].tolist()\n",
    "# sorte by score\n",
    "xgb_df = xgb_df.sort_values('score_xgb',ascending=False)"
   ]
  },
  {
   "cell_type": "code",
   "execution_count": 49,
   "metadata": {
    "ExecuteTime": {
     "end_time": "2022-09-21T22:36:40.160628Z",
     "start_time": "2022-09-21T22:36:40.131143Z"
    },
    "cell_id": "00065-203b47f9-af3e-4755-bc28-9936b15ffacc",
    "deepnote_cell_height": 266.3999938964844,
    "deepnote_cell_type": "code",
    "deepnote_output_heights": [
     175
    ],
    "deepnote_to_be_reexecuted": false,
    "execution_millis": 35,
    "execution_start": 1663075830730,
    "scrolled": true,
    "source_hash": "e7f31522"
   },
   "outputs": [
    {
     "data": {
      "text/html": [
       "<div>\n",
       "<style scoped>\n",
       "    .dataframe tbody tr th:only-of-type {\n",
       "        vertical-align: middle;\n",
       "    }\n",
       "\n",
       "    .dataframe tbody tr th {\n",
       "        vertical-align: top;\n",
       "    }\n",
       "\n",
       "    .dataframe thead th {\n",
       "        text-align: right;\n",
       "    }\n",
       "</style>\n",
       "<table border=\"1\" class=\"dataframe\">\n",
       "  <thead>\n",
       "    <tr style=\"text-align: right;\">\n",
       "      <th></th>\n",
       "      <th>id</th>\n",
       "      <th>age</th>\n",
       "      <th>region_code</th>\n",
       "      <th>policy_sales_channel</th>\n",
       "      <th>previously_insured</th>\n",
       "      <th>vintage</th>\n",
       "      <th>vehicle_age</th>\n",
       "      <th>vehicle_damage</th>\n",
       "      <th>annual_premium</th>\n",
       "      <th>response</th>\n",
       "      <th>score_xgb</th>\n",
       "    </tr>\n",
       "  </thead>\n",
       "  <tbody>\n",
       "    <tr>\n",
       "      <th>232481</th>\n",
       "      <td>232482</td>\n",
       "      <td>0.461538</td>\n",
       "      <td>8.0</td>\n",
       "      <td>124.0</td>\n",
       "      <td>0</td>\n",
       "      <td>0.024221</td>\n",
       "      <td>2</td>\n",
       "      <td>1</td>\n",
       "      <td>4.589845</td>\n",
       "      <td>0</td>\n",
       "      <td>0.977788</td>\n",
       "    </tr>\n",
       "    <tr>\n",
       "      <th>259497</th>\n",
       "      <td>259498</td>\n",
       "      <td>0.476923</td>\n",
       "      <td>15.0</td>\n",
       "      <td>14.0</td>\n",
       "      <td>0</td>\n",
       "      <td>0.103806</td>\n",
       "      <td>2</td>\n",
       "      <td>1</td>\n",
       "      <td>4.582757</td>\n",
       "      <td>0</td>\n",
       "      <td>0.965269</td>\n",
       "    </tr>\n",
       "    <tr>\n",
       "      <th>86861</th>\n",
       "      <td>86862</td>\n",
       "      <td>0.384615</td>\n",
       "      <td>41.0</td>\n",
       "      <td>163.0</td>\n",
       "      <td>0</td>\n",
       "      <td>0.006920</td>\n",
       "      <td>2</td>\n",
       "      <td>1</td>\n",
       "      <td>2.204747</td>\n",
       "      <td>1</td>\n",
       "      <td>0.952097</td>\n",
       "    </tr>\n",
       "    <tr>\n",
       "      <th>142200</th>\n",
       "      <td>142201</td>\n",
       "      <td>0.046154</td>\n",
       "      <td>2.0</td>\n",
       "      <td>124.0</td>\n",
       "      <td>0</td>\n",
       "      <td>0.986159</td>\n",
       "      <td>2</td>\n",
       "      <td>1</td>\n",
       "      <td>0.459801</td>\n",
       "      <td>0</td>\n",
       "      <td>0.949466</td>\n",
       "    </tr>\n",
       "    <tr>\n",
       "      <th>311820</th>\n",
       "      <td>311821</td>\n",
       "      <td>0.292308</td>\n",
       "      <td>46.0</td>\n",
       "      <td>124.0</td>\n",
       "      <td>0</td>\n",
       "      <td>0.387543</td>\n",
       "      <td>1</td>\n",
       "      <td>1</td>\n",
       "      <td>0.397581</td>\n",
       "      <td>1</td>\n",
       "      <td>0.946479</td>\n",
       "    </tr>\n",
       "  </tbody>\n",
       "</table>\n",
       "</div>"
      ],
      "text/plain": [
       "            id       age  region_code  policy_sales_channel  \\\n",
       "232481  232482  0.461538          8.0                 124.0   \n",
       "259497  259498  0.476923         15.0                  14.0   \n",
       "86861    86862  0.384615         41.0                 163.0   \n",
       "142200  142201  0.046154          2.0                 124.0   \n",
       "311820  311821  0.292308         46.0                 124.0   \n",
       "\n",
       "        previously_insured   vintage  vehicle_age  vehicle_damage  \\\n",
       "232481                   0  0.024221            2               1   \n",
       "259497                   0  0.103806            2               1   \n",
       "86861                    0  0.006920            2               1   \n",
       "142200                   0  0.986159            2               1   \n",
       "311820                   0  0.387543            1               1   \n",
       "\n",
       "        annual_premium  response  score_xgb  \n",
       "232481        4.589845         0   0.977788  \n",
       "259497        4.582757         0   0.965269  \n",
       "86861         2.204747         1   0.952097  \n",
       "142200        0.459801         0   0.949466  \n",
       "311820        0.397581         1   0.946479  "
      ]
     },
     "execution_count": 49,
     "metadata": {},
     "output_type": "execute_result"
    }
   ],
   "source": [
    "xgb_df.head()"
   ]
  },
  {
   "cell_type": "code",
   "execution_count": 50,
   "metadata": {
    "ExecuteTime": {
     "end_time": "2022-09-21T22:36:40.367075Z",
     "start_time": "2022-09-21T22:36:40.167611Z"
    },
    "cell_id": "00066-e78cbdff-e532-4e1a-86bb-c727b8b570fb",
    "deepnote_cell_height": 75.60000610351562,
    "deepnote_cell_type": "code",
    "deepnote_to_be_reexecuted": false,
    "execution_millis": 89,
    "execution_start": 1663075830764,
    "source_hash": "bd5735b3"
   },
   "outputs": [],
   "source": [
    "xgb_performace = performace(\"XGBoost\",xgb_df,y_val,yhat_xgb_class,clients)"
   ]
  },
  {
   "cell_type": "code",
   "execution_count": 51,
   "metadata": {
    "ExecuteTime": {
     "end_time": "2022-09-21T22:36:40.398990Z",
     "start_time": "2022-09-21T22:36:40.372063Z"
    },
    "cell_id": "00067-24f9a94c-dd95-4675-9ff2-08ad9e4592de",
    "deepnote_cell_height": 150.39999389648438,
    "deepnote_cell_type": "code",
    "deepnote_output_heights": [
     59
    ],
    "deepnote_to_be_reexecuted": false,
    "execution_millis": 2,
    "execution_start": 1663075830899,
    "source_hash": "e518ccbf"
   },
   "outputs": [
    {
     "data": {
      "text/html": [
       "<div>\n",
       "<style scoped>\n",
       "    .dataframe tbody tr th:only-of-type {\n",
       "        vertical-align: middle;\n",
       "    }\n",
       "\n",
       "    .dataframe tbody tr th {\n",
       "        vertical-align: top;\n",
       "    }\n",
       "\n",
       "    .dataframe thead th {\n",
       "        text-align: right;\n",
       "    }\n",
       "</style>\n",
       "<table border=\"1\" class=\"dataframe\">\n",
       "  <thead>\n",
       "    <tr style=\"text-align: right;\">\n",
       "      <th></th>\n",
       "      <th>Model Name</th>\n",
       "      <th>Precison</th>\n",
       "      <th>Recall</th>\n",
       "      <th>Balanced_acc</th>\n",
       "      <th>k</th>\n",
       "      <th>Precison at k</th>\n",
       "      <th>Recall at k</th>\n",
       "    </tr>\n",
       "  </thead>\n",
       "  <tbody>\n",
       "    <tr>\n",
       "      <th>0</th>\n",
       "      <td>XGBoost</td>\n",
       "      <td>0.379855</td>\n",
       "      <td>0.101192</td>\n",
       "      <td>0.539058</td>\n",
       "      <td>20000</td>\n",
       "      <td>0.342983</td>\n",
       "      <td>0.489545</td>\n",
       "    </tr>\n",
       "  </tbody>\n",
       "</table>\n",
       "</div>"
      ],
      "text/plain": [
       "  Model Name  Precison    Recall  Balanced_acc      k  Precison at k  \\\n",
       "0    XGBoost  0.379855  0.101192      0.539058  20000       0.342983   \n",
       "\n",
       "   Recall at k  \n",
       "0     0.489545  "
      ]
     },
     "execution_count": 51,
     "metadata": {},
     "output_type": "execute_result"
    }
   ],
   "source": [
    "xgb_performace"
   ]
  },
  {
   "cell_type": "markdown",
   "metadata": {
    "cell_id": "00068-43a40468-d766-4a92-9077-be35e724189d",
    "deepnote_cell_height": 81.60000610351562,
    "deepnote_cell_type": "markdown"
   },
   "source": [
    "# Model comparrison"
   ]
  },
  {
   "cell_type": "code",
   "execution_count": 52,
   "metadata": {
    "ExecuteTime": {
     "end_time": "2022-09-21T22:36:40.446862Z",
     "start_time": "2022-09-21T22:36:40.401983Z"
    },
    "cell_id": "00069-17f50f37-4610-4017-a3b1-188d76530cf0",
    "deepnote_cell_height": 75.60000610351562,
    "deepnote_cell_type": "code",
    "deepnote_to_be_reexecuted": false,
    "execution_millis": 0,
    "execution_start": 1663075830942,
    "source_hash": "128bf144"
   },
   "outputs": [],
   "source": [
    "model_comp = pd.concat([knn_performace,lm_performace,rf_performace,et_performace,xgb_performace])"
   ]
  },
  {
   "cell_type": "code",
   "execution_count": 53,
   "metadata": {
    "ExecuteTime": {
     "end_time": "2022-09-21T22:36:40.493738Z",
     "start_time": "2022-09-21T22:36:40.450853Z"
    },
    "cell_id": "00070-1eb35801-a6aa-4d87-abe0-e32a85d585f6",
    "deepnote_cell_height": 266.3999938964844,
    "deepnote_cell_type": "code",
    "deepnote_output_heights": [
     175
    ],
    "deepnote_to_be_reexecuted": false,
    "execution_millis": 7,
    "execution_start": 1663075830943,
    "source_hash": "c8530f44"
   },
   "outputs": [
    {
     "data": {
      "text/html": [
       "<div>\n",
       "<style scoped>\n",
       "    .dataframe tbody tr th:only-of-type {\n",
       "        vertical-align: middle;\n",
       "    }\n",
       "\n",
       "    .dataframe tbody tr th {\n",
       "        vertical-align: top;\n",
       "    }\n",
       "\n",
       "    .dataframe thead th {\n",
       "        text-align: right;\n",
       "    }\n",
       "</style>\n",
       "<table border=\"1\" class=\"dataframe\">\n",
       "  <thead>\n",
       "    <tr style=\"text-align: right;\">\n",
       "      <th></th>\n",
       "      <th>Model Name</th>\n",
       "      <th>Precison</th>\n",
       "      <th>Recall</th>\n",
       "      <th>Balanced_acc</th>\n",
       "      <th>k</th>\n",
       "      <th>Precison at k</th>\n",
       "      <th>Recall at k</th>\n",
       "    </tr>\n",
       "  </thead>\n",
       "  <tbody>\n",
       "    <tr>\n",
       "      <th>0</th>\n",
       "      <td>XGBoost</td>\n",
       "      <td>0.379855</td>\n",
       "      <td>0.101192</td>\n",
       "      <td>0.539058</td>\n",
       "      <td>20000</td>\n",
       "      <td>0.342983</td>\n",
       "      <td>0.489545</td>\n",
       "    </tr>\n",
       "    <tr>\n",
       "      <th>0</th>\n",
       "      <td>linear model</td>\n",
       "      <td>0.430233</td>\n",
       "      <td>0.002640</td>\n",
       "      <td>0.501076</td>\n",
       "      <td>20000</td>\n",
       "      <td>0.331033</td>\n",
       "      <td>0.472490</td>\n",
       "    </tr>\n",
       "    <tr>\n",
       "      <th>0</th>\n",
       "      <td>Random forest</td>\n",
       "      <td>0.371303</td>\n",
       "      <td>0.126311</td>\n",
       "      <td>0.548218</td>\n",
       "      <td>20000</td>\n",
       "      <td>0.326884</td>\n",
       "      <td>0.466567</td>\n",
       "    </tr>\n",
       "    <tr>\n",
       "      <th>0</th>\n",
       "      <td>Extra trees</td>\n",
       "      <td>0.349501</td>\n",
       "      <td>0.147577</td>\n",
       "      <td>0.554605</td>\n",
       "      <td>20000</td>\n",
       "      <td>0.324384</td>\n",
       "      <td>0.462999</td>\n",
       "    </tr>\n",
       "    <tr>\n",
       "      <th>0</th>\n",
       "      <td>KNN</td>\n",
       "      <td>0.334086</td>\n",
       "      <td>0.179476</td>\n",
       "      <td>0.564753</td>\n",
       "      <td>20000</td>\n",
       "      <td>0.308635</td>\n",
       "      <td>0.440520</td>\n",
       "    </tr>\n",
       "  </tbody>\n",
       "</table>\n",
       "</div>"
      ],
      "text/plain": [
       "      Model Name  Precison    Recall  Balanced_acc      k  Precison at k  \\\n",
       "0        XGBoost  0.379855  0.101192      0.539058  20000       0.342983   \n",
       "0   linear model  0.430233  0.002640      0.501076  20000       0.331033   \n",
       "0  Random forest  0.371303  0.126311      0.548218  20000       0.326884   \n",
       "0    Extra trees  0.349501  0.147577      0.554605  20000       0.324384   \n",
       "0            KNN  0.334086  0.179476      0.564753  20000       0.308635   \n",
       "\n",
       "   Recall at k  \n",
       "0     0.489545  \n",
       "0     0.472490  \n",
       "0     0.466567  \n",
       "0     0.462999  \n",
       "0     0.440520  "
      ]
     },
     "execution_count": 53,
     "metadata": {},
     "output_type": "execute_result"
    }
   ],
   "source": [
    "model_comp.sort_values(by='Recall at k',ascending=False)"
   ]
  },
  {
   "cell_type": "markdown",
   "metadata": {
    "cell_id": "7729b9592a0040b9b48b9c4bf63ea40e",
    "deepnote_cell_height": 81.60000610351562,
    "deepnote_cell_type": "markdown",
    "tags": []
   },
   "source": [
    "# Croos validation"
   ]
  },
  {
   "cell_type": "code",
   "execution_count": 54,
   "metadata": {
    "ExecuteTime": {
     "end_time": "2022-09-21T22:36:40.509709Z",
     "start_time": "2022-09-21T22:36:40.496731Z"
    },
    "cell_id": "10b61a404d604ec29e3e9c0b82be0527",
    "deepnote_cell_height": 183.60000610351562,
    "deepnote_cell_type": "code",
    "deepnote_to_be_reexecuted": false,
    "execution_millis": 2,
    "execution_start": 1663115859141,
    "source_hash": "96169d53",
    "tags": []
   },
   "outputs": [],
   "source": [
    "models = {\n",
    "    'KNN': knn_model,\n",
    "    'Linear model': lm_model,\n",
    "    'Random forrest': rf_model,\n",
    "    'Extra trees': et_model,\n",
    "    'XGBoost':xgb_model\n",
    "}"
   ]
  },
  {
   "cell_type": "code",
   "execution_count": 55,
   "metadata": {
    "ExecuteTime": {
     "end_time": "2022-09-21T22:36:40.541611Z",
     "start_time": "2022-09-21T22:36:40.516678Z"
    },
    "cell_id": "b4dd383fbea74b0d99c0c71dd7b9727c",
    "deepnote_cell_height": 75.60000610351562,
    "deepnote_cell_type": "code",
    "deepnote_to_be_reexecuted": false,
    "execution_millis": 2,
    "execution_start": 1663115863194,
    "source_hash": "3f39f1c8",
    "tags": []
   },
   "outputs": [],
   "source": [
    "models_comparison = pd.DataFrame()"
   ]
  },
  {
   "cell_type": "code",
   "execution_count": 56,
   "metadata": {
    "ExecuteTime": {
     "end_time": "2022-09-21T23:48:32.064578Z",
     "start_time": "2022-09-21T22:36:40.546597Z"
    },
    "cell_id": "77188b1acc204fefaa0cb2826b9b1cfe",
    "deepnote_cell_height": 202.39999389648438,
    "deepnote_cell_type": "code",
    "deepnote_to_be_reexecuted": false,
    "execution_millis": 70213,
    "execution_start": 1663115865559,
    "source_hash": "e239236d",
    "tags": []
   },
   "outputs": [],
   "source": [
    "for c, v in models.items():\n",
    "    aux = performace_cross_val(df6,'response',v,c,k=20000)\n",
    "    models_comparison = pd.concat([models_comparison,aux])"
   ]
  },
  {
   "cell_type": "code",
   "execution_count": 59,
   "metadata": {
    "ExecuteTime": {
     "end_time": "2022-09-22T01:29:21.124344Z",
     "start_time": "2022-09-22T01:29:21.090436Z"
    },
    "cell_id": "89bd6895251a42d999f3d89a099dc862",
    "deepnote_cell_height": 266.3999938964844,
    "deepnote_cell_type": "code",
    "deepnote_output_heights": [
     175
    ],
    "deepnote_table_loading": false,
    "deepnote_table_state": {
     "filters": [],
     "pageIndex": 0,
     "pageSize": 10,
     "sortBy": [
      {
       "id": "PRECISION AT K CROSS_VAL",
       "type": "desc"
      }
     ]
    },
    "deepnote_to_be_reexecuted": false,
    "execution_millis": 317,
    "execution_start": 1663077842336,
    "source_hash": "6df05d0a",
    "tags": []
   },
   "outputs": [
    {
     "data": {
      "text/html": [
       "<div>\n",
       "<style scoped>\n",
       "    .dataframe tbody tr th:only-of-type {\n",
       "        vertical-align: middle;\n",
       "    }\n",
       "\n",
       "    .dataframe tbody tr th {\n",
       "        vertical-align: top;\n",
       "    }\n",
       "\n",
       "    .dataframe thead th {\n",
       "        text-align: right;\n",
       "    }\n",
       "</style>\n",
       "<table border=\"1\" class=\"dataframe\">\n",
       "  <thead>\n",
       "    <tr style=\"text-align: right;\">\n",
       "      <th></th>\n",
       "      <th>Model name</th>\n",
       "      <th>PRECISION_CROSS_VAL</th>\n",
       "      <th>PRECISON_STD</th>\n",
       "      <th>RECALL_CROSS_VAL</th>\n",
       "      <th>RECALL_STD</th>\n",
       "      <th>BALANCED_ACC_CROSS_VALL</th>\n",
       "      <th>BALANCED_ACC_STD</th>\n",
       "      <th>K</th>\n",
       "      <th>PRECISION AT K CROSS_VAL</th>\n",
       "      <th>PRECISION AT K STD</th>\n",
       "      <th>RECALL AT K CROSS_VAL</th>\n",
       "      <th>RECALL AT K STD</th>\n",
       "    </tr>\n",
       "  </thead>\n",
       "  <tbody>\n",
       "    <tr>\n",
       "      <th>0</th>\n",
       "      <td>KNN Cross_Val</td>\n",
       "      <td>0.337</td>\n",
       "      <td>0.006</td>\n",
       "      <td>0.182</td>\n",
       "      <td>0.005</td>\n",
       "      <td>0.566</td>\n",
       "      <td>0.003</td>\n",
       "      <td>20000</td>\n",
       "      <td>0.300</td>\n",
       "      <td>0.003</td>\n",
       "      <td>0.514</td>\n",
       "      <td>0.0</td>\n",
       "    </tr>\n",
       "    <tr>\n",
       "      <th>0</th>\n",
       "      <td>Extra trees Cross_Val</td>\n",
       "      <td>0.343</td>\n",
       "      <td>0.004</td>\n",
       "      <td>0.147</td>\n",
       "      <td>0.002</td>\n",
       "      <td>0.554</td>\n",
       "      <td>0.001</td>\n",
       "      <td>20000</td>\n",
       "      <td>0.316</td>\n",
       "      <td>0.002</td>\n",
       "      <td>0.541</td>\n",
       "      <td>0.0</td>\n",
       "    </tr>\n",
       "    <tr>\n",
       "      <th>0</th>\n",
       "      <td>Random forrest Cross_Val</td>\n",
       "      <td>0.362</td>\n",
       "      <td>0.004</td>\n",
       "      <td>0.126</td>\n",
       "      <td>0.002</td>\n",
       "      <td>0.547</td>\n",
       "      <td>0.001</td>\n",
       "      <td>20000</td>\n",
       "      <td>0.322</td>\n",
       "      <td>0.003</td>\n",
       "      <td>0.552</td>\n",
       "      <td>0.0</td>\n",
       "    </tr>\n",
       "    <tr>\n",
       "      <th>0</th>\n",
       "      <td>XGBoost Cross_Val</td>\n",
       "      <td>0.385</td>\n",
       "      <td>0.006</td>\n",
       "      <td>0.102</td>\n",
       "      <td>0.003</td>\n",
       "      <td>0.540</td>\n",
       "      <td>0.001</td>\n",
       "      <td>20000</td>\n",
       "      <td>0.332</td>\n",
       "      <td>0.001</td>\n",
       "      <td>0.569</td>\n",
       "      <td>0.0</td>\n",
       "    </tr>\n",
       "    <tr>\n",
       "      <th>0</th>\n",
       "      <td>Linear model Cross_Val</td>\n",
       "      <td>0.378</td>\n",
       "      <td>0.073</td>\n",
       "      <td>0.001</td>\n",
       "      <td>0.000</td>\n",
       "      <td>0.500</td>\n",
       "      <td>0.000</td>\n",
       "      <td>20000</td>\n",
       "      <td>0.320</td>\n",
       "      <td>0.003</td>\n",
       "      <td>0.548</td>\n",
       "      <td>0.0</td>\n",
       "    </tr>\n",
       "  </tbody>\n",
       "</table>\n",
       "</div>"
      ],
      "text/plain": [
       "                 Model name  PRECISION_CROSS_VAL  PRECISON_STD  \\\n",
       "0             KNN Cross_Val                0.337         0.006   \n",
       "0     Extra trees Cross_Val                0.343         0.004   \n",
       "0  Random forrest Cross_Val                0.362         0.004   \n",
       "0         XGBoost Cross_Val                0.385         0.006   \n",
       "0    Linear model Cross_Val                0.378         0.073   \n",
       "\n",
       "   RECALL_CROSS_VAL  RECALL_STD  BALANCED_ACC_CROSS_VALL  BALANCED_ACC_STD  \\\n",
       "0             0.182       0.005                    0.566             0.003   \n",
       "0             0.147       0.002                    0.554             0.001   \n",
       "0             0.126       0.002                    0.547             0.001   \n",
       "0             0.102       0.003                    0.540             0.001   \n",
       "0             0.001       0.000                    0.500             0.000   \n",
       "\n",
       "       K  PRECISION AT K CROSS_VAL  PRECISION AT K STD  RECALL AT K CROSS_VAL  \\\n",
       "0  20000                     0.300               0.003                  0.514   \n",
       "0  20000                     0.316               0.002                  0.541   \n",
       "0  20000                     0.322               0.003                  0.552   \n",
       "0  20000                     0.332               0.001                  0.569   \n",
       "0  20000                     0.320               0.003                  0.548   \n",
       "\n",
       "   RECALL AT K STD  \n",
       "0              0.0  \n",
       "0              0.0  \n",
       "0              0.0  \n",
       "0              0.0  \n",
       "0              0.0  "
      ]
     },
     "execution_count": 59,
     "metadata": {},
     "output_type": "execute_result"
    }
   ],
   "source": [
    "models_comparison.sort_values(by='BALANCED_ACC_CROSS_VALL',ascending=False)"
   ]
  },
  {
   "cell_type": "code",
   "execution_count": 60,
   "metadata": {
    "ExecuteTime": {
     "end_time": "2022-09-22T01:30:10.710243Z",
     "start_time": "2022-09-22T01:30:10.472571Z"
    },
    "cell_id": "00075-930b72fe-e52d-4aa7-893e-6f1d67f7fb57",
    "deepnote_cell_height": 60.600006103515625,
    "deepnote_cell_type": "code"
   },
   "outputs": [],
   "source": [
    "#models_comparison.to_csv('data/models_comparison_balanced.csv',index=False)"
   ]
  },
  {
   "cell_type": "markdown",
   "metadata": {
    "created_in_deepnote_cell": true,
    "deepnote_cell_type": "markdown",
    "tags": []
   },
   "source": [
    "<a style='text-decoration:none;line-height:16px;display:flex;color:#5B5B62;padding:10px;justify-content:end;' href='https://deepnote.com?utm_source=created-in-deepnote-cell&projectId=3161d838-98a4-47ed-ae81-127ad2068af4' target=\"_blank\">\n",
    "<img alt='Created in deepnote.com' style='display:inline;max-height:16px;margin:0px;margin-right:7.5px;' src='data:image/svg+xml;base64,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' > </img>\n",
    "Created in <span style='font-weight:600;margin-left:4px;'>Deepnote</span></a>"
   ]
  }
 ],
 "metadata": {
  "deepnote": {},
  "deepnote_execution_queue": [],
  "deepnote_notebook_id": "902457a8-c054-48cb-9ba9-398e078092fa",
  "kernelspec": {
   "display_name": "Python 3",
   "language": "python",
   "name": "python3"
  },
  "language_info": {
   "codemirror_mode": {
    "name": "ipython",
    "version": 3
   },
   "file_extension": ".py",
   "mimetype": "text/x-python",
   "name": "python",
   "nbconvert_exporter": "python",
   "pygments_lexer": "ipython3",
   "version": "3.8.5"
  }
 },
 "nbformat": 4,
 "nbformat_minor": 4
}
