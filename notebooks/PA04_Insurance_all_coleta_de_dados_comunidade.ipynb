{
 "cells": [
  {
   "cell_type": "code",
   "metadata": {
    "ExecuteTime": {
     "end_time": "2022-08-10T18:25:59.189110Z",
     "start_time": "2022-08-10T18:25:57.433975Z"
    },
    "cell_id": "0a20f885-4565-4979-8f83-2bb5d11ff849",
    "deepnote_cell_type": "code",
    "deepnote_cell_height": 78.60000610351562
   },
   "source": "import pandas as pd\nimport psycopg2 as pg",
   "execution_count": null,
   "outputs": []
  },
  {
   "cell_type": "code",
   "metadata": {
    "ExecuteTime": {
     "end_time": "2022-08-10T18:29:23.088249Z",
     "start_time": "2022-08-10T18:29:23.072628Z"
    },
    "cell_id": "00001-38610650-baab-4288-89c5-d680b931657f",
    "deepnote_cell_type": "code",
    "deepnote_cell_height": 132.60000610351562
   },
   "source": "host = 'comunidade-ds-postgres.c50pcakiuwi3.us-east-1.rds.amazonaws.com'\nport = 5432\ndatabase = 'comunidadedsdb'\nusername = 'member'\npwd = 'cdspa'",
   "execution_count": null,
   "outputs": []
  },
  {
   "cell_type": "code",
   "metadata": {
    "ExecuteTime": {
     "end_time": "2022-08-10T18:42:35.235129Z",
     "start_time": "2022-08-10T18:42:34.584436Z"
    },
    "cell_id": "00002-aa518014-2a29-443c-b13d-6f03727c728b",
    "deepnote_cell_type": "code",
    "deepnote_cell_height": 60.600006103515625
   },
   "source": "conn = pg.connect(user=username,password=pwd,host=host,port=port,database=database)",
   "execution_count": null,
   "outputs": []
  },
  {
   "cell_type": "code",
   "metadata": {
    "ExecuteTime": {
     "end_time": "2022-08-10T18:40:57.604857Z",
     "start_time": "2022-08-10T18:40:57.367382Z"
    },
    "cell_id": "00003-6e3579b7-c46b-4ff8-92d4-266dc8b8004c",
    "deepnote_cell_type": "code",
    "deepnote_cell_height": 276.6000061035156
   },
   "source": "cursor = conn.cursor()\n\nquery_schema = \"\"\"\n    SELECT *\n    FROM pa004.users u\n    WHERE u.age > 44\n    LIMIT 10\n\"\"\"\n\ncursor.execute(query_schema)\nrecord = cursor.fetchall()\ncursor.close()\nconn.close()",
   "execution_count": null,
   "outputs": []
  },
  {
   "cell_type": "code",
   "metadata": {
    "ExecuteTime": {
     "end_time": "2022-08-10T18:41:08.574946Z",
     "start_time": "2022-08-10T18:41:08.522164Z"
    },
    "cell_id": "00004-1c38a87b-8f48-43ba-9571-75eb177af4ae",
    "deepnote_cell_type": "code",
    "deepnote_cell_height": 410.3999938964844,
    "deepnote_output_heights": [
     319
    ]
   },
   "source": "pd.DataFrame(record)",
   "execution_count": null,
   "outputs": [
    {
     "data": {
      "text/html": "<div>\n<style scoped>\n    .dataframe tbody tr th:only-of-type {\n        vertical-align: middle;\n    }\n\n    .dataframe tbody tr th {\n        vertical-align: top;\n    }\n\n    .dataframe thead th {\n        text-align: right;\n    }\n</style>\n<table border=\"1\" class=\"dataframe\">\n  <thead>\n    <tr style=\"text-align: right;\">\n      <th></th>\n      <th>0</th>\n      <th>1</th>\n      <th>2</th>\n      <th>3</th>\n      <th>4</th>\n    </tr>\n  </thead>\n  <tbody>\n    <tr>\n      <th>0</th>\n      <td>2</td>\n      <td>Male</td>\n      <td>76</td>\n      <td>3.0</td>\n      <td>26.0</td>\n    </tr>\n    <tr>\n      <th>1</th>\n      <td>3</td>\n      <td>Male</td>\n      <td>47</td>\n      <td>28.0</td>\n      <td>26.0</td>\n    </tr>\n    <tr>\n      <th>2</th>\n      <td>8</td>\n      <td>Female</td>\n      <td>56</td>\n      <td>28.0</td>\n      <td>26.0</td>\n    </tr>\n    <tr>\n      <th>3</th>\n      <td>11</td>\n      <td>Female</td>\n      <td>47</td>\n      <td>35.0</td>\n      <td>124.0</td>\n    </tr>\n    <tr>\n      <th>4</th>\n      <td>14</td>\n      <td>Male</td>\n      <td>76</td>\n      <td>28.0</td>\n      <td>13.0</td>\n    </tr>\n    <tr>\n      <th>5</th>\n      <td>15</td>\n      <td>Male</td>\n      <td>71</td>\n      <td>28.0</td>\n      <td>30.0</td>\n    </tr>\n    <tr>\n      <th>6</th>\n      <td>20</td>\n      <td>Female</td>\n      <td>60</td>\n      <td>33.0</td>\n      <td>124.0</td>\n    </tr>\n    <tr>\n      <th>7</th>\n      <td>21</td>\n      <td>Male</td>\n      <td>65</td>\n      <td>28.0</td>\n      <td>124.0</td>\n    </tr>\n    <tr>\n      <th>8</th>\n      <td>22</td>\n      <td>Male</td>\n      <td>49</td>\n      <td>28.0</td>\n      <td>124.0</td>\n    </tr>\n    <tr>\n      <th>9</th>\n      <td>27</td>\n      <td>Female</td>\n      <td>51</td>\n      <td>28.0</td>\n      <td>124.0</td>\n    </tr>\n  </tbody>\n</table>\n</div>",
      "text/plain": "    0       1   2     3      4\n0   2    Male  76   3.0   26.0\n1   3    Male  47  28.0   26.0\n2   8  Female  56  28.0   26.0\n3  11  Female  47  35.0  124.0\n4  14    Male  76  28.0   13.0\n5  15    Male  71  28.0   30.0\n6  20  Female  60  33.0  124.0\n7  21    Male  65  28.0  124.0\n8  22    Male  49  28.0  124.0\n9  27  Female  51  28.0  124.0"
     },
     "execution_count": 34,
     "metadata": {},
     "output_type": "execute_result"
    }
   ]
  },
  {
   "cell_type": "markdown",
   "source": "# Collect data using pandas",
   "metadata": {
    "cell_id": "00005-8857ab4f-f671-4688-b02c-870e490bea95",
    "deepnote_cell_type": "markdown",
    "deepnote_cell_height": 81.60000610351562
   }
  },
  {
   "cell_type": "code",
   "metadata": {
    "ExecuteTime": {
     "end_time": "2022-08-10T18:41:54.454277Z",
     "start_time": "2022-08-10T18:41:54.434531Z"
    },
    "cell_id": "00006-0e9d7e72-a39c-4531-a58f-31ab49daacd3",
    "deepnote_cell_type": "code"
   },
   "source": "import pandas.io.sql as psql",
   "execution_count": null,
   "outputs": []
  },
  {
   "cell_type": "code",
   "metadata": {
    "ExecuteTime": {
     "end_time": "2022-08-10T18:42:37.764493Z",
     "start_time": "2022-08-10T18:42:37.214538Z"
    },
    "cell_id": "00007-c8197b24-270f-421f-be3d-d929b5f500b6",
    "deepnote_cell_type": "code"
   },
   "source": "query_schema = \"\"\"\n    SELECT *\n    FROM pa004.users u\n    WHERE u.age > 44\n    LIMIT 10\n\"\"\"\n\ndf = psql.read_sql(query_schema,conn)\ndf.head()",
   "execution_count": null,
   "outputs": [
    {
     "data": {
      "text/html": "<div>\n<style scoped>\n    .dataframe tbody tr th:only-of-type {\n        vertical-align: middle;\n    }\n\n    .dataframe tbody tr th {\n        vertical-align: top;\n    }\n\n    .dataframe thead th {\n        text-align: right;\n    }\n</style>\n<table border=\"1\" class=\"dataframe\">\n  <thead>\n    <tr style=\"text-align: right;\">\n      <th></th>\n      <th>id</th>\n      <th>gender</th>\n      <th>age</th>\n      <th>region_code</th>\n      <th>policy_sales_channel</th>\n    </tr>\n  </thead>\n  <tbody>\n    <tr>\n      <th>0</th>\n      <td>2</td>\n      <td>Male</td>\n      <td>76</td>\n      <td>3.0</td>\n      <td>26.0</td>\n    </tr>\n    <tr>\n      <th>1</th>\n      <td>3</td>\n      <td>Male</td>\n      <td>47</td>\n      <td>28.0</td>\n      <td>26.0</td>\n    </tr>\n    <tr>\n      <th>2</th>\n      <td>8</td>\n      <td>Female</td>\n      <td>56</td>\n      <td>28.0</td>\n      <td>26.0</td>\n    </tr>\n    <tr>\n      <th>3</th>\n      <td>11</td>\n      <td>Female</td>\n      <td>47</td>\n      <td>35.0</td>\n      <td>124.0</td>\n    </tr>\n    <tr>\n      <th>4</th>\n      <td>14</td>\n      <td>Male</td>\n      <td>76</td>\n      <td>28.0</td>\n      <td>13.0</td>\n    </tr>\n  </tbody>\n</table>\n</div>",
      "text/plain": "   id  gender  age  region_code  policy_sales_channel\n0   2    Male   76          3.0                  26.0\n1   3    Male   47         28.0                  26.0\n2   8  Female   56         28.0                  26.0\n3  11  Female   47         35.0                 124.0\n4  14    Male   76         28.0                  13.0"
     },
     "execution_count": 37,
     "metadata": {},
     "output_type": "execute_result"
    }
   ]
  },
  {
   "cell_type": "code",
   "metadata": {
    "ExecuteTime": {
     "end_time": "2022-08-10T18:55:22.914458Z",
     "start_time": "2022-08-10T18:55:22.793826Z"
    },
    "cell_id": "00008-8f541203-24fb-4647-ae85-a9d8695418d8",
    "deepnote_cell_type": "code"
   },
   "source": "df = pd.read_sql(query_schema,conn)",
   "execution_count": null,
   "outputs": []
  },
  {
   "cell_type": "code",
   "metadata": {
    "ExecuteTime": {
     "end_time": "2022-08-10T18:55:27.024171Z",
     "start_time": "2022-08-10T18:55:26.984234Z"
    },
    "cell_id": "00009-5fde3029-109a-4fb7-ade9-2d6033cea61b",
    "deepnote_cell_type": "code"
   },
   "source": "df",
   "execution_count": null,
   "outputs": [
    {
     "data": {
      "text/html": "<div>\n<style scoped>\n    .dataframe tbody tr th:only-of-type {\n        vertical-align: middle;\n    }\n\n    .dataframe tbody tr th {\n        vertical-align: top;\n    }\n\n    .dataframe thead th {\n        text-align: right;\n    }\n</style>\n<table border=\"1\" class=\"dataframe\">\n  <thead>\n    <tr style=\"text-align: right;\">\n      <th></th>\n      <th>id</th>\n      <th>gender</th>\n      <th>age</th>\n      <th>region_code</th>\n      <th>policy_sales_channel</th>\n    </tr>\n  </thead>\n  <tbody>\n    <tr>\n      <th>0</th>\n      <td>2</td>\n      <td>Male</td>\n      <td>76</td>\n      <td>3.0</td>\n      <td>26.0</td>\n    </tr>\n    <tr>\n      <th>1</th>\n      <td>3</td>\n      <td>Male</td>\n      <td>47</td>\n      <td>28.0</td>\n      <td>26.0</td>\n    </tr>\n    <tr>\n      <th>2</th>\n      <td>8</td>\n      <td>Female</td>\n      <td>56</td>\n      <td>28.0</td>\n      <td>26.0</td>\n    </tr>\n    <tr>\n      <th>3</th>\n      <td>11</td>\n      <td>Female</td>\n      <td>47</td>\n      <td>35.0</td>\n      <td>124.0</td>\n    </tr>\n    <tr>\n      <th>4</th>\n      <td>14</td>\n      <td>Male</td>\n      <td>76</td>\n      <td>28.0</td>\n      <td>13.0</td>\n    </tr>\n    <tr>\n      <th>5</th>\n      <td>15</td>\n      <td>Male</td>\n      <td>71</td>\n      <td>28.0</td>\n      <td>30.0</td>\n    </tr>\n    <tr>\n      <th>6</th>\n      <td>20</td>\n      <td>Female</td>\n      <td>60</td>\n      <td>33.0</td>\n      <td>124.0</td>\n    </tr>\n    <tr>\n      <th>7</th>\n      <td>21</td>\n      <td>Male</td>\n      <td>65</td>\n      <td>28.0</td>\n      <td>124.0</td>\n    </tr>\n    <tr>\n      <th>8</th>\n      <td>22</td>\n      <td>Male</td>\n      <td>49</td>\n      <td>28.0</td>\n      <td>124.0</td>\n    </tr>\n    <tr>\n      <th>9</th>\n      <td>27</td>\n      <td>Female</td>\n      <td>51</td>\n      <td>28.0</td>\n      <td>124.0</td>\n    </tr>\n  </tbody>\n</table>\n</div>",
      "text/plain": "   id  gender  age  region_code  policy_sales_channel\n0   2    Male   76          3.0                  26.0\n1   3    Male   47         28.0                  26.0\n2   8  Female   56         28.0                  26.0\n3  11  Female   47         35.0                 124.0\n4  14    Male   76         28.0                  13.0\n5  15    Male   71         28.0                  30.0\n6  20  Female   60         33.0                 124.0\n7  21    Male   65         28.0                 124.0\n8  22    Male   49         28.0                 124.0\n9  27  Female   51         28.0                 124.0"
     },
     "execution_count": 39,
     "metadata": {},
     "output_type": "execute_result"
    }
   ]
  },
  {
   "cell_type": "markdown",
   "source": "<a style='text-decoration:none;line-height:16px;display:flex;color:#5B5B62;padding:10px;justify-content:end;' href='https://deepnote.com?utm_source=created-in-deepnote-cell&projectId=3161d838-98a4-47ed-ae81-127ad2068af4' target=\"_blank\">\n<img alt='Created in deepnote.com' style='display:inline;max-height:16px;margin:0px;margin-right:7.5px;' src='data:image/svg+xml;base64,PD94bWwgdmVyc2lvbj0iMS4wIiBlbmNvZGluZz0iVVRGLTgiPz4KPHN2ZyB3aWR0aD0iODBweCIgaGVpZ2h0PSI4MHB4IiB2aWV3Qm94PSIwIDAgODAgODAiIHZlcnNpb249IjEuMSIgeG1sbnM9Imh0dHA6Ly93d3cudzMub3JnLzIwMDAvc3ZnIiB4bWxuczp4bGluaz0iaHR0cDovL3d3dy53My5vcmcvMTk5OS94bGluayI+CiAgICA8IS0tIEdlbmVyYXRvcjogU2tldGNoIDU0LjEgKDc2NDkwKSAtIGh0dHBzOi8vc2tldGNoYXBwLmNvbSAtLT4KICAgIDx0aXRsZT5Hcm91cCAzPC90aXRsZT4KICAgIDxkZXNjPkNyZWF0ZWQgd2l0aCBTa2V0Y2guPC9kZXNjPgogICAgPGcgaWQ9IkxhbmRpbmciIHN0cm9rZT0ibm9uZSIgc3Ryb2tlLXdpZHRoPSIxIiBmaWxsPSJub25lIiBmaWxsLXJ1bGU9ImV2ZW5vZGQiPgogICAgICAgIDxnIGlkPSJBcnRib2FyZCIgdHJhbnNmb3JtPSJ0cmFuc2xhdGUoLTEyMzUuMDAwMDAwLCAtNzkuMDAwMDAwKSI+CiAgICAgICAgICAgIDxnIGlkPSJHcm91cC0zIiB0cmFuc2Zvcm09InRyYW5zbGF0ZSgxMjM1LjAwMDAwMCwgNzkuMDAwMDAwKSI+CiAgICAgICAgICAgICAgICA8cG9seWdvbiBpZD0iUGF0aC0yMCIgZmlsbD0iIzAyNjVCNCIgcG9pbnRzPSIyLjM3NjIzNzYyIDgwIDM4LjA0NzY2NjcgODAgNTcuODIxNzgyMiA3My44MDU3NTkyIDU3LjgyMTc4MjIgMzIuNzU5MjczOSAzOS4xNDAyMjc4IDMxLjY4MzE2ODMiPjwvcG9seWdvbj4KICAgICAgICAgICAgICAgIDxwYXRoIGQ9Ik0zNS4wMDc3MTgsODAgQzQyLjkwNjIwMDcsNzYuNDU0OTM1OCA0Ny41NjQ5MTY3LDcxLjU0MjI2NzEgNDguOTgzODY2LDY1LjI2MTk5MzkgQzUxLjExMjI4OTksNTUuODQxNTg0MiA0MS42NzcxNzk1LDQ5LjIxMjIyODQgMjUuNjIzOTg0Niw0OS4yMTIyMjg0IEMyNS40ODQ5Mjg5LDQ5LjEyNjg0NDggMjkuODI2MTI5Niw0My4yODM4MjQ4IDM4LjY0NzU4NjksMzEuNjgzMTY4MyBMNzIuODcxMjg3MSwzMi41NTQ0MjUgTDY1LjI4MDk3Myw2Ny42NzYzNDIxIEw1MS4xMTIyODk5LDc3LjM3NjE0NCBMMzUuMDA3NzE4LDgwIFoiIGlkPSJQYXRoLTIyIiBmaWxsPSIjMDAyODY4Ij48L3BhdGg+CiAgICAgICAgICAgICAgICA8cGF0aCBkPSJNMCwzNy43MzA0NDA1IEwyNy4xMTQ1MzcsMC4yNTcxMTE0MzYgQzYyLjM3MTUxMjMsLTEuOTkwNzE3MDEgODAsMTAuNTAwMzkyNyA4MCwzNy43MzA0NDA1IEM4MCw2NC45NjA0ODgyIDY0Ljc3NjUwMzgsNzkuMDUwMzQxNCAzNC4zMjk1MTEzLDgwIEM0Ny4wNTUzNDg5LDc3LjU2NzA4MDggNTMuNDE4MjY3Nyw3MC4zMTM2MTAzIDUzLjQxODI2NzcsNTguMjM5NTg4NSBDNTMuNDE4MjY3Nyw0MC4xMjg1NTU3IDM2LjMwMzk1NDQsMzcuNzMwNDQwNSAyNS4yMjc0MTcsMzcuNzMwNDQwNSBDMTcuODQzMDU4NiwzNy43MzA0NDA1IDkuNDMzOTE5NjYsMzcuNzMwNDQwNSAwLDM3LjczMDQ0MDUgWiIgaWQ9IlBhdGgtMTkiIGZpbGw9IiMzNzkzRUYiPjwvcGF0aD4KICAgICAgICAgICAgPC9nPgogICAgICAgIDwvZz4KICAgIDwvZz4KPC9zdmc+' > </img>\nCreated in <span style='font-weight:600;margin-left:4px;'>Deepnote</span></a>",
   "metadata": {
    "tags": [],
    "created_in_deepnote_cell": true,
    "deepnote_cell_type": "markdown"
   }
  }
 ],
 "nbformat": 4,
 "nbformat_minor": 4,
 "metadata": {
  "kernelspec": {
   "display_name": "Python 3",
   "language": "python",
   "name": "python3"
  },
  "language_info": {
   "codemirror_mode": {
    "name": "ipython",
    "version": 3
   },
   "file_extension": ".py",
   "mimetype": "text/x-python",
   "name": "python",
   "nbconvert_exporter": "python",
   "pygments_lexer": "ipython3",
   "version": "3.8.5"
  },
  "deepnote_notebook_id": "6c1528f6-9846-4fc2-bc17-838e3f54e567",
  "deepnote": {},
  "deepnote_execution_queue": []
 }
}