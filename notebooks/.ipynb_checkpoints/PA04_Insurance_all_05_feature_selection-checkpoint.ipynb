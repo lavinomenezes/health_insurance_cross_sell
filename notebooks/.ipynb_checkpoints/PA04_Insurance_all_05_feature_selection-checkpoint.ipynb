{
 "cells": [
  {
   "cell_type": "markdown",
   "metadata": {
    "cell_id": "212708af50214a78910b537f94e104c6",
    "deepnote_cell_height": 82,
    "deepnote_cell_type": "markdown",
    "id": "BWVI2qPPG8ws",
    "tags": []
   },
   "source": [
    "# Imports"
   ]
  },
  {
   "cell_type": "code",
   "execution_count": 1,
   "metadata": {
    "ExecuteTime": {
     "end_time": "2022-09-19T19:00:10.875667Z",
     "start_time": "2022-09-19T19:00:08.670280Z"
    },
    "cell_id": "5e7d084a-f3be-4dbf-8839-c97912c25066",
    "deepnote_cell_height": 292,
    "deepnote_cell_type": "code",
    "deepnote_to_be_reexecuted": false,
    "executionInfo": {
     "elapsed": 1176,
     "status": "ok",
     "timestamp": 1665676861221,
     "user": {
      "displayName": "Lavis",
      "userId": "11464059397454562428"
     },
     "user_tz": 180
    },
    "execution_millis": 2,
    "execution_start": 1661952379174,
    "id": "MMUDw3JSG8wv",
    "source_hash": "b2b0f8e8",
    "tags": []
   },
   "outputs": [],
   "source": [
    "import pandas as pd\n",
    "import numpy as np\n",
    "import seaborn as sns\n",
    "import matplotlib.pyplot as plt\n",
    "from IPython.core.display import HTML\n",
    "from IPython.display import Image\n",
    "from scipy import stats\n",
    "from sklearn.model_selection import train_test_split\n",
    "from boruta import BorutaPy\n",
    "from sklearn.ensemble import RandomForestRegressor\n",
    "\n",
    "\n",
    "from sklearn.ensemble import ExtraTreesClassifier"
   ]
  },
  {
   "cell_type": "markdown",
   "metadata": {
    "cell_id": "1289ff42ed1b4ba893e01759d632e489",
    "deepnote_cell_height": 82,
    "deepnote_cell_type": "markdown",
    "deepnote_to_be_reexecuted": false,
    "execution_millis": 2,
    "execution_start": 1661864259673,
    "id": "IOjF5zIHG8wx",
    "source_hash": "7e52a908",
    "tags": []
   },
   "source": [
    "# Helper functions"
   ]
  },
  {
   "cell_type": "code",
   "execution_count": 2,
   "metadata": {
    "ExecuteTime": {
     "end_time": "2022-09-19T19:00:10.929042Z",
     "start_time": "2022-09-19T19:00:10.875667Z"
    },
    "cell_id": "ed3fd78355f94579a665b0fa4d1ddfe7",
    "colab": {
     "base_uri": "https://localhost:8080/",
     "height": 34
    },
    "deepnote_cell_height": 308.3999938964844,
    "deepnote_cell_type": "code",
    "deepnote_output_heights": [
     null,
     1
    ],
    "deepnote_to_be_reexecuted": false,
    "executionInfo": {
     "elapsed": 23,
     "status": "ok",
     "timestamp": 1665676861222,
     "user": {
      "displayName": "Lavis",
      "userId": "11464059397454562428"
     },
     "user_tz": 180
    },
    "execution_millis": 557,
    "execution_start": 1661948138401,
    "id": "oF8YKUwDG8wy",
    "outputId": "cbabcbe1-3190-4d73-8751-f1ad332ba97b",
    "source_hash": "46a4bb4d",
    "tags": []
   },
   "outputs": [
    {
     "name": "stdout",
     "output_type": "stream",
     "text": [
      "Populating the interactive namespace from numpy and matplotlib\n"
     ]
    },
    {
     "data": {
      "text/html": [
       "<style>.container { width:100% !important; }</style>"
      ],
      "text/plain": [
       "<IPython.core.display.HTML object>"
      ]
     },
     "metadata": {},
     "output_type": "display_data"
    }
   ],
   "source": [
    "def jupyter_settings():\n",
    "    %matplotlib inline\n",
    "    %pylab inline\n",
    "    plt.style.use( 'bmh' )\n",
    "    plt.rcParams['figure.figsize'] = [25, 12]\n",
    "    plt.rcParams['font.size'] = 24\n",
    "    display( HTML( '<style>.container { width:100% !important; }</style>') )\n",
    "    sns.set()\n",
    "jupyter_settings()"
   ]
  },
  {
   "cell_type": "markdown",
   "metadata": {
    "cell_id": "588de57180ca403db6d9b5681a5d4417",
    "deepnote_cell_height": 82,
    "deepnote_cell_type": "markdown",
    "id": "LfdGvFK8G8wz",
    "tags": []
   },
   "source": [
    "# Load data"
   ]
  },
  {
   "cell_type": "code",
   "execution_count": 4,
   "metadata": {
    "ExecuteTime": {
     "end_time": "2022-09-19T19:00:11.561755Z",
     "start_time": "2022-09-19T19:00:10.929042Z"
    },
    "cell_id": "cead86bb780842739ab760f76b30e879",
    "deepnote_cell_height": 76,
    "deepnote_cell_type": "code",
    "deepnote_to_be_reexecuted": false,
    "executionInfo": {
     "elapsed": 1763,
     "status": "ok",
     "timestamp": 1665676885224,
     "user": {
      "displayName": "Lavis",
      "userId": "11464059397454562428"
     },
     "user_tz": 180
    },
    "execution_millis": 505,
    "execution_start": 1661948138503,
    "id": "bgnrYduWG8wz",
    "source_hash": "1b473213",
    "tags": []
   },
   "outputs": [],
   "source": [
    "df5 = pd.read_csv('../data/train.csv')"
   ]
  },
  {
   "cell_type": "code",
   "execution_count": 5,
   "metadata": {
    "ExecuteTime": {
     "end_time": "2022-09-19T19:00:11.592986Z",
     "start_time": "2022-09-19T19:00:11.561755Z"
    },
    "cell_id": "3a20fe3772ad44ad8f13ebfdbc7195dc",
    "colab": {
     "base_uri": "https://localhost:8080/",
     "height": 206
    },
    "deepnote_cell_height": 390,
    "deepnote_cell_type": "code",
    "deepnote_output_heights": [
     176
    ],
    "deepnote_to_be_reexecuted": false,
    "executionInfo": {
     "elapsed": 19,
     "status": "ok",
     "timestamp": 1665676885225,
     "user": {
      "displayName": "Lavis",
      "userId": "11464059397454562428"
     },
     "user_tz": 180
    },
    "execution_millis": 52,
    "execution_start": 1661948139017,
    "id": "_bvJW52YG8w0",
    "outputId": "1c512bdf-ee87-4b4b-9cb4-a61804364f68",
    "source_hash": "306cd46f",
    "tags": []
   },
   "outputs": [
    {
     "data": {
      "text/html": [
       "\n",
       "  <div id=\"df-01d68ac6-0486-427f-bd92-13e32bb78fae\">\n",
       "    <div class=\"colab-df-container\">\n",
       "      <div>\n",
       "<style scoped>\n",
       "    .dataframe tbody tr th:only-of-type {\n",
       "        vertical-align: middle;\n",
       "    }\n",
       "\n",
       "    .dataframe tbody tr th {\n",
       "        vertical-align: top;\n",
       "    }\n",
       "\n",
       "    .dataframe thead th {\n",
       "        text-align: right;\n",
       "    }\n",
       "</style>\n",
       "<table border=\"1\" class=\"dataframe\">\n",
       "  <thead>\n",
       "    <tr style=\"text-align: right;\">\n",
       "      <th></th>\n",
       "      <th>id</th>\n",
       "      <th>gender</th>\n",
       "      <th>age</th>\n",
       "      <th>region_code</th>\n",
       "      <th>policy_sales_channel</th>\n",
       "      <th>previously_insured</th>\n",
       "      <th>annual_premium</th>\n",
       "      <th>vintage</th>\n",
       "      <th>vehicle_age</th>\n",
       "      <th>vehicle_damage</th>\n",
       "      <th>response</th>\n",
       "    </tr>\n",
       "  </thead>\n",
       "  <tbody>\n",
       "    <tr>\n",
       "      <th>0</th>\n",
       "      <td>122366</td>\n",
       "      <td>0</td>\n",
       "      <td>0.523077</td>\n",
       "      <td>28.0</td>\n",
       "      <td>26.0</td>\n",
       "      <td>0</td>\n",
       "      <td>0.095128</td>\n",
       "      <td>0.394464</td>\n",
       "      <td>2</td>\n",
       "      <td>1</td>\n",
       "      <td>0</td>\n",
       "    </tr>\n",
       "    <tr>\n",
       "      <th>1</th>\n",
       "      <td>356644</td>\n",
       "      <td>1</td>\n",
       "      <td>0.046154</td>\n",
       "      <td>28.0</td>\n",
       "      <td>26.0</td>\n",
       "      <td>1</td>\n",
       "      <td>-1.622718</td>\n",
       "      <td>0.391003</td>\n",
       "      <td>1</td>\n",
       "      <td>0</td>\n",
       "      <td>0</td>\n",
       "    </tr>\n",
       "    <tr>\n",
       "      <th>2</th>\n",
       "      <td>268103</td>\n",
       "      <td>0</td>\n",
       "      <td>0.046154</td>\n",
       "      <td>22.0</td>\n",
       "      <td>152.0</td>\n",
       "      <td>0</td>\n",
       "      <td>0.024423</td>\n",
       "      <td>0.384083</td>\n",
       "      <td>1</td>\n",
       "      <td>1</td>\n",
       "      <td>0</td>\n",
       "    </tr>\n",
       "    <tr>\n",
       "      <th>3</th>\n",
       "      <td>195185</td>\n",
       "      <td>1</td>\n",
       "      <td>0.138462</td>\n",
       "      <td>24.0</td>\n",
       "      <td>26.0</td>\n",
       "      <td>1</td>\n",
       "      <td>0.039005</td>\n",
       "      <td>0.584775</td>\n",
       "      <td>2</td>\n",
       "      <td>0</td>\n",
       "      <td>0</td>\n",
       "    </tr>\n",
       "    <tr>\n",
       "      <th>4</th>\n",
       "      <td>13836</td>\n",
       "      <td>1</td>\n",
       "      <td>0.107692</td>\n",
       "      <td>28.0</td>\n",
       "      <td>152.0</td>\n",
       "      <td>1</td>\n",
       "      <td>0.162406</td>\n",
       "      <td>0.238754</td>\n",
       "      <td>1</td>\n",
       "      <td>0</td>\n",
       "      <td>0</td>\n",
       "    </tr>\n",
       "  </tbody>\n",
       "</table>\n",
       "</div>\n",
       "      <button class=\"colab-df-convert\" onclick=\"convertToInteractive('df-01d68ac6-0486-427f-bd92-13e32bb78fae')\"\n",
       "              title=\"Convert this dataframe to an interactive table.\"\n",
       "              style=\"display:none;\">\n",
       "        \n",
       "  <svg xmlns=\"http://www.w3.org/2000/svg\" height=\"24px\"viewBox=\"0 0 24 24\"\n",
       "       width=\"24px\">\n",
       "    <path d=\"M0 0h24v24H0V0z\" fill=\"none\"/>\n",
       "    <path d=\"M18.56 5.44l.94 2.06.94-2.06 2.06-.94-2.06-.94-.94-2.06-.94 2.06-2.06.94zm-11 1L8.5 8.5l.94-2.06 2.06-.94-2.06-.94L8.5 2.5l-.94 2.06-2.06.94zm10 10l.94 2.06.94-2.06 2.06-.94-2.06-.94-.94-2.06-.94 2.06-2.06.94z\"/><path d=\"M17.41 7.96l-1.37-1.37c-.4-.4-.92-.59-1.43-.59-.52 0-1.04.2-1.43.59L10.3 9.45l-7.72 7.72c-.78.78-.78 2.05 0 2.83L4 21.41c.39.39.9.59 1.41.59.51 0 1.02-.2 1.41-.59l7.78-7.78 2.81-2.81c.8-.78.8-2.07 0-2.86zM5.41 20L4 18.59l7.72-7.72 1.47 1.35L5.41 20z\"/>\n",
       "  </svg>\n",
       "      </button>\n",
       "      \n",
       "  <style>\n",
       "    .colab-df-container {\n",
       "      display:flex;\n",
       "      flex-wrap:wrap;\n",
       "      gap: 12px;\n",
       "    }\n",
       "\n",
       "    .colab-df-convert {\n",
       "      background-color: #E8F0FE;\n",
       "      border: none;\n",
       "      border-radius: 50%;\n",
       "      cursor: pointer;\n",
       "      display: none;\n",
       "      fill: #1967D2;\n",
       "      height: 32px;\n",
       "      padding: 0 0 0 0;\n",
       "      width: 32px;\n",
       "    }\n",
       "\n",
       "    .colab-df-convert:hover {\n",
       "      background-color: #E2EBFA;\n",
       "      box-shadow: 0px 1px 2px rgba(60, 64, 67, 0.3), 0px 1px 3px 1px rgba(60, 64, 67, 0.15);\n",
       "      fill: #174EA6;\n",
       "    }\n",
       "\n",
       "    [theme=dark] .colab-df-convert {\n",
       "      background-color: #3B4455;\n",
       "      fill: #D2E3FC;\n",
       "    }\n",
       "\n",
       "    [theme=dark] .colab-df-convert:hover {\n",
       "      background-color: #434B5C;\n",
       "      box-shadow: 0px 1px 3px 1px rgba(0, 0, 0, 0.15);\n",
       "      filter: drop-shadow(0px 1px 2px rgba(0, 0, 0, 0.3));\n",
       "      fill: #FFFFFF;\n",
       "    }\n",
       "  </style>\n",
       "\n",
       "      <script>\n",
       "        const buttonEl =\n",
       "          document.querySelector('#df-01d68ac6-0486-427f-bd92-13e32bb78fae button.colab-df-convert');\n",
       "        buttonEl.style.display =\n",
       "          google.colab.kernel.accessAllowed ? 'block' : 'none';\n",
       "\n",
       "        async function convertToInteractive(key) {\n",
       "          const element = document.querySelector('#df-01d68ac6-0486-427f-bd92-13e32bb78fae');\n",
       "          const dataTable =\n",
       "            await google.colab.kernel.invokeFunction('convertToInteractive',\n",
       "                                                     [key], {});\n",
       "          if (!dataTable) return;\n",
       "\n",
       "          const docLinkHtml = 'Like what you see? Visit the ' +\n",
       "            '<a target=\"_blank\" href=https://colab.research.google.com/notebooks/data_table.ipynb>data table notebook</a>'\n",
       "            + ' to learn more about interactive tables.';\n",
       "          element.innerHTML = '';\n",
       "          dataTable['output_type'] = 'display_data';\n",
       "          await google.colab.output.renderOutput(dataTable, element);\n",
       "          const docLink = document.createElement('div');\n",
       "          docLink.innerHTML = docLinkHtml;\n",
       "          element.appendChild(docLink);\n",
       "        }\n",
       "      </script>\n",
       "    </div>\n",
       "  </div>\n",
       "  "
      ],
      "text/plain": [
       "       id  gender       age  region_code  policy_sales_channel  \\\n",
       "0  122366       0  0.523077         28.0                  26.0   \n",
       "1  356644       1  0.046154         28.0                  26.0   \n",
       "2  268103       0  0.046154         22.0                 152.0   \n",
       "3  195185       1  0.138462         24.0                  26.0   \n",
       "4   13836       1  0.107692         28.0                 152.0   \n",
       "\n",
       "   previously_insured  annual_premium   vintage  vehicle_age  vehicle_damage  \\\n",
       "0                   0        0.095128  0.394464            2               1   \n",
       "1                   1       -1.622718  0.391003            1               0   \n",
       "2                   0        0.024423  0.384083            1               1   \n",
       "3                   1        0.039005  0.584775            2               0   \n",
       "4                   1        0.162406  0.238754            1               0   \n",
       "\n",
       "   response  \n",
       "0         0  \n",
       "1         0  \n",
       "2         0  \n",
       "3         0  \n",
       "4         0  "
      ]
     },
     "execution_count": 5,
     "metadata": {},
     "output_type": "execute_result"
    }
   ],
   "source": [
    "df5.head()"
   ]
  },
  {
   "cell_type": "code",
   "execution_count": 6,
   "metadata": {
    "colab": {
     "base_uri": "https://localhost:8080/"
    },
    "executionInfo": {
     "elapsed": 18,
     "status": "ok",
     "timestamp": 1665676885226,
     "user": {
      "displayName": "Lavis",
      "userId": "11464059397454562428"
     },
     "user_tz": 180
    },
    "id": "0R5sX1i5WHt-",
    "outputId": "7893c53d-fa22-4d0d-9ceb-8558973f64d0"
   },
   "outputs": [
    {
     "data": {
      "text/plain": [
       "(266207, 11)"
      ]
     },
     "execution_count": 6,
     "metadata": {},
     "output_type": "execute_result"
    }
   ],
   "source": [
    "df5.shape"
   ]
  },
  {
   "cell_type": "code",
   "execution_count": 7,
   "metadata": {
    "ExecuteTime": {
     "end_time": "2022-09-19T19:00:11.630758Z",
     "start_time": "2022-09-19T19:00:11.592986Z"
    },
    "cell_id": "acdac1df05194ee88515cba7cb2e91a9",
    "colab": {
     "base_uri": "https://localhost:8080/"
    },
    "deepnote_cell_height": 323,
    "deepnote_cell_type": "code",
    "deepnote_output_heights": [
     231
    ],
    "deepnote_to_be_reexecuted": false,
    "executionInfo": {
     "elapsed": 17,
     "status": "ok",
     "timestamp": 1665676885227,
     "user": {
      "displayName": "Lavis",
      "userId": "11464059397454562428"
     },
     "user_tz": 180
    },
    "execution_millis": 5,
    "execution_start": 1661948139075,
    "id": "XUA4W34dG8w1",
    "outputId": "78ca8cba-02c0-409f-f514-92530e0e468f",
    "source_hash": "24a6343e",
    "tags": []
   },
   "outputs": [
    {
     "data": {
      "text/plain": [
       "id                        int64\n",
       "gender                    int64\n",
       "age                     float64\n",
       "region_code             float64\n",
       "policy_sales_channel    float64\n",
       "previously_insured        int64\n",
       "annual_premium          float64\n",
       "vintage                 float64\n",
       "vehicle_age               int64\n",
       "vehicle_damage            int64\n",
       "response                  int64\n",
       "dtype: object"
      ]
     },
     "execution_count": 7,
     "metadata": {},
     "output_type": "execute_result"
    }
   ],
   "source": [
    "df5.dtypes"
   ]
  },
  {
   "cell_type": "code",
   "execution_count": 8,
   "metadata": {
    "ExecuteTime": {
     "end_time": "2022-09-19T19:00:12.009591Z",
     "start_time": "2022-09-19T19:00:11.993967Z"
    },
    "cell_id": "00010-5ea9aa33-c10a-4ea3-9082-ec4706ee3233",
    "deepnote_cell_height": 184,
    "deepnote_cell_type": "code",
    "deepnote_to_be_reexecuted": false,
    "executionInfo": {
     "elapsed": 15,
     "status": "ok",
     "timestamp": 1665676885228,
     "user": {
      "displayName": "Lavis",
      "userId": "11464059397454562428"
     },
     "user_tz": 180
    },
    "execution_millis": 3,
    "execution_start": 1661948139251,
    "id": "9MRZ4irOG8w3",
    "source_hash": "e1391210"
   },
   "outputs": [],
   "source": [
    "# train dataframes\n",
    "X_train = df5\n",
    "y_train = X_train['response']"
   ]
  },
  {
   "cell_type": "markdown",
   "metadata": {
    "cell_id": "00011-85c059e5-3a5e-4a7d-8cbf-23a32d4698f8",
    "deepnote_cell_height": 82,
    "deepnote_cell_type": "markdown",
    "id": "5IMOZrNOG8w4"
   },
   "source": [
    "# Feature Selection"
   ]
  },
  {
   "cell_type": "markdown",
   "metadata": {
    "cell_id": "00012-95da5403-0c0f-4a45-bc78-bf6f8c5e3d60",
    "deepnote_cell_height": 70,
    "deepnote_cell_type": "markdown",
    "id": "Dkas4DwiG8w4"
   },
   "source": [
    "## Boruta"
   ]
  },
  {
   "cell_type": "code",
   "execution_count": 9,
   "metadata": {
    "ExecuteTime": {
     "end_time": "2022-09-19T19:00:12.062971Z",
     "start_time": "2022-09-19T19:00:12.009591Z"
    },
    "cell_id": "00013-832633a2-3d9e-481e-89c0-96f91187e63d",
    "deepnote_cell_height": 166,
    "deepnote_cell_type": "code",
    "deepnote_to_be_reexecuted": false,
    "executionInfo": {
     "elapsed": 15,
     "status": "ok",
     "timestamp": 1665676885228,
     "user": {
      "displayName": "Lavis",
      "userId": "11464059397454562428"
     },
     "user_tz": 180
    },
    "execution_millis": 12,
    "execution_start": 1661948139268,
    "id": "rXs7PZMXG8w5",
    "source_hash": "6453fcf"
   },
   "outputs": [],
   "source": [
    "# training and teste dataset for boruta\n",
    "X_train_n = X_train.drop(columns=['id','response'])\n",
    "y_train_n = y_train.values.ravel()\n",
    "\n",
    "#define RandonForestRegressor\n",
    "rf = RandomForestRegressor(n_jobs=-1)"
   ]
  },
  {
   "cell_type": "code",
   "execution_count": 10,
   "metadata": {
    "ExecuteTime": {
     "end_time": "2022-09-19T19:00:12.078590Z",
     "start_time": "2022-09-19T19:00:12.062971Z"
    },
    "cell_id": "00014-bdd00765-4e5f-403c-bfd9-0688a58113c4",
    "deepnote_cell_height": 719,
    "deepnote_cell_type": "code",
    "deepnote_to_be_reexecuted": false,
    "executionInfo": {
     "elapsed": 15,
     "status": "ok",
     "timestamp": 1665676885229,
     "user": {
      "displayName": "Lavis",
      "userId": "11464059397454562428"
     },
     "user_tz": 180
    },
    "execution_millis": 3996734,
    "execution_start": 1661948139286,
    "id": "TW2w7HwSG8w6",
    "source_hash": "9fa8a7d7"
   },
   "outputs": [],
   "source": [
    "# boruta\n",
    "#boruta = BorutaPy(rf,n_estimators='auto',verbose=2,random_state=42).fit(X_train_n,y_train_n)"
   ]
  },
  {
   "cell_type": "code",
   "execution_count": 11,
   "metadata": {
    "ExecuteTime": {
     "end_time": "2022-09-19T19:00:12.109834Z",
     "start_time": "2022-09-19T19:00:12.078590Z"
    },
    "cell_id": "00015-ceaeb654-7b47-460e-b867-17d859bb31f6",
    "deepnote_cell_height": 171,
    "deepnote_cell_type": "code",
    "deepnote_to_be_reexecuted": false,
    "executionInfo": {
     "elapsed": 16,
     "status": "ok",
     "timestamp": 1665676885230,
     "user": {
      "displayName": "Lavis",
      "userId": "11464059397454562428"
     },
     "user_tz": 180
    },
    "execution_millis": 3,
    "execution_start": 1661952309356,
    "id": "nwl0xRzDG8w6",
    "source_hash": "7f667bd6"
   },
   "outputs": [],
   "source": [
    "# cols_selected = boruta.support_.tolist()\n",
    "\n",
    "# x_train_fs = X_train.drop(columns=['id','response'])\n",
    "# cols_selected_boruta = x_train_fs.iloc[:,cols_selected]\n",
    "\n",
    "# cols_not_selected_boruta = list(np.setdiff1d(x_train_fs.columns, cols_selected_boruta))"
   ]
  },
  {
   "cell_type": "code",
   "execution_count": 12,
   "metadata": {
    "ExecuteTime": {
     "end_time": "2022-09-19T19:00:12.131978Z",
     "start_time": "2022-09-19T19:00:12.109834Z"
    },
    "cell_id": "00016-18f2243d-322f-48e4-a561-0345b02d99bb",
    "deepnote_cell_height": 112,
    "deepnote_cell_type": "code",
    "deepnote_output_heights": [
     20
    ],
    "deepnote_to_be_reexecuted": false,
    "executionInfo": {
     "elapsed": 16,
     "status": "ok",
     "timestamp": 1665676885231,
     "user": {
      "displayName": "Lavis",
      "userId": "11464059397454562428"
     },
     "user_tz": 180
    },
    "execution_millis": 8,
    "execution_start": 1661952311803,
    "id": "AT-lnwpIG8w7",
    "source_hash": "81c5ada7"
   },
   "outputs": [],
   "source": [
    "# cols_selected_boruta.columns"
   ]
  },
  {
   "cell_type": "code",
   "execution_count": 13,
   "metadata": {
    "ExecuteTime": {
     "end_time": "2022-09-19T19:00:12.147592Z",
     "start_time": "2022-09-19T19:00:12.131978Z"
    },
    "cell_id": "30e8b04c041944a9aa7715ddfb0dbeb2",
    "deepnote_cell_height": 61,
    "deepnote_cell_type": "code",
    "executionInfo": {
     "elapsed": 16,
     "status": "ok",
     "timestamp": 1665676885231,
     "user": {
      "displayName": "Lavis",
      "userId": "11464059397454562428"
     },
     "user_tz": 180
    },
    "id": "03YCLxHbG8w8",
    "tags": []
   },
   "outputs": [],
   "source": [
    "cols_selected_boruta_final = ['vehicle_damage']"
   ]
  },
  {
   "cell_type": "markdown",
   "metadata": {
    "id": "-8Jgd4CvmJwR"
   },
   "source": [
    "**O boruta selecionou apenas um atributo, como só com uma variável não é possivel montar o modelo, seguiremos para seleção de atributos por importância.**"
   ]
  },
  {
   "cell_type": "markdown",
   "metadata": {
    "id": "qUn-SVMdm1u9"
   },
   "source": [
    "**Boruta just selected only one atribute, it's not possible to build the model with only one variable, we will proceed to attribute selection by importance**"
   ]
  },
  {
   "cell_type": "markdown",
   "metadata": {
    "cell_id": "7ded9cccf5574c8ebb1a1bd2b9208b85",
    "deepnote_cell_height": 70,
    "deepnote_cell_type": "markdown",
    "id": "ebn9EzYpG8w9",
    "tags": []
   },
   "source": [
    "## Feature importance"
   ]
  },
  {
   "cell_type": "code",
   "execution_count": 14,
   "metadata": {
    "ExecuteTime": {
     "end_time": "2022-09-19T19:00:12.163212Z",
     "start_time": "2022-09-19T19:00:12.147592Z"
    },
    "cell_id": "ea500143396b44cb9755c0830dfdb661",
    "deepnote_cell_height": 81,
    "deepnote_cell_type": "code",
    "deepnote_to_be_reexecuted": false,
    "executionInfo": {
     "elapsed": 16,
     "status": "ok",
     "timestamp": 1665676885232,
     "user": {
      "displayName": "Lavis",
      "userId": "11464059397454562428"
     },
     "user_tz": 180
    },
    "execution_millis": 3,
    "execution_start": 1661952384078,
    "id": "0gkzR2wdG8w9",
    "source_hash": "b44c2198",
    "tags": []
   },
   "outputs": [],
   "source": [
    "etf = ExtraTreesClassifier(n_estimators=300,max_features='sqrt',random_state=42,n_jobs=-1)"
   ]
  },
  {
   "cell_type": "code",
   "execution_count": 15,
   "metadata": {
    "ExecuteTime": {
     "end_time": "2022-09-19T19:01:05.150567Z",
     "start_time": "2022-09-19T19:00:12.163212Z"
    },
    "cell_id": "196a16a8e8c5415aab542842e161ffa9",
    "colab": {
     "base_uri": "https://localhost:8080/"
    },
    "deepnote_cell_height": 169,
    "deepnote_cell_type": "code",
    "deepnote_output_heights": [
     59
    ],
    "deepnote_to_be_reexecuted": false,
    "executionInfo": {
     "elapsed": 59846,
     "status": "ok",
     "timestamp": 1665676945062,
     "user": {
      "displayName": "Lavis",
      "userId": "11464059397454562428"
     },
     "user_tz": 180
    },
    "execution_millis": 27497,
    "execution_start": 1661952386156,
    "id": "X7RHtaHRG8w9",
    "outputId": "b6a60e89-9120-4c81-cca3-47925458b7a1",
    "source_hash": "b16f9e59",
    "tags": []
   },
   "outputs": [
    {
     "data": {
      "text/plain": [
       "ExtraTreesClassifier(max_features='sqrt', n_estimators=300, n_jobs=-1,\n",
       "                     random_state=42)"
      ]
     },
     "execution_count": 15,
     "metadata": {},
     "output_type": "execute_result"
    }
   ],
   "source": [
    "etf.fit(X_train_n,y_train_n)"
   ]
  },
  {
   "cell_type": "code",
   "execution_count": 16,
   "metadata": {
    "ExecuteTime": {
     "end_time": "2022-09-19T19:01:18.446680Z",
     "start_time": "2022-09-19T19:01:05.176202Z"
    },
    "cell_id": "4c349ff4283b442498c2194bccef26fc",
    "deepnote_cell_height": 131,
    "deepnote_cell_type": "code",
    "deepnote_output_heights": [
     39
    ],
    "deepnote_to_be_reexecuted": false,
    "executionInfo": {
     "elapsed": 421,
     "status": "ok",
     "timestamp": 1665676945478,
     "user": {
      "displayName": "Lavis",
      "userId": "11464059397454562428"
     },
     "user_tz": 180
    },
    "execution_millis": 259,
    "execution_start": 1661952440790,
    "id": "lnl8wS-ZG8w-",
    "source_hash": "bebb6739",
    "tags": []
   },
   "outputs": [],
   "source": [
    "importances = etf.feature_importances_"
   ]
  },
  {
   "cell_type": "code",
   "execution_count": 17,
   "metadata": {
    "ExecuteTime": {
     "end_time": "2022-09-19T19:01:26.166963Z",
     "start_time": "2022-09-19T19:01:18.462033Z"
    },
    "cell_id": "7abedbc7181345f685976dabe0fac57e",
    "deepnote_cell_height": 117,
    "deepnote_cell_type": "code",
    "deepnote_to_be_reexecuted": false,
    "executionInfo": {
     "elapsed": 1481,
     "status": "ok",
     "timestamp": 1665676946957,
     "user": {
      "displayName": "Lavis",
      "userId": "11464059397454562428"
     },
     "user_tz": 180
    },
    "execution_millis": 236,
    "execution_start": 1661952519092,
    "id": "gc9ZbcHyG8w-",
    "source_hash": "fa4f862e",
    "tags": []
   },
   "outputs": [],
   "source": [
    "feature_importance_normalized = np.std([tree.feature_importances_ for tree in \n",
    "                                        etf.estimators_],\n",
    "                                        axis = 0)\n",
    "indices = np.argsort(etf.feature_importances_)[::-1]"
   ]
  },
  {
   "cell_type": "code",
   "execution_count": 18,
   "metadata": {
    "colab": {
     "base_uri": "https://localhost:8080/",
     "height": 349
    },
    "executionInfo": {
     "elapsed": 392,
     "status": "ok",
     "timestamp": 1665676947344,
     "user": {
      "displayName": "Lavis",
      "userId": "11464059397454562428"
     },
     "user_tz": 180
    },
    "id": "7GbE6xdtiHos",
    "outputId": "396c0625-c8a3-4e39-d8c9-cb26e1ea4db5"
   },
   "outputs": [
    {
     "name": "stdout",
     "output_type": "stream",
     "text": [
      "Feature ranking:\n"
     ]
    },
    {
     "data": {
      "text/html": [
       "\n",
       "  <div id=\"df-4cff85dc-7657-473d-ae47-58c009acbc34\">\n",
       "    <div class=\"colab-df-container\">\n",
       "      <div>\n",
       "<style scoped>\n",
       "    .dataframe tbody tr th:only-of-type {\n",
       "        vertical-align: middle;\n",
       "    }\n",
       "\n",
       "    .dataframe tbody tr th {\n",
       "        vertical-align: top;\n",
       "    }\n",
       "\n",
       "    .dataframe thead th {\n",
       "        text-align: right;\n",
       "    }\n",
       "</style>\n",
       "<table border=\"1\" class=\"dataframe\">\n",
       "  <thead>\n",
       "    <tr style=\"text-align: right;\">\n",
       "      <th></th>\n",
       "      <th>feature</th>\n",
       "      <th>importance</th>\n",
       "    </tr>\n",
       "  </thead>\n",
       "  <tbody>\n",
       "    <tr>\n",
       "      <th>0</th>\n",
       "      <td>vintage</td>\n",
       "      <td>0.272722</td>\n",
       "    </tr>\n",
       "    <tr>\n",
       "      <th>0</th>\n",
       "      <td>annual_premium</td>\n",
       "      <td>0.240886</td>\n",
       "    </tr>\n",
       "    <tr>\n",
       "      <th>0</th>\n",
       "      <td>age</td>\n",
       "      <td>0.149578</td>\n",
       "    </tr>\n",
       "    <tr>\n",
       "      <th>0</th>\n",
       "      <td>region_code</td>\n",
       "      <td>0.109692</td>\n",
       "    </tr>\n",
       "    <tr>\n",
       "      <th>0</th>\n",
       "      <td>vehicle_damage</td>\n",
       "      <td>0.076592</td>\n",
       "    </tr>\n",
       "    <tr>\n",
       "      <th>0</th>\n",
       "      <td>policy_sales_channel</td>\n",
       "      <td>0.071004</td>\n",
       "    </tr>\n",
       "    <tr>\n",
       "      <th>0</th>\n",
       "      <td>previously_insured</td>\n",
       "      <td>0.055228</td>\n",
       "    </tr>\n",
       "    <tr>\n",
       "      <th>0</th>\n",
       "      <td>vehicle_age</td>\n",
       "      <td>0.018509</td>\n",
       "    </tr>\n",
       "    <tr>\n",
       "      <th>0</th>\n",
       "      <td>gender</td>\n",
       "      <td>0.005787</td>\n",
       "    </tr>\n",
       "  </tbody>\n",
       "</table>\n",
       "</div>\n",
       "      <button class=\"colab-df-convert\" onclick=\"convertToInteractive('df-4cff85dc-7657-473d-ae47-58c009acbc34')\"\n",
       "              title=\"Convert this dataframe to an interactive table.\"\n",
       "              style=\"display:none;\">\n",
       "        \n",
       "  <svg xmlns=\"http://www.w3.org/2000/svg\" height=\"24px\"viewBox=\"0 0 24 24\"\n",
       "       width=\"24px\">\n",
       "    <path d=\"M0 0h24v24H0V0z\" fill=\"none\"/>\n",
       "    <path d=\"M18.56 5.44l.94 2.06.94-2.06 2.06-.94-2.06-.94-.94-2.06-.94 2.06-2.06.94zm-11 1L8.5 8.5l.94-2.06 2.06-.94-2.06-.94L8.5 2.5l-.94 2.06-2.06.94zm10 10l.94 2.06.94-2.06 2.06-.94-2.06-.94-.94-2.06-.94 2.06-2.06.94z\"/><path d=\"M17.41 7.96l-1.37-1.37c-.4-.4-.92-.59-1.43-.59-.52 0-1.04.2-1.43.59L10.3 9.45l-7.72 7.72c-.78.78-.78 2.05 0 2.83L4 21.41c.39.39.9.59 1.41.59.51 0 1.02-.2 1.41-.59l7.78-7.78 2.81-2.81c.8-.78.8-2.07 0-2.86zM5.41 20L4 18.59l7.72-7.72 1.47 1.35L5.41 20z\"/>\n",
       "  </svg>\n",
       "      </button>\n",
       "      \n",
       "  <style>\n",
       "    .colab-df-container {\n",
       "      display:flex;\n",
       "      flex-wrap:wrap;\n",
       "      gap: 12px;\n",
       "    }\n",
       "\n",
       "    .colab-df-convert {\n",
       "      background-color: #E8F0FE;\n",
       "      border: none;\n",
       "      border-radius: 50%;\n",
       "      cursor: pointer;\n",
       "      display: none;\n",
       "      fill: #1967D2;\n",
       "      height: 32px;\n",
       "      padding: 0 0 0 0;\n",
       "      width: 32px;\n",
       "    }\n",
       "\n",
       "    .colab-df-convert:hover {\n",
       "      background-color: #E2EBFA;\n",
       "      box-shadow: 0px 1px 2px rgba(60, 64, 67, 0.3), 0px 1px 3px 1px rgba(60, 64, 67, 0.15);\n",
       "      fill: #174EA6;\n",
       "    }\n",
       "\n",
       "    [theme=dark] .colab-df-convert {\n",
       "      background-color: #3B4455;\n",
       "      fill: #D2E3FC;\n",
       "    }\n",
       "\n",
       "    [theme=dark] .colab-df-convert:hover {\n",
       "      background-color: #434B5C;\n",
       "      box-shadow: 0px 1px 3px 1px rgba(0, 0, 0, 0.15);\n",
       "      filter: drop-shadow(0px 1px 2px rgba(0, 0, 0, 0.3));\n",
       "      fill: #FFFFFF;\n",
       "    }\n",
       "  </style>\n",
       "\n",
       "      <script>\n",
       "        const buttonEl =\n",
       "          document.querySelector('#df-4cff85dc-7657-473d-ae47-58c009acbc34 button.colab-df-convert');\n",
       "        buttonEl.style.display =\n",
       "          google.colab.kernel.accessAllowed ? 'block' : 'none';\n",
       "\n",
       "        async function convertToInteractive(key) {\n",
       "          const element = document.querySelector('#df-4cff85dc-7657-473d-ae47-58c009acbc34');\n",
       "          const dataTable =\n",
       "            await google.colab.kernel.invokeFunction('convertToInteractive',\n",
       "                                                     [key], {});\n",
       "          if (!dataTable) return;\n",
       "\n",
       "          const docLinkHtml = 'Like what you see? Visit the ' +\n",
       "            '<a target=\"_blank\" href=https://colab.research.google.com/notebooks/data_table.ipynb>data table notebook</a>'\n",
       "            + ' to learn more about interactive tables.';\n",
       "          element.innerHTML = '';\n",
       "          dataTable['output_type'] = 'display_data';\n",
       "          await google.colab.output.renderOutput(dataTable, element);\n",
       "          const docLink = document.createElement('div');\n",
       "          docLink.innerHTML = docLinkHtml;\n",
       "          element.appendChild(docLink);\n",
       "        }\n",
       "      </script>\n",
       "    </div>\n",
       "  </div>\n",
       "  "
      ],
      "text/plain": [
       "                feature  importance\n",
       "0               vintage    0.272722\n",
       "0        annual_premium    0.240886\n",
       "0                   age    0.149578\n",
       "0           region_code    0.109692\n",
       "0        vehicle_damage    0.076592\n",
       "0  policy_sales_channel    0.071004\n",
       "0    previously_insured    0.055228\n",
       "0           vehicle_age    0.018509\n",
       "0                gender    0.005787"
      ]
     },
     "execution_count": 18,
     "metadata": {},
     "output_type": "execute_result"
    }
   ],
   "source": [
    "# Print the feature ranking\n",
    "print(\"Feature ranking:\")\n",
    "df = pd.DataFrame()\n",
    "for i, j in zip( X_train_n, etf.feature_importances_ ):\n",
    "    aux = pd.DataFrame( {'feature': i, 'importance': j}, index=[0] )\n",
    "    df = pd.concat( [df, aux], axis=0 )\n",
    "    \n",
    "df = df.sort_values( 'importance', ascending=False )\n",
    "df"
   ]
  },
  {
   "cell_type": "code",
   "execution_count": 19,
   "metadata": {
    "colab": {
     "base_uri": "https://localhost:8080/",
     "height": 737
    },
    "executionInfo": {
     "elapsed": 20,
     "status": "ok",
     "timestamp": 1665676947345,
     "user": {
      "displayName": "Lavis",
      "userId": "11464059397454562428"
     },
     "user_tz": 180
    },
    "id": "dUFSEu-1jwJv",
    "outputId": "da05f164-c12d-4fb5-fab8-05e3fe7d95da"
   },
   "outputs": [
    {
     "data": {
      "image/png": "[encoded data removed]",
      "text/plain": [
       "<Figure size 1800x864 with 1 Axes>"
      ]
     },
     "metadata": {},
     "output_type": "display_data"
    }
   ],
   "source": [
    "sns.barplot(x='feature',y='importance',data=df)\n",
    "plt.xlabel('Feature Labels')\n",
    "plt.ylabel('Feature Importances')\n",
    "plt.title('Comparison of different Feature Importances')\n",
    "plt.show()"
   ]
  },
  {
   "cell_type": "markdown",
   "metadata": {
    "id": "YhK62iafG8xG"
   },
   "source": [
    "**Optei por excluir o atributo que pontuou menos. Também é importante notar que o mesmo têm baixa correlação com a variável alvo**"
   ]
  },
  {
   "cell_type": "markdown",
   "metadata": {
    "id": "Kx8hdF7Gj1DG"
   },
   "source": [
    "**I chose to exclude the attribute that scored the lowest. It is also important to note that this attribute have a small correlation with the target**"
   ]
  },
  {
   "cell_type": "code",
   "execution_count": 20,
   "metadata": {
    "colab": {
     "base_uri": "https://localhost:8080/",
     "height": 332
    },
    "executionInfo": {
     "elapsed": 20,
     "status": "ok",
     "timestamp": 1665676947346,
     "user": {
      "displayName": "Lavis",
      "userId": "11464059397454562428"
     },
     "user_tz": 180
    },
    "id": "lFmyOun6lld8",
    "outputId": "3c177640-2db9-4500-b4af-ac0dccfc1676"
   },
   "outputs": [
    {
     "data": {
      "text/html": [
       "\n",
       "  <div id=\"df-c43bb3cf-9719-4570-8e5a-08a0c3b466cf\">\n",
       "    <div class=\"colab-df-container\">\n",
       "      <div>\n",
       "<style scoped>\n",
       "    .dataframe tbody tr th:only-of-type {\n",
       "        vertical-align: middle;\n",
       "    }\n",
       "\n",
       "    .dataframe tbody tr th {\n",
       "        vertical-align: top;\n",
       "    }\n",
       "\n",
       "    .dataframe thead th {\n",
       "        text-align: right;\n",
       "    }\n",
       "</style>\n",
       "<table border=\"1\" class=\"dataframe\">\n",
       "  <thead>\n",
       "    <tr style=\"text-align: right;\">\n",
       "      <th></th>\n",
       "      <th>feature</th>\n",
       "      <th>importance</th>\n",
       "    </tr>\n",
       "  </thead>\n",
       "  <tbody>\n",
       "    <tr>\n",
       "      <th>0</th>\n",
       "      <td>vintage</td>\n",
       "      <td>0.272722</td>\n",
       "    </tr>\n",
       "    <tr>\n",
       "      <th>0</th>\n",
       "      <td>annual_premium</td>\n",
       "      <td>0.240886</td>\n",
       "    </tr>\n",
       "    <tr>\n",
       "      <th>0</th>\n",
       "      <td>age</td>\n",
       "      <td>0.149578</td>\n",
       "    </tr>\n",
       "    <tr>\n",
       "      <th>0</th>\n",
       "      <td>region_code</td>\n",
       "      <td>0.109692</td>\n",
       "    </tr>\n",
       "    <tr>\n",
       "      <th>0</th>\n",
       "      <td>vehicle_damage</td>\n",
       "      <td>0.076592</td>\n",
       "    </tr>\n",
       "    <tr>\n",
       "      <th>0</th>\n",
       "      <td>policy_sales_channel</td>\n",
       "      <td>0.071004</td>\n",
       "    </tr>\n",
       "    <tr>\n",
       "      <th>0</th>\n",
       "      <td>previously_insured</td>\n",
       "      <td>0.055228</td>\n",
       "    </tr>\n",
       "    <tr>\n",
       "      <th>0</th>\n",
       "      <td>vehicle_age</td>\n",
       "      <td>0.018509</td>\n",
       "    </tr>\n",
       "    <tr>\n",
       "      <th>0</th>\n",
       "      <td>gender</td>\n",
       "      <td>0.005787</td>\n",
       "    </tr>\n",
       "  </tbody>\n",
       "</table>\n",
       "</div>\n",
       "      <button class=\"colab-df-convert\" onclick=\"convertToInteractive('df-c43bb3cf-9719-4570-8e5a-08a0c3b466cf')\"\n",
       "              title=\"Convert this dataframe to an interactive table.\"\n",
       "              style=\"display:none;\">\n",
       "        \n",
       "  <svg xmlns=\"http://www.w3.org/2000/svg\" height=\"24px\"viewBox=\"0 0 24 24\"\n",
       "       width=\"24px\">\n",
       "    <path d=\"M0 0h24v24H0V0z\" fill=\"none\"/>\n",
       "    <path d=\"M18.56 5.44l.94 2.06.94-2.06 2.06-.94-2.06-.94-.94-2.06-.94 2.06-2.06.94zm-11 1L8.5 8.5l.94-2.06 2.06-.94-2.06-.94L8.5 2.5l-.94 2.06-2.06.94zm10 10l.94 2.06.94-2.06 2.06-.94-2.06-.94-.94-2.06-.94 2.06-2.06.94z\"/><path d=\"M17.41 7.96l-1.37-1.37c-.4-.4-.92-.59-1.43-.59-.52 0-1.04.2-1.43.59L10.3 9.45l-7.72 7.72c-.78.78-.78 2.05 0 2.83L4 21.41c.39.39.9.59 1.41.59.51 0 1.02-.2 1.41-.59l7.78-7.78 2.81-2.81c.8-.78.8-2.07 0-2.86zM5.41 20L4 18.59l7.72-7.72 1.47 1.35L5.41 20z\"/>\n",
       "  </svg>\n",
       "      </button>\n",
       "      \n",
       "  <style>\n",
       "    .colab-df-container {\n",
       "      display:flex;\n",
       "      flex-wrap:wrap;\n",
       "      gap: 12px;\n",
       "    }\n",
       "\n",
       "    .colab-df-convert {\n",
       "      background-color: #E8F0FE;\n",
       "      border: none;\n",
       "      border-radius: 50%;\n",
       "      cursor: pointer;\n",
       "      display: none;\n",
       "      fill: #1967D2;\n",
       "      height: 32px;\n",
       "      padding: 0 0 0 0;\n",
       "      width: 32px;\n",
       "    }\n",
       "\n",
       "    .colab-df-convert:hover {\n",
       "      background-color: #E2EBFA;\n",
       "      box-shadow: 0px 1px 2px rgba(60, 64, 67, 0.3), 0px 1px 3px 1px rgba(60, 64, 67, 0.15);\n",
       "      fill: #174EA6;\n",
       "    }\n",
       "\n",
       "    [theme=dark] .colab-df-convert {\n",
       "      background-color: #3B4455;\n",
       "      fill: #D2E3FC;\n",
       "    }\n",
       "\n",
       "    [theme=dark] .colab-df-convert:hover {\n",
       "      background-color: #434B5C;\n",
       "      box-shadow: 0px 1px 3px 1px rgba(0, 0, 0, 0.15);\n",
       "      filter: drop-shadow(0px 1px 2px rgba(0, 0, 0, 0.3));\n",
       "      fill: #FFFFFF;\n",
       "    }\n",
       "  </style>\n",
       "\n",
       "      <script>\n",
       "        const buttonEl =\n",
       "          document.querySelector('#df-c43bb3cf-9719-4570-8e5a-08a0c3b466cf button.colab-df-convert');\n",
       "        buttonEl.style.display =\n",
       "          google.colab.kernel.accessAllowed ? 'block' : 'none';\n",
       "\n",
       "        async function convertToInteractive(key) {\n",
       "          const element = document.querySelector('#df-c43bb3cf-9719-4570-8e5a-08a0c3b466cf');\n",
       "          const dataTable =\n",
       "            await google.colab.kernel.invokeFunction('convertToInteractive',\n",
       "                                                     [key], {});\n",
       "          if (!dataTable) return;\n",
       "\n",
       "          const docLinkHtml = 'Like what you see? Visit the ' +\n",
       "            '<a target=\"_blank\" href=https://colab.research.google.com/notebooks/data_table.ipynb>data table notebook</a>'\n",
       "            + ' to learn more about interactive tables.';\n",
       "          element.innerHTML = '';\n",
       "          dataTable['output_type'] = 'display_data';\n",
       "          await google.colab.output.renderOutput(dataTable, element);\n",
       "          const docLink = document.createElement('div');\n",
       "          docLink.innerHTML = docLinkHtml;\n",
       "          element.appendChild(docLink);\n",
       "        }\n",
       "      </script>\n",
       "    </div>\n",
       "  </div>\n",
       "  "
      ],
      "text/plain": [
       "                feature  importance\n",
       "0               vintage    0.272722\n",
       "0        annual_premium    0.240886\n",
       "0                   age    0.149578\n",
       "0           region_code    0.109692\n",
       "0        vehicle_damage    0.076592\n",
       "0  policy_sales_channel    0.071004\n",
       "0    previously_insured    0.055228\n",
       "0           vehicle_age    0.018509\n",
       "0                gender    0.005787"
      ]
     },
     "execution_count": 20,
     "metadata": {},
     "output_type": "execute_result"
    }
   ],
   "source": [
    "df"
   ]
  },
  {
   "cell_type": "markdown",
   "metadata": {
    "id": "y8JIwh1TG8xG"
   },
   "source": [
    "### Final selection"
   ]
  },
  {
   "cell_type": "code",
   "execution_count": 21,
   "metadata": {
    "ExecuteTime": {
     "end_time": "2022-09-19T19:06:39.091740Z",
     "start_time": "2022-09-19T19:06:39.076075Z"
    },
    "executionInfo": {
     "elapsed": 19,
     "status": "ok",
     "timestamp": 1665676947347,
     "user": {
      "displayName": "Lavis",
      "userId": "11464059397454562428"
     },
     "user_tz": 180
    },
    "id": "Mx73K7KkG8xH"
   },
   "outputs": [],
   "source": [
    "final_columns = ['id',  'age', 'region_code', 'policy_sales_channel',\n",
    "       'previously_insured', 'annual_premium', 'vintage', 'vehicle_age',\n",
    "       'vehicle_damage', 'response']"
   ]
  },
  {
   "cell_type": "code",
   "execution_count": 22,
   "metadata": {
    "ExecuteTime": {
     "end_time": "2022-09-19T19:06:42.459310Z",
     "start_time": "2022-09-19T19:06:42.226669Z"
    },
    "executionInfo": {
     "elapsed": 19,
     "status": "ok",
     "timestamp": 1665676947347,
     "user": {
      "displayName": "Lavis",
      "userId": "11464059397454562428"
     },
     "user_tz": 180
    },
    "id": "G61tsfjSG8xH"
   },
   "outputs": [],
   "source": [
    "df5 = df5[final_columns]"
   ]
  },
  {
   "cell_type": "code",
   "execution_count": 23,
   "metadata": {
    "ExecuteTime": {
     "end_time": "2022-09-19T19:06:49.003874Z",
     "start_time": "2022-09-19T19:06:44.958487Z"
    },
    "executionInfo": {
     "elapsed": 2238,
     "status": "ok",
     "timestamp": 1665676949567,
     "user": {
      "displayName": "Lavis",
      "userId": "11464059397454562428"
     },
     "user_tz": 180
    },
    "id": "OqMxDRkxG8xH"
   },
   "outputs": [],
   "source": [
    "#df5.to_csv('../data/train.csv',index=False)"
   ]
  }
 ],
 "metadata": {
  "colab": {
   "collapsed_sections": [],
   "provenance": []
  },
  "deepnote": {},
  "deepnote_execution_queue": [],
  "deepnote_notebook_id": "6fc7dc12-8e27-4a37-9e9e-26b7f39d675c",
  "kernelspec": {
   "display_name": "Python 3",
   "language": "python",
   "name": "python3"
  },
  "language_info": {
   "codemirror_mode": {
    "name": "ipython",
    "version": 3
   },
   "file_extension": ".py",
   "mimetype": "text/x-python",
   "name": "python",
   "nbconvert_exporter": "python",
   "pygments_lexer": "ipython3",
   "version": "3.8.5"
  }
 },
 "nbformat": 4,
 "nbformat_minor": 1
}
