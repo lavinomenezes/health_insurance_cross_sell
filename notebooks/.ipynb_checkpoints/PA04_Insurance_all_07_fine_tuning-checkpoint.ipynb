{
 "cells": [
  {
   "cell_type": "markdown",
   "metadata": {
    "id": "GntYN-H7_bX6"
   },
   "source": [
    "# Imports"
   ]
  },
  {
   "cell_type": "code",
   "execution_count": 24,
   "metadata": {
    "executionInfo": {
     "elapsed": 6,
     "status": "ok",
     "timestamp": 1668178168554,
     "user": {
      "displayName": "Lavis",
      "userId": "11464059397454562428"
     },
     "user_tz": 180
    },
    "id": "g4bKRoJx_bX8",
    "scrolled": true
   },
   "outputs": [],
   "source": [
    "import pandas as pd\n",
    "import numpy as np\n",
    "import seaborn as sns\n",
    "import matplotlib.pyplot as plt\n",
    "\n",
    "import xgboost as xgb\n",
    "\n",
    "import sklearn.metrics\n",
    "import pickle\n",
    "from sklearn.model_selection import train_test_split\n",
    "\n",
    "from IPython.core.display import HTML\n",
    "pd.options.mode.chained_assignment = None  # default='warn'"
   ]
  },
  {
   "cell_type": "markdown",
   "metadata": {
    "id": "PLefCAOf_bX-"
   },
   "source": [
    "# Helper functions"
   ]
  },
  {
   "cell_type": "code",
   "execution_count": 26,
   "metadata": {
    "colab": {
     "base_uri": "https://localhost:8080/",
     "height": 34
    },
    "executionInfo": {
     "elapsed": 16,
     "status": "ok",
     "timestamp": 1668178170877,
     "user": {
      "displayName": "Lavis",
      "userId": "11464059397454562428"
     },
     "user_tz": 180
    },
    "id": "iwgIa8dr_bX_",
    "outputId": "551967b9-8e0d-46c5-b42a-64a2f3539840"
   },
   "outputs": [
    {
     "name": "stdout",
     "output_type": "stream",
     "text": [
      "Populating the interactive namespace from numpy and matplotlib\n"
     ]
    },
    {
     "data": {
      "text/html": [
       "<style>.container { width:100% !important; }</style>"
      ],
      "text/plain": [
       "<IPython.core.display.HTML object>"
      ]
     },
     "metadata": {},
     "output_type": "display_data"
    }
   ],
   "source": [
    "def jupyter_settings():\n",
    "    %matplotlib inline\n",
    "    %pylab inline\n",
    "    plt.style.use( 'bmh' )\n",
    "    plt.rcParams['figure.figsize'] = [25, 12]\n",
    "    plt.rcParams['font.size'] = 24\n",
    "    display( HTML( '<style>.container { width:100% !important; }</style>') )\n",
    "    sns.set()\n",
    "jupyter_settings()"
   ]
  },
  {
   "cell_type": "code",
   "execution_count": 28,
   "metadata": {
    "executionInfo": {
     "elapsed": 14,
     "status": "ok",
     "timestamp": 1668178170880,
     "user": {
      "displayName": "Lavis",
      "userId": "11464059397454562428"
     },
     "user_tz": 180
    },
    "id": "JcHEY-o9WKGC"
   },
   "outputs": [],
   "source": [
    "from functions import performace_cross_val, performace"
   ]
  },
  {
   "cell_type": "markdown",
   "metadata": {
    "id": "AKHRDzM9_bYC"
   },
   "source": [
    "# Load data"
   ]
  },
  {
   "cell_type": "code",
   "execution_count": 29,
   "metadata": {
    "executionInfo": {
     "elapsed": 15,
     "status": "ok",
     "timestamp": 1668178170881,
     "user": {
      "displayName": "Lavis",
      "userId": "11464059397454562428"
     },
     "user_tz": 180
    },
    "id": "808FSwPh_bYD"
   },
   "outputs": [],
   "source": [
    "train = pd.read_csv('../data/train.csv')\n",
    "val = pd.read_csv('../data/test.csv')"
   ]
  },
  {
   "cell_type": "code",
   "execution_count": 30,
   "metadata": {
    "colab": {
     "base_uri": "https://localhost:8080/",
     "height": 206
    },
    "executionInfo": {
     "elapsed": 1183,
     "status": "ok",
     "timestamp": 1668178172050,
     "user": {
      "displayName": "Lavis",
      "userId": "11464059397454562428"
     },
     "user_tz": 180
    },
    "id": "LbjukzPx8hid",
    "outputId": "0c73a239-0de8-450f-bdcc-7f5a265999dd"
   },
   "outputs": [
    {
     "data": {
      "text/html": [
       "\n",
       "  <div id=\"df-ccba339c-0a5f-4151-b33f-21b2e298a209\">\n",
       "    <div class=\"colab-df-container\">\n",
       "      <div>\n",
       "<style scoped>\n",
       "    .dataframe tbody tr th:only-of-type {\n",
       "        vertical-align: middle;\n",
       "    }\n",
       "\n",
       "    .dataframe tbody tr th {\n",
       "        vertical-align: top;\n",
       "    }\n",
       "\n",
       "    .dataframe thead th {\n",
       "        text-align: right;\n",
       "    }\n",
       "</style>\n",
       "<table border=\"1\" class=\"dataframe\">\n",
       "  <thead>\n",
       "    <tr style=\"text-align: right;\">\n",
       "      <th></th>\n",
       "      <th>id</th>\n",
       "      <th>gender</th>\n",
       "      <th>age</th>\n",
       "      <th>region_code</th>\n",
       "      <th>policy_sales_channel</th>\n",
       "      <th>previously_insured</th>\n",
       "      <th>annual_premium</th>\n",
       "      <th>vintage</th>\n",
       "      <th>vehicle_age</th>\n",
       "      <th>vehicle_damage</th>\n",
       "      <th>response</th>\n",
       "    </tr>\n",
       "  </thead>\n",
       "  <tbody>\n",
       "    <tr>\n",
       "      <th>0</th>\n",
       "      <td>196319</td>\n",
       "      <td>0</td>\n",
       "      <td>0.461538</td>\n",
       "      <td>33.0</td>\n",
       "      <td>124.0</td>\n",
       "      <td>0</td>\n",
       "      <td>0.597270</td>\n",
       "      <td>0.498270</td>\n",
       "      <td>3</td>\n",
       "      <td>1</td>\n",
       "      <td>0</td>\n",
       "    </tr>\n",
       "    <tr>\n",
       "      <th>1</th>\n",
       "      <td>377373</td>\n",
       "      <td>0</td>\n",
       "      <td>0.307692</td>\n",
       "      <td>8.0</td>\n",
       "      <td>124.0</td>\n",
       "      <td>1</td>\n",
       "      <td>-1.622718</td>\n",
       "      <td>0.467128</td>\n",
       "      <td>2</td>\n",
       "      <td>0</td>\n",
       "      <td>0</td>\n",
       "    </tr>\n",
       "    <tr>\n",
       "      <th>2</th>\n",
       "      <td>96687</td>\n",
       "      <td>1</td>\n",
       "      <td>0.692308</td>\n",
       "      <td>41.0</td>\n",
       "      <td>109.0</td>\n",
       "      <td>0</td>\n",
       "      <td>-0.245443</td>\n",
       "      <td>0.816609</td>\n",
       "      <td>2</td>\n",
       "      <td>1</td>\n",
       "      <td>0</td>\n",
       "    </tr>\n",
       "    <tr>\n",
       "      <th>3</th>\n",
       "      <td>303533</td>\n",
       "      <td>0</td>\n",
       "      <td>0.615385</td>\n",
       "      <td>28.0</td>\n",
       "      <td>124.0</td>\n",
       "      <td>0</td>\n",
       "      <td>1.287244</td>\n",
       "      <td>0.446367</td>\n",
       "      <td>2</td>\n",
       "      <td>1</td>\n",
       "      <td>0</td>\n",
       "    </tr>\n",
       "    <tr>\n",
       "      <th>4</th>\n",
       "      <td>256233</td>\n",
       "      <td>0</td>\n",
       "      <td>0.246154</td>\n",
       "      <td>36.0</td>\n",
       "      <td>26.0</td>\n",
       "      <td>0</td>\n",
       "      <td>0.500537</td>\n",
       "      <td>0.217993</td>\n",
       "      <td>2</td>\n",
       "      <td>1</td>\n",
       "      <td>1</td>\n",
       "    </tr>\n",
       "  </tbody>\n",
       "</table>\n",
       "</div>\n",
       "      <button class=\"colab-df-convert\" onclick=\"convertToInteractive('df-ccba339c-0a5f-4151-b33f-21b2e298a209')\"\n",
       "              title=\"Convert this dataframe to an interactive table.\"\n",
       "              style=\"display:none;\">\n",
       "        \n",
       "  <svg xmlns=\"http://www.w3.org/2000/svg\" height=\"24px\"viewBox=\"0 0 24 24\"\n",
       "       width=\"24px\">\n",
       "    <path d=\"M0 0h24v24H0V0z\" fill=\"none\"/>\n",
       "    <path d=\"M18.56 5.44l.94 2.06.94-2.06 2.06-.94-2.06-.94-.94-2.06-.94 2.06-2.06.94zm-11 1L8.5 8.5l.94-2.06 2.06-.94-2.06-.94L8.5 2.5l-.94 2.06-2.06.94zm10 10l.94 2.06.94-2.06 2.06-.94-2.06-.94-.94-2.06-.94 2.06-2.06.94z\"/><path d=\"M17.41 7.96l-1.37-1.37c-.4-.4-.92-.59-1.43-.59-.52 0-1.04.2-1.43.59L10.3 9.45l-7.72 7.72c-.78.78-.78 2.05 0 2.83L4 21.41c.39.39.9.59 1.41.59.51 0 1.02-.2 1.41-.59l7.78-7.78 2.81-2.81c.8-.78.8-2.07 0-2.86zM5.41 20L4 18.59l7.72-7.72 1.47 1.35L5.41 20z\"/>\n",
       "  </svg>\n",
       "      </button>\n",
       "      \n",
       "  <style>\n",
       "    .colab-df-container {\n",
       "      display:flex;\n",
       "      flex-wrap:wrap;\n",
       "      gap: 12px;\n",
       "    }\n",
       "\n",
       "    .colab-df-convert {\n",
       "      background-color: #E8F0FE;\n",
       "      border: none;\n",
       "      border-radius: 50%;\n",
       "      cursor: pointer;\n",
       "      display: none;\n",
       "      fill: #1967D2;\n",
       "      height: 32px;\n",
       "      padding: 0 0 0 0;\n",
       "      width: 32px;\n",
       "    }\n",
       "\n",
       "    .colab-df-convert:hover {\n",
       "      background-color: #E2EBFA;\n",
       "      box-shadow: 0px 1px 2px rgba(60, 64, 67, 0.3), 0px 1px 3px 1px rgba(60, 64, 67, 0.15);\n",
       "      fill: #174EA6;\n",
       "    }\n",
       "\n",
       "    [theme=dark] .colab-df-convert {\n",
       "      background-color: #3B4455;\n",
       "      fill: #D2E3FC;\n",
       "    }\n",
       "\n",
       "    [theme=dark] .colab-df-convert:hover {\n",
       "      background-color: #434B5C;\n",
       "      box-shadow: 0px 1px 3px 1px rgba(0, 0, 0, 0.15);\n",
       "      filter: drop-shadow(0px 1px 2px rgba(0, 0, 0, 0.3));\n",
       "      fill: #FFFFFF;\n",
       "    }\n",
       "  </style>\n",
       "\n",
       "      <script>\n",
       "        const buttonEl =\n",
       "          document.querySelector('#df-ccba339c-0a5f-4151-b33f-21b2e298a209 button.colab-df-convert');\n",
       "        buttonEl.style.display =\n",
       "          google.colab.kernel.accessAllowed ? 'block' : 'none';\n",
       "\n",
       "        async function convertToInteractive(key) {\n",
       "          const element = document.querySelector('#df-ccba339c-0a5f-4151-b33f-21b2e298a209');\n",
       "          const dataTable =\n",
       "            await google.colab.kernel.invokeFunction('convertToInteractive',\n",
       "                                                     [key], {});\n",
       "          if (!dataTable) return;\n",
       "\n",
       "          const docLinkHtml = 'Like what you see? Visit the ' +\n",
       "            '<a target=\"_blank\" href=https://colab.research.google.com/notebooks/data_table.ipynb>data table notebook</a>'\n",
       "            + ' to learn more about interactive tables.';\n",
       "          element.innerHTML = '';\n",
       "          dataTable['output_type'] = 'display_data';\n",
       "          await google.colab.output.renderOutput(dataTable, element);\n",
       "          const docLink = document.createElement('div');\n",
       "          docLink.innerHTML = docLinkHtml;\n",
       "          element.appendChild(docLink);\n",
       "        }\n",
       "      </script>\n",
       "    </div>\n",
       "  </div>\n",
       "  "
      ],
      "text/plain": [
       "       id  gender       age  region_code  policy_sales_channel  \\\n",
       "0  196319       0  0.461538         33.0                 124.0   \n",
       "1  377373       0  0.307692          8.0                 124.0   \n",
       "2   96687       1  0.692308         41.0                 109.0   \n",
       "3  303533       0  0.615385         28.0                 124.0   \n",
       "4  256233       0  0.246154         36.0                  26.0   \n",
       "\n",
       "   previously_insured  annual_premium   vintage  vehicle_age  vehicle_damage  \\\n",
       "0                   0        0.597270  0.498270            3               1   \n",
       "1                   1       -1.622718  0.467128            2               0   \n",
       "2                   0       -0.245443  0.816609            2               1   \n",
       "3                   0        1.287244  0.446367            2               1   \n",
       "4                   0        0.500537  0.217993            2               1   \n",
       "\n",
       "   response  \n",
       "0         0  \n",
       "1         0  \n",
       "2         0  \n",
       "3         0  \n",
       "4         1  "
      ]
     },
     "execution_count": 30,
     "metadata": {},
     "output_type": "execute_result"
    }
   ],
   "source": [
    "val.head()"
   ]
  },
  {
   "cell_type": "code",
   "execution_count": 31,
   "metadata": {
    "executionInfo": {
     "elapsed": 12,
     "status": "ok",
     "timestamp": 1668178172051,
     "user": {
      "displayName": "Lavis",
      "userId": "11464059397454562428"
     },
     "user_tz": 180
    },
    "id": "pCd8TlaDvbFv"
   },
   "outputs": [],
   "source": [
    "val = val[train.columns].copy()\n",
    "df7 = pd.concat([train,val],axis=0)"
   ]
  },
  {
   "cell_type": "markdown",
   "metadata": {
    "id": "5pVw7W4a_bYF"
   },
   "source": [
    "# Fine tuning - Baysian search"
   ]
  },
  {
   "cell_type": "markdown",
   "metadata": {
    "id": "CGa7TfnOInF9"
   },
   "source": [
    "Após escolher o algoritimo que melhor se comportou nos testes, vamos melhorar o desempenho do modelo alterando seus hyperparametros. Para isso utilizaremos a optimização baysiana, que é um modelo probabilistico utilizado para encontar o minimo erro da função\n",
    "\n",
    "Essa técnica requer uma quantidade menor de iterações para achar o melhor conjunto de parametros, ignorando os valores de parametros desnecessários e economizando tempo e poder computacional."
   ]
  },
  {
   "cell_type": "code",
   "execution_count": 34,
   "metadata": {
    "executionInfo": {
     "elapsed": 13,
     "status": "ok",
     "timestamp": 1668178172054,
     "user": {
      "displayName": "Lavis",
      "userId": "11464059397454562428"
     },
     "user_tz": 180
    },
    "id": "2NPwCkhS_bYG"
   },
   "outputs": [],
   "source": [
    "from hyperopt import tpe, Trials, hp, fmin, STATUS_OK\n",
    "\n",
    "import warnings\n",
    "warnings.filterwarnings('ignore')"
   ]
  },
  {
   "cell_type": "code",
   "execution_count": 35,
   "metadata": {
    "executionInfo": {
     "elapsed": 14,
     "status": "ok",
     "timestamp": 1668178172056,
     "user": {
      "displayName": "Lavis",
      "userId": "11464059397454562428"
     },
     "user_tz": 180
    },
    "id": "UwuqJVq2_bYH"
   },
   "outputs": [],
   "source": [
    "space={'n_estimators': hp.choice('n_estimators',np.arange(300,3000+1,250)),\n",
    "      'max_depth': hp.quniform(\"max_depth\", 3, 12, 1),\n",
    "      'colsample_bytree' : hp.uniform('colsample_bytree', 0.5,1),\n",
    "      'min_child_weight' : hp.quniform('min_child_weight', 0, 10, 1),\n",
    "      'eta': hp.uniform('eta',0.01,0.2),\n",
    "      'seed': 42\n",
    "    }"
   ]
  },
  {
   "cell_type": "markdown",
   "metadata": {
    "id": "TJormp_5KMno"
   },
   "source": [
    "Definindo os limites do valores dos parametros e quais serão utilizados"
   ]
  },
  {
   "cell_type": "code",
   "execution_count": 36,
   "metadata": {
    "executionInfo": {
     "elapsed": 14,
     "status": "ok",
     "timestamp": 1668178172056,
     "user": {
      "displayName": "Lavis",
      "userId": "11464059397454562428"
     },
     "user_tz": 180
    },
    "id": "t2H2CQty_bYH"
   },
   "outputs": [],
   "source": [
    "# def objective_function(space):\n",
    "#     xgb_model = xgb.XGBClassifier(n_estimators =int(space['n_estimators']),\n",
    "#                                   max_depth = int(space['max_depth']), \n",
    "#                                   min_child_weight=int(space['min_child_weight']),\n",
    "#                                   colsample_bytree=int(space['colsample_bytree']),\n",
    "#                                   eta=int(space['eta']),\n",
    "#                                   seed = space['seed'],\n",
    "#                                   tree_method = 'gpu_hist')      \n",
    "#     score = performace_cross_val(df7,'response',xgb_model,'XGB_MODEL',round_n=5,splits=5,k=20000)\n",
    "#     print(space)\n",
    "#     print(score['RECALL_AT_K_CROSS_VAL'][0])\n",
    "#     return {'loss': -score['RECALL_AT_K_CROSS_VAL'][0],'status':STATUS_OK}"
   ]
  },
  {
   "cell_type": "markdown",
   "metadata": {
    "id": "qYL9rbvMKUID"
   },
   "source": [
    "Função que retornar o valor que queremos otimizar."
   ]
  },
  {
   "cell_type": "code",
   "execution_count": 37,
   "metadata": {
    "executionInfo": {
     "elapsed": 15,
     "status": "ok",
     "timestamp": 1668178172057,
     "user": {
      "displayName": "Lavis",
      "userId": "11464059397454562428"
     },
     "user_tz": 180
    },
    "id": "0zqEtqIA_bYI"
   },
   "outputs": [],
   "source": [
    "# tpe_algorithm = tpe.suggest\n",
    "# trials = Trials()\n",
    "# num_eval = 100"
   ]
  },
  {
   "cell_type": "markdown",
   "metadata": {
    "id": "syGE51atKjEp"
   },
   "source": [
    "Algoritmo de otimização"
   ]
  },
  {
   "cell_type": "code",
   "execution_count": null,
   "metadata": {
    "id": "pUd3okZi_bYI",
    "scrolled": true
   },
   "outputs": [],
   "source": [
    "# best_paramns = fmin(fn=objective_function,space=space,algo=tpe_algorithm,max_evals=num_eval,trials=trials)"
   ]
  },
  {
   "cell_type": "code",
   "execution_count": 18,
   "metadata": {
    "executionInfo": {
     "elapsed": 7,
     "status": "ok",
     "timestamp": 1668178024176,
     "user": {
      "displayName": "Lavis",
      "userId": "11464059397454562428"
     },
     "user_tz": 180
    },
    "id": "V2l59jLm_bYI"
   },
   "outputs": [],
   "source": [
    "# best_paramns"
   ]
  },
  {
   "cell_type": "code",
   "execution_count": 22,
   "metadata": {
    "executionInfo": {
     "elapsed": 4,
     "status": "ok",
     "timestamp": 1668178059137,
     "user": {
      "displayName": "Lavis",
      "userId": "11464059397454562428"
     },
     "user_tz": 180
    },
    "id": "xUifl0hyZvyl"
   },
   "outputs": [],
   "source": [
    "# best_paramns_select_recall_K = {'colsample_bytree': 0.8665878779090729,\n",
    "#                                 'eta': 0.05078467297264412,\n",
    "#                                 'max_depth': 3.0,\n",
    "#                                 'min_child_weight': 0.0,\n",
    "#                                 'n_estimators': 1300}"
   ]
  },
  {
   "cell_type": "markdown",
   "metadata": {
    "id": "XPkQf7dtKp02"
   },
   "source": [
    "Melhores parâmetros levando em consideração o valor de recall at k"
   ]
  },
  {
   "cell_type": "code",
   "execution_count": null,
   "metadata": {
    "id": "68lzHnUN-s3I"
   },
   "outputs": [],
   "source": [
    "# best_paramns_select_balance_acc = {'colsample_bytree': 0.7328187504855774, \n",
    "#                                    'eta': 0.02593212072382746, \n",
    "#                                    'max_depth': 3.0, \n",
    "#                                    'min_child_weight': 1.0, \n",
    "#                                    'n_estimators': 1800, \n",
    "#                                    'seed': 42}"
   ]
  },
  {
   "cell_type": "markdown",
   "metadata": {
    "id": "6LAp7CUaKx-X"
   },
   "source": [
    "Melhores parâmetros levando em consideração o valor de Balanced accuracy score"
   ]
  },
  {
   "cell_type": "markdown",
   "metadata": {
    "id": "l3JOJwPiK9im"
   },
   "source": [
    "# Final Model"
   ]
  },
  {
   "cell_type": "markdown",
   "metadata": {
    "id": "QGOKbHoHv78y"
   },
   "source": []
  },
  {
   "cell_type": "code",
   "execution_count": null,
   "metadata": {
    "id": "OIeTHwlta8Ql"
   },
   "outputs": [],
   "source": [
    "X_train = train.copy()\n",
    "y_train = X_train['response']\n",
    "X_train.drop(columns=['id','response'],inplace = True)\n",
    "\n",
    "X_test = val.copy()\n",
    "y_test = X_test['response']\n",
    "X_test.drop(columns=['id','response'],inplace = True)"
   ]
  },
  {
   "cell_type": "code",
   "execution_count": null,
   "metadata": {
    "id": "AKz3__uxzoho"
   },
   "outputs": [],
   "source": [
    "xgb_model_final = xgb.XGBClassifier(n_estimators =int(best_paramns_select_balance_acc['n_estimators']),\n",
    "                                  max_depth = int(best_paramns_select_balance_acc['max_depth']), \n",
    "                                  min_child_weight=int(best_paramns_select_balance_acc['min_child_weight']),\n",
    "                                  colsample_bytree=int(best_paramns_select_balance_acc['colsample_bytree']),\n",
    "                                  eta=int(best_paramns_select_balance_acc['eta']),\n",
    "                                  seed = 42).fit(X_train,y_train.values.ravel()) "
   ]
  },
  {
   "cell_type": "code",
   "execution_count": null,
   "metadata": {
    "id": "YrJ30cLFBFVs"
   },
   "outputs": [],
   "source": [
    "performace_cross_val(df7,'response',xgb_model,'XGB_MODEL',round_n=5,splits=5,k=20000)"
   ]
  },
  {
   "cell_type": "code",
   "execution_count": null,
   "metadata": {
    "id": "pzTKgQze4nDs"
   },
   "outputs": [],
   "source": [
    "#model prediction proba - poder de generalização\n",
    "yhat_proba = xgb_model_final.predict_proba( X_test )\n",
    "\n",
    "#model prediction - poder de generalização\n",
    "yhat_class = xgb_model_final.predict( X_test )"
   ]
  },
  {
   "cell_type": "code",
   "execution_count": null,
   "metadata": {
    "id": "QkDjUI-p4-4w"
   },
   "outputs": [],
   "source": [
    "model_df = val.copy()\n",
    "model_df['model_score'] = yhat_proba[:,1].tolist()\n",
    "# sorte by score\n",
    "model_df = model_df.sort_values('model_score',ascending=False)"
   ]
  },
  {
   "cell_type": "code",
   "execution_count": null,
   "metadata": {
    "id": "JblitVzn5CMg"
   },
   "outputs": [],
   "source": [
    "xgb_performace = performace(\"XGBoost\",model_df,y_test,yhat_class,20000)"
   ]
  },
  {
   "cell_type": "code",
   "execution_count": null,
   "metadata": {
    "colab": {
     "base_uri": "https://localhost:8080/",
     "height": 81
    },
    "executionInfo": {
     "elapsed": 21,
     "status": "ok",
     "timestamp": 1666190348034,
     "user": {
      "displayName": "Lavis",
      "userId": "11464059397454562428"
     },
     "user_tz": 180
    },
    "id": "xIySM2S88R-I",
    "outputId": "3d15d778-2e03-4b22-ac48-e5ad68f5247b"
   },
   "outputs": [
    {
     "data": {
      "text/html": [
       "\n",
       "  <div id=\"df-f3b7bc66-3441-4fd3-a98b-d22ff717fdce\">\n",
       "    <div class=\"colab-df-container\">\n",
       "      <div>\n",
       "<style scoped>\n",
       "    .dataframe tbody tr th:only-of-type {\n",
       "        vertical-align: middle;\n",
       "    }\n",
       "\n",
       "    .dataframe tbody tr th {\n",
       "        vertical-align: top;\n",
       "    }\n",
       "\n",
       "    .dataframe thead th {\n",
       "        text-align: right;\n",
       "    }\n",
       "</style>\n",
       "<table border=\"1\" class=\"dataframe\">\n",
       "  <thead>\n",
       "    <tr style=\"text-align: right;\">\n",
       "      <th></th>\n",
       "      <th>Model Name</th>\n",
       "      <th>Precison</th>\n",
       "      <th>Recall</th>\n",
       "      <th>Balanced_acc</th>\n",
       "      <th>k</th>\n",
       "      <th>Precison at k</th>\n",
       "      <th>Recall at k</th>\n",
       "    </tr>\n",
       "  </thead>\n",
       "  <tbody>\n",
       "    <tr>\n",
       "      <th>0</th>\n",
       "      <td>XGBoost</td>\n",
       "      <td>0.430962</td>\n",
       "      <td>0.007357</td>\n",
       "      <td>0.502999</td>\n",
       "      <td>20000</td>\n",
       "      <td>0.360632</td>\n",
       "      <td>0.515177</td>\n",
       "    </tr>\n",
       "  </tbody>\n",
       "</table>\n",
       "</div>\n",
       "      <button class=\"colab-df-convert\" onclick=\"convertToInteractive('df-f3b7bc66-3441-4fd3-a98b-d22ff717fdce')\"\n",
       "              title=\"Convert this dataframe to an interactive table.\"\n",
       "              style=\"display:none;\">\n",
       "        \n",
       "  <svg xmlns=\"http://www.w3.org/2000/svg\" height=\"24px\"viewBox=\"0 0 24 24\"\n",
       "       width=\"24px\">\n",
       "    <path d=\"M0 0h24v24H0V0z\" fill=\"none\"/>\n",
       "    <path d=\"M18.56 5.44l.94 2.06.94-2.06 2.06-.94-2.06-.94-.94-2.06-.94 2.06-2.06.94zm-11 1L8.5 8.5l.94-2.06 2.06-.94-2.06-.94L8.5 2.5l-.94 2.06-2.06.94zm10 10l.94 2.06.94-2.06 2.06-.94-2.06-.94-.94-2.06-.94 2.06-2.06.94z\"/><path d=\"M17.41 7.96l-1.37-1.37c-.4-.4-.92-.59-1.43-.59-.52 0-1.04.2-1.43.59L10.3 9.45l-7.72 7.72c-.78.78-.78 2.05 0 2.83L4 21.41c.39.39.9.59 1.41.59.51 0 1.02-.2 1.41-.59l7.78-7.78 2.81-2.81c.8-.78.8-2.07 0-2.86zM5.41 20L4 18.59l7.72-7.72 1.47 1.35L5.41 20z\"/>\n",
       "  </svg>\n",
       "      </button>\n",
       "      \n",
       "  <style>\n",
       "    .colab-df-container {\n",
       "      display:flex;\n",
       "      flex-wrap:wrap;\n",
       "      gap: 12px;\n",
       "    }\n",
       "\n",
       "    .colab-df-convert {\n",
       "      background-color: #E8F0FE;\n",
       "      border: none;\n",
       "      border-radius: 50%;\n",
       "      cursor: pointer;\n",
       "      display: none;\n",
       "      fill: #1967D2;\n",
       "      height: 32px;\n",
       "      padding: 0 0 0 0;\n",
       "      width: 32px;\n",
       "    }\n",
       "\n",
       "    .colab-df-convert:hover {\n",
       "      background-color: #E2EBFA;\n",
       "      box-shadow: 0px 1px 2px rgba(60, 64, 67, 0.3), 0px 1px 3px 1px rgba(60, 64, 67, 0.15);\n",
       "      fill: #174EA6;\n",
       "    }\n",
       "\n",
       "    [theme=dark] .colab-df-convert {\n",
       "      background-color: #3B4455;\n",
       "      fill: #D2E3FC;\n",
       "    }\n",
       "\n",
       "    [theme=dark] .colab-df-convert:hover {\n",
       "      background-color: #434B5C;\n",
       "      box-shadow: 0px 1px 3px 1px rgba(0, 0, 0, 0.15);\n",
       "      filter: drop-shadow(0px 1px 2px rgba(0, 0, 0, 0.3));\n",
       "      fill: #FFFFFF;\n",
       "    }\n",
       "  </style>\n",
       "\n",
       "      <script>\n",
       "        const buttonEl =\n",
       "          document.querySelector('#df-f3b7bc66-3441-4fd3-a98b-d22ff717fdce button.colab-df-convert');\n",
       "        buttonEl.style.display =\n",
       "          google.colab.kernel.accessAllowed ? 'block' : 'none';\n",
       "\n",
       "        async function convertToInteractive(key) {\n",
       "          const element = document.querySelector('#df-f3b7bc66-3441-4fd3-a98b-d22ff717fdce');\n",
       "          const dataTable =\n",
       "            await google.colab.kernel.invokeFunction('convertToInteractive',\n",
       "                                                     [key], {});\n",
       "          if (!dataTable) return;\n",
       "\n",
       "          const docLinkHtml = 'Like what you see? Visit the ' +\n",
       "            '<a target=\"_blank\" href=https://colab.research.google.com/notebooks/data_table.ipynb>data table notebook</a>'\n",
       "            + ' to learn more about interactive tables.';\n",
       "          element.innerHTML = '';\n",
       "          dataTable['output_type'] = 'display_data';\n",
       "          await google.colab.output.renderOutput(dataTable, element);\n",
       "          const docLink = document.createElement('div');\n",
       "          docLink.innerHTML = docLinkHtml;\n",
       "          element.appendChild(docLink);\n",
       "        }\n",
       "      </script>\n",
       "    </div>\n",
       "  </div>\n",
       "  "
      ],
      "text/plain": [
       "  Model Name  Precison    Recall  Balanced_acc      k  Precison at k  \\\n",
       "0    XGBoost  0.430962  0.007357      0.502999  20000       0.360632   \n",
       "\n",
       "   Recall at k  \n",
       "0     0.515177  "
      ]
     },
     "execution_count": 25,
     "metadata": {},
     "output_type": "execute_result"
    }
   ],
   "source": [
    "xgb_performace"
   ]
  },
  {
   "cell_type": "code",
   "execution_count": null,
   "metadata": {
    "colab": {
     "base_uri": "https://localhost:8080/",
     "height": 488
    },
    "executionInfo": {
     "elapsed": 22,
     "status": "ok",
     "timestamp": 1666190348036,
     "user": {
      "displayName": "Lavis",
      "userId": "11464059397454562428"
     },
     "user_tz": 180
    },
    "id": "GSeaiNUQ5Giy",
    "outputId": "960e6461-0ad6-4612-af83-db174c0a49af"
   },
   "outputs": [
    {
     "data": {
      "text/html": [
       "\n",
       "  <div id=\"df-77f5b2e3-db96-4bfa-bdca-b46030ed69bf\">\n",
       "    <div class=\"colab-df-container\">\n",
       "      <div>\n",
       "<style scoped>\n",
       "    .dataframe tbody tr th:only-of-type {\n",
       "        vertical-align: middle;\n",
       "    }\n",
       "\n",
       "    .dataframe tbody tr th {\n",
       "        vertical-align: top;\n",
       "    }\n",
       "\n",
       "    .dataframe thead th {\n",
       "        text-align: right;\n",
       "    }\n",
       "</style>\n",
       "<table border=\"1\" class=\"dataframe\">\n",
       "  <thead>\n",
       "    <tr style=\"text-align: right;\">\n",
       "      <th></th>\n",
       "      <th>id</th>\n",
       "      <th>gender</th>\n",
       "      <th>age</th>\n",
       "      <th>region_code</th>\n",
       "      <th>policy_sales_channel</th>\n",
       "      <th>previously_insured</th>\n",
       "      <th>annual_premium</th>\n",
       "      <th>vintage</th>\n",
       "      <th>vehicle_age</th>\n",
       "      <th>vehicle_damage</th>\n",
       "      <th>response</th>\n",
       "      <th>model_score</th>\n",
       "    </tr>\n",
       "  </thead>\n",
       "  <tbody>\n",
       "    <tr>\n",
       "      <th>51525</th>\n",
       "      <td>299944</td>\n",
       "      <td>0</td>\n",
       "      <td>0.292308</td>\n",
       "      <td>18.0</td>\n",
       "      <td>124.0</td>\n",
       "      <td>0</td>\n",
       "      <td>6.014980</td>\n",
       "      <td>0.640138</td>\n",
       "      <td>2</td>\n",
       "      <td>1</td>\n",
       "      <td>0</td>\n",
       "      <td>0.731972</td>\n",
       "    </tr>\n",
       "    <tr>\n",
       "      <th>112906</th>\n",
       "      <td>247986</td>\n",
       "      <td>0</td>\n",
       "      <td>0.215385</td>\n",
       "      <td>28.0</td>\n",
       "      <td>124.0</td>\n",
       "      <td>0</td>\n",
       "      <td>3.507987</td>\n",
       "      <td>0.532872</td>\n",
       "      <td>2</td>\n",
       "      <td>1</td>\n",
       "      <td>0</td>\n",
       "      <td>0.702438</td>\n",
       "    </tr>\n",
       "    <tr>\n",
       "      <th>51094</th>\n",
       "      <td>139716</td>\n",
       "      <td>1</td>\n",
       "      <td>0.507692</td>\n",
       "      <td>28.0</td>\n",
       "      <td>124.0</td>\n",
       "      <td>0</td>\n",
       "      <td>5.967805</td>\n",
       "      <td>0.667820</td>\n",
       "      <td>3</td>\n",
       "      <td>1</td>\n",
       "      <td>0</td>\n",
       "      <td>0.687480</td>\n",
       "    </tr>\n",
       "    <tr>\n",
       "      <th>92549</th>\n",
       "      <td>232888</td>\n",
       "      <td>0</td>\n",
       "      <td>0.523077</td>\n",
       "      <td>28.0</td>\n",
       "      <td>26.0</td>\n",
       "      <td>0</td>\n",
       "      <td>5.915923</td>\n",
       "      <td>0.795848</td>\n",
       "      <td>2</td>\n",
       "      <td>1</td>\n",
       "      <td>0</td>\n",
       "      <td>0.685657</td>\n",
       "    </tr>\n",
       "    <tr>\n",
       "      <th>20598</th>\n",
       "      <td>334982</td>\n",
       "      <td>0</td>\n",
       "      <td>0.600000</td>\n",
       "      <td>51.0</td>\n",
       "      <td>157.0</td>\n",
       "      <td>0</td>\n",
       "      <td>5.916736</td>\n",
       "      <td>0.432526</td>\n",
       "      <td>2</td>\n",
       "      <td>1</td>\n",
       "      <td>1</td>\n",
       "      <td>0.642638</td>\n",
       "    </tr>\n",
       "    <tr>\n",
       "      <th>...</th>\n",
       "      <td>...</td>\n",
       "      <td>...</td>\n",
       "      <td>...</td>\n",
       "      <td>...</td>\n",
       "      <td>...</td>\n",
       "      <td>...</td>\n",
       "      <td>...</td>\n",
       "      <td>...</td>\n",
       "      <td>...</td>\n",
       "      <td>...</td>\n",
       "      <td>...</td>\n",
       "      <td>...</td>\n",
       "    </tr>\n",
       "    <tr>\n",
       "      <th>109035</th>\n",
       "      <td>38211</td>\n",
       "      <td>1</td>\n",
       "      <td>0.000000</td>\n",
       "      <td>25.0</td>\n",
       "      <td>160.0</td>\n",
       "      <td>1</td>\n",
       "      <td>0.051090</td>\n",
       "      <td>0.515571</td>\n",
       "      <td>1</td>\n",
       "      <td>0</td>\n",
       "      <td>0</td>\n",
       "      <td>0.000057</td>\n",
       "    </tr>\n",
       "    <tr>\n",
       "      <th>97963</th>\n",
       "      <td>103815</td>\n",
       "      <td>1</td>\n",
       "      <td>0.000000</td>\n",
       "      <td>9.0</td>\n",
       "      <td>160.0</td>\n",
       "      <td>1</td>\n",
       "      <td>-1.622718</td>\n",
       "      <td>0.525952</td>\n",
       "      <td>1</td>\n",
       "      <td>0</td>\n",
       "      <td>0</td>\n",
       "      <td>0.000055</td>\n",
       "    </tr>\n",
       "    <tr>\n",
       "      <th>60522</th>\n",
       "      <td>318790</td>\n",
       "      <td>1</td>\n",
       "      <td>0.000000</td>\n",
       "      <td>25.0</td>\n",
       "      <td>160.0</td>\n",
       "      <td>1</td>\n",
       "      <td>-1.622718</td>\n",
       "      <td>0.318339</td>\n",
       "      <td>1</td>\n",
       "      <td>0</td>\n",
       "      <td>0</td>\n",
       "      <td>0.000055</td>\n",
       "    </tr>\n",
       "    <tr>\n",
       "      <th>89617</th>\n",
       "      <td>222233</td>\n",
       "      <td>1</td>\n",
       "      <td>0.000000</td>\n",
       "      <td>47.0</td>\n",
       "      <td>160.0</td>\n",
       "      <td>1</td>\n",
       "      <td>-0.325038</td>\n",
       "      <td>0.166090</td>\n",
       "      <td>1</td>\n",
       "      <td>0</td>\n",
       "      <td>0</td>\n",
       "      <td>0.000049</td>\n",
       "    </tr>\n",
       "    <tr>\n",
       "      <th>11819</th>\n",
       "      <td>76357</td>\n",
       "      <td>1</td>\n",
       "      <td>0.000000</td>\n",
       "      <td>28.0</td>\n",
       "      <td>160.0</td>\n",
       "      <td>1</td>\n",
       "      <td>3.539709</td>\n",
       "      <td>0.941176</td>\n",
       "      <td>1</td>\n",
       "      <td>0</td>\n",
       "      <td>0</td>\n",
       "      <td>0.000047</td>\n",
       "    </tr>\n",
       "  </tbody>\n",
       "</table>\n",
       "<p>114090 rows × 12 columns</p>\n",
       "</div>\n",
       "      <button class=\"colab-df-convert\" onclick=\"convertToInteractive('df-77f5b2e3-db96-4bfa-bdca-b46030ed69bf')\"\n",
       "              title=\"Convert this dataframe to an interactive table.\"\n",
       "              style=\"display:none;\">\n",
       "        \n",
       "  <svg xmlns=\"http://www.w3.org/2000/svg\" height=\"24px\"viewBox=\"0 0 24 24\"\n",
       "       width=\"24px\">\n",
       "    <path d=\"M0 0h24v24H0V0z\" fill=\"none\"/>\n",
       "    <path d=\"M18.56 5.44l.94 2.06.94-2.06 2.06-.94-2.06-.94-.94-2.06-.94 2.06-2.06.94zm-11 1L8.5 8.5l.94-2.06 2.06-.94-2.06-.94L8.5 2.5l-.94 2.06-2.06.94zm10 10l.94 2.06.94-2.06 2.06-.94-2.06-.94-.94-2.06-.94 2.06-2.06.94z\"/><path d=\"M17.41 7.96l-1.37-1.37c-.4-.4-.92-.59-1.43-.59-.52 0-1.04.2-1.43.59L10.3 9.45l-7.72 7.72c-.78.78-.78 2.05 0 2.83L4 21.41c.39.39.9.59 1.41.59.51 0 1.02-.2 1.41-.59l7.78-7.78 2.81-2.81c.8-.78.8-2.07 0-2.86zM5.41 20L4 18.59l7.72-7.72 1.47 1.35L5.41 20z\"/>\n",
       "  </svg>\n",
       "      </button>\n",
       "      \n",
       "  <style>\n",
       "    .colab-df-container {\n",
       "      display:flex;\n",
       "      flex-wrap:wrap;\n",
       "      gap: 12px;\n",
       "    }\n",
       "\n",
       "    .colab-df-convert {\n",
       "      background-color: #E8F0FE;\n",
       "      border: none;\n",
       "      border-radius: 50%;\n",
       "      cursor: pointer;\n",
       "      display: none;\n",
       "      fill: #1967D2;\n",
       "      height: 32px;\n",
       "      padding: 0 0 0 0;\n",
       "      width: 32px;\n",
       "    }\n",
       "\n",
       "    .colab-df-convert:hover {\n",
       "      background-color: #E2EBFA;\n",
       "      box-shadow: 0px 1px 2px rgba(60, 64, 67, 0.3), 0px 1px 3px 1px rgba(60, 64, 67, 0.15);\n",
       "      fill: #174EA6;\n",
       "    }\n",
       "\n",
       "    [theme=dark] .colab-df-convert {\n",
       "      background-color: #3B4455;\n",
       "      fill: #D2E3FC;\n",
       "    }\n",
       "\n",
       "    [theme=dark] .colab-df-convert:hover {\n",
       "      background-color: #434B5C;\n",
       "      box-shadow: 0px 1px 3px 1px rgba(0, 0, 0, 0.15);\n",
       "      filter: drop-shadow(0px 1px 2px rgba(0, 0, 0, 0.3));\n",
       "      fill: #FFFFFF;\n",
       "    }\n",
       "  </style>\n",
       "\n",
       "      <script>\n",
       "        const buttonEl =\n",
       "          document.querySelector('#df-77f5b2e3-db96-4bfa-bdca-b46030ed69bf button.colab-df-convert');\n",
       "        buttonEl.style.display =\n",
       "          google.colab.kernel.accessAllowed ? 'block' : 'none';\n",
       "\n",
       "        async function convertToInteractive(key) {\n",
       "          const element = document.querySelector('#df-77f5b2e3-db96-4bfa-bdca-b46030ed69bf');\n",
       "          const dataTable =\n",
       "            await google.colab.kernel.invokeFunction('convertToInteractive',\n",
       "                                                     [key], {});\n",
       "          if (!dataTable) return;\n",
       "\n",
       "          const docLinkHtml = 'Like what you see? Visit the ' +\n",
       "            '<a target=\"_blank\" href=https://colab.research.google.com/notebooks/data_table.ipynb>data table notebook</a>'\n",
       "            + ' to learn more about interactive tables.';\n",
       "          element.innerHTML = '';\n",
       "          dataTable['output_type'] = 'display_data';\n",
       "          await google.colab.output.renderOutput(dataTable, element);\n",
       "          const docLink = document.createElement('div');\n",
       "          docLink.innerHTML = docLinkHtml;\n",
       "          element.appendChild(docLink);\n",
       "        }\n",
       "      </script>\n",
       "    </div>\n",
       "  </div>\n",
       "  "
      ],
      "text/plain": [
       "            id  gender       age  region_code  policy_sales_channel  \\\n",
       "51525   299944       0  0.292308         18.0                 124.0   \n",
       "112906  247986       0  0.215385         28.0                 124.0   \n",
       "51094   139716       1  0.507692         28.0                 124.0   \n",
       "92549   232888       0  0.523077         28.0                  26.0   \n",
       "20598   334982       0  0.600000         51.0                 157.0   \n",
       "...        ...     ...       ...          ...                   ...   \n",
       "109035   38211       1  0.000000         25.0                 160.0   \n",
       "97963   103815       1  0.000000          9.0                 160.0   \n",
       "60522   318790       1  0.000000         25.0                 160.0   \n",
       "89617   222233       1  0.000000         47.0                 160.0   \n",
       "11819    76357       1  0.000000         28.0                 160.0   \n",
       "\n",
       "        previously_insured  annual_premium   vintage  vehicle_age  \\\n",
       "51525                    0        6.014980  0.640138            2   \n",
       "112906                   0        3.507987  0.532872            2   \n",
       "51094                    0        5.967805  0.667820            3   \n",
       "92549                    0        5.915923  0.795848            2   \n",
       "20598                    0        5.916736  0.432526            2   \n",
       "...                    ...             ...       ...          ...   \n",
       "109035                   1        0.051090  0.515571            1   \n",
       "97963                    1       -1.622718  0.525952            1   \n",
       "60522                    1       -1.622718  0.318339            1   \n",
       "89617                    1       -0.325038  0.166090            1   \n",
       "11819                    1        3.539709  0.941176            1   \n",
       "\n",
       "        vehicle_damage  response  model_score  \n",
       "51525                1         0     0.731972  \n",
       "112906               1         0     0.702438  \n",
       "51094                1         0     0.687480  \n",
       "92549                1         0     0.685657  \n",
       "20598                1         1     0.642638  \n",
       "...                ...       ...          ...  \n",
       "109035               0         0     0.000057  \n",
       "97963                0         0     0.000055  \n",
       "60522                0         0     0.000055  \n",
       "89617                0         0     0.000049  \n",
       "11819                0         0     0.000047  \n",
       "\n",
       "[114090 rows x 12 columns]"
      ]
     },
     "execution_count": 26,
     "metadata": {},
     "output_type": "execute_result"
    }
   ],
   "source": [
    "model_df"
   ]
  },
  {
   "cell_type": "code",
   "execution_count": null,
   "metadata": {
    "id": "qrOr2I1vz9a_"
   },
   "outputs": [],
   "source": [
    "#pickle.dump(xgb_model_final,open('../models/xgb_model_final.pkl','wb'))"
   ]
  }
 ],
 "metadata": {
  "accelerator": "GPU",
  "colab": {
   "collapsed_sections": [],
   "provenance": []
  },
  "deepnote": {},
  "deepnote_execution_queue": [],
  "deepnote_notebook_id": "1c4ae238-6d82-4b11-b14c-6a3b5dfcbe14",
  "kernelspec": {
   "display_name": "Python 3",
   "language": "python",
   "name": "python3"
  },
  "language_info": {
   "codemirror_mode": {
    "name": "ipython",
    "version": 3
   },
   "file_extension": ".py",
   "mimetype": "text/x-python",
   "name": "python",
   "nbconvert_exporter": "python",
   "pygments_lexer": "ipython3",
   "version": "3.8.5"
  }
 },
 "nbformat": 4,
 "nbformat_minor": 1
}
