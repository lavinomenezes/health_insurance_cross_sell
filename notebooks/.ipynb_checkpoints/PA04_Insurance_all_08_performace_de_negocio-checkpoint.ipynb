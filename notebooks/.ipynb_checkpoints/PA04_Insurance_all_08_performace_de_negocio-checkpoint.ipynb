{
 "cells": [
  {
   "cell_type": "markdown",
   "metadata": {
    "cell_id": "8e1eeda121f84c5982685b8e4ffab2f2",
    "deepnote_cell_height": 82,
    "deepnote_cell_type": "markdown",
    "id": "GntYN-H7_bX6",
    "tags": []
   },
   "source": [
    "# Imports"
   ]
  },
  {
   "cell_type": "code",
   "execution_count": 2,
   "metadata": {
    "ExecuteTime": {
     "end_time": "2022-09-20T00:56:36.872884Z",
     "start_time": "2022-09-20T00:56:36.857924Z"
    },
    "cell_id": "b1081808-d34a-49be-bcd9-e77d9c15f1af",
    "deepnote_cell_height": 256,
    "deepnote_cell_type": "code",
    "deepnote_to_be_reexecuted": false,
    "executionInfo": {
     "elapsed": 1173,
     "status": "ok",
     "timestamp": 1668175769613,
     "user": {
      "displayName": "Lavis",
      "userId": "11464059397454562428"
     },
     "user_tz": 180
    },
    "execution_millis": 4470,
    "execution_start": 1663610315420,
    "id": "g4bKRoJx_bX8",
    "scrolled": true,
    "source_hash": "2833c534"
   },
   "outputs": [],
   "source": [
    "import pandas as pd\n",
    "import numpy as np\n",
    "import seaborn as sns\n",
    "\n",
    "import matplotlib.pyplot as plt\n",
    "import scikitplot as skplt\n",
    "\n",
    "import xgboost as xgb\n",
    "\n",
    "import sklearn.metrics\n",
    "import pickle\n",
    "\n",
    "from IPython.core.display import HTML\n",
    "pd.options.mode.chained_assignment = None  # default='warn'"
   ]
  },
  {
   "cell_type": "markdown",
   "metadata": {
    "cell_id": "a0c4abcf2dc14542a421ec28aecbc4cf",
    "deepnote_cell_height": 82,
    "deepnote_cell_type": "markdown",
    "id": "PLefCAOf_bX-",
    "tags": []
   },
   "source": [
    "# Helper functions"
   ]
  },
  {
   "cell_type": "code",
   "execution_count": 4,
   "metadata": {
    "ExecuteTime": {
     "end_time": "2022-09-20T00:56:36.904834Z",
     "start_time": "2022-09-20T00:56:36.875873Z"
    },
    "cell_id": "00001-db43aed9-f600-480f-b4f1-adb4ffe57c13",
    "colab": {
     "base_uri": "https://localhost:8080/",
     "height": 34
    },
    "deepnote_cell_height": 303.3999938964844,
    "deepnote_cell_type": "code",
    "deepnote_output_heights": [
     null,
     1
    ],
    "deepnote_to_be_reexecuted": false,
    "executionInfo": {
     "elapsed": 17,
     "status": "ok",
     "timestamp": 1668175798447,
     "user": {
      "displayName": "Lavis",
      "userId": "11464059397454562428"
     },
     "user_tz": 180
    },
    "execution_millis": 30,
    "execution_start": 1663608570228,
    "id": "iwgIa8dr_bX_",
    "outputId": "14340abc-3e91-48ec-a62e-2ceb4e13858c",
    "source_hash": "46a4bb4d"
   },
   "outputs": [
    {
     "name": "stdout",
     "output_type": "stream",
     "text": [
      "Populating the interactive namespace from numpy and matplotlib\n"
     ]
    },
    {
     "data": {
      "text/html": [
       "<style>.container { width:100% !important; }</style>"
      ],
      "text/plain": [
       "<IPython.core.display.HTML object>"
      ]
     },
     "metadata": {},
     "output_type": "display_data"
    }
   ],
   "source": [
    "def jupyter_settings():\n",
    "    %matplotlib inline\n",
    "    %pylab inline\n",
    "    plt.style.use( 'bmh' )\n",
    "    plt.rcParams['figure.figsize'] = [25, 12]\n",
    "    plt.rcParams['font.size'] = 24\n",
    "    display( HTML( '<style>.container { width:100% !important; }</style>') )\n",
    "    sns.set()\n",
    "jupyter_settings()"
   ]
  },
  {
   "cell_type": "code",
   "execution_count": 49,
   "metadata": {
    "executionInfo": {
     "elapsed": 4,
     "status": "ok",
     "timestamp": 1668175895625,
     "user": {
      "displayName": "Lavis",
      "userId": "11464059397454562428"
     },
     "user_tz": 180
    },
    "id": "JcHEY-o9WKGC"
   },
   "outputs": [],
   "source": [
    "from functions import performace, recall_at_k, performace_cross_val"
   ]
  },
  {
   "cell_type": "markdown",
   "metadata": {
    "cell_id": "b7db0904becc49c0893936063345f31c",
    "deepnote_cell_height": 82,
    "deepnote_cell_type": "markdown",
    "id": "AKHRDzM9_bYC",
    "tags": []
   },
   "source": [
    "# Load data"
   ]
  },
  {
   "cell_type": "code",
   "execution_count": 7,
   "metadata": {
    "ExecuteTime": {
     "end_time": "2022-09-20T00:56:37.809182Z",
     "start_time": "2022-09-20T00:56:37.321047Z"
    },
    "cell_id": "85d4019373694d0d8a3bbc829e66a917",
    "deepnote_cell_height": 76,
    "deepnote_cell_type": "code",
    "deepnote_to_be_reexecuted": false,
    "executionInfo": {
     "elapsed": 1737,
     "status": "ok",
     "timestamp": 1668175801889,
     "user": {
      "displayName": "Lavis",
      "userId": "11464059397454562428"
     },
     "user_tz": 180
    },
    "execution_millis": 469,
    "execution_start": 1663608570460,
    "id": "808FSwPh_bYD",
    "source_hash": "24364d9e",
    "tags": []
   },
   "outputs": [],
   "source": [
    "test_df = pd.read_csv('../data/test_raw.csv')"
   ]
  },
  {
   "cell_type": "code",
   "execution_count": 8,
   "metadata": {
    "colab": {
     "base_uri": "https://localhost:8080/",
     "height": 206
    },
    "executionInfo": {
     "elapsed": 18,
     "status": "ok",
     "timestamp": 1668175801890,
     "user": {
      "displayName": "Lavis",
      "userId": "11464059397454562428"
     },
     "user_tz": 180
    },
    "id": "fVaE2jOdLrrM",
    "outputId": "8f0158c5-e1e6-4a2d-c219-f4be8cce871e"
   },
   "outputs": [
    {
     "data": {
      "text/html": [
       "\n",
       "  <div id=\"df-c55a75c8-1a64-49ce-ac15-c47bc5d19658\">\n",
       "    <div class=\"colab-df-container\">\n",
       "      <div>\n",
       "<style scoped>\n",
       "    .dataframe tbody tr th:only-of-type {\n",
       "        vertical-align: middle;\n",
       "    }\n",
       "\n",
       "    .dataframe tbody tr th {\n",
       "        vertical-align: top;\n",
       "    }\n",
       "\n",
       "    .dataframe thead th {\n",
       "        text-align: right;\n",
       "    }\n",
       "</style>\n",
       "<table border=\"1\" class=\"dataframe\">\n",
       "  <thead>\n",
       "    <tr style=\"text-align: right;\">\n",
       "      <th></th>\n",
       "      <th>id</th>\n",
       "      <th>gender</th>\n",
       "      <th>age</th>\n",
       "      <th>region_code</th>\n",
       "      <th>policy_sales_channel</th>\n",
       "      <th>previously_insured</th>\n",
       "      <th>annual_premium</th>\n",
       "      <th>vintage</th>\n",
       "      <th>vehicle_age</th>\n",
       "      <th>vehicle_damage</th>\n",
       "      <th>response</th>\n",
       "    </tr>\n",
       "  </thead>\n",
       "  <tbody>\n",
       "    <tr>\n",
       "      <th>0</th>\n",
       "      <td>196319</td>\n",
       "      <td>Male</td>\n",
       "      <td>50</td>\n",
       "      <td>33.0</td>\n",
       "      <td>124.0</td>\n",
       "      <td>0</td>\n",
       "      <td>40841.0</td>\n",
       "      <td>154</td>\n",
       "      <td>&gt; 2 Years</td>\n",
       "      <td>1</td>\n",
       "      <td>0</td>\n",
       "    </tr>\n",
       "    <tr>\n",
       "      <th>1</th>\n",
       "      <td>377373</td>\n",
       "      <td>Male</td>\n",
       "      <td>40</td>\n",
       "      <td>8.0</td>\n",
       "      <td>124.0</td>\n",
       "      <td>1</td>\n",
       "      <td>2630.0</td>\n",
       "      <td>145</td>\n",
       "      <td>1-2 Year</td>\n",
       "      <td>0</td>\n",
       "      <td>0</td>\n",
       "    </tr>\n",
       "    <tr>\n",
       "      <th>2</th>\n",
       "      <td>96687</td>\n",
       "      <td>Female</td>\n",
       "      <td>65</td>\n",
       "      <td>41.0</td>\n",
       "      <td>109.0</td>\n",
       "      <td>0</td>\n",
       "      <td>26336.0</td>\n",
       "      <td>246</td>\n",
       "      <td>1-2 Year</td>\n",
       "      <td>1</td>\n",
       "      <td>0</td>\n",
       "    </tr>\n",
       "    <tr>\n",
       "      <th>3</th>\n",
       "      <td>303533</td>\n",
       "      <td>Male</td>\n",
       "      <td>60</td>\n",
       "      <td>28.0</td>\n",
       "      <td>124.0</td>\n",
       "      <td>0</td>\n",
       "      <td>52717.0</td>\n",
       "      <td>139</td>\n",
       "      <td>1-2 Year</td>\n",
       "      <td>1</td>\n",
       "      <td>0</td>\n",
       "    </tr>\n",
       "    <tr>\n",
       "      <th>4</th>\n",
       "      <td>256233</td>\n",
       "      <td>Male</td>\n",
       "      <td>36</td>\n",
       "      <td>36.0</td>\n",
       "      <td>26.0</td>\n",
       "      <td>0</td>\n",
       "      <td>39176.0</td>\n",
       "      <td>73</td>\n",
       "      <td>1-2 Year</td>\n",
       "      <td>1</td>\n",
       "      <td>1</td>\n",
       "    </tr>\n",
       "  </tbody>\n",
       "</table>\n",
       "</div>\n",
       "      <button class=\"colab-df-convert\" onclick=\"convertToInteractive('df-c55a75c8-1a64-49ce-ac15-c47bc5d19658')\"\n",
       "              title=\"Convert this dataframe to an interactive table.\"\n",
       "              style=\"display:none;\">\n",
       "        \n",
       "  <svg xmlns=\"http://www.w3.org/2000/svg\" height=\"24px\"viewBox=\"0 0 24 24\"\n",
       "       width=\"24px\">\n",
       "    <path d=\"M0 0h24v24H0V0z\" fill=\"none\"/>\n",
       "    <path d=\"M18.56 5.44l.94 2.06.94-2.06 2.06-.94-2.06-.94-.94-2.06-.94 2.06-2.06.94zm-11 1L8.5 8.5l.94-2.06 2.06-.94-2.06-.94L8.5 2.5l-.94 2.06-2.06.94zm10 10l.94 2.06.94-2.06 2.06-.94-2.06-.94-.94-2.06-.94 2.06-2.06.94z\"/><path d=\"M17.41 7.96l-1.37-1.37c-.4-.4-.92-.59-1.43-.59-.52 0-1.04.2-1.43.59L10.3 9.45l-7.72 7.72c-.78.78-.78 2.05 0 2.83L4 21.41c.39.39.9.59 1.41.59.51 0 1.02-.2 1.41-.59l7.78-7.78 2.81-2.81c.8-.78.8-2.07 0-2.86zM5.41 20L4 18.59l7.72-7.72 1.47 1.35L5.41 20z\"/>\n",
       "  </svg>\n",
       "      </button>\n",
       "      \n",
       "  <style>\n",
       "    .colab-df-container {\n",
       "      display:flex;\n",
       "      flex-wrap:wrap;\n",
       "      gap: 12px;\n",
       "    }\n",
       "\n",
       "    .colab-df-convert {\n",
       "      background-color: #E8F0FE;\n",
       "      border: none;\n",
       "      border-radius: 50%;\n",
       "      cursor: pointer;\n",
       "      display: none;\n",
       "      fill: #1967D2;\n",
       "      height: 32px;\n",
       "      padding: 0 0 0 0;\n",
       "      width: 32px;\n",
       "    }\n",
       "\n",
       "    .colab-df-convert:hover {\n",
       "      background-color: #E2EBFA;\n",
       "      box-shadow: 0px 1px 2px rgba(60, 64, 67, 0.3), 0px 1px 3px 1px rgba(60, 64, 67, 0.15);\n",
       "      fill: #174EA6;\n",
       "    }\n",
       "\n",
       "    [theme=dark] .colab-df-convert {\n",
       "      background-color: #3B4455;\n",
       "      fill: #D2E3FC;\n",
       "    }\n",
       "\n",
       "    [theme=dark] .colab-df-convert:hover {\n",
       "      background-color: #434B5C;\n",
       "      box-shadow: 0px 1px 3px 1px rgba(0, 0, 0, 0.15);\n",
       "      filter: drop-shadow(0px 1px 2px rgba(0, 0, 0, 0.3));\n",
       "      fill: #FFFFFF;\n",
       "    }\n",
       "  </style>\n",
       "\n",
       "      <script>\n",
       "        const buttonEl =\n",
       "          document.querySelector('#df-c55a75c8-1a64-49ce-ac15-c47bc5d19658 button.colab-df-convert');\n",
       "        buttonEl.style.display =\n",
       "          google.colab.kernel.accessAllowed ? 'block' : 'none';\n",
       "\n",
       "        async function convertToInteractive(key) {\n",
       "          const element = document.querySelector('#df-c55a75c8-1a64-49ce-ac15-c47bc5d19658');\n",
       "          const dataTable =\n",
       "            await google.colab.kernel.invokeFunction('convertToInteractive',\n",
       "                                                     [key], {});\n",
       "          if (!dataTable) return;\n",
       "\n",
       "          const docLinkHtml = 'Like what you see? Visit the ' +\n",
       "            '<a target=\"_blank\" href=https://colab.research.google.com/notebooks/data_table.ipynb>data table notebook</a>'\n",
       "            + ' to learn more about interactive tables.';\n",
       "          element.innerHTML = '';\n",
       "          dataTable['output_type'] = 'display_data';\n",
       "          await google.colab.output.renderOutput(dataTable, element);\n",
       "          const docLink = document.createElement('div');\n",
       "          docLink.innerHTML = docLinkHtml;\n",
       "          element.appendChild(docLink);\n",
       "        }\n",
       "      </script>\n",
       "    </div>\n",
       "  </div>\n",
       "  "
      ],
      "text/plain": [
       "       id  gender  age  region_code  policy_sales_channel  previously_insured  \\\n",
       "0  196319    Male   50         33.0                 124.0                   0   \n",
       "1  377373    Male   40          8.0                 124.0                   1   \n",
       "2   96687  Female   65         41.0                 109.0                   0   \n",
       "3  303533    Male   60         28.0                 124.0                   0   \n",
       "4  256233    Male   36         36.0                  26.0                   0   \n",
       "\n",
       "   annual_premium  vintage vehicle_age  vehicle_damage  response  \n",
       "0         40841.0      154   > 2 Years               1         0  \n",
       "1          2630.0      145    1-2 Year               0         0  \n",
       "2         26336.0      246    1-2 Year               1         0  \n",
       "3         52717.0      139    1-2 Year               1         0  \n",
       "4         39176.0       73    1-2 Year               1         1  "
      ]
     },
     "execution_count": 8,
     "metadata": {},
     "output_type": "execute_result"
    }
   ],
   "source": [
    "test_df.head()"
   ]
  },
  {
   "cell_type": "code",
   "execution_count": 9,
   "metadata": {
    "ExecuteTime": {
     "end_time": "2022-09-20T00:56:37.840253Z",
     "start_time": "2022-09-20T00:56:37.812429Z"
    },
    "cell_id": "d15cfeb187174127b0d49ef4e3836e11",
    "colab": {
     "base_uri": "https://localhost:8080/"
    },
    "deepnote_cell_height": 407,
    "deepnote_cell_type": "code",
    "deepnote_to_be_reexecuted": false,
    "executionInfo": {
     "elapsed": 16,
     "status": "ok",
     "timestamp": 1668175801891,
     "user": {
      "displayName": "Lavis",
      "userId": "11464059397454562428"
     },
     "user_tz": 180
    },
    "execution_millis": 897,
    "execution_start": 1663608570936,
    "id": "Ey5XBhM4_bYD",
    "outputId": "87f644af-c757-496a-dc12-98ee79d60d21",
    "source_hash": "8f2e4d8a",
    "tags": []
   },
   "outputs": [
    {
     "data": {
      "text/plain": [
       "(114090, 11)"
      ]
     },
     "execution_count": 9,
     "metadata": {},
     "output_type": "execute_result"
    }
   ],
   "source": [
    "test_df.shape"
   ]
  },
  {
   "cell_type": "code",
   "execution_count": 10,
   "metadata": {
    "ExecuteTime": {
     "end_time": "2022-09-20T00:56:37.902612Z",
     "start_time": "2022-09-20T00:56:37.843208Z"
    },
    "cell_id": "07e24a18691445e590cd7e564652a889",
    "colab": {
     "base_uri": "https://localhost:8080/"
    },
    "deepnote_cell_height": 285,
    "deepnote_cell_type": "code",
    "deepnote_output_heights": [
     193
    ],
    "deepnote_to_be_reexecuted": false,
    "executionInfo": {
     "elapsed": 14,
     "status": "ok",
     "timestamp": 1668175801892,
     "user": {
      "displayName": "Lavis",
      "userId": "11464059397454562428"
     },
     "user_tz": 180
    },
    "execution_millis": 831,
    "execution_start": 1663608571003,
    "id": "oeYS6NoJ_bYE",
    "outputId": "8a1c7e10-99c8-410c-b8e7-f0242f808b0f",
    "source_hash": "ac6ebbf9",
    "tags": []
   },
   "outputs": [
    {
     "data": {
      "text/plain": [
       "id                        int64\n",
       "gender                   object\n",
       "age                       int64\n",
       "region_code             float64\n",
       "policy_sales_channel    float64\n",
       "previously_insured        int64\n",
       "annual_premium          float64\n",
       "vintage                   int64\n",
       "vehicle_age              object\n",
       "vehicle_damage            int64\n",
       "response                  int64\n",
       "dtype: object"
      ]
     },
     "execution_count": 10,
     "metadata": {},
     "output_type": "execute_result"
    }
   ],
   "source": [
    "test_df.dtypes"
   ]
  },
  {
   "cell_type": "markdown",
   "metadata": {
    "id": "VXQxVXET0GE6"
   },
   "source": [
    "# Data Preparation"
   ]
  },
  {
   "cell_type": "code",
   "execution_count": 11,
   "metadata": {
    "executionInfo": {
     "elapsed": 13,
     "status": "ok",
     "timestamp": 1668175801894,
     "user": {
      "displayName": "Lavis",
      "userId": "11464059397454562428"
     },
     "user_tz": 180
    },
    "id": "neXzmfFe0RQx"
   },
   "outputs": [],
   "source": [
    "df8 = test_df.copy()"
   ]
  },
  {
   "cell_type": "markdown",
   "metadata": {
    "id": "XwalJ-P70sZV"
   },
   "source": []
  },
  {
   "cell_type": "code",
   "execution_count": 12,
   "metadata": {
    "executionInfo": {
     "elapsed": 1916,
     "status": "ok",
     "timestamp": 1668175803797,
     "user": {
      "displayName": "Lavis",
      "userId": "11464059397454562428"
     },
     "user_tz": 180
    },
    "id": "MGhh3x_F0r00"
   },
   "outputs": [],
   "source": [
    "mms_age = pickle.load(open('../features/age_scaler.pkl','rb'))\n",
    "mms_vintage = pickle.load(open('../features/vintage_scaler.pkl','rb'))\n",
    "se = pickle.load(open('../features/annual_premium_scaler.pkl','rb'))\n"
   ]
  },
  {
   "cell_type": "markdown",
   "metadata": {
    "id": "5Ht06L-KHwQR"
   },
   "source": [
    "## rescaling"
   ]
  },
  {
   "cell_type": "code",
   "execution_count": 13,
   "metadata": {
    "executionInfo": {
     "elapsed": 7,
     "status": "ok",
     "timestamp": 1668175803798,
     "user": {
      "displayName": "Lavis",
      "userId": "11464059397454562428"
     },
     "user_tz": 180
    },
    "id": "Jq1kZ_CJ0JE0"
   },
   "outputs": [],
   "source": [
    "# Min - max sacaler\n",
    "df8['age'] = mms_age.transform(df8[['age']].values)\n",
    "\n",
    "df8['vintage'] = mms_vintage.transform(df8[['vintage']].values)\n",
    "\n",
    "# StandardScale\n",
    "df8['annual_premium'] = se.transform(df8[['annual_premium']].values)"
   ]
  },
  {
   "cell_type": "markdown",
   "metadata": {
    "id": "YvZuXhKzHysW"
   },
   "source": [
    "## encoding"
   ]
  },
  {
   "cell_type": "code",
   "execution_count": 14,
   "metadata": {
    "executionInfo": {
     "elapsed": 7,
     "status": "ok",
     "timestamp": 1668175803798,
     "user": {
      "displayName": "Lavis",
      "userId": "11464059397454562428"
     },
     "user_tz": 180
    },
    "id": "bWpMz4PR0i_w"
   },
   "outputs": [],
   "source": [
    "df8['gender'] = df8['gender'].apply(lambda x: 1 if x=='Female' else (0 if x=='Male' else x))\n",
    "\n",
    "\n",
    "# vehicle_age ordinal scale\n",
    "vehicle_age_dict = {'> 2 Years':3, '1-2 Year':2, '< 1 Year':1}\n",
    "df8['vehicle_age'] = df8['vehicle_age'].map(vehicle_age_dict)\n",
    "\n"
   ]
  },
  {
   "cell_type": "code",
   "execution_count": 15,
   "metadata": {
    "executionInfo": {
     "elapsed": 7,
     "status": "ok",
     "timestamp": 1668175803799,
     "user": {
      "displayName": "Lavis",
      "userId": "11464059397454562428"
     },
     "user_tz": 180
    },
    "id": "4s9dTsVz10IH"
   },
   "outputs": [],
   "source": [
    "final_columns = ['id',  'age', 'region_code', 'policy_sales_channel',\n",
    "       'previously_insured', 'annual_premium', 'vintage', 'vehicle_age',\n",
    "       'vehicle_damage', 'response']"
   ]
  },
  {
   "cell_type": "code",
   "execution_count": 16,
   "metadata": {
    "executionInfo": {
     "elapsed": 7,
     "status": "ok",
     "timestamp": 1668175803799,
     "user": {
      "displayName": "Lavis",
      "userId": "11464059397454562428"
     },
     "user_tz": 180
    },
    "id": "W7WbUGXF132Y"
   },
   "outputs": [],
   "source": [
    "df8 = df8[final_columns]"
   ]
  },
  {
   "cell_type": "markdown",
   "metadata": {
    "id": "UhFzCbc2VKSU"
   },
   "source": [
    "# Model"
   ]
  },
  {
   "cell_type": "code",
   "execution_count": 17,
   "metadata": {
    "executionInfo": {
     "elapsed": 861,
     "status": "ok",
     "timestamp": 1668175804654,
     "user": {
      "displayName": "Lavis",
      "userId": "11464059397454562428"
     },
     "user_tz": 180
    },
    "id": "G2_xLV7eVM4O"
   },
   "outputs": [],
   "source": [
    "model = pickle.load(open('../models/xgb_model_final.pkl','rb'))"
   ]
  },
  {
   "cell_type": "code",
   "execution_count": 18,
   "metadata": {
    "executionInfo": {
     "elapsed": 5,
     "status": "ok",
     "timestamp": 1668175804655,
     "user": {
      "displayName": "Lavis",
      "userId": "11464059397454562428"
     },
     "user_tz": 180
    },
    "id": "zvJsfTDXZph4"
   },
   "outputs": [],
   "source": [
    "X_test = df8.copy()\n",
    "y_test = X_test['response']\n",
    "X_test.drop(columns=['id','response'],inplace = True)"
   ]
  },
  {
   "cell_type": "code",
   "execution_count": 19,
   "metadata": {
    "executionInfo": {
     "elapsed": 15902,
     "status": "ok",
     "timestamp": 1668175820553,
     "user": {
      "displayName": "Lavis",
      "userId": "11464059397454562428"
     },
     "user_tz": 180
    },
    "id": "28EYUsbAW93Z"
   },
   "outputs": [],
   "source": [
    "#model prediction proba - poder de generalização\n",
    "yhat_proba = model.predict_proba( X_test )\n",
    "\n",
    "#model prediction - poder de generalização\n",
    "yhat_class = model.predict( X_test )"
   ]
  },
  {
   "cell_type": "code",
   "execution_count": 20,
   "metadata": {
    "colab": {
     "base_uri": "https://localhost:8080/",
     "height": 626
    },
    "executionInfo": {
     "elapsed": 1289,
     "status": "ok",
     "timestamp": 1668175821836,
     "user": {
      "displayName": "Lavis",
      "userId": "11464059397454562428"
     },
     "user_tz": 180
    },
    "id": "OUY_NLPTb6g6",
    "outputId": "cc70bd88-2ac9-4241-f4a6-0a7c3a22f681"
   },
   "outputs": [
    {
     "data": {
      "text/plain": [
       "<matplotlib.lines.Line2D at 0x7f38f68a6750>"
      ]
     },
     "execution_count": 20,
     "metadata": {},
     "output_type": "execute_result"
    },
    {
     "data": {
      "image/png": "[encoded data removed]",
      "text/plain": [
       "<Figure size 1800x864 with 1 Axes>"
      ]
     },
     "metadata": {},
     "output_type": "display_data"
    }
   ],
   "source": [
    "skplt.metrics.plot_cumulative_gain(y_test,yhat_proba);\n",
    "plt.axvline(0.1753, 0, 1, color='green', ls='--', lw=3)"
   ]
  },
  {
   "cell_type": "code",
   "execution_count": 21,
   "metadata": {
    "colab": {
     "base_uri": "https://localhost:8080/",
     "height": 630
    },
    "executionInfo": {
     "elapsed": 1062,
     "status": "ok",
     "timestamp": 1668175822890,
     "user": {
      "displayName": "Lavis",
      "userId": "11464059397454562428"
     },
     "user_tz": 180
    },
    "id": "lNZjO9Gtp17c",
    "outputId": "55177483-2175-42d5-b833-a73151e0a503"
   },
   "outputs": [
    {
     "data": {
      "text/plain": [
       "<matplotlib.lines.Line2D at 0x7f38f37a43d0>"
      ]
     },
     "execution_count": 21,
     "metadata": {},
     "output_type": "execute_result"
    },
    {
     "data": {
      "image/png": "[encoded data removed]",
      "text/plain": [
       "<Figure size 1800x864 with 1 Axes>"
      ]
     },
     "metadata": {},
     "output_type": "display_data"
    }
   ],
   "source": [
    "skplt.metrics.plot_lift_curve(y_test,yhat_proba);\n",
    "plt.axvline(0.1753, 0, 1, color='green', ls='--', lw=3)"
   ]
  },
  {
   "cell_type": "code",
   "execution_count": 22,
   "metadata": {
    "executionInfo": {
     "elapsed": 6,
     "status": "ok",
     "timestamp": 1668175822890,
     "user": {
      "displayName": "Lavis",
      "userId": "11464059397454562428"
     },
     "user_tz": 180
    },
    "id": "3hC3MdYIbxqD"
   },
   "outputs": [],
   "source": [
    "model_df = test_df.copy()\n",
    "model_df['model_score'] = yhat_proba[:,1].tolist()\n",
    "# sorte by score\n",
    "model_df = model_df.sort_values('model_score',ascending=False)"
   ]
  },
  {
   "cell_type": "code",
   "execution_count": 23,
   "metadata": {
    "colab": {
     "base_uri": "https://localhost:8080/",
     "height": 488
    },
    "executionInfo": {
     "elapsed": 644,
     "status": "ok",
     "timestamp": 1668175823529,
     "user": {
      "displayName": "Lavis",
      "userId": "11464059397454562428"
     },
     "user_tz": 180
    },
    "id": "XSYXgqvxiNkN",
    "outputId": "e670d4a5-4690-4e8a-d705-52ce354bb331"
   },
   "outputs": [
    {
     "data": {
      "text/html": [
       "\n",
       "  <div id=\"df-fe012692-926c-4666-8cd7-0b0ad2f6fe52\">\n",
       "    <div class=\"colab-df-container\">\n",
       "      <div>\n",
       "<style scoped>\n",
       "    .dataframe tbody tr th:only-of-type {\n",
       "        vertical-align: middle;\n",
       "    }\n",
       "\n",
       "    .dataframe tbody tr th {\n",
       "        vertical-align: top;\n",
       "    }\n",
       "\n",
       "    .dataframe thead th {\n",
       "        text-align: right;\n",
       "    }\n",
       "</style>\n",
       "<table border=\"1\" class=\"dataframe\">\n",
       "  <thead>\n",
       "    <tr style=\"text-align: right;\">\n",
       "      <th></th>\n",
       "      <th>id</th>\n",
       "      <th>gender</th>\n",
       "      <th>age</th>\n",
       "      <th>region_code</th>\n",
       "      <th>policy_sales_channel</th>\n",
       "      <th>previously_insured</th>\n",
       "      <th>annual_premium</th>\n",
       "      <th>vintage</th>\n",
       "      <th>vehicle_age</th>\n",
       "      <th>vehicle_damage</th>\n",
       "      <th>response</th>\n",
       "      <th>model_score</th>\n",
       "    </tr>\n",
       "  </thead>\n",
       "  <tbody>\n",
       "    <tr>\n",
       "      <th>112906</th>\n",
       "      <td>247986</td>\n",
       "      <td>Male</td>\n",
       "      <td>34</td>\n",
       "      <td>28.0</td>\n",
       "      <td>124.0</td>\n",
       "      <td>0</td>\n",
       "      <td>90941.0</td>\n",
       "      <td>164</td>\n",
       "      <td>1-2 Year</td>\n",
       "      <td>1</td>\n",
       "      <td>0</td>\n",
       "      <td>0.747272</td>\n",
       "    </tr>\n",
       "    <tr>\n",
       "      <th>51525</th>\n",
       "      <td>299944</td>\n",
       "      <td>Male</td>\n",
       "      <td>39</td>\n",
       "      <td>18.0</td>\n",
       "      <td>124.0</td>\n",
       "      <td>0</td>\n",
       "      <td>134092.0</td>\n",
       "      <td>195</td>\n",
       "      <td>1-2 Year</td>\n",
       "      <td>1</td>\n",
       "      <td>0</td>\n",
       "      <td>0.739605</td>\n",
       "    </tr>\n",
       "    <tr>\n",
       "      <th>51094</th>\n",
       "      <td>139716</td>\n",
       "      <td>Female</td>\n",
       "      <td>53</td>\n",
       "      <td>28.0</td>\n",
       "      <td>124.0</td>\n",
       "      <td>0</td>\n",
       "      <td>133280.0</td>\n",
       "      <td>203</td>\n",
       "      <td>&gt; 2 Years</td>\n",
       "      <td>1</td>\n",
       "      <td>0</td>\n",
       "      <td>0.711632</td>\n",
       "    </tr>\n",
       "    <tr>\n",
       "      <th>92549</th>\n",
       "      <td>232888</td>\n",
       "      <td>Male</td>\n",
       "      <td>54</td>\n",
       "      <td>28.0</td>\n",
       "      <td>26.0</td>\n",
       "      <td>0</td>\n",
       "      <td>132387.0</td>\n",
       "      <td>240</td>\n",
       "      <td>1-2 Year</td>\n",
       "      <td>1</td>\n",
       "      <td>0</td>\n",
       "      <td>0.695620</td>\n",
       "    </tr>\n",
       "    <tr>\n",
       "      <th>20598</th>\n",
       "      <td>334982</td>\n",
       "      <td>Male</td>\n",
       "      <td>59</td>\n",
       "      <td>51.0</td>\n",
       "      <td>157.0</td>\n",
       "      <td>0</td>\n",
       "      <td>132401.0</td>\n",
       "      <td>135</td>\n",
       "      <td>1-2 Year</td>\n",
       "      <td>1</td>\n",
       "      <td>1</td>\n",
       "      <td>0.657332</td>\n",
       "    </tr>\n",
       "    <tr>\n",
       "      <th>...</th>\n",
       "      <td>...</td>\n",
       "      <td>...</td>\n",
       "      <td>...</td>\n",
       "      <td>...</td>\n",
       "      <td>...</td>\n",
       "      <td>...</td>\n",
       "      <td>...</td>\n",
       "      <td>...</td>\n",
       "      <td>...</td>\n",
       "      <td>...</td>\n",
       "      <td>...</td>\n",
       "      <td>...</td>\n",
       "    </tr>\n",
       "    <tr>\n",
       "      <th>60522</th>\n",
       "      <td>318790</td>\n",
       "      <td>Female</td>\n",
       "      <td>20</td>\n",
       "      <td>25.0</td>\n",
       "      <td>160.0</td>\n",
       "      <td>1</td>\n",
       "      <td>2630.0</td>\n",
       "      <td>102</td>\n",
       "      <td>&lt; 1 Year</td>\n",
       "      <td>0</td>\n",
       "      <td>0</td>\n",
       "      <td>0.000054</td>\n",
       "    </tr>\n",
       "    <tr>\n",
       "      <th>97963</th>\n",
       "      <td>103815</td>\n",
       "      <td>Female</td>\n",
       "      <td>20</td>\n",
       "      <td>9.0</td>\n",
       "      <td>160.0</td>\n",
       "      <td>1</td>\n",
       "      <td>2630.0</td>\n",
       "      <td>162</td>\n",
       "      <td>&lt; 1 Year</td>\n",
       "      <td>0</td>\n",
       "      <td>0</td>\n",
       "      <td>0.000054</td>\n",
       "    </tr>\n",
       "    <tr>\n",
       "      <th>18918</th>\n",
       "      <td>309675</td>\n",
       "      <td>Male</td>\n",
       "      <td>21</td>\n",
       "      <td>8.0</td>\n",
       "      <td>160.0</td>\n",
       "      <td>1</td>\n",
       "      <td>78883.0</td>\n",
       "      <td>31</td>\n",
       "      <td>&lt; 1 Year</td>\n",
       "      <td>0</td>\n",
       "      <td>0</td>\n",
       "      <td>0.000052</td>\n",
       "    </tr>\n",
       "    <tr>\n",
       "      <th>11819</th>\n",
       "      <td>76357</td>\n",
       "      <td>Female</td>\n",
       "      <td>20</td>\n",
       "      <td>28.0</td>\n",
       "      <td>160.0</td>\n",
       "      <td>1</td>\n",
       "      <td>91487.0</td>\n",
       "      <td>282</td>\n",
       "      <td>&lt; 1 Year</td>\n",
       "      <td>0</td>\n",
       "      <td>0</td>\n",
       "      <td>0.000051</td>\n",
       "    </tr>\n",
       "    <tr>\n",
       "      <th>89617</th>\n",
       "      <td>222233</td>\n",
       "      <td>Female</td>\n",
       "      <td>20</td>\n",
       "      <td>47.0</td>\n",
       "      <td>160.0</td>\n",
       "      <td>1</td>\n",
       "      <td>24966.0</td>\n",
       "      <td>58</td>\n",
       "      <td>&lt; 1 Year</td>\n",
       "      <td>0</td>\n",
       "      <td>0</td>\n",
       "      <td>0.000049</td>\n",
       "    </tr>\n",
       "  </tbody>\n",
       "</table>\n",
       "<p>114090 rows × 12 columns</p>\n",
       "</div>\n",
       "      <button class=\"colab-df-convert\" onclick=\"convertToInteractive('df-fe012692-926c-4666-8cd7-0b0ad2f6fe52')\"\n",
       "              title=\"Convert this dataframe to an interactive table.\"\n",
       "              style=\"display:none;\">\n",
       "        \n",
       "  <svg xmlns=\"http://www.w3.org/2000/svg\" height=\"24px\"viewBox=\"0 0 24 24\"\n",
       "       width=\"24px\">\n",
       "    <path d=\"M0 0h24v24H0V0z\" fill=\"none\"/>\n",
       "    <path d=\"M18.56 5.44l.94 2.06.94-2.06 2.06-.94-2.06-.94-.94-2.06-.94 2.06-2.06.94zm-11 1L8.5 8.5l.94-2.06 2.06-.94-2.06-.94L8.5 2.5l-.94 2.06-2.06.94zm10 10l.94 2.06.94-2.06 2.06-.94-2.06-.94-.94-2.06-.94 2.06-2.06.94z\"/><path d=\"M17.41 7.96l-1.37-1.37c-.4-.4-.92-.59-1.43-.59-.52 0-1.04.2-1.43.59L10.3 9.45l-7.72 7.72c-.78.78-.78 2.05 0 2.83L4 21.41c.39.39.9.59 1.41.59.51 0 1.02-.2 1.41-.59l7.78-7.78 2.81-2.81c.8-.78.8-2.07 0-2.86zM5.41 20L4 18.59l7.72-7.72 1.47 1.35L5.41 20z\"/>\n",
       "  </svg>\n",
       "      </button>\n",
       "      \n",
       "  <style>\n",
       "    .colab-df-container {\n",
       "      display:flex;\n",
       "      flex-wrap:wrap;\n",
       "      gap: 12px;\n",
       "    }\n",
       "\n",
       "    .colab-df-convert {\n",
       "      background-color: #E8F0FE;\n",
       "      border: none;\n",
       "      border-radius: 50%;\n",
       "      cursor: pointer;\n",
       "      display: none;\n",
       "      fill: #1967D2;\n",
       "      height: 32px;\n",
       "      padding: 0 0 0 0;\n",
       "      width: 32px;\n",
       "    }\n",
       "\n",
       "    .colab-df-convert:hover {\n",
       "      background-color: #E2EBFA;\n",
       "      box-shadow: 0px 1px 2px rgba(60, 64, 67, 0.3), 0px 1px 3px 1px rgba(60, 64, 67, 0.15);\n",
       "      fill: #174EA6;\n",
       "    }\n",
       "\n",
       "    [theme=dark] .colab-df-convert {\n",
       "      background-color: #3B4455;\n",
       "      fill: #D2E3FC;\n",
       "    }\n",
       "\n",
       "    [theme=dark] .colab-df-convert:hover {\n",
       "      background-color: #434B5C;\n",
       "      box-shadow: 0px 1px 3px 1px rgba(0, 0, 0, 0.15);\n",
       "      filter: drop-shadow(0px 1px 2px rgba(0, 0, 0, 0.3));\n",
       "      fill: #FFFFFF;\n",
       "    }\n",
       "  </style>\n",
       "\n",
       "      <script>\n",
       "        const buttonEl =\n",
       "          document.querySelector('#df-fe012692-926c-4666-8cd7-0b0ad2f6fe52 button.colab-df-convert');\n",
       "        buttonEl.style.display =\n",
       "          google.colab.kernel.accessAllowed ? 'block' : 'none';\n",
       "\n",
       "        async function convertToInteractive(key) {\n",
       "          const element = document.querySelector('#df-fe012692-926c-4666-8cd7-0b0ad2f6fe52');\n",
       "          const dataTable =\n",
       "            await google.colab.kernel.invokeFunction('convertToInteractive',\n",
       "                                                     [key], {});\n",
       "          if (!dataTable) return;\n",
       "\n",
       "          const docLinkHtml = 'Like what you see? Visit the ' +\n",
       "            '<a target=\"_blank\" href=https://colab.research.google.com/notebooks/data_table.ipynb>data table notebook</a>'\n",
       "            + ' to learn more about interactive tables.';\n",
       "          element.innerHTML = '';\n",
       "          dataTable['output_type'] = 'display_data';\n",
       "          await google.colab.output.renderOutput(dataTable, element);\n",
       "          const docLink = document.createElement('div');\n",
       "          docLink.innerHTML = docLinkHtml;\n",
       "          element.appendChild(docLink);\n",
       "        }\n",
       "      </script>\n",
       "    </div>\n",
       "  </div>\n",
       "  "
      ],
      "text/plain": [
       "            id  gender  age  region_code  policy_sales_channel  \\\n",
       "112906  247986    Male   34         28.0                 124.0   \n",
       "51525   299944    Male   39         18.0                 124.0   \n",
       "51094   139716  Female   53         28.0                 124.0   \n",
       "92549   232888    Male   54         28.0                  26.0   \n",
       "20598   334982    Male   59         51.0                 157.0   \n",
       "...        ...     ...  ...          ...                   ...   \n",
       "60522   318790  Female   20         25.0                 160.0   \n",
       "97963   103815  Female   20          9.0                 160.0   \n",
       "18918   309675    Male   21          8.0                 160.0   \n",
       "11819    76357  Female   20         28.0                 160.0   \n",
       "89617   222233  Female   20         47.0                 160.0   \n",
       "\n",
       "        previously_insured  annual_premium  vintage vehicle_age  \\\n",
       "112906                   0         90941.0      164    1-2 Year   \n",
       "51525                    0        134092.0      195    1-2 Year   \n",
       "51094                    0        133280.0      203   > 2 Years   \n",
       "92549                    0        132387.0      240    1-2 Year   \n",
       "20598                    0        132401.0      135    1-2 Year   \n",
       "...                    ...             ...      ...         ...   \n",
       "60522                    1          2630.0      102    < 1 Year   \n",
       "97963                    1          2630.0      162    < 1 Year   \n",
       "18918                    1         78883.0       31    < 1 Year   \n",
       "11819                    1         91487.0      282    < 1 Year   \n",
       "89617                    1         24966.0       58    < 1 Year   \n",
       "\n",
       "        vehicle_damage  response  model_score  \n",
       "112906               1         0     0.747272  \n",
       "51525                1         0     0.739605  \n",
       "51094                1         0     0.711632  \n",
       "92549                1         0     0.695620  \n",
       "20598                1         1     0.657332  \n",
       "...                ...       ...          ...  \n",
       "60522                0         0     0.000054  \n",
       "97963                0         0     0.000054  \n",
       "18918                0         0     0.000052  \n",
       "11819                0         0     0.000051  \n",
       "89617                0         0     0.000049  \n",
       "\n",
       "[114090 rows x 12 columns]"
      ]
     },
     "execution_count": 23,
     "metadata": {},
     "output_type": "execute_result"
    }
   ],
   "source": [
    "model_df"
   ]
  },
  {
   "cell_type": "markdown",
   "metadata": {
    "id": "wQ35NEtesGp7"
   },
   "source": [
    "# Questões de negócio"
   ]
  },
  {
   "cell_type": "markdown",
   "metadata": {
    "id": "MZhG8drEsKfR"
   },
   "source": [
    "## Qual a porcentagem de clientes interessados em adquirir um seguro de automóvel, o time de vendas conseguirá contatar fazendo 20.000 ligações?"
   ]
  },
  {
   "cell_type": "code",
   "execution_count": 24,
   "metadata": {
    "executionInfo": {
     "elapsed": 16,
     "status": "ok",
     "timestamp": 1668175823530,
     "user": {
      "displayName": "Lavis",
      "userId": "11464059397454562428"
     },
     "user_tz": 180
    },
    "id": "Ba96WKFzsFxX"
   },
   "outputs": [],
   "source": [
    "clients = 20000\n",
    "perct= round(recall_at_k(model_df,clients)*100,2)"
   ]
  },
  {
   "cell_type": "code",
   "execution_count": 25,
   "metadata": {
    "colab": {
     "base_uri": "https://localhost:8080/"
    },
    "executionInfo": {
     "elapsed": 16,
     "status": "ok",
     "timestamp": 1668175823531,
     "user": {
      "displayName": "Lavis",
      "userId": "11464059397454562428"
     },
     "user_tz": 180
    },
    "id": "Et1E1kqbst3q",
    "outputId": "a968a32b-040b-4024-df46-85be22821917"
   },
   "outputs": [
    {
     "name": "stdout",
     "output_type": "stream",
     "text": [
      "Com 20000 mil ligações o time de vendas atingirá 51.62% dos clientes interresados em toda base disponível, considerando que ao total se tem 114090 mil de possíveis clientes, 20000 represanta apenas 17.53% do total, ou seja, ligando para menos de um quinto da base de dados é possivel atingir mais da metade dos possivelmente interresados \n"
     ]
    }
   ],
   "source": [
    "print('Com ' + str(clients) + ' mil ligações o time de vendas atingirá '+str(perct) + \"% dos clientes interresados em toda base disponível, considerando que ao total se tem \" + str(len(model_df)) + \n",
    "      \" mil de possíveis clientes, \"+str(clients)+\" represanta apenas \" + str(round((clients/len(model_df))*100,2)) + \"% do total, ou seja, ligando para menos de um quinto da base de dados é possivel atingir mais da metade dos possivelmente interresados \")"
   ]
  },
  {
   "cell_type": "code",
   "execution_count": 26,
   "metadata": {
    "executionInfo": {
     "elapsed": 15,
     "status": "ok",
     "timestamp": 1668175823533,
     "user": {
      "displayName": "Lavis",
      "userId": "11464059397454562428"
     },
     "user_tz": 180
    },
    "id": "B1BW4VnC5EY0"
   },
   "outputs": [],
   "source": [
    "random_model = int((clients/len(model_df)) * y_test.value_counts()[1])\n",
    "xgb_model = int(recall_at_k(model_df,clients) * y_test.value_counts()[1])\n",
    "mean_annual = round(model_df['annual_premium'].mean(),2)\n",
    "dollar_annual = round(mean_annual * 0.012,2)"
   ]
  },
  {
   "cell_type": "code",
   "execution_count": 27,
   "metadata": {
    "colab": {
     "base_uri": "https://localhost:8080/"
    },
    "executionInfo": {
     "elapsed": 15,
     "status": "ok",
     "timestamp": 1668175823534,
     "user": {
      "displayName": "Lavis",
      "userId": "11464059397454562428"
     },
     "user_tz": 180
    },
    "id": "ZvhkT4PQ5nwj",
    "outputId": "483d7b79-211d-46b8-cad5-1ade08d14bb4"
   },
   "outputs": [
    {
     "name": "stdout",
     "output_type": "stream",
     "text": [
      "Utilizando o modelo aleátorio, que poderia ser só uma seleção aleátoria dos clientes ou uma simples ordenação por algum atributo, ligando para 20000 clientes atingiriamos apenas 2454 dos 14001 clientes interresados, já como o nosso modelo atingimos 7227, assim, captando 2.94 vezes mais potênciais clientes do segundo seguro.\n"
     ]
    }
   ],
   "source": [
    "print(\"Utilizando o modelo aleátorio, que poderia ser só uma seleção aleátoria dos clientes ou uma simples ordenação por algum atributo, ligando para \" +str(clients) + \" clientes atingiriamos apenas \" + str(random_model) + \" dos \" + str(y_test.value_counts()[1]) +\" clientes interresados, já como o nosso modelo atingimos \" +\n",
    "str(xgb_model) + \", assim, captando \" + str(round(xgb_model/random_model,2),) + \" vezes mais potênciais clientes do segundo seguro.\")"
   ]
  },
  {
   "cell_type": "code",
   "execution_count": 28,
   "metadata": {
    "colab": {
     "base_uri": "https://localhost:8080/",
     "height": 630
    },
    "executionInfo": {
     "elapsed": 2134,
     "status": "ok",
     "timestamp": 1668175825655,
     "user": {
      "displayName": "Lavis",
      "userId": "11464059397454562428"
     },
     "user_tz": 180
    },
    "id": "IsO2dLP1AWCi",
    "outputId": "25660e1e-fd89-4769-ef38-0b129989e79b"
   },
   "outputs": [
    {
     "data": {
      "text/plain": [
       "<matplotlib.lines.Line2D at 0x7f3916aeb250>"
      ]
     },
     "execution_count": 28,
     "metadata": {},
     "output_type": "execute_result"
    },
    {
     "data": {
      "image/png": "[encoded data removed]",
      "text/plain": [
       "<Figure size 1800x864 with 1 Axes>"
      ]
     },
     "metadata": {},
     "output_type": "display_data"
    }
   ],
   "source": [
    "skplt.metrics.plot_lift_curve(y_test,yhat_proba);\n",
    "plt.axvline(clients/len(model_df), 0, 1, color='green', ls='--', lw=3)"
   ]
  },
  {
   "cell_type": "code",
   "execution_count": 29,
   "metadata": {
    "colab": {
     "base_uri": "https://localhost:8080/"
    },
    "executionInfo": {
     "elapsed": 13,
     "status": "ok",
     "timestamp": 1668175825656,
     "user": {
      "displayName": "Lavis",
      "userId": "11464059397454562428"
     },
     "user_tz": 180
    },
    "id": "xLZ2rETp7WWu",
    "outputId": "7f589932-783b-4421-8904-f9b1fb967735"
   },
   "outputs": [
    {
     "name": "stdout",
     "output_type": "stream",
     "text": [
      "Em termos monetários, levando em consideração que a média do plano anual é de 30541.6 Rupias indianas, que convertendo para dólar daria por volta de 366.5 Doláres.\n",
      "Com o model aleátorio teriamos um retorno de U$ 899,391.0\n",
      "Com o model criado teriamos um retorno de U$ 2,648,695.5\n"
     ]
    }
   ],
   "source": [
    "print(\"Em termos monetários, levando em consideração que a média do plano anual é de \" + str(mean_annual) + \" Rupias indianas, que convertendo para dólar daria por volta de \" + str(dollar_annual) + \" Doláres.\")\n",
    "print(\"Com o model aleátorio teriamos um retorno de U$ {:,}\".format(random_model*dollar_annual)) \n",
    "print(\"Com o model criado teriamos um retorno de U$ {:,}\".format(xgb_model*dollar_annual)) "
   ]
  },
  {
   "cell_type": "markdown",
   "metadata": {
    "id": "ud4VcWfcucwe"
   },
   "source": [
    "# E se a capacidade do time de vendas aumentar para 40.000 ligações, qual a porcentagem de clientes interessados em adquirir um seguro de automóvel o time de vendas conseguirá contatar?"
   ]
  },
  {
   "cell_type": "code",
   "execution_count": 30,
   "metadata": {
    "executionInfo": {
     "elapsed": 12,
     "status": "ok",
     "timestamp": 1668175825657,
     "user": {
      "displayName": "Lavis",
      "userId": "11464059397454562428"
     },
     "user_tz": 180
    },
    "id": "cn6Iyxq5ug6g"
   },
   "outputs": [],
   "source": [
    "clients = 40000\n",
    "perct= round(recall_at_k(model_df,clients)*100,2)"
   ]
  },
  {
   "cell_type": "code",
   "execution_count": 31,
   "metadata": {
    "colab": {
     "base_uri": "https://localhost:8080/"
    },
    "executionInfo": {
     "elapsed": 12,
     "status": "ok",
     "timestamp": 1668175825658,
     "user": {
      "displayName": "Lavis",
      "userId": "11464059397454562428"
     },
     "user_tz": 180
    },
    "id": "ru2qnHsSvGC4",
    "outputId": "e92b849f-8f08-4bff-c345-400e1d74eb53"
   },
   "outputs": [
    {
     "name": "stdout",
     "output_type": "stream",
     "text": [
      "Com 40000 mil ligações o time de vendas atingirá 86.57% dos clientes interresados em toda base disponível, considerando que ao total se tem 114090 mil de possíveis clientes, 40000 represanta apenas 35.06% do total, ou seja, ligando pouco mais de um terço da base de dados é possivel atingir a grande maioria dos clientes possivelmente interresados \n"
     ]
    }
   ],
   "source": [
    "print('Com ' + str(clients) + ' mil ligações o time de vendas atingirá '+str(perct) + \"% dos clientes interresados em toda base disponível, considerando que ao total se tem \" + str(len(model_df)) + \n",
    "      \" mil de possíveis clientes, \"+str(clients)+\" represanta apenas \" + str(round((clients/len(model_df))*100,2)) + \"% do total, ou seja, ligando pouco mais de um terço da base de dados é possivel atingir a grande maioria dos clientes possivelmente interresados \")"
   ]
  },
  {
   "cell_type": "code",
   "execution_count": 32,
   "metadata": {
    "colab": {
     "base_uri": "https://localhost:8080/"
    },
    "executionInfo": {
     "elapsed": 450,
     "status": "ok",
     "timestamp": 1668175826098,
     "user": {
      "displayName": "Lavis",
      "userId": "11464059397454562428"
     },
     "user_tz": 180
    },
    "id": "sWmhV_6K_voU",
    "outputId": "977a92f0-410f-4a31-9378-3a0f3ade0643"
   },
   "outputs": [
    {
     "name": "stdout",
     "output_type": "stream",
     "text": [
      "Com 40000 mil ligações o time de vendas atingirá 86.57% dos clientes interresados em toda base disponível, considerando que ao total se tem 114090 mil de possíveis clientes, 40000 represanta apenas 35.06% do total, ou seja, ligando para menos de um quinto da base de dados é possivel atingir mais da metade dos possivelmente interresados \n"
     ]
    }
   ],
   "source": [
    "print('Com ' + str(clients) + ' mil ligações o time de vendas atingirá '+str(perct) + \"% dos clientes interresados em toda base disponível, considerando que ao total se tem \" + str(len(model_df)) + \n",
    "      \" mil de possíveis clientes, \"+str(clients)+\" represanta apenas \" + str(round((clients/len(model_df))*100,2)) + \"% do total, ou seja, ligando para menos de um quinto da base de dados é possivel atingir mais da metade dos possivelmente interresados \")"
   ]
  },
  {
   "cell_type": "code",
   "execution_count": 33,
   "metadata": {
    "executionInfo": {
     "elapsed": 8,
     "status": "ok",
     "timestamp": 1668175826098,
     "user": {
      "displayName": "Lavis",
      "userId": "11464059397454562428"
     },
     "user_tz": 180
    },
    "id": "Sjn9Aihh_voc"
   },
   "outputs": [],
   "source": [
    "random_model = int((clients/len(model_df)) * y_test.value_counts()[1])\n",
    "xgb_model = int(recall_at_k(model_df,clients) * y_test.value_counts()[1])\n",
    "mean_annual = round(model_df['annual_premium'].mean(),2)\n",
    "dollar_annual = round(mean_annual * 0.012,2)"
   ]
  },
  {
   "cell_type": "code",
   "execution_count": 34,
   "metadata": {
    "colab": {
     "base_uri": "https://localhost:8080/"
    },
    "executionInfo": {
     "elapsed": 9,
     "status": "ok",
     "timestamp": 1668175826099,
     "user": {
      "displayName": "Lavis",
      "userId": "11464059397454562428"
     },
     "user_tz": 180
    },
    "id": "-cdDDlfL_voc",
    "outputId": "00dda366-65dd-4a01-d43c-ef9219b99f46"
   },
   "outputs": [
    {
     "name": "stdout",
     "output_type": "stream",
     "text": [
      "Utilizando o modelo aleátorio, que poderia ser só uma seleção aleátoria dos clientes ou uma simples ordenação por algum atributo, ligando para 40000 clientes atingiriamos apenas 4908 dos 14001 clientes interresados, já como o nosso modelo atingimos 12121, assim, captando 2.47 vezes mais potênciais clientes do segundo seguro.\n"
     ]
    }
   ],
   "source": [
    "print(\"Utilizando o modelo aleátorio, que poderia ser só uma seleção aleátoria dos clientes ou uma simples ordenação por algum atributo, ligando para \" +str(clients) + \" clientes atingiriamos apenas \" + str(random_model) + \" dos \" + str(y_test.value_counts()[1]) +\" clientes interresados, já como o nosso modelo atingimos \" +\n",
    "str(xgb_model) + \", assim, captando \" + str(round(xgb_model/random_model,2),) + \" vezes mais potênciais clientes do segundo seguro.\")"
   ]
  },
  {
   "cell_type": "code",
   "execution_count": 35,
   "metadata": {
    "colab": {
     "base_uri": "https://localhost:8080/",
     "height": 630
    },
    "executionInfo": {
     "elapsed": 2290,
     "status": "ok",
     "timestamp": 1668175828382,
     "user": {
      "displayName": "Lavis",
      "userId": "11464059397454562428"
     },
     "user_tz": 180
    },
    "id": "GhKLburUBWth",
    "outputId": "d470dc4b-0e48-4ce2-a9a2-b48bec6dbcec"
   },
   "outputs": [
    {
     "data": {
      "text/plain": [
       "<matplotlib.lines.Line2D at 0x7f38f19dfc10>"
      ]
     },
     "execution_count": 35,
     "metadata": {},
     "output_type": "execute_result"
    },
    {
     "data": {
      "image/png": "[encoded data removed]",
      "text/plain": [
       "<Figure size 1800x864 with 1 Axes>"
      ]
     },
     "metadata": {},
     "output_type": "display_data"
    }
   ],
   "source": [
    "skplt.metrics.plot_lift_curve(y_test,yhat_proba);\n",
    "plt.axvline(clients/len(model_df), 0, 1, color='green', ls='--', lw=3)"
   ]
  },
  {
   "cell_type": "code",
   "execution_count": 36,
   "metadata": {
    "colab": {
     "base_uri": "https://localhost:8080/"
    },
    "executionInfo": {
     "elapsed": 24,
     "status": "ok",
     "timestamp": 1668175828384,
     "user": {
      "displayName": "Lavis",
      "userId": "11464059397454562428"
     },
     "user_tz": 180
    },
    "id": "18XisddN_voc",
    "outputId": "475e8b26-59c9-4b2f-c4f1-d1fa5e19b897"
   },
   "outputs": [
    {
     "name": "stdout",
     "output_type": "stream",
     "text": [
      "Em termos monetários, levando em consideração que a média do plano anual é de 30541.6 Rupias indianas, que convertendo para dólar daria por volta de 366.5 Doláres.\n",
      "Com o model aleátorio teriamos um retorno de U$ 1,798,782.0\n",
      "Com o model criado teriamos um retorno de U$ 4,442,346.5\n"
     ]
    }
   ],
   "source": [
    "print(\"Em termos monetários, levando em consideração que a média do plano anual é de \" + str(mean_annual) + \" Rupias indianas, que convertendo para dólar daria por volta de \" + str(dollar_annual) + \" Doláres.\")\n",
    "print(\"Com o model aleátorio teriamos um retorno de U$ {:,}\".format(random_model*dollar_annual)) \n",
    "print(\"Com o model criado teriamos um retorno de U$ {:,}\".format(xgb_model*dollar_annual)) "
   ]
  },
  {
   "cell_type": "markdown",
   "metadata": {
    "id": "vMsuTs99w3JQ"
   },
   "source": [
    "##  Quantas ligações o time de vendas precisa fazer para contatar 80% dos clientes interessados em adquirir um seguro de automóvel?"
   ]
  },
  {
   "cell_type": "code",
   "execution_count": 37,
   "metadata": {
    "executionInfo": {
     "elapsed": 21,
     "status": "ok",
     "timestamp": 1668175828385,
     "user": {
      "displayName": "Lavis",
      "userId": "11464059397454562428"
     },
     "user_tz": 180
    },
    "id": "MSl3VvNZztqO"
   },
   "outputs": [],
   "source": [
    "clients = 35097\n",
    "perct = round(recall_at_k(model_df,clients)*100,2)"
   ]
  },
  {
   "cell_type": "code",
   "execution_count": 38,
   "metadata": {
    "colab": {
     "base_uri": "https://localhost:8080/"
    },
    "executionInfo": {
     "elapsed": 22,
     "status": "ok",
     "timestamp": 1668175828387,
     "user": {
      "displayName": "Lavis",
      "userId": "11464059397454562428"
     },
     "user_tz": 180
    },
    "id": "kDwhyX8f0Edv",
    "outputId": "b6726dbe-c80e-4433-ff3f-e4d61f812806"
   },
   "outputs": [
    {
     "name": "stdout",
     "output_type": "stream",
     "text": [
      "Com 35097 mil ligações o time de vendas atingirá 80.0% dos clientes interresados em toda base disponível, considerando que ao total se tem 114090 mil de possíveis clientes, 35097 represanta apenas 30.76% do total, ou seja, ligando para menos de um terço da base de dados é possivel atingir a grande maioria dos clientes possivelmente interresados\n"
     ]
    }
   ],
   "source": [
    "print('Com ' + str(clients) + ' mil ligações o time de vendas atingirá '+str(perct) + \"% dos clientes interresados em toda base disponível, considerando que ao total se tem \" + str(len(model_df)) + \n",
    "      \" mil de possíveis clientes, \"+str(clients)+\" represanta apenas \" + str(round((clients/len(model_df))*100,2)) + \"% do total, ou seja, ligando para menos de um terço da base de dados é possivel atingir a grande maioria dos clientes possivelmente interresados\")"
   ]
  },
  {
   "cell_type": "code",
   "execution_count": 39,
   "metadata": {
    "colab": {
     "base_uri": "https://localhost:8080/"
    },
    "executionInfo": {
     "elapsed": 20,
     "status": "ok",
     "timestamp": 1668175828388,
     "user": {
      "displayName": "Lavis",
      "userId": "11464059397454562428"
     },
     "user_tz": 180
    },
    "id": "_I-0w1MS_w90",
    "outputId": "25666d32-0159-4ab6-c6aa-b8f51b773137"
   },
   "outputs": [
    {
     "name": "stdout",
     "output_type": "stream",
     "text": [
      "Com 35097 mil ligações o time de vendas atingirá 80.0% dos clientes interresados em toda base disponível, considerando que ao total se tem 114090 mil de possíveis clientes, 35097 represanta apenas 30.76% do total, ou seja, ligando para menos de um quinto da base de dados é possivel atingir mais da metade dos possivelmente interresados \n"
     ]
    }
   ],
   "source": [
    "print('Com ' + str(clients) + ' mil ligações o time de vendas atingirá '+str(perct) + \"% dos clientes interresados em toda base disponível, considerando que ao total se tem \" + str(len(model_df)) + \n",
    "      \" mil de possíveis clientes, \"+str(clients)+\" represanta apenas \" + str(round((clients/len(model_df))*100,2)) + \"% do total, ou seja, ligando para menos de um quinto da base de dados é possivel atingir mais da metade dos possivelmente interresados \")"
   ]
  },
  {
   "cell_type": "code",
   "execution_count": 40,
   "metadata": {
    "executionInfo": {
     "elapsed": 16,
     "status": "ok",
     "timestamp": 1668175828389,
     "user": {
      "displayName": "Lavis",
      "userId": "11464059397454562428"
     },
     "user_tz": 180
    },
    "id": "y7hxxXBs_w91"
   },
   "outputs": [],
   "source": [
    "random_model = int((clients/len(model_df)) * y_test.value_counts()[1])\n",
    "xgb_model = int(recall_at_k(model_df,clients) * y_test.value_counts()[1])\n",
    "mean_annual = round(model_df['annual_premium'].mean(),2)\n",
    "dollar_annual = round(mean_annual * 0.012,2)"
   ]
  },
  {
   "cell_type": "code",
   "execution_count": 41,
   "metadata": {
    "colab": {
     "base_uri": "https://localhost:8080/"
    },
    "executionInfo": {
     "elapsed": 634,
     "status": "ok",
     "timestamp": 1668175829007,
     "user": {
      "displayName": "Lavis",
      "userId": "11464059397454562428"
     },
     "user_tz": 180
    },
    "id": "4yVWwZ8C_w91",
    "outputId": "2d301954-de67-4402-c56f-0dc0b3935a82"
   },
   "outputs": [
    {
     "name": "stdout",
     "output_type": "stream",
     "text": [
      "Utilizando o modelo aleátorio, que poderia ser só uma seleção aleátoria dos clientes ou uma simples ordenação por algum atributo, ligando para 35097 clientes atingiriamos apenas 4307 dos 14001 clientes interresados, já como o nosso modelo atingimos 11201, assim, captando 2.6 vezes mais potênciais clientes do segundo seguro.\n"
     ]
    }
   ],
   "source": [
    "print(\"Utilizando o modelo aleátorio, que poderia ser só uma seleção aleátoria dos clientes ou uma simples ordenação por algum atributo, ligando para \" +str(clients) + \" clientes atingiriamos apenas \" + str(random_model) + \" dos \" + str(y_test.value_counts()[1]) +\" clientes interresados, já como o nosso modelo atingimos \" +\n",
    "str(xgb_model) + \", assim, captando \" + str(round(xgb_model/random_model,2),) + \" vezes mais potênciais clientes do segundo seguro.\")"
   ]
  },
  {
   "cell_type": "code",
   "execution_count": 42,
   "metadata": {
    "colab": {
     "base_uri": "https://localhost:8080/",
     "height": 630
    },
    "executionInfo": {
     "elapsed": 2425,
     "status": "ok",
     "timestamp": 1668175831427,
     "user": {
      "displayName": "Lavis",
      "userId": "11464059397454562428"
     },
     "user_tz": 180
    },
    "id": "p25d0q3EBY6p",
    "outputId": "037adbce-f3f8-45af-c276-d40732cd47d1"
   },
   "outputs": [
    {
     "data": {
      "text/plain": [
       "<matplotlib.lines.Line2D at 0x7f38f19681d0>"
      ]
     },
     "execution_count": 42,
     "metadata": {},
     "output_type": "execute_result"
    },
    {
     "data": {
      "image/png": "[encoded data removed]",
      "text/plain": [
       "<Figure size 1800x864 with 1 Axes>"
      ]
     },
     "metadata": {},
     "output_type": "display_data"
    }
   ],
   "source": [
    "skplt.metrics.plot_lift_curve(y_test,yhat_proba);\n",
    "plt.axvline(clients/len(model_df), 0, 1, color='green', ls='--', lw=3)"
   ]
  },
  {
   "cell_type": "code",
   "execution_count": 43,
   "metadata": {
    "executionInfo": {
     "elapsed": 10,
     "status": "ok",
     "timestamp": 1668175831428,
     "user": {
      "displayName": "Lavis",
      "userId": "11464059397454562428"
     },
     "user_tz": 180
    },
    "id": "Vj534PVah8sZ"
   },
   "outputs": [],
   "source": [
    "clients = 20000\n",
    "random_model = int((clients/len(model_df)) * y_test.value_counts()[1])\n",
    "xgb_model = int(recall_at_k(model_df,clients) * y_test.value_counts()[1])\n",
    "mean_annual = round(model_df['annual_premium'].mean(),2)\n",
    "dollar_annual = round(mean_annual * 0.012,2)"
   ]
  },
  {
   "cell_type": "code",
   "execution_count": 44,
   "metadata": {
    "colab": {
     "base_uri": "https://localhost:8080/"
    },
    "executionInfo": {
     "elapsed": 10,
     "status": "ok",
     "timestamp": 1668175831429,
     "user": {
      "displayName": "Lavis",
      "userId": "11464059397454562428"
     },
     "user_tz": 180
    },
    "id": "ICDLVrVW_w91",
    "outputId": "7409e27b-fc1d-439a-a8eb-aac1b71777ee"
   },
   "outputs": [
    {
     "name": "stdout",
     "output_type": "stream",
     "text": [
      "Em termos monetários, levando em consideração que a média do plano anual é de 30541.6 Rupias indianas, que convertendo para dólar daria por volta de 366.5 Doláres.\n",
      "Com o model aleátorio teriamos um retorno de U$ 899,391.0\n",
      "Com o model criado teriamos um retorno de U$ 2,648,695.5\n"
     ]
    }
   ],
   "source": [
    "print(\"Em termos monetários, levando em consideração que a média do plano anual é de \" + str(mean_annual) + \" Rupias indianas, que convertendo para dólar daria por volta de \" + str(dollar_annual) + \" Doláres.\")\n",
    "print(\"Com o model aleátorio teriamos um retorno de U$ {:,}\".format(random_model*dollar_annual)) \n",
    "print(\"Com o model criado teriamos um retorno de U$ {:,}\".format(xgb_model*dollar_annual)) "
   ]
  }
 ],
 "metadata": {
  "colab": {
   "collapsed_sections": [],
   "provenance": []
  },
  "deepnote": {},
  "deepnote_execution_queue": [],
  "deepnote_notebook_id": "1c4ae238-6d82-4b11-b14c-6a3b5dfcbe14",
  "kernelspec": {
   "display_name": "Python 3",
   "language": "python",
   "name": "python3"
  },
  "language_info": {
   "codemirror_mode": {
    "name": "ipython",
    "version": 3
   },
   "file_extension": ".py",
   "mimetype": "text/x-python",
   "name": "python",
   "nbconvert_exporter": "python",
   "pygments_lexer": "ipython3",
   "version": "3.8.5"
  }
 },
 "nbformat": 4,
 "nbformat_minor": 1
}
