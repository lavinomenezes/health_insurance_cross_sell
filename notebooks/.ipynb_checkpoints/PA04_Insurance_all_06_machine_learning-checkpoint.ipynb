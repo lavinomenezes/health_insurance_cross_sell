{
 "cells": [
  {
   "cell_type": "markdown",
   "metadata": {
    "cell_id": "14d744d2-4748-4c95-903c-15a9d3adc6e6",
    "deepnote_cell_height": 81.60000610351562,
    "deepnote_cell_type": "markdown",
    "id": "MKVt9tZAPrZM"
   },
   "source": [
    "# Imports"
   ]
  },
  {
   "cell_type": "code",
   "execution_count": 64,
   "metadata": {
    "ExecuteTime": {
     "end_time": "2022-09-21T22:18:20.213719Z",
     "start_time": "2022-09-21T22:18:10.294005Z"
    },
    "cell_id": "00001-8f2e38cd-122d-43db-9f3e-17e868bf9b11",
    "deepnote_cell_height": 327.6000061035156,
    "deepnote_cell_type": "code",
    "deepnote_to_be_reexecuted": false,
    "executionInfo": {
     "elapsed": 8,
     "status": "ok",
     "timestamp": 1665685469152,
     "user": {
      "displayName": "Lavis",
      "userId": "11464059397454562428"
     },
     "user_tz": 180
    },
    "execution_millis": 776,
    "execution_start": 1663115735944,
    "id": "-OflWxuMPrZP",
    "source_hash": "fe089ebc"
   },
   "outputs": [],
   "source": [
    "import pandas as pd\n",
    "import numpy as np\n",
    "import seaborn as sns\n",
    "import matplotlib.pyplot as plt\n",
    "import xgboost as xgb\n",
    "from IPython.core.display import HTML\n",
    "from sklearn.model_selection import train_test_split\n",
    "from sklearn.ensemble import RandomForestClassifier\n",
    "from sklearn.ensemble import ExtraTreesClassifier\n",
    "from sklearn.neighbors import KNeighborsClassifier\n",
    "from sklearn.model_selection import StratifiedKFold\n",
    "import sklearn.metrics\n",
    "from sklearn import linear_model as lm\n",
    "import scikitplot as skplt\n",
    "pd.options.mode.chained_assignment = None  # default='warn'"
   ]
  },
  {
   "cell_type": "markdown",
   "metadata": {
    "cell_id": "00002-c8dd785f-c8d1-46e1-a60a-736494a581d6",
    "deepnote_cell_height": 81.60000610351562,
    "deepnote_cell_type": "markdown",
    "id": "dtE3XnV2PrZR"
   },
   "source": [
    "# helper functions"
   ]
  },
  {
   "cell_type": "code",
   "execution_count": 66,
   "metadata": {
    "ExecuteTime": {
     "end_time": "2022-09-21T22:18:20.261184Z",
     "start_time": "2022-09-21T22:18:20.216716Z"
    },
    "cell_id": "00003-5517e9ba-f076-4b96-a62d-e53e82cfe237",
    "colab": {
     "base_uri": "https://localhost:8080/",
     "height": 34
    },
    "deepnote_cell_height": 282.20001220703125,
    "deepnote_cell_type": "code",
    "deepnote_output_heights": [
     null,
     1
    ],
    "deepnote_to_be_reexecuted": false,
    "executionInfo": {
     "elapsed": 14,
     "status": "ok",
     "timestamp": 1665685471378,
     "user": {
      "displayName": "Lavis",
      "userId": "11464059397454562428"
     },
     "user_tz": 180
    },
    "execution_millis": 82,
    "execution_start": 1663075328122,
    "id": "JLjkbQtXPrZS",
    "outputId": "0fb01992-c05a-4e8b-d80e-dc5fec6bba76",
    "source_hash": "46a4bb4d"
   },
   "outputs": [
    {
     "name": "stdout",
     "output_type": "stream",
     "text": [
      "Populating the interactive namespace from numpy and matplotlib\n"
     ]
    },
    {
     "data": {
      "text/html": [
       "<style>.container { width:100% !important; }</style>"
      ],
      "text/plain": [
       "<IPython.core.display.HTML object>"
      ]
     },
     "metadata": {},
     "output_type": "display_data"
    }
   ],
   "source": [
    "def jupyter_settings():\n",
    "    %matplotlib inline\n",
    "    %pylab inline\n",
    "    plt.style.use( 'bmh' )\n",
    "    plt.rcParams['figure.figsize'] = [25, 12]\n",
    "    plt.rcParams['font.size'] = 24\n",
    "    display( HTML( '<style>.container { width:100% !important; }</style>') )\n",
    "    sns.set()\n",
    "jupyter_settings()"
   ]
  },
  {
   "cell_type": "code",
   "execution_count": 68,
   "metadata": {
    "executionInfo": {
     "elapsed": 11,
     "status": "ok",
     "timestamp": 1665685471380,
     "user": {
      "displayName": "Lavis",
      "userId": "11464059397454562428"
     },
     "user_tz": 180
    },
    "id": "Y5vuPqw3Pt8j"
   },
   "outputs": [],
   "source": [
    "from functions import performace, performace_cross_val"
   ]
  },
  {
   "cell_type": "markdown",
   "metadata": {
    "cell_id": "00007-84180494-931e-413c-ac91-7d9eb41170ee",
    "deepnote_cell_height": 81.60000610351562,
    "deepnote_cell_type": "markdown",
    "id": "3U3BY3usPrZX"
   },
   "source": [
    "# Load data"
   ]
  },
  {
   "cell_type": "code",
   "execution_count": 69,
   "metadata": {
    "ExecuteTime": {
     "end_time": "2022-09-21T22:18:21.264502Z",
     "start_time": "2022-09-21T22:18:20.547420Z"
    },
    "cell_id": "00008-c41e43a5-52c6-4310-9007-b7ae4b5435fa",
    "deepnote_cell_height": 75.60000610351562,
    "deepnote_cell_type": "code",
    "deepnote_to_be_reexecuted": false,
    "executionInfo": {
     "elapsed": 2423,
     "status": "ok",
     "timestamp": 1665685473793,
     "user": {
      "displayName": "Lavis",
      "userId": "11464059397454562428"
     },
     "user_tz": 180
    },
    "execution_millis": 319,
    "execution_start": 1663115748567,
    "id": "K6bUspWePrZX",
    "source_hash": "37361c87"
   },
   "outputs": [],
   "source": [
    "train = pd.read_csv('../data/train.csv')\n",
    "val = pd.read_csv('../data/test.csv')"
   ]
  },
  {
   "cell_type": "code",
   "execution_count": 70,
   "metadata": {
    "ExecuteTime": {
     "end_time": "2022-09-21T22:18:21.469992Z",
     "start_time": "2022-09-21T22:18:21.288438Z"
    },
    "cell_id": "00009-51310743-184f-4924-9bd7-bad07ab35a12",
    "colab": {
     "base_uri": "https://localhost:8080/",
     "height": 270
    },
    "deepnote_cell_height": 266.3999938964844,
    "deepnote_cell_type": "code",
    "deepnote_output_heights": [
     175
    ],
    "deepnote_to_be_reexecuted": false,
    "executionInfo": {
     "elapsed": 27,
     "status": "ok",
     "timestamp": 1665685473794,
     "user": {
      "displayName": "Lavis",
      "userId": "11464059397454562428"
     },
     "user_tz": 180
    },
    "execution_millis": 78,
    "execution_start": 1663115754551,
    "id": "NfujfGjzPrZY",
    "outputId": "745ae53d-bd41-4700-915a-fdea66f21239",
    "scrolled": true,
    "source_hash": "8f2e4d8a"
   },
   "outputs": [
    {
     "data": {
      "text/html": [
       "\n",
       "  <div id=\"df-13b75c13-b97d-47b8-89ae-f21ff290a7d7\">\n",
       "    <div class=\"colab-df-container\">\n",
       "      <div>\n",
       "<style scoped>\n",
       "    .dataframe tbody tr th:only-of-type {\n",
       "        vertical-align: middle;\n",
       "    }\n",
       "\n",
       "    .dataframe tbody tr th {\n",
       "        vertical-align: top;\n",
       "    }\n",
       "\n",
       "    .dataframe thead th {\n",
       "        text-align: right;\n",
       "    }\n",
       "</style>\n",
       "<table border=\"1\" class=\"dataframe\">\n",
       "  <thead>\n",
       "    <tr style=\"text-align: right;\">\n",
       "      <th></th>\n",
       "      <th>id</th>\n",
       "      <th>gender</th>\n",
       "      <th>age</th>\n",
       "      <th>region_code</th>\n",
       "      <th>policy_sales_channel</th>\n",
       "      <th>previously_insured</th>\n",
       "      <th>annual_premium</th>\n",
       "      <th>vintage</th>\n",
       "      <th>vehicle_age</th>\n",
       "      <th>vehicle_damage</th>\n",
       "      <th>response</th>\n",
       "    </tr>\n",
       "  </thead>\n",
       "  <tbody>\n",
       "    <tr>\n",
       "      <th>0</th>\n",
       "      <td>122366</td>\n",
       "      <td>0</td>\n",
       "      <td>0.523077</td>\n",
       "      <td>28.0</td>\n",
       "      <td>26.0</td>\n",
       "      <td>0</td>\n",
       "      <td>0.095128</td>\n",
       "      <td>0.394464</td>\n",
       "      <td>2</td>\n",
       "      <td>1</td>\n",
       "      <td>0</td>\n",
       "    </tr>\n",
       "    <tr>\n",
       "      <th>1</th>\n",
       "      <td>356644</td>\n",
       "      <td>1</td>\n",
       "      <td>0.046154</td>\n",
       "      <td>28.0</td>\n",
       "      <td>26.0</td>\n",
       "      <td>1</td>\n",
       "      <td>-1.622718</td>\n",
       "      <td>0.391003</td>\n",
       "      <td>1</td>\n",
       "      <td>0</td>\n",
       "      <td>0</td>\n",
       "    </tr>\n",
       "    <tr>\n",
       "      <th>2</th>\n",
       "      <td>268103</td>\n",
       "      <td>0</td>\n",
       "      <td>0.046154</td>\n",
       "      <td>22.0</td>\n",
       "      <td>152.0</td>\n",
       "      <td>0</td>\n",
       "      <td>0.024423</td>\n",
       "      <td>0.384083</td>\n",
       "      <td>1</td>\n",
       "      <td>1</td>\n",
       "      <td>0</td>\n",
       "    </tr>\n",
       "    <tr>\n",
       "      <th>3</th>\n",
       "      <td>195185</td>\n",
       "      <td>1</td>\n",
       "      <td>0.138462</td>\n",
       "      <td>24.0</td>\n",
       "      <td>26.0</td>\n",
       "      <td>1</td>\n",
       "      <td>0.039005</td>\n",
       "      <td>0.584775</td>\n",
       "      <td>2</td>\n",
       "      <td>0</td>\n",
       "      <td>0</td>\n",
       "    </tr>\n",
       "    <tr>\n",
       "      <th>4</th>\n",
       "      <td>13836</td>\n",
       "      <td>1</td>\n",
       "      <td>0.107692</td>\n",
       "      <td>28.0</td>\n",
       "      <td>152.0</td>\n",
       "      <td>1</td>\n",
       "      <td>0.162406</td>\n",
       "      <td>0.238754</td>\n",
       "      <td>1</td>\n",
       "      <td>0</td>\n",
       "      <td>0</td>\n",
       "    </tr>\n",
       "  </tbody>\n",
       "</table>\n",
       "</div>\n",
       "      <button class=\"colab-df-convert\" onclick=\"convertToInteractive('df-13b75c13-b97d-47b8-89ae-f21ff290a7d7')\"\n",
       "              title=\"Convert this dataframe to an interactive table.\"\n",
       "              style=\"display:none;\">\n",
       "        \n",
       "  <svg xmlns=\"http://www.w3.org/2000/svg\" height=\"24px\"viewBox=\"0 0 24 24\"\n",
       "       width=\"24px\">\n",
       "    <path d=\"M0 0h24v24H0V0z\" fill=\"none\"/>\n",
       "    <path d=\"M18.56 5.44l.94 2.06.94-2.06 2.06-.94-2.06-.94-.94-2.06-.94 2.06-2.06.94zm-11 1L8.5 8.5l.94-2.06 2.06-.94-2.06-.94L8.5 2.5l-.94 2.06-2.06.94zm10 10l.94 2.06.94-2.06 2.06-.94-2.06-.94-.94-2.06-.94 2.06-2.06.94z\"/><path d=\"M17.41 7.96l-1.37-1.37c-.4-.4-.92-.59-1.43-.59-.52 0-1.04.2-1.43.59L10.3 9.45l-7.72 7.72c-.78.78-.78 2.05 0 2.83L4 21.41c.39.39.9.59 1.41.59.51 0 1.02-.2 1.41-.59l7.78-7.78 2.81-2.81c.8-.78.8-2.07 0-2.86zM5.41 20L4 18.59l7.72-7.72 1.47 1.35L5.41 20z\"/>\n",
       "  </svg>\n",
       "      </button>\n",
       "      \n",
       "  <style>\n",
       "    .colab-df-container {\n",
       "      display:flex;\n",
       "      flex-wrap:wrap;\n",
       "      gap: 12px;\n",
       "    }\n",
       "\n",
       "    .colab-df-convert {\n",
       "      background-color: #E8F0FE;\n",
       "      border: none;\n",
       "      border-radius: 50%;\n",
       "      cursor: pointer;\n",
       "      display: none;\n",
       "      fill: #1967D2;\n",
       "      height: 32px;\n",
       "      padding: 0 0 0 0;\n",
       "      width: 32px;\n",
       "    }\n",
       "\n",
       "    .colab-df-convert:hover {\n",
       "      background-color: #E2EBFA;\n",
       "      box-shadow: 0px 1px 2px rgba(60, 64, 67, 0.3), 0px 1px 3px 1px rgba(60, 64, 67, 0.15);\n",
       "      fill: #174EA6;\n",
       "    }\n",
       "\n",
       "    [theme=dark] .colab-df-convert {\n",
       "      background-color: #3B4455;\n",
       "      fill: #D2E3FC;\n",
       "    }\n",
       "\n",
       "    [theme=dark] .colab-df-convert:hover {\n",
       "      background-color: #434B5C;\n",
       "      box-shadow: 0px 1px 3px 1px rgba(0, 0, 0, 0.15);\n",
       "      filter: drop-shadow(0px 1px 2px rgba(0, 0, 0, 0.3));\n",
       "      fill: #FFFFFF;\n",
       "    }\n",
       "  </style>\n",
       "\n",
       "      <script>\n",
       "        const buttonEl =\n",
       "          document.querySelector('#df-13b75c13-b97d-47b8-89ae-f21ff290a7d7 button.colab-df-convert');\n",
       "        buttonEl.style.display =\n",
       "          google.colab.kernel.accessAllowed ? 'block' : 'none';\n",
       "\n",
       "        async function convertToInteractive(key) {\n",
       "          const element = document.querySelector('#df-13b75c13-b97d-47b8-89ae-f21ff290a7d7');\n",
       "          const dataTable =\n",
       "            await google.colab.kernel.invokeFunction('convertToInteractive',\n",
       "                                                     [key], {});\n",
       "          if (!dataTable) return;\n",
       "\n",
       "          const docLinkHtml = 'Like what you see? Visit the ' +\n",
       "            '<a target=\"_blank\" href=https://colab.research.google.com/notebooks/data_table.ipynb>data table notebook</a>'\n",
       "            + ' to learn more about interactive tables.';\n",
       "          element.innerHTML = '';\n",
       "          dataTable['output_type'] = 'display_data';\n",
       "          await google.colab.output.renderOutput(dataTable, element);\n",
       "          const docLink = document.createElement('div');\n",
       "          docLink.innerHTML = docLinkHtml;\n",
       "          element.appendChild(docLink);\n",
       "        }\n",
       "      </script>\n",
       "    </div>\n",
       "  </div>\n",
       "  "
      ],
      "text/plain": [
       "       id  gender       age  region_code  policy_sales_channel  \\\n",
       "0  122366       0  0.523077         28.0                  26.0   \n",
       "1  356644       1  0.046154         28.0                  26.0   \n",
       "2  268103       0  0.046154         22.0                 152.0   \n",
       "3  195185       1  0.138462         24.0                  26.0   \n",
       "4   13836       1  0.107692         28.0                 152.0   \n",
       "\n",
       "   previously_insured  annual_premium   vintage  vehicle_age  vehicle_damage  \\\n",
       "0                   0        0.095128  0.394464            2               1   \n",
       "1                   1       -1.622718  0.391003            1               0   \n",
       "2                   0        0.024423  0.384083            1               1   \n",
       "3                   1        0.039005  0.584775            2               0   \n",
       "4                   1        0.162406  0.238754            1               0   \n",
       "\n",
       "   response  \n",
       "0         0  \n",
       "1         0  \n",
       "2         0  \n",
       "3         0  \n",
       "4         0  "
      ]
     },
     "execution_count": 70,
     "metadata": {},
     "output_type": "execute_result"
    }
   ],
   "source": [
    "train.head()"
   ]
  },
  {
   "cell_type": "code",
   "execution_count": 71,
   "metadata": {
    "colab": {
     "base_uri": "https://localhost:8080/"
    },
    "executionInfo": {
     "elapsed": 26,
     "status": "ok",
     "timestamp": 1665685473795,
     "user": {
      "displayName": "Lavis",
      "userId": "11464059397454562428"
     },
     "user_tz": 180
    },
    "id": "7EtNhu2nXKsR",
    "outputId": "b71ae25c-9c41-4609-f9eb-051af9313c7b"
   },
   "outputs": [
    {
     "data": {
      "text/plain": [
       "(266207, 11)"
      ]
     },
     "execution_count": 71,
     "metadata": {},
     "output_type": "execute_result"
    }
   ],
   "source": [
    "train.shape"
   ]
  },
  {
   "cell_type": "code",
   "execution_count": 72,
   "metadata": {
    "ExecuteTime": {
     "end_time": "2022-09-21T22:18:21.516867Z",
     "start_time": "2022-09-21T22:18:21.483955Z"
    },
    "cell_id": "00010-9bcda57f-6c10-4b76-a917-7cc123ffa627",
    "colab": {
     "base_uri": "https://localhost:8080/"
    },
    "deepnote_cell_height": 284.3999938964844,
    "deepnote_cell_type": "code",
    "deepnote_output_heights": [
     193
    ],
    "deepnote_to_be_reexecuted": false,
    "executionInfo": {
     "elapsed": 22,
     "status": "ok",
     "timestamp": 1665685473796,
     "user": {
      "displayName": "Lavis",
      "userId": "11464059397454562428"
     },
     "user_tz": 180
    },
    "execution_millis": 785,
    "execution_start": 1663075328587,
    "id": "ZlCtZKqBPrZY",
    "outputId": "bd60fa44-caf5-4461-b349-cd3ac88ed58d",
    "source_hash": "ac6ebbf9"
   },
   "outputs": [
    {
     "data": {
      "text/plain": [
       "id                        int64\n",
       "gender                    int64\n",
       "age                     float64\n",
       "region_code             float64\n",
       "policy_sales_channel    float64\n",
       "previously_insured        int64\n",
       "annual_premium          float64\n",
       "vintage                 float64\n",
       "vehicle_age               int64\n",
       "vehicle_damage            int64\n",
       "response                  int64\n",
       "dtype: object"
      ]
     },
     "execution_count": 72,
     "metadata": {},
     "output_type": "execute_result"
    }
   ],
   "source": [
    "train.dtypes"
   ]
  },
  {
   "cell_type": "code",
   "execution_count": 73,
   "metadata": {
    "colab": {
     "base_uri": "https://localhost:8080/",
     "height": 270
    },
    "executionInfo": {
     "elapsed": 20,
     "status": "ok",
     "timestamp": 1665685473797,
     "user": {
      "displayName": "Lavis",
      "userId": "11464059397454562428"
     },
     "user_tz": 180
    },
    "id": "4bubMW9QXN9b",
    "outputId": "2ce9c75b-c83a-49cb-adbc-01f6009a1700"
   },
   "outputs": [
    {
     "data": {
      "text/html": [
       "\n",
       "  <div id=\"df-caab5c44-742b-4129-98a1-a930f993b32c\">\n",
       "    <div class=\"colab-df-container\">\n",
       "      <div>\n",
       "<style scoped>\n",
       "    .dataframe tbody tr th:only-of-type {\n",
       "        vertical-align: middle;\n",
       "    }\n",
       "\n",
       "    .dataframe tbody tr th {\n",
       "        vertical-align: top;\n",
       "    }\n",
       "\n",
       "    .dataframe thead th {\n",
       "        text-align: right;\n",
       "    }\n",
       "</style>\n",
       "<table border=\"1\" class=\"dataframe\">\n",
       "  <thead>\n",
       "    <tr style=\"text-align: right;\">\n",
       "      <th></th>\n",
       "      <th>id</th>\n",
       "      <th>gender</th>\n",
       "      <th>age</th>\n",
       "      <th>region_code</th>\n",
       "      <th>policy_sales_channel</th>\n",
       "      <th>previously_insured</th>\n",
       "      <th>annual_premium</th>\n",
       "      <th>vintage</th>\n",
       "      <th>vehicle_age</th>\n",
       "      <th>vehicle_damage</th>\n",
       "      <th>response</th>\n",
       "    </tr>\n",
       "  </thead>\n",
       "  <tbody>\n",
       "    <tr>\n",
       "      <th>0</th>\n",
       "      <td>196319</td>\n",
       "      <td>0</td>\n",
       "      <td>0.461538</td>\n",
       "      <td>33.0</td>\n",
       "      <td>124.0</td>\n",
       "      <td>0</td>\n",
       "      <td>0.597270</td>\n",
       "      <td>0.498270</td>\n",
       "      <td>3</td>\n",
       "      <td>1</td>\n",
       "      <td>0</td>\n",
       "    </tr>\n",
       "    <tr>\n",
       "      <th>1</th>\n",
       "      <td>377373</td>\n",
       "      <td>0</td>\n",
       "      <td>0.307692</td>\n",
       "      <td>8.0</td>\n",
       "      <td>124.0</td>\n",
       "      <td>1</td>\n",
       "      <td>-1.622718</td>\n",
       "      <td>0.467128</td>\n",
       "      <td>2</td>\n",
       "      <td>0</td>\n",
       "      <td>0</td>\n",
       "    </tr>\n",
       "    <tr>\n",
       "      <th>2</th>\n",
       "      <td>96687</td>\n",
       "      <td>1</td>\n",
       "      <td>0.692308</td>\n",
       "      <td>41.0</td>\n",
       "      <td>109.0</td>\n",
       "      <td>0</td>\n",
       "      <td>-0.245443</td>\n",
       "      <td>0.816609</td>\n",
       "      <td>2</td>\n",
       "      <td>1</td>\n",
       "      <td>0</td>\n",
       "    </tr>\n",
       "    <tr>\n",
       "      <th>3</th>\n",
       "      <td>303533</td>\n",
       "      <td>0</td>\n",
       "      <td>0.615385</td>\n",
       "      <td>28.0</td>\n",
       "      <td>124.0</td>\n",
       "      <td>0</td>\n",
       "      <td>1.287244</td>\n",
       "      <td>0.446367</td>\n",
       "      <td>2</td>\n",
       "      <td>1</td>\n",
       "      <td>0</td>\n",
       "    </tr>\n",
       "    <tr>\n",
       "      <th>4</th>\n",
       "      <td>256233</td>\n",
       "      <td>0</td>\n",
       "      <td>0.246154</td>\n",
       "      <td>36.0</td>\n",
       "      <td>26.0</td>\n",
       "      <td>0</td>\n",
       "      <td>0.500537</td>\n",
       "      <td>0.217993</td>\n",
       "      <td>2</td>\n",
       "      <td>1</td>\n",
       "      <td>1</td>\n",
       "    </tr>\n",
       "  </tbody>\n",
       "</table>\n",
       "</div>\n",
       "      <button class=\"colab-df-convert\" onclick=\"convertToInteractive('df-caab5c44-742b-4129-98a1-a930f993b32c')\"\n",
       "              title=\"Convert this dataframe to an interactive table.\"\n",
       "              style=\"display:none;\">\n",
       "        \n",
       "  <svg xmlns=\"http://www.w3.org/2000/svg\" height=\"24px\"viewBox=\"0 0 24 24\"\n",
       "       width=\"24px\">\n",
       "    <path d=\"M0 0h24v24H0V0z\" fill=\"none\"/>\n",
       "    <path d=\"M18.56 5.44l.94 2.06.94-2.06 2.06-.94-2.06-.94-.94-2.06-.94 2.06-2.06.94zm-11 1L8.5 8.5l.94-2.06 2.06-.94-2.06-.94L8.5 2.5l-.94 2.06-2.06.94zm10 10l.94 2.06.94-2.06 2.06-.94-2.06-.94-.94-2.06-.94 2.06-2.06.94z\"/><path d=\"M17.41 7.96l-1.37-1.37c-.4-.4-.92-.59-1.43-.59-.52 0-1.04.2-1.43.59L10.3 9.45l-7.72 7.72c-.78.78-.78 2.05 0 2.83L4 21.41c.39.39.9.59 1.41.59.51 0 1.02-.2 1.41-.59l7.78-7.78 2.81-2.81c.8-.78.8-2.07 0-2.86zM5.41 20L4 18.59l7.72-7.72 1.47 1.35L5.41 20z\"/>\n",
       "  </svg>\n",
       "      </button>\n",
       "      \n",
       "  <style>\n",
       "    .colab-df-container {\n",
       "      display:flex;\n",
       "      flex-wrap:wrap;\n",
       "      gap: 12px;\n",
       "    }\n",
       "\n",
       "    .colab-df-convert {\n",
       "      background-color: #E8F0FE;\n",
       "      border: none;\n",
       "      border-radius: 50%;\n",
       "      cursor: pointer;\n",
       "      display: none;\n",
       "      fill: #1967D2;\n",
       "      height: 32px;\n",
       "      padding: 0 0 0 0;\n",
       "      width: 32px;\n",
       "    }\n",
       "\n",
       "    .colab-df-convert:hover {\n",
       "      background-color: #E2EBFA;\n",
       "      box-shadow: 0px 1px 2px rgba(60, 64, 67, 0.3), 0px 1px 3px 1px rgba(60, 64, 67, 0.15);\n",
       "      fill: #174EA6;\n",
       "    }\n",
       "\n",
       "    [theme=dark] .colab-df-convert {\n",
       "      background-color: #3B4455;\n",
       "      fill: #D2E3FC;\n",
       "    }\n",
       "\n",
       "    [theme=dark] .colab-df-convert:hover {\n",
       "      background-color: #434B5C;\n",
       "      box-shadow: 0px 1px 3px 1px rgba(0, 0, 0, 0.15);\n",
       "      filter: drop-shadow(0px 1px 2px rgba(0, 0, 0, 0.3));\n",
       "      fill: #FFFFFF;\n",
       "    }\n",
       "  </style>\n",
       "\n",
       "      <script>\n",
       "        const buttonEl =\n",
       "          document.querySelector('#df-caab5c44-742b-4129-98a1-a930f993b32c button.colab-df-convert');\n",
       "        buttonEl.style.display =\n",
       "          google.colab.kernel.accessAllowed ? 'block' : 'none';\n",
       "\n",
       "        async function convertToInteractive(key) {\n",
       "          const element = document.querySelector('#df-caab5c44-742b-4129-98a1-a930f993b32c');\n",
       "          const dataTable =\n",
       "            await google.colab.kernel.invokeFunction('convertToInteractive',\n",
       "                                                     [key], {});\n",
       "          if (!dataTable) return;\n",
       "\n",
       "          const docLinkHtml = 'Like what you see? Visit the ' +\n",
       "            '<a target=\"_blank\" href=https://colab.research.google.com/notebooks/data_table.ipynb>data table notebook</a>'\n",
       "            + ' to learn more about interactive tables.';\n",
       "          element.innerHTML = '';\n",
       "          dataTable['output_type'] = 'display_data';\n",
       "          await google.colab.output.renderOutput(dataTable, element);\n",
       "          const docLink = document.createElement('div');\n",
       "          docLink.innerHTML = docLinkHtml;\n",
       "          element.appendChild(docLink);\n",
       "        }\n",
       "      </script>\n",
       "    </div>\n",
       "  </div>\n",
       "  "
      ],
      "text/plain": [
       "       id  gender       age  region_code  policy_sales_channel  \\\n",
       "0  196319       0  0.461538         33.0                 124.0   \n",
       "1  377373       0  0.307692          8.0                 124.0   \n",
       "2   96687       1  0.692308         41.0                 109.0   \n",
       "3  303533       0  0.615385         28.0                 124.0   \n",
       "4  256233       0  0.246154         36.0                  26.0   \n",
       "\n",
       "   previously_insured  annual_premium   vintage  vehicle_age  vehicle_damage  \\\n",
       "0                   0        0.597270  0.498270            3               1   \n",
       "1                   1       -1.622718  0.467128            2               0   \n",
       "2                   0       -0.245443  0.816609            2               1   \n",
       "3                   0        1.287244  0.446367            2               1   \n",
       "4                   0        0.500537  0.217993            2               1   \n",
       "\n",
       "   response  \n",
       "0         0  \n",
       "1         0  \n",
       "2         0  \n",
       "3         0  \n",
       "4         1  "
      ]
     },
     "execution_count": 73,
     "metadata": {},
     "output_type": "execute_result"
    }
   ],
   "source": [
    "val.head()"
   ]
  },
  {
   "cell_type": "code",
   "execution_count": 74,
   "metadata": {
    "colab": {
     "base_uri": "https://localhost:8080/"
    },
    "executionInfo": {
     "elapsed": 19,
     "status": "ok",
     "timestamp": 1665685473797,
     "user": {
      "displayName": "Lavis",
      "userId": "11464059397454562428"
     },
     "user_tz": 180
    },
    "id": "A4O2LMfNXQBb",
    "outputId": "57c0a505-0851-49d1-f20d-ec5690bb6909"
   },
   "outputs": [
    {
     "data": {
      "text/plain": [
       "(114090, 11)"
      ]
     },
     "execution_count": 74,
     "metadata": {},
     "output_type": "execute_result"
    }
   ],
   "source": [
    "val.shape"
   ]
  },
  {
   "cell_type": "code",
   "execution_count": 75,
   "metadata": {
    "colab": {
     "base_uri": "https://localhost:8080/"
    },
    "executionInfo": {
     "elapsed": 18,
     "status": "ok",
     "timestamp": 1665685473798,
     "user": {
      "displayName": "Lavis",
      "userId": "11464059397454562428"
     },
     "user_tz": 180
    },
    "id": "tDzfZS_lXSAn",
    "outputId": "c083da20-2f98-49fb-b9a7-32341e372c12"
   },
   "outputs": [
    {
     "data": {
      "text/plain": [
       "id                        int64\n",
       "gender                    int64\n",
       "age                     float64\n",
       "region_code             float64\n",
       "policy_sales_channel    float64\n",
       "previously_insured        int64\n",
       "annual_premium          float64\n",
       "vintage                 float64\n",
       "vehicle_age               int64\n",
       "vehicle_damage            int64\n",
       "response                  int64\n",
       "dtype: object"
      ]
     },
     "execution_count": 75,
     "metadata": {},
     "output_type": "execute_result"
    }
   ],
   "source": [
    "val.dtypes"
   ]
  },
  {
   "cell_type": "markdown",
   "metadata": {
    "cell_id": "00011-8ade3ecc-bbc3-41e9-a58a-9ed7c892b3e5",
    "deepnote_cell_height": 69.60000610351562,
    "deepnote_cell_type": "markdown",
    "id": "61MThpHDPrZZ"
   },
   "source": [
    "## Slipt train test"
   ]
  },
  {
   "cell_type": "code",
   "execution_count": 76,
   "metadata": {
    "executionInfo": {
     "elapsed": 15,
     "status": "ok",
     "timestamp": 1665685473798,
     "user": {
      "displayName": "Lavis",
      "userId": "11464059397454562428"
     },
     "user_tz": 180
    },
    "id": "2xiz55JqXX7h"
   },
   "outputs": [],
   "source": [
    "val = val[train.columns].copy()"
   ]
  },
  {
   "cell_type": "code",
   "execution_count": 77,
   "metadata": {
    "executionInfo": {
     "elapsed": 16,
     "status": "ok",
     "timestamp": 1665685473799,
     "user": {
      "displayName": "Lavis",
      "userId": "11464059397454562428"
     },
     "user_tz": 180
    },
    "id": "NB2aK_Qar5eG"
   },
   "outputs": [],
   "source": [
    "df6 = pd.concat([train,val],axis=0)"
   ]
  },
  {
   "cell_type": "code",
   "execution_count": 78,
   "metadata": {
    "ExecuteTime": {
     "end_time": "2022-09-21T22:18:23.016855Z",
     "start_time": "2022-09-21T22:18:21.551774Z"
    },
    "cell_id": "00014-300c7c0c-ae4e-4c09-82c3-e8890820e92b",
    "deepnote_cell_height": 237.60000610351562,
    "deepnote_cell_type": "code",
    "deepnote_to_be_reexecuted": false,
    "executionInfo": {
     "elapsed": 16,
     "status": "ok",
     "timestamp": 1665685473800,
     "user": {
      "displayName": "Lavis",
      "userId": "11464059397454562428"
     },
     "user_tz": 180
    },
    "execution_millis": 167,
    "execution_start": 1663075328588,
    "id": "chdutho5PrZZ",
    "source_hash": "6fdaa04d"
   },
   "outputs": [],
   "source": [
    "# train dataframes\n",
    "X_train = train.copy()\n",
    "y_train = X_train['response']\n",
    "X_train.drop(columns = ['response','id'],inplace=True)\n",
    "# validation dataframes\n",
    "x_val = val.copy()\n",
    "y_val = val['response']\n",
    "x_val.drop(columns = ['response','id'],inplace=True)"
   ]
  },
  {
   "cell_type": "markdown",
   "metadata": {
    "cell_id": "00015-e802f5a4-b869-4d12-8fa2-9235c385383f",
    "deepnote_cell_height": 81.60000610351562,
    "deepnote_cell_type": "markdown",
    "id": "20xUhtqXPrZa"
   },
   "source": [
    "# Machine learning"
   ]
  },
  {
   "cell_type": "markdown",
   "metadata": {
    "cell_id": "00016-2a0bce78-f887-46fc-bacb-c84b26d3beda",
    "deepnote_cell_height": 69.60000610351562,
    "deepnote_cell_type": "markdown",
    "id": "EZApi0xJPrZa"
   },
   "source": [
    "## KNN"
   ]
  },
  {
   "cell_type": "code",
   "execution_count": 79,
   "metadata": {
    "ExecuteTime": {
     "end_time": "2022-09-21T22:18:28.473262Z",
     "start_time": "2022-09-21T22:18:23.067720Z"
    },
    "cell_id": "00017-edcd367a-ef36-45f6-b004-e7dfad534627",
    "colab": {
     "base_uri": "https://localhost:8080/"
    },
    "deepnote_cell_height": 222.39999389648438,
    "deepnote_cell_type": "code",
    "deepnote_output_heights": [
     59
    ],
    "deepnote_to_be_reexecuted": false,
    "executionInfo": {
     "elapsed": 1569,
     "status": "ok",
     "timestamp": 1665685475353,
     "user": {
      "displayName": "Lavis",
      "userId": "11464059397454562428"
     },
     "user_tz": 180
    },
    "execution_millis": 0,
    "execution_start": 1663115833468,
    "id": "n6NZHvLHPrZb",
    "outputId": "55e141a4-253f-462a-86e4-c8699e3c3e9f",
    "source_hash": "10a81161"
   },
   "outputs": [
    {
     "data": {
      "text/plain": [
       "KNeighborsClassifier()"
      ]
     },
     "execution_count": 79,
     "metadata": {},
     "output_type": "execute_result"
    }
   ],
   "source": [
    "#model\n",
    "knn_model = KNeighborsClassifier(n_neighbors=5)\n",
    "\n",
    "# model training\n",
    "knn_model.fit(X_train,y_train.values.ravel())"
   ]
  },
  {
   "cell_type": "code",
   "execution_count": 80,
   "metadata": {
    "ExecuteTime": {
     "end_time": "2022-09-21T22:19:01.936824Z",
     "start_time": "2022-09-21T22:18:28.479247Z"
    },
    "cell_id": "00018-73123b44-fc09-4483-84e1-8c67af5f6f3a",
    "deepnote_cell_height": 147.60000610351562,
    "deepnote_cell_type": "code",
    "deepnote_to_be_reexecuted": false,
    "executionInfo": {
     "elapsed": 43851,
     "status": "ok",
     "timestamp": 1665685519200,
     "user": {
      "displayName": "Lavis",
      "userId": "11464059397454562428"
     },
     "user_tz": 180
    },
    "execution_millis": 25512,
    "execution_start": 1663075329189,
    "id": "Ho6ocK0GPrZc",
    "source_hash": "e479a2c4"
   },
   "outputs": [],
   "source": [
    "#model prediction proba - poder de generalizção\n",
    "yhat_knn_proba = knn_model.predict_proba( x_val )\n",
    "\n",
    "#model prediction - poder de generalizção\n",
    "yhat_knn_class = knn_model.predict( x_val )"
   ]
  },
  {
   "cell_type": "code",
   "execution_count": 81,
   "metadata": {
    "ExecuteTime": {
     "end_time": "2022-09-21T22:19:02.995186Z",
     "start_time": "2022-09-21T22:19:01.938759Z"
    },
    "cell_id": "00019-287ff93b-6fce-49eb-97a2-4de2942ff0ba",
    "colab": {
     "base_uri": "https://localhost:8080/",
     "height": 568
    },
    "deepnote_cell_height": 128.39999389648438,
    "deepnote_cell_type": "code",
    "deepnote_output_heights": [
     1
    ],
    "deepnote_to_be_reexecuted": false,
    "executionInfo": {
     "elapsed": 806,
     "status": "ok",
     "timestamp": 1665685520002,
     "user": {
      "displayName": "Lavis",
      "userId": "11464059397454562428"
     },
     "user_tz": 180
    },
    "execution_millis": 1621,
    "execution_start": 1663075354714,
    "id": "MiqasWBkPrZd",
    "outputId": "df2b42b6-d0ab-4ce7-9fbf-d50c43d73e4a",
    "scrolled": false,
    "source_hash": "4922d075"
   },
   "outputs": [
    {
     "data": {
      "image/png": "[encoded data removed]",
      "text/plain": [
       "<Figure size 1800x864 with 2 Axes>"
      ]
     },
     "metadata": {},
     "output_type": "display_data"
    }
   ],
   "source": [
    "fig ,ax = plt.subplots(1,2)\n",
    "skplt.metrics.plot_cumulative_gain(y_val,yhat_knn_proba,ax=ax[0]);\n",
    "skplt.metrics.plot_lift_curve(y_val,yhat_knn_proba,ax=ax[1]);"
   ]
  },
  {
   "cell_type": "markdown",
   "metadata": {
    "cell_id": "00020-ee979896-bb38-4467-b22e-8003e0d9b462",
    "deepnote_cell_height": 69.60000610351562,
    "deepnote_cell_type": "markdown",
    "id": "StriW-mEPrZd"
   },
   "source": [
    "## Linear model"
   ]
  },
  {
   "cell_type": "code",
   "execution_count": 82,
   "metadata": {
    "ExecuteTime": {
     "end_time": "2022-09-21T22:19:10.631345Z",
     "start_time": "2022-09-21T22:19:03.011142Z"
    },
    "cell_id": "00021-f4bab372-bb15-4b26-a4de-f6769167124c",
    "colab": {
     "base_uri": "https://localhost:8080/"
    },
    "deepnote_cell_height": 168.39999389648438,
    "deepnote_cell_type": "code",
    "deepnote_output_heights": [
     59
    ],
    "deepnote_to_be_reexecuted": false,
    "executionInfo": {
     "elapsed": 4787,
     "status": "ok",
     "timestamp": 1665685524783,
     "user": {
      "displayName": "Lavis",
      "userId": "11464059397454562428"
     },
     "user_tz": 180
    },
    "execution_millis": 3,
    "execution_start": 1663115839990,
    "id": "_x2JOJctPrZd",
    "outputId": "e4429466-a399-4ba5-ed50-ddbe95242fb9",
    "source_hash": "d481df20"
   },
   "outputs": [
    {
     "data": {
      "text/plain": [
       "LogisticRegression(n_jobs=-1, random_state=42)"
      ]
     },
     "execution_count": 82,
     "metadata": {},
     "output_type": "execute_result"
    }
   ],
   "source": [
    "lm_model = lm.LogisticRegression(random_state=42,n_jobs=-1)\n",
    "lm_model.fit(X_train,y_train.values.ravel())"
   ]
  },
  {
   "cell_type": "code",
   "execution_count": 83,
   "metadata": {
    "ExecuteTime": {
     "end_time": "2022-09-21T22:19:10.742132Z",
     "start_time": "2022-09-21T22:19:10.635335Z"
    },
    "cell_id": "00022-3be5e03f-fcad-4558-b5de-952efaf0c41e",
    "deepnote_cell_height": 147.60000610351562,
    "deepnote_cell_type": "code",
    "deepnote_to_be_reexecuted": false,
    "executionInfo": {
     "elapsed": 5,
     "status": "ok",
     "timestamp": 1665685524784,
     "user": {
      "displayName": "Lavis",
      "userId": "11464059397454562428"
     },
     "user_tz": 180
    },
    "execution_millis": 102,
    "execution_start": 1663075367316,
    "id": "Gz1AVs5mPrZe",
    "source_hash": "478f3e19"
   },
   "outputs": [],
   "source": [
    "#model prediction proba - poder de generalizção\n",
    "yhat_lm_proba = lm_model.predict_proba( x_val )\n",
    "\n",
    "#model prediction - poder de generalizção\n",
    "yhat_lm_class = lm_model.predict( x_val )"
   ]
  },
  {
   "cell_type": "code",
   "execution_count": 84,
   "metadata": {
    "ExecuteTime": {
     "end_time": "2022-09-21T22:19:11.503056Z",
     "start_time": "2022-09-21T22:19:10.745084Z"
    },
    "cell_id": "00023-f8e2c4a6-d24d-46f3-b32a-7b23f29db642",
    "colab": {
     "base_uri": "https://localhost:8080/",
     "height": 568
    },
    "deepnote_cell_height": 128.39999389648438,
    "deepnote_cell_type": "code",
    "deepnote_output_heights": [
     1
    ],
    "deepnote_to_be_reexecuted": false,
    "executionInfo": {
     "elapsed": 1244,
     "status": "ok",
     "timestamp": 1665685526024,
     "user": {
      "displayName": "Lavis",
      "userId": "11464059397454562428"
     },
     "user_tz": 180
    },
    "execution_millis": 932,
    "execution_start": 1663075367501,
    "id": "2tY98qxnPrZe",
    "outputId": "03a73a0c-7ebc-4e37-8242-f70cac2349e3",
    "scrolled": true,
    "source_hash": "cc604100"
   },
   "outputs": [
    {
     "data": {
      "image/png": "[encoded data removed]",
      "text/plain": [
       "<Figure size 1800x864 with 2 Axes>"
      ]
     },
     "metadata": {},
     "output_type": "display_data"
    }
   ],
   "source": [
    "fig ,ax = plt.subplots(1,2)\n",
    "skplt.metrics.plot_cumulative_gain(y_val,yhat_lm_proba,ax=ax[0]);\n",
    "skplt.metrics.plot_lift_curve(y_val,yhat_lm_proba,ax=ax[1]);"
   ]
  },
  {
   "cell_type": "markdown",
   "metadata": {
    "cell_id": "00024-ca2a8dd8-8310-48f8-999f-6799c50992ac",
    "deepnote_cell_height": 69.60000610351562,
    "deepnote_cell_type": "markdown",
    "id": "HncG8yiTPrZe"
   },
   "source": [
    "## Random forrest classifier"
   ]
  },
  {
   "cell_type": "code",
   "execution_count": 85,
   "metadata": {
    "ExecuteTime": {
     "end_time": "2022-09-21T22:23:33.840722Z",
     "start_time": "2022-09-21T22:19:11.506048Z"
    },
    "cell_id": "00025-57c9c35f-0bae-4a9b-898e-e25b1f58e4c5",
    "colab": {
     "base_uri": "https://localhost:8080/"
    },
    "deepnote_cell_height": 168.39999389648438,
    "deepnote_cell_type": "code",
    "deepnote_output_heights": [
     59
    ],
    "deepnote_to_be_reexecuted": false,
    "executionInfo": {
     "elapsed": 116854,
     "status": "ok",
     "timestamp": 1665685642875,
     "user": {
      "displayName": "Lavis",
      "userId": "11464059397454562428"
     },
     "user_tz": 180
    },
    "execution_millis": 73481,
    "execution_start": 1663075368252,
    "id": "Ck_BL8wDPrZf",
    "outputId": "9c7d9800-074c-416e-eaf3-d6243d244cbd",
    "source_hash": "92259f83"
   },
   "outputs": [
    {
     "data": {
      "text/plain": [
       "RandomForestClassifier(n_estimators=300, n_jobs=-1, random_state=42)"
      ]
     },
     "execution_count": 85,
     "metadata": {},
     "output_type": "execute_result"
    }
   ],
   "source": [
    "rf_model = RandomForestClassifier(n_estimators=300,random_state=42,n_jobs=-1)\n",
    "rf_model.fit(X_train,y_train.values.ravel())"
   ]
  },
  {
   "cell_type": "code",
   "execution_count": 86,
   "metadata": {
    "ExecuteTime": {
     "end_time": "2022-09-21T22:24:44.503523Z",
     "start_time": "2022-09-21T22:23:33.852690Z"
    },
    "cell_id": "00026-f232cb90-923d-453b-9727-a2f224179aa3",
    "deepnote_cell_height": 147.60000610351562,
    "deepnote_cell_type": "code",
    "deepnote_to_be_reexecuted": false,
    "executionInfo": {
     "elapsed": 14899,
     "status": "ok",
     "timestamp": 1665685657761,
     "user": {
      "displayName": "Lavis",
      "userId": "11464059397454562428"
     },
     "user_tz": 180
    },
    "execution_millis": 18219,
    "execution_start": 1663075441732,
    "id": "Ry_BXUgfPrZf",
    "source_hash": "5bb0233b"
   },
   "outputs": [],
   "source": [
    "#model prediction proba - poder de generalizção\n",
    "yhat_rf_proba = rf_model.predict_proba( x_val )\n",
    "\n",
    "#model prediction - poder de generalizção\n",
    "yhat_rf_class = rf_model.predict( x_val )"
   ]
  },
  {
   "cell_type": "code",
   "execution_count": 87,
   "metadata": {
    "ExecuteTime": {
     "end_time": "2022-09-21T22:24:46.040513Z",
     "start_time": "2022-09-21T22:24:44.519481Z"
    },
    "cell_id": "00027-fd53a067-8226-4d8a-94f7-400b7890c90d",
    "colab": {
     "base_uri": "https://localhost:8080/",
     "height": 568
    },
    "deepnote_cell_height": 128.39999389648438,
    "deepnote_cell_type": "code",
    "deepnote_output_heights": [
     1
    ],
    "deepnote_to_be_reexecuted": false,
    "executionInfo": {
     "elapsed": 1177,
     "status": "ok",
     "timestamp": 1665685658935,
     "user": {
      "displayName": "Lavis",
      "userId": "11464059397454562428"
     },
     "user_tz": 180
    },
    "execution_millis": 1539,
    "execution_start": 1663075459955,
    "id": "QA2g5ysZPrZf",
    "outputId": "45f1271b-5d3a-40f7-d4db-5092c9cd0e60",
    "scrolled": true,
    "source_hash": "d0650421"
   },
   "outputs": [
    {
     "data": {
      "image/png": "[encoded data removed]",
      "text/plain": [
       "<Figure size 1800x864 with 2 Axes>"
      ]
     },
     "metadata": {},
     "output_type": "display_data"
    }
   ],
   "source": [
    "fig ,ax = plt.subplots(1,2)\n",
    "skplt.metrics.plot_cumulative_gain(y_val,yhat_rf_proba,ax=ax[0]);\n",
    "skplt.metrics.plot_lift_curve(y_val,yhat_rf_proba,ax=ax[1]);"
   ]
  },
  {
   "cell_type": "markdown",
   "metadata": {
    "cell_id": "00028-e34935f1-dd41-4aa6-8221-7a8391895f6c",
    "deepnote_cell_height": 69.60000610351562,
    "deepnote_cell_type": "markdown",
    "id": "g-rMZCJOPrZf"
   },
   "source": [
    "## Extratree classifier"
   ]
  },
  {
   "cell_type": "code",
   "execution_count": 88,
   "metadata": {
    "ExecuteTime": {
     "end_time": "2022-09-21T22:28:15.581174Z",
     "start_time": "2022-09-21T22:24:46.046497Z"
    },
    "cell_id": "00029-e590be43-30d2-4729-9575-edf6e2e66bb7",
    "colab": {
     "base_uri": "https://localhost:8080/"
    },
    "deepnote_cell_height": 187.39999389648438,
    "deepnote_cell_type": "code",
    "deepnote_output_heights": [
     78
    ],
    "deepnote_to_be_reexecuted": false,
    "executionInfo": {
     "elapsed": 75270,
     "status": "ok",
     "timestamp": 1665685734200,
     "user": {
      "displayName": "Lavis",
      "userId": "11464059397454562428"
     },
     "user_tz": 180
    },
    "execution_millis": 7976,
    "execution_start": 1663075460627,
    "id": "m48jsbxfPrZg",
    "outputId": "e11df7e7-56d2-46d5-915b-c57b57d3eeca",
    "source_hash": "808783ba"
   },
   "outputs": [
    {
     "data": {
      "text/plain": [
       "ExtraTreesClassifier(n_estimators=300, n_jobs=-1, random_state=42)"
      ]
     },
     "execution_count": 88,
     "metadata": {},
     "output_type": "execute_result"
    }
   ],
   "source": [
    "et_model = ExtraTreesClassifier(n_estimators=300,random_state=42,n_jobs=-1)\n",
    "et_model.fit(X_train,y_train.values.ravel())"
   ]
  },
  {
   "cell_type": "code",
   "execution_count": 89,
   "metadata": {
    "ExecuteTime": {
     "end_time": "2022-09-21T22:33:16.382583Z",
     "start_time": "2022-09-21T22:28:15.595136Z"
    },
    "cell_id": "00030-7d26fbc0-c61f-4321-a96b-e8a0ce64c60c",
    "deepnote_cell_height": 147.60000610351562,
    "deepnote_cell_type": "code",
    "deepnote_to_be_reexecuted": false,
    "executionInfo": {
     "elapsed": 21158,
     "status": "ok",
     "timestamp": 1665685755354,
     "user": {
      "displayName": "Lavis",
      "userId": "11464059397454562428"
     },
     "user_tz": 180
    },
    "execution_millis": 2246,
    "execution_start": 1663075468610,
    "id": "Mi2muKb7PrZg",
    "source_hash": "dcc23347"
   },
   "outputs": [],
   "source": [
    "#model prediction proba - poder de generalizção\n",
    "yhat_et_proba = et_model.predict_proba( x_val )\n",
    "\n",
    "#model prediction - poder de generalizção\n",
    "yhat_et_class = et_model.predict( x_val )"
   ]
  },
  {
   "cell_type": "code",
   "execution_count": 90,
   "metadata": {
    "ExecuteTime": {
     "end_time": "2022-09-21T22:33:18.532374Z",
     "start_time": "2022-09-21T22:33:16.439188Z"
    },
    "cell_id": "00031-5b456b84-3792-42d6-8c91-c99e792bf168",
    "colab": {
     "base_uri": "https://localhost:8080/",
     "height": 568
    },
    "deepnote_cell_height": 128.39999389648438,
    "deepnote_cell_type": "code",
    "deepnote_output_heights": [
     1
    ],
    "deepnote_to_be_reexecuted": false,
    "executionInfo": {
     "elapsed": 2141,
     "status": "ok",
     "timestamp": 1665685757491,
     "user": {
      "displayName": "Lavis",
      "userId": "11464059397454562428"
     },
     "user_tz": 180
    },
    "execution_millis": 664,
    "execution_start": 1663075470860,
    "id": "K-tQyT6lPrZg",
    "outputId": "c49f7df5-b53d-49a9-bf0f-dd2cfcbbdec2",
    "scrolled": true,
    "source_hash": "d18b4278"
   },
   "outputs": [
    {
     "data": {
      "image/png": "[encoded data removed]",
      "text/plain": [
       "<Figure size 1800x864 with 2 Axes>"
      ]
     },
     "metadata": {},
     "output_type": "display_data"
    }
   ],
   "source": [
    "fig ,ax = plt.subplots(1,2)\n",
    "skplt.metrics.plot_cumulative_gain(y_val,yhat_et_proba,ax=ax[0]);\n",
    "skplt.metrics.plot_lift_curve(y_val,yhat_et_proba,ax=ax[1]);"
   ]
  },
  {
   "cell_type": "markdown",
   "metadata": {
    "cell_id": "00032-05e3d8ce-6628-4b64-8481-e513b51e0439",
    "deepnote_cell_height": 69.60000610351562,
    "deepnote_cell_type": "markdown",
    "id": "ZpdNPfipPrZh"
   },
   "source": [
    "## XGBoost"
   ]
  },
  {
   "cell_type": "code",
   "execution_count": 91,
   "metadata": {
    "ExecuteTime": {
     "end_time": "2022-09-21T22:36:33.897206Z",
     "start_time": "2022-09-21T22:33:18.597781Z"
    },
    "cell_id": "00033-51b3229f-cf51-4b33-a8d2-4333b9435c2e",
    "deepnote_cell_height": 165.60000610351562,
    "deepnote_cell_type": "code",
    "deepnote_to_be_reexecuted": false,
    "executionInfo": {
     "elapsed": 40502,
     "status": "ok",
     "timestamp": 1665685797984,
     "user": {
      "displayName": "Lavis",
      "userId": "11464059397454562428"
     },
     "user_tz": 180
    },
    "execution_millis": 339660,
    "execution_start": 1663075471521,
    "id": "1TDtQ3YuPrZh",
    "source_hash": "57151775"
   },
   "outputs": [],
   "source": [
    "xgb_model = xgb.XGBClassifier(n_estimators=300,seed=42).fit(X_train,y_train.values.ravel())"
   ]
  },
  {
   "cell_type": "code",
   "execution_count": 92,
   "metadata": {
    "ExecuteTime": {
     "end_time": "2022-09-21T22:36:36.823359Z",
     "start_time": "2022-09-21T22:36:33.906183Z"
    },
    "cell_id": "00034-2cda73e1-1a7f-487b-8561-c94ba23f24d7",
    "deepnote_cell_height": 147.60000610351562,
    "deepnote_cell_type": "code",
    "deepnote_to_be_reexecuted": false,
    "executionInfo": {
     "elapsed": 2146,
     "status": "ok",
     "timestamp": 1665685800126,
     "user": {
      "displayName": "Lavis",
      "userId": "11464059397454562428"
     },
     "user_tz": 180
    },
    "execution_millis": 17732,
    "execution_start": 1663075811185,
    "id": "9nf1gU_4PrZh",
    "source_hash": "d5fa6e95"
   },
   "outputs": [],
   "source": [
    "#model prediction proba - poder de generalizção\n",
    "yhat_xgb_proba = xgb_model.predict_proba( x_val )\n",
    "\n",
    "#model prediction - poder de generalizção\n",
    "yhat_xgb_class = xgb_model.predict( x_val )"
   ]
  },
  {
   "cell_type": "code",
   "execution_count": 93,
   "metadata": {
    "ExecuteTime": {
     "end_time": "2022-09-21T22:36:37.721522Z",
     "start_time": "2022-09-21T22:36:36.827348Z"
    },
    "cell_id": "00035-4ecf6a99-50af-4a0c-bd4e-61325abf311c",
    "colab": {
     "base_uri": "https://localhost:8080/",
     "height": 568
    },
    "deepnote_cell_height": 128.39999389648438,
    "deepnote_cell_type": "code",
    "deepnote_output_heights": [
     1
    ],
    "deepnote_to_be_reexecuted": false,
    "executionInfo": {
     "elapsed": 1954,
     "status": "ok",
     "timestamp": 1665685802077,
     "user": {
      "displayName": "Lavis",
      "userId": "11464059397454562428"
     },
     "user_tz": 180
    },
    "execution_millis": 829,
    "execution_start": 1663075828920,
    "id": "x5mX68DiPrZi",
    "outputId": "88eff9aa-5e72-496f-cc6f-714f0195c9c9",
    "source_hash": "221f8686"
   },
   "outputs": [
    {
     "data": {
      "image/png": "[encoded data removed]",
      "text/plain": [
       "<Figure size 1800x864 with 2 Axes>"
      ]
     },
     "metadata": {},
     "output_type": "display_data"
    }
   ],
   "source": [
    "fig ,ax = plt.subplots(1,2)\n",
    "skplt.metrics.plot_cumulative_gain(y_val,yhat_xgb_proba,ax=ax[0]);\n",
    "skplt.metrics.plot_lift_curve(y_val,yhat_xgb_proba,ax=ax[1]);"
   ]
  },
  {
   "cell_type": "markdown",
   "metadata": {
    "cell_id": "00036-e6b2d869-4189-43cf-8f7e-6c63eee6eba7",
    "deepnote_cell_height": 81.60000610351562,
    "deepnote_cell_type": "markdown",
    "id": "xEk7-X4IPrZi"
   },
   "source": [
    "# Model performace "
   ]
  },
  {
   "cell_type": "markdown",
   "metadata": {
    "id": "y8rtDDJssWhW"
   },
   "source": [
    "Como estamos lidando com um dataset desbalanceado, temos um número de casos negativos \"response == 0\" em maior quantidade que de casos positivos \"response == 1\", logo, quando aplicamos o modelo no dataset de testes o número de falsos positivos é maior. Assim temos que ter cuidado com as metricas que estamos lidando pois podem ser influênciadas por esse desbalanceamento.\n",
    "\n",
    "Para resolver isso utilizaremos a métrica *balanced accuracy score* - que calcula a média da razão de casos verdadeiros positivos e verdadeiros negativos, assim nos dando uma melhor ideia se o modelo está dividindo bem as classes.\n",
    "\n",
    "Portanto, além das metrica de rankeamento(metrics at k) o balanced accuracy score será considerado na escolha do modelo."
   ]
  },
  {
   "cell_type": "code",
   "execution_count": 94,
   "metadata": {
    "ExecuteTime": {
     "end_time": "2022-09-21T22:36:37.752653Z",
     "start_time": "2022-09-21T22:36:37.724506Z"
    },
    "cell_id": "00037-ec461c44-3aac-4dc3-9f36-550ab0bb9f98",
    "deepnote_cell_height": 75.60000610351562,
    "deepnote_cell_type": "code",
    "deepnote_to_be_reexecuted": false,
    "executionInfo": {
     "elapsed": 21,
     "status": "ok",
     "timestamp": 1665685802078,
     "user": {
      "displayName": "Lavis",
      "userId": "11464059397454562428"
     },
     "user_tz": 180
    },
    "execution_millis": 19,
    "execution_start": 1663075829696,
    "id": "vFpHmEW1PrZi",
    "source_hash": "5100a059"
   },
   "outputs": [],
   "source": [
    "clients = 20000"
   ]
  },
  {
   "cell_type": "markdown",
   "metadata": {
    "cell_id": "00038-0f6c4694-3c8c-4bdd-bf62-e373191bfd4e",
    "deepnote_cell_height": 69.60000610351562,
    "deepnote_cell_type": "markdown",
    "id": "nc1YbWYHPrZi"
   },
   "source": [
    "## KNN"
   ]
  },
  {
   "cell_type": "code",
   "execution_count": 95,
   "metadata": {
    "ExecuteTime": {
     "end_time": "2022-09-21T22:36:37.878464Z",
     "start_time": "2022-09-21T22:36:37.757640Z"
    },
    "cell_id": "00039-5c151074-e16d-42d9-96a7-69a4ee7c2be3",
    "deepnote_cell_height": 75.60000610351562,
    "deepnote_cell_type": "code",
    "deepnote_to_be_reexecuted": false,
    "executionInfo": {
     "elapsed": 21,
     "status": "ok",
     "timestamp": 1665685802079,
     "user": {
      "displayName": "Lavis",
      "userId": "11464059397454562428"
     },
     "user_tz": 180
    },
    "execution_millis": 0,
    "execution_start": 1663075829716,
    "id": "O11xcvFhPrZi",
    "source_hash": "62e7a121"
   },
   "outputs": [],
   "source": [
    "knn_df = val.copy()"
   ]
  },
  {
   "cell_type": "code",
   "execution_count": 96,
   "metadata": {
    "ExecuteTime": {
     "end_time": "2022-09-21T22:36:38.067788Z",
     "start_time": "2022-09-21T22:36:37.884446Z"
    },
    "cell_id": "00040-7e8456a4-922d-489f-81b0-ec1da174bbac",
    "deepnote_cell_height": 111.60000610351562,
    "deepnote_cell_type": "code",
    "deepnote_to_be_reexecuted": false,
    "executionInfo": {
     "elapsed": 21,
     "status": "ok",
     "timestamp": 1665685802080,
     "user": {
      "displayName": "Lavis",
      "userId": "11464059397454562428"
     },
     "user_tz": 180
    },
    "execution_millis": 37,
    "execution_start": 1663075829721,
    "id": "fss1sRmUPrZj",
    "source_hash": "c91651cb"
   },
   "outputs": [],
   "source": [
    "knn_df['score_knn'] = yhat_knn_proba[:,1].tolist()\n",
    "# sorte by score\n",
    "knn_df = knn_df.sort_values('score_knn',ascending=False)"
   ]
  },
  {
   "cell_type": "code",
   "execution_count": 97,
   "metadata": {
    "ExecuteTime": {
     "end_time": "2022-09-21T22:36:38.208594Z",
     "start_time": "2022-09-21T22:36:38.070782Z"
    },
    "cell_id": "00041-e8751d43-0672-4296-9375-d4fd533622a1",
    "colab": {
     "base_uri": "https://localhost:8080/",
     "height": 270
    },
    "deepnote_cell_height": 266.3999938964844,
    "deepnote_cell_type": "code",
    "deepnote_output_heights": [
     175
    ],
    "deepnote_to_be_reexecuted": false,
    "executionInfo": {
     "elapsed": 22,
     "status": "ok",
     "timestamp": 1665685802081,
     "user": {
      "displayName": "Lavis",
      "userId": "11464059397454562428"
     },
     "user_tz": 180
    },
    "execution_millis": 65,
    "execution_start": 1663075829763,
    "id": "UIsH2IyHPrZj",
    "outputId": "bfada905-de49-4161-8fbe-fd127f7e0686",
    "source_hash": "241cdc53"
   },
   "outputs": [
    {
     "data": {
      "text/html": [
       "\n",
       "  <div id=\"df-1a18358d-e6b0-4c4e-a341-955206a08664\">\n",
       "    <div class=\"colab-df-container\">\n",
       "      <div>\n",
       "<style scoped>\n",
       "    .dataframe tbody tr th:only-of-type {\n",
       "        vertical-align: middle;\n",
       "    }\n",
       "\n",
       "    .dataframe tbody tr th {\n",
       "        vertical-align: top;\n",
       "    }\n",
       "\n",
       "    .dataframe thead th {\n",
       "        text-align: right;\n",
       "    }\n",
       "</style>\n",
       "<table border=\"1\" class=\"dataframe\">\n",
       "  <thead>\n",
       "    <tr style=\"text-align: right;\">\n",
       "      <th></th>\n",
       "      <th>id</th>\n",
       "      <th>gender</th>\n",
       "      <th>age</th>\n",
       "      <th>region_code</th>\n",
       "      <th>policy_sales_channel</th>\n",
       "      <th>previously_insured</th>\n",
       "      <th>annual_premium</th>\n",
       "      <th>vintage</th>\n",
       "      <th>vehicle_age</th>\n",
       "      <th>vehicle_damage</th>\n",
       "      <th>response</th>\n",
       "      <th>score_knn</th>\n",
       "    </tr>\n",
       "  </thead>\n",
       "  <tbody>\n",
       "    <tr>\n",
       "      <th>68581</th>\n",
       "      <td>296665</td>\n",
       "      <td>0</td>\n",
       "      <td>0.400000</td>\n",
       "      <td>28.0</td>\n",
       "      <td>124.0</td>\n",
       "      <td>0</td>\n",
       "      <td>-0.340085</td>\n",
       "      <td>0.799308</td>\n",
       "      <td>2</td>\n",
       "      <td>1</td>\n",
       "      <td>0</td>\n",
       "      <td>1.0</td>\n",
       "    </tr>\n",
       "    <tr>\n",
       "      <th>74326</th>\n",
       "      <td>376466</td>\n",
       "      <td>1</td>\n",
       "      <td>0.400000</td>\n",
       "      <td>28.0</td>\n",
       "      <td>26.0</td>\n",
       "      <td>0</td>\n",
       "      <td>0.912395</td>\n",
       "      <td>0.453287</td>\n",
       "      <td>2</td>\n",
       "      <td>1</td>\n",
       "      <td>0</td>\n",
       "      <td>1.0</td>\n",
       "    </tr>\n",
       "    <tr>\n",
       "      <th>77201</th>\n",
       "      <td>327271</td>\n",
       "      <td>1</td>\n",
       "      <td>0.400000</td>\n",
       "      <td>11.0</td>\n",
       "      <td>26.0</td>\n",
       "      <td>0</td>\n",
       "      <td>0.285574</td>\n",
       "      <td>0.692042</td>\n",
       "      <td>2</td>\n",
       "      <td>1</td>\n",
       "      <td>1</td>\n",
       "      <td>1.0</td>\n",
       "    </tr>\n",
       "    <tr>\n",
       "      <th>19727</th>\n",
       "      <td>34819</td>\n",
       "      <td>0</td>\n",
       "      <td>0.123077</td>\n",
       "      <td>13.0</td>\n",
       "      <td>26.0</td>\n",
       "      <td>0</td>\n",
       "      <td>-0.089275</td>\n",
       "      <td>0.148789</td>\n",
       "      <td>2</td>\n",
       "      <td>1</td>\n",
       "      <td>1</td>\n",
       "      <td>1.0</td>\n",
       "    </tr>\n",
       "    <tr>\n",
       "      <th>67879</th>\n",
       "      <td>157707</td>\n",
       "      <td>0</td>\n",
       "      <td>0.276923</td>\n",
       "      <td>12.0</td>\n",
       "      <td>26.0</td>\n",
       "      <td>0</td>\n",
       "      <td>0.138353</td>\n",
       "      <td>0.633218</td>\n",
       "      <td>2</td>\n",
       "      <td>1</td>\n",
       "      <td>1</td>\n",
       "      <td>1.0</td>\n",
       "    </tr>\n",
       "  </tbody>\n",
       "</table>\n",
       "</div>\n",
       "      <button class=\"colab-df-convert\" onclick=\"convertToInteractive('df-1a18358d-e6b0-4c4e-a341-955206a08664')\"\n",
       "              title=\"Convert this dataframe to an interactive table.\"\n",
       "              style=\"display:none;\">\n",
       "        \n",
       "  <svg xmlns=\"http://www.w3.org/2000/svg\" height=\"24px\"viewBox=\"0 0 24 24\"\n",
       "       width=\"24px\">\n",
       "    <path d=\"M0 0h24v24H0V0z\" fill=\"none\"/>\n",
       "    <path d=\"M18.56 5.44l.94 2.06.94-2.06 2.06-.94-2.06-.94-.94-2.06-.94 2.06-2.06.94zm-11 1L8.5 8.5l.94-2.06 2.06-.94-2.06-.94L8.5 2.5l-.94 2.06-2.06.94zm10 10l.94 2.06.94-2.06 2.06-.94-2.06-.94-.94-2.06-.94 2.06-2.06.94z\"/><path d=\"M17.41 7.96l-1.37-1.37c-.4-.4-.92-.59-1.43-.59-.52 0-1.04.2-1.43.59L10.3 9.45l-7.72 7.72c-.78.78-.78 2.05 0 2.83L4 21.41c.39.39.9.59 1.41.59.51 0 1.02-.2 1.41-.59l7.78-7.78 2.81-2.81c.8-.78.8-2.07 0-2.86zM5.41 20L4 18.59l7.72-7.72 1.47 1.35L5.41 20z\"/>\n",
       "  </svg>\n",
       "      </button>\n",
       "      \n",
       "  <style>\n",
       "    .colab-df-container {\n",
       "      display:flex;\n",
       "      flex-wrap:wrap;\n",
       "      gap: 12px;\n",
       "    }\n",
       "\n",
       "    .colab-df-convert {\n",
       "      background-color: #E8F0FE;\n",
       "      border: none;\n",
       "      border-radius: 50%;\n",
       "      cursor: pointer;\n",
       "      display: none;\n",
       "      fill: #1967D2;\n",
       "      height: 32px;\n",
       "      padding: 0 0 0 0;\n",
       "      width: 32px;\n",
       "    }\n",
       "\n",
       "    .colab-df-convert:hover {\n",
       "      background-color: #E2EBFA;\n",
       "      box-shadow: 0px 1px 2px rgba(60, 64, 67, 0.3), 0px 1px 3px 1px rgba(60, 64, 67, 0.15);\n",
       "      fill: #174EA6;\n",
       "    }\n",
       "\n",
       "    [theme=dark] .colab-df-convert {\n",
       "      background-color: #3B4455;\n",
       "      fill: #D2E3FC;\n",
       "    }\n",
       "\n",
       "    [theme=dark] .colab-df-convert:hover {\n",
       "      background-color: #434B5C;\n",
       "      box-shadow: 0px 1px 3px 1px rgba(0, 0, 0, 0.15);\n",
       "      filter: drop-shadow(0px 1px 2px rgba(0, 0, 0, 0.3));\n",
       "      fill: #FFFFFF;\n",
       "    }\n",
       "  </style>\n",
       "\n",
       "      <script>\n",
       "        const buttonEl =\n",
       "          document.querySelector('#df-1a18358d-e6b0-4c4e-a341-955206a08664 button.colab-df-convert');\n",
       "        buttonEl.style.display =\n",
       "          google.colab.kernel.accessAllowed ? 'block' : 'none';\n",
       "\n",
       "        async function convertToInteractive(key) {\n",
       "          const element = document.querySelector('#df-1a18358d-e6b0-4c4e-a341-955206a08664');\n",
       "          const dataTable =\n",
       "            await google.colab.kernel.invokeFunction('convertToInteractive',\n",
       "                                                     [key], {});\n",
       "          if (!dataTable) return;\n",
       "\n",
       "          const docLinkHtml = 'Like what you see? Visit the ' +\n",
       "            '<a target=\"_blank\" href=https://colab.research.google.com/notebooks/data_table.ipynb>data table notebook</a>'\n",
       "            + ' to learn more about interactive tables.';\n",
       "          element.innerHTML = '';\n",
       "          dataTable['output_type'] = 'display_data';\n",
       "          await google.colab.output.renderOutput(dataTable, element);\n",
       "          const docLink = document.createElement('div');\n",
       "          docLink.innerHTML = docLinkHtml;\n",
       "          element.appendChild(docLink);\n",
       "        }\n",
       "      </script>\n",
       "    </div>\n",
       "  </div>\n",
       "  "
      ],
      "text/plain": [
       "           id  gender       age  region_code  policy_sales_channel  \\\n",
       "68581  296665       0  0.400000         28.0                 124.0   \n",
       "74326  376466       1  0.400000         28.0                  26.0   \n",
       "77201  327271       1  0.400000         11.0                  26.0   \n",
       "19727   34819       0  0.123077         13.0                  26.0   \n",
       "67879  157707       0  0.276923         12.0                  26.0   \n",
       "\n",
       "       previously_insured  annual_premium   vintage  vehicle_age  \\\n",
       "68581                   0       -0.340085  0.799308            2   \n",
       "74326                   0        0.912395  0.453287            2   \n",
       "77201                   0        0.285574  0.692042            2   \n",
       "19727                   0       -0.089275  0.148789            2   \n",
       "67879                   0        0.138353  0.633218            2   \n",
       "\n",
       "       vehicle_damage  response  score_knn  \n",
       "68581               1         0        1.0  \n",
       "74326               1         0        1.0  \n",
       "77201               1         1        1.0  \n",
       "19727               1         1        1.0  \n",
       "67879               1         1        1.0  "
      ]
     },
     "execution_count": 97,
     "metadata": {},
     "output_type": "execute_result"
    }
   ],
   "source": [
    "knn_df.head()"
   ]
  },
  {
   "cell_type": "code",
   "execution_count": 98,
   "metadata": {
    "ExecuteTime": {
     "end_time": "2022-09-21T22:36:38.850368Z",
     "start_time": "2022-09-21T22:36:38.214577Z"
    },
    "cell_id": "00042-a4d1060d-fe1e-40e6-8483-840387e9ff97",
    "deepnote_cell_height": 75.60000610351562,
    "deepnote_cell_type": "code",
    "deepnote_to_be_reexecuted": false,
    "executionInfo": {
     "elapsed": 22,
     "status": "ok",
     "timestamp": 1665685802082,
     "user": {
      "displayName": "Lavis",
      "userId": "11464059397454562428"
     },
     "user_tz": 180
    },
    "execution_millis": 92,
    "execution_start": 1663075829826,
    "id": "mS1sx7XAPrZk",
    "source_hash": "cc0a5808"
   },
   "outputs": [],
   "source": [
    "knn_performace = performace(\"KNN\",knn_df,y_val,yhat_knn_class,clients)"
   ]
  },
  {
   "cell_type": "code",
   "execution_count": 99,
   "metadata": {
    "ExecuteTime": {
     "end_time": "2022-09-21T22:36:38.881974Z",
     "start_time": "2022-09-21T22:36:38.854085Z"
    },
    "cell_id": "00043-522682fb-0425-405c-9e4f-a84fe3f921d2",
    "colab": {
     "base_uri": "https://localhost:8080/",
     "height": 81
    },
    "deepnote_cell_height": 150.39999389648438,
    "deepnote_cell_type": "code",
    "deepnote_output_heights": [
     59
    ],
    "deepnote_to_be_reexecuted": false,
    "executionInfo": {
     "elapsed": 21,
     "status": "ok",
     "timestamp": 1665685802082,
     "user": {
      "displayName": "Lavis",
      "userId": "11464059397454562428"
     },
     "user_tz": 180
    },
    "execution_millis": 46,
    "execution_start": 1663075829921,
    "id": "2QojTCnIPrZk",
    "outputId": "e364be29-8e11-4479-cde1-fb415db4f7b4",
    "source_hash": "2a4b12ec"
   },
   "outputs": [
    {
     "data": {
      "text/html": [
       "\n",
       "  <div id=\"df-00417957-099a-4d12-a0dd-451cf2661f11\">\n",
       "    <div class=\"colab-df-container\">\n",
       "      <div>\n",
       "<style scoped>\n",
       "    .dataframe tbody tr th:only-of-type {\n",
       "        vertical-align: middle;\n",
       "    }\n",
       "\n",
       "    .dataframe tbody tr th {\n",
       "        vertical-align: top;\n",
       "    }\n",
       "\n",
       "    .dataframe thead th {\n",
       "        text-align: right;\n",
       "    }\n",
       "</style>\n",
       "<table border=\"1\" class=\"dataframe\">\n",
       "  <thead>\n",
       "    <tr style=\"text-align: right;\">\n",
       "      <th></th>\n",
       "      <th>Model Name</th>\n",
       "      <th>Precison</th>\n",
       "      <th>Recall</th>\n",
       "      <th>Balanced_acc</th>\n",
       "      <th>k</th>\n",
       "      <th>Precison at k</th>\n",
       "      <th>Recall at k</th>\n",
       "    </tr>\n",
       "  </thead>\n",
       "  <tbody>\n",
       "    <tr>\n",
       "      <th>0</th>\n",
       "      <td>KNN</td>\n",
       "      <td>0.342797</td>\n",
       "      <td>0.185415</td>\n",
       "      <td>0.567845</td>\n",
       "      <td>20000</td>\n",
       "      <td>0.313134</td>\n",
       "      <td>0.447325</td>\n",
       "    </tr>\n",
       "  </tbody>\n",
       "</table>\n",
       "</div>\n",
       "      <button class=\"colab-df-convert\" onclick=\"convertToInteractive('df-00417957-099a-4d12-a0dd-451cf2661f11')\"\n",
       "              title=\"Convert this dataframe to an interactive table.\"\n",
       "              style=\"display:none;\">\n",
       "        \n",
       "  <svg xmlns=\"http://www.w3.org/2000/svg\" height=\"24px\"viewBox=\"0 0 24 24\"\n",
       "       width=\"24px\">\n",
       "    <path d=\"M0 0h24v24H0V0z\" fill=\"none\"/>\n",
       "    <path d=\"M18.56 5.44l.94 2.06.94-2.06 2.06-.94-2.06-.94-.94-2.06-.94 2.06-2.06.94zm-11 1L8.5 8.5l.94-2.06 2.06-.94-2.06-.94L8.5 2.5l-.94 2.06-2.06.94zm10 10l.94 2.06.94-2.06 2.06-.94-2.06-.94-.94-2.06-.94 2.06-2.06.94z\"/><path d=\"M17.41 7.96l-1.37-1.37c-.4-.4-.92-.59-1.43-.59-.52 0-1.04.2-1.43.59L10.3 9.45l-7.72 7.72c-.78.78-.78 2.05 0 2.83L4 21.41c.39.39.9.59 1.41.59.51 0 1.02-.2 1.41-.59l7.78-7.78 2.81-2.81c.8-.78.8-2.07 0-2.86zM5.41 20L4 18.59l7.72-7.72 1.47 1.35L5.41 20z\"/>\n",
       "  </svg>\n",
       "      </button>\n",
       "      \n",
       "  <style>\n",
       "    .colab-df-container {\n",
       "      display:flex;\n",
       "      flex-wrap:wrap;\n",
       "      gap: 12px;\n",
       "    }\n",
       "\n",
       "    .colab-df-convert {\n",
       "      background-color: #E8F0FE;\n",
       "      border: none;\n",
       "      border-radius: 50%;\n",
       "      cursor: pointer;\n",
       "      display: none;\n",
       "      fill: #1967D2;\n",
       "      height: 32px;\n",
       "      padding: 0 0 0 0;\n",
       "      width: 32px;\n",
       "    }\n",
       "\n",
       "    .colab-df-convert:hover {\n",
       "      background-color: #E2EBFA;\n",
       "      box-shadow: 0px 1px 2px rgba(60, 64, 67, 0.3), 0px 1px 3px 1px rgba(60, 64, 67, 0.15);\n",
       "      fill: #174EA6;\n",
       "    }\n",
       "\n",
       "    [theme=dark] .colab-df-convert {\n",
       "      background-color: #3B4455;\n",
       "      fill: #D2E3FC;\n",
       "    }\n",
       "\n",
       "    [theme=dark] .colab-df-convert:hover {\n",
       "      background-color: #434B5C;\n",
       "      box-shadow: 0px 1px 3px 1px rgba(0, 0, 0, 0.15);\n",
       "      filter: drop-shadow(0px 1px 2px rgba(0, 0, 0, 0.3));\n",
       "      fill: #FFFFFF;\n",
       "    }\n",
       "  </style>\n",
       "\n",
       "      <script>\n",
       "        const buttonEl =\n",
       "          document.querySelector('#df-00417957-099a-4d12-a0dd-451cf2661f11 button.colab-df-convert');\n",
       "        buttonEl.style.display =\n",
       "          google.colab.kernel.accessAllowed ? 'block' : 'none';\n",
       "\n",
       "        async function convertToInteractive(key) {\n",
       "          const element = document.querySelector('#df-00417957-099a-4d12-a0dd-451cf2661f11');\n",
       "          const dataTable =\n",
       "            await google.colab.kernel.invokeFunction('convertToInteractive',\n",
       "                                                     [key], {});\n",
       "          if (!dataTable) return;\n",
       "\n",
       "          const docLinkHtml = 'Like what you see? Visit the ' +\n",
       "            '<a target=\"_blank\" href=https://colab.research.google.com/notebooks/data_table.ipynb>data table notebook</a>'\n",
       "            + ' to learn more about interactive tables.';\n",
       "          element.innerHTML = '';\n",
       "          dataTable['output_type'] = 'display_data';\n",
       "          await google.colab.output.renderOutput(dataTable, element);\n",
       "          const docLink = document.createElement('div');\n",
       "          docLink.innerHTML = docLinkHtml;\n",
       "          element.appendChild(docLink);\n",
       "        }\n",
       "      </script>\n",
       "    </div>\n",
       "  </div>\n",
       "  "
      ],
      "text/plain": [
       "  Model Name  Precison    Recall  Balanced_acc      k  Precison at k  \\\n",
       "0        KNN  0.342797  0.185415      0.567845  20000       0.313134   \n",
       "\n",
       "   Recall at k  \n",
       "0     0.447325  "
      ]
     },
     "execution_count": 99,
     "metadata": {},
     "output_type": "execute_result"
    }
   ],
   "source": [
    "knn_performace"
   ]
  },
  {
   "cell_type": "markdown",
   "metadata": {
    "cell_id": "00044-2f3d17c0-0789-41ee-8b61-32961a365368",
    "deepnote_cell_height": 69.60000610351562,
    "deepnote_cell_type": "markdown",
    "id": "fGnvT-xyPrZk"
   },
   "source": [
    "## Linear model"
   ]
  },
  {
   "cell_type": "code",
   "execution_count": 100,
   "metadata": {
    "ExecuteTime": {
     "end_time": "2022-09-21T22:36:38.897929Z",
     "start_time": "2022-09-21T22:36:38.885961Z"
    },
    "cell_id": "00045-39b57d7f-fcf5-40c4-9d68-d0ccd1331b48",
    "deepnote_cell_height": 75.60000610351562,
    "deepnote_cell_type": "code",
    "deepnote_to_be_reexecuted": false,
    "executionInfo": {
     "elapsed": 21,
     "status": "ok",
     "timestamp": 1665685802083,
     "user": {
      "displayName": "Lavis",
      "userId": "11464059397454562428"
     },
     "user_tz": 180
    },
    "execution_millis": 3,
    "execution_start": 1663075829945,
    "id": "GEBp5k4SPrZk",
    "source_hash": "ed4ec854"
   },
   "outputs": [],
   "source": [
    "lm_df = val.copy()"
   ]
  },
  {
   "cell_type": "code",
   "execution_count": 101,
   "metadata": {
    "ExecuteTime": {
     "end_time": "2022-09-21T22:36:39.054609Z",
     "start_time": "2022-09-21T22:36:38.902917Z"
    },
    "cell_id": "00046-c0b26255-6cd8-4bca-adda-37d36242005c",
    "deepnote_cell_height": 111.60000610351562,
    "deepnote_cell_type": "code",
    "deepnote_to_be_reexecuted": false,
    "executionInfo": {
     "elapsed": 22,
     "status": "ok",
     "timestamp": 1665685802084,
     "user": {
      "displayName": "Lavis",
      "userId": "11464059397454562428"
     },
     "user_tz": 180
    },
    "execution_millis": 234,
    "execution_start": 1663075829950,
    "id": "DObTIpEYPrZl",
    "source_hash": "15c9d82a"
   },
   "outputs": [],
   "source": [
    "lm_df['score_lm'] = yhat_lm_proba[:,1].tolist()\n",
    "# sorte by score\n",
    "lm_df = lm_df.sort_values('score_lm',ascending=False)"
   ]
  },
  {
   "cell_type": "code",
   "execution_count": 102,
   "metadata": {
    "ExecuteTime": {
     "end_time": "2022-09-21T22:36:39.162883Z",
     "start_time": "2022-09-21T22:36:39.131540Z"
    },
    "cell_id": "00047-12820bf5-37f7-4ff5-916c-96ff096c1932",
    "colab": {
     "base_uri": "https://localhost:8080/",
     "height": 270
    },
    "deepnote_cell_height": 266.3999938964844,
    "deepnote_cell_type": "code",
    "deepnote_output_heights": [
     175
    ],
    "deepnote_to_be_reexecuted": false,
    "executionInfo": {
     "elapsed": 24,
     "status": "ok",
     "timestamp": 1665685802086,
     "user": {
      "displayName": "Lavis",
      "userId": "11464059397454562428"
     },
     "user_tz": 180
    },
    "execution_millis": 38,
    "execution_start": 1663075830184,
    "id": "i40EWNfDPrZl",
    "outputId": "49a2a45a-8cba-4d70-ca3d-5ff8f319e5ec",
    "source_hash": "b43de6bd"
   },
   "outputs": [
    {
     "data": {
      "text/html": [
       "\n",
       "  <div id=\"df-a92adf8d-9bfb-449a-9c0b-9f227f14d0a9\">\n",
       "    <div class=\"colab-df-container\">\n",
       "      <div>\n",
       "<style scoped>\n",
       "    .dataframe tbody tr th:only-of-type {\n",
       "        vertical-align: middle;\n",
       "    }\n",
       "\n",
       "    .dataframe tbody tr th {\n",
       "        vertical-align: top;\n",
       "    }\n",
       "\n",
       "    .dataframe thead th {\n",
       "        text-align: right;\n",
       "    }\n",
       "</style>\n",
       "<table border=\"1\" class=\"dataframe\">\n",
       "  <thead>\n",
       "    <tr style=\"text-align: right;\">\n",
       "      <th></th>\n",
       "      <th>id</th>\n",
       "      <th>gender</th>\n",
       "      <th>age</th>\n",
       "      <th>region_code</th>\n",
       "      <th>policy_sales_channel</th>\n",
       "      <th>previously_insured</th>\n",
       "      <th>annual_premium</th>\n",
       "      <th>vintage</th>\n",
       "      <th>vehicle_age</th>\n",
       "      <th>vehicle_damage</th>\n",
       "      <th>response</th>\n",
       "      <th>score_lm</th>\n",
       "    </tr>\n",
       "  </thead>\n",
       "  <tbody>\n",
       "    <tr>\n",
       "      <th>66951</th>\n",
       "      <td>102294</td>\n",
       "      <td>0</td>\n",
       "      <td>0.353846</td>\n",
       "      <td>28.0</td>\n",
       "      <td>26.0</td>\n",
       "      <td>0</td>\n",
       "      <td>17.768409</td>\n",
       "      <td>0.660900</td>\n",
       "      <td>3</td>\n",
       "      <td>1</td>\n",
       "      <td>1</td>\n",
       "      <td>0.592967</td>\n",
       "    </tr>\n",
       "    <tr>\n",
       "      <th>99199</th>\n",
       "      <td>156585</td>\n",
       "      <td>0</td>\n",
       "      <td>0.230769</td>\n",
       "      <td>47.0</td>\n",
       "      <td>16.0</td>\n",
       "      <td>0</td>\n",
       "      <td>0.583269</td>\n",
       "      <td>0.044983</td>\n",
       "      <td>3</td>\n",
       "      <td>1</td>\n",
       "      <td>1</td>\n",
       "      <td>0.554382</td>\n",
       "    </tr>\n",
       "    <tr>\n",
       "      <th>46450</th>\n",
       "      <td>108536</td>\n",
       "      <td>0</td>\n",
       "      <td>0.276923</td>\n",
       "      <td>28.0</td>\n",
       "      <td>13.0</td>\n",
       "      <td>0</td>\n",
       "      <td>1.114053</td>\n",
       "      <td>0.031142</td>\n",
       "      <td>3</td>\n",
       "      <td>1</td>\n",
       "      <td>1</td>\n",
       "      <td>0.553835</td>\n",
       "    </tr>\n",
       "    <tr>\n",
       "      <th>54479</th>\n",
       "      <td>293798</td>\n",
       "      <td>0</td>\n",
       "      <td>0.200000</td>\n",
       "      <td>8.0</td>\n",
       "      <td>26.0</td>\n",
       "      <td>0</td>\n",
       "      <td>0.379054</td>\n",
       "      <td>0.155709</td>\n",
       "      <td>3</td>\n",
       "      <td>1</td>\n",
       "      <td>0</td>\n",
       "      <td>0.552858</td>\n",
       "    </tr>\n",
       "    <tr>\n",
       "      <th>20580</th>\n",
       "      <td>238530</td>\n",
       "      <td>0</td>\n",
       "      <td>0.246154</td>\n",
       "      <td>33.0</td>\n",
       "      <td>24.0</td>\n",
       "      <td>0</td>\n",
       "      <td>1.596036</td>\n",
       "      <td>0.089965</td>\n",
       "      <td>3</td>\n",
       "      <td>1</td>\n",
       "      <td>1</td>\n",
       "      <td>0.551695</td>\n",
       "    </tr>\n",
       "  </tbody>\n",
       "</table>\n",
       "</div>\n",
       "      <button class=\"colab-df-convert\" onclick=\"convertToInteractive('df-a92adf8d-9bfb-449a-9c0b-9f227f14d0a9')\"\n",
       "              title=\"Convert this dataframe to an interactive table.\"\n",
       "              style=\"display:none;\">\n",
       "        \n",
       "  <svg xmlns=\"http://www.w3.org/2000/svg\" height=\"24px\"viewBox=\"0 0 24 24\"\n",
       "       width=\"24px\">\n",
       "    <path d=\"M0 0h24v24H0V0z\" fill=\"none\"/>\n",
       "    <path d=\"M18.56 5.44l.94 2.06.94-2.06 2.06-.94-2.06-.94-.94-2.06-.94 2.06-2.06.94zm-11 1L8.5 8.5l.94-2.06 2.06-.94-2.06-.94L8.5 2.5l-.94 2.06-2.06.94zm10 10l.94 2.06.94-2.06 2.06-.94-2.06-.94-.94-2.06-.94 2.06-2.06.94z\"/><path d=\"M17.41 7.96l-1.37-1.37c-.4-.4-.92-.59-1.43-.59-.52 0-1.04.2-1.43.59L10.3 9.45l-7.72 7.72c-.78.78-.78 2.05 0 2.83L4 21.41c.39.39.9.59 1.41.59.51 0 1.02-.2 1.41-.59l7.78-7.78 2.81-2.81c.8-.78.8-2.07 0-2.86zM5.41 20L4 18.59l7.72-7.72 1.47 1.35L5.41 20z\"/>\n",
       "  </svg>\n",
       "      </button>\n",
       "      \n",
       "  <style>\n",
       "    .colab-df-container {\n",
       "      display:flex;\n",
       "      flex-wrap:wrap;\n",
       "      gap: 12px;\n",
       "    }\n",
       "\n",
       "    .colab-df-convert {\n",
       "      background-color: #E8F0FE;\n",
       "      border: none;\n",
       "      border-radius: 50%;\n",
       "      cursor: pointer;\n",
       "      display: none;\n",
       "      fill: #1967D2;\n",
       "      height: 32px;\n",
       "      padding: 0 0 0 0;\n",
       "      width: 32px;\n",
       "    }\n",
       "\n",
       "    .colab-df-convert:hover {\n",
       "      background-color: #E2EBFA;\n",
       "      box-shadow: 0px 1px 2px rgba(60, 64, 67, 0.3), 0px 1px 3px 1px rgba(60, 64, 67, 0.15);\n",
       "      fill: #174EA6;\n",
       "    }\n",
       "\n",
       "    [theme=dark] .colab-df-convert {\n",
       "      background-color: #3B4455;\n",
       "      fill: #D2E3FC;\n",
       "    }\n",
       "\n",
       "    [theme=dark] .colab-df-convert:hover {\n",
       "      background-color: #434B5C;\n",
       "      box-shadow: 0px 1px 3px 1px rgba(0, 0, 0, 0.15);\n",
       "      filter: drop-shadow(0px 1px 2px rgba(0, 0, 0, 0.3));\n",
       "      fill: #FFFFFF;\n",
       "    }\n",
       "  </style>\n",
       "\n",
       "      <script>\n",
       "        const buttonEl =\n",
       "          document.querySelector('#df-a92adf8d-9bfb-449a-9c0b-9f227f14d0a9 button.colab-df-convert');\n",
       "        buttonEl.style.display =\n",
       "          google.colab.kernel.accessAllowed ? 'block' : 'none';\n",
       "\n",
       "        async function convertToInteractive(key) {\n",
       "          const element = document.querySelector('#df-a92adf8d-9bfb-449a-9c0b-9f227f14d0a9');\n",
       "          const dataTable =\n",
       "            await google.colab.kernel.invokeFunction('convertToInteractive',\n",
       "                                                     [key], {});\n",
       "          if (!dataTable) return;\n",
       "\n",
       "          const docLinkHtml = 'Like what you see? Visit the ' +\n",
       "            '<a target=\"_blank\" href=https://colab.research.google.com/notebooks/data_table.ipynb>data table notebook</a>'\n",
       "            + ' to learn more about interactive tables.';\n",
       "          element.innerHTML = '';\n",
       "          dataTable['output_type'] = 'display_data';\n",
       "          await google.colab.output.renderOutput(dataTable, element);\n",
       "          const docLink = document.createElement('div');\n",
       "          docLink.innerHTML = docLinkHtml;\n",
       "          element.appendChild(docLink);\n",
       "        }\n",
       "      </script>\n",
       "    </div>\n",
       "  </div>\n",
       "  "
      ],
      "text/plain": [
       "           id  gender       age  region_code  policy_sales_channel  \\\n",
       "66951  102294       0  0.353846         28.0                  26.0   \n",
       "99199  156585       0  0.230769         47.0                  16.0   \n",
       "46450  108536       0  0.276923         28.0                  13.0   \n",
       "54479  293798       0  0.200000          8.0                  26.0   \n",
       "20580  238530       0  0.246154         33.0                  24.0   \n",
       "\n",
       "       previously_insured  annual_premium   vintage  vehicle_age  \\\n",
       "66951                   0       17.768409  0.660900            3   \n",
       "99199                   0        0.583269  0.044983            3   \n",
       "46450                   0        1.114053  0.031142            3   \n",
       "54479                   0        0.379054  0.155709            3   \n",
       "20580                   0        1.596036  0.089965            3   \n",
       "\n",
       "       vehicle_damage  response  score_lm  \n",
       "66951               1         1  0.592967  \n",
       "99199               1         1  0.554382  \n",
       "46450               1         1  0.553835  \n",
       "54479               1         0  0.552858  \n",
       "20580               1         1  0.551695  "
      ]
     },
     "execution_count": 102,
     "metadata": {},
     "output_type": "execute_result"
    }
   ],
   "source": [
    "lm_df.head()"
   ]
  },
  {
   "cell_type": "code",
   "execution_count": 103,
   "metadata": {
    "ExecuteTime": {
     "end_time": "2022-09-21T22:36:39.336456Z",
     "start_time": "2022-09-21T22:36:39.167869Z"
    },
    "cell_id": "00048-3d7d9cfb-03f2-495f-832d-e177a6440a73",
    "deepnote_cell_height": 75.60000610351562,
    "deepnote_cell_type": "code",
    "deepnote_to_be_reexecuted": false,
    "executionInfo": {
     "elapsed": 497,
     "status": "ok",
     "timestamp": 1665685802561,
     "user": {
      "displayName": "Lavis",
      "userId": "11464059397454562428"
     },
     "user_tz": 180
    },
    "execution_millis": 0,
    "execution_start": 1663075830185,
    "id": "kn7Kb1YRPrZm",
    "source_hash": "ff62ee21"
   },
   "outputs": [],
   "source": [
    "lm_performace = performace(\"linear model\",lm_df,y_val,yhat_lm_class,clients)"
   ]
  },
  {
   "cell_type": "code",
   "execution_count": 104,
   "metadata": {
    "ExecuteTime": {
     "end_time": "2022-09-21T22:36:39.367375Z",
     "start_time": "2022-09-21T22:36:39.343440Z"
    },
    "cell_id": "00049-08cc8e3d-0ea6-406e-985f-9e0b1ad313bd",
    "colab": {
     "base_uri": "https://localhost:8080/",
     "height": 81
    },
    "deepnote_cell_height": 150.39999389648438,
    "deepnote_cell_type": "code",
    "deepnote_output_heights": [
     59
    ],
    "deepnote_to_be_reexecuted": false,
    "executionInfo": {
     "elapsed": 36,
     "status": "ok",
     "timestamp": 1665685802562,
     "user": {
      "displayName": "Lavis",
      "userId": "11464059397454562428"
     },
     "user_tz": 180
    },
    "execution_millis": 39,
    "execution_start": 1663075830185,
    "id": "KhXk2wyAPrZm",
    "outputId": "4a33d7fd-9cd2-4096-c1d8-384d3ef8a306",
    "scrolled": true,
    "source_hash": "6f0100eb"
   },
   "outputs": [
    {
     "data": {
      "text/html": [
       "\n",
       "  <div id=\"df-1d60a8c8-2113-4d23-a1bb-af425e66afd2\">\n",
       "    <div class=\"colab-df-container\">\n",
       "      <div>\n",
       "<style scoped>\n",
       "    .dataframe tbody tr th:only-of-type {\n",
       "        vertical-align: middle;\n",
       "    }\n",
       "\n",
       "    .dataframe tbody tr th {\n",
       "        vertical-align: top;\n",
       "    }\n",
       "\n",
       "    .dataframe thead th {\n",
       "        text-align: right;\n",
       "    }\n",
       "</style>\n",
       "<table border=\"1\" class=\"dataframe\">\n",
       "  <thead>\n",
       "    <tr style=\"text-align: right;\">\n",
       "      <th></th>\n",
       "      <th>Model Name</th>\n",
       "      <th>Precison</th>\n",
       "      <th>Recall</th>\n",
       "      <th>Balanced_acc</th>\n",
       "      <th>k</th>\n",
       "      <th>Precison at k</th>\n",
       "      <th>Recall at k</th>\n",
       "    </tr>\n",
       "  </thead>\n",
       "  <tbody>\n",
       "    <tr>\n",
       "      <th>0</th>\n",
       "      <td>linear model</td>\n",
       "      <td>0.483607</td>\n",
       "      <td>0.004214</td>\n",
       "      <td>0.501792</td>\n",
       "      <td>20000</td>\n",
       "      <td>0.317084</td>\n",
       "      <td>0.452968</td>\n",
       "    </tr>\n",
       "  </tbody>\n",
       "</table>\n",
       "</div>\n",
       "      <button class=\"colab-df-convert\" onclick=\"convertToInteractive('df-1d60a8c8-2113-4d23-a1bb-af425e66afd2')\"\n",
       "              title=\"Convert this dataframe to an interactive table.\"\n",
       "              style=\"display:none;\">\n",
       "        \n",
       "  <svg xmlns=\"http://www.w3.org/2000/svg\" height=\"24px\"viewBox=\"0 0 24 24\"\n",
       "       width=\"24px\">\n",
       "    <path d=\"M0 0h24v24H0V0z\" fill=\"none\"/>\n",
       "    <path d=\"M18.56 5.44l.94 2.06.94-2.06 2.06-.94-2.06-.94-.94-2.06-.94 2.06-2.06.94zm-11 1L8.5 8.5l.94-2.06 2.06-.94-2.06-.94L8.5 2.5l-.94 2.06-2.06.94zm10 10l.94 2.06.94-2.06 2.06-.94-2.06-.94-.94-2.06-.94 2.06-2.06.94z\"/><path d=\"M17.41 7.96l-1.37-1.37c-.4-.4-.92-.59-1.43-.59-.52 0-1.04.2-1.43.59L10.3 9.45l-7.72 7.72c-.78.78-.78 2.05 0 2.83L4 21.41c.39.39.9.59 1.41.59.51 0 1.02-.2 1.41-.59l7.78-7.78 2.81-2.81c.8-.78.8-2.07 0-2.86zM5.41 20L4 18.59l7.72-7.72 1.47 1.35L5.41 20z\"/>\n",
       "  </svg>\n",
       "      </button>\n",
       "      \n",
       "  <style>\n",
       "    .colab-df-container {\n",
       "      display:flex;\n",
       "      flex-wrap:wrap;\n",
       "      gap: 12px;\n",
       "    }\n",
       "\n",
       "    .colab-df-convert {\n",
       "      background-color: #E8F0FE;\n",
       "      border: none;\n",
       "      border-radius: 50%;\n",
       "      cursor: pointer;\n",
       "      display: none;\n",
       "      fill: #1967D2;\n",
       "      height: 32px;\n",
       "      padding: 0 0 0 0;\n",
       "      width: 32px;\n",
       "    }\n",
       "\n",
       "    .colab-df-convert:hover {\n",
       "      background-color: #E2EBFA;\n",
       "      box-shadow: 0px 1px 2px rgba(60, 64, 67, 0.3), 0px 1px 3px 1px rgba(60, 64, 67, 0.15);\n",
       "      fill: #174EA6;\n",
       "    }\n",
       "\n",
       "    [theme=dark] .colab-df-convert {\n",
       "      background-color: #3B4455;\n",
       "      fill: #D2E3FC;\n",
       "    }\n",
       "\n",
       "    [theme=dark] .colab-df-convert:hover {\n",
       "      background-color: #434B5C;\n",
       "      box-shadow: 0px 1px 3px 1px rgba(0, 0, 0, 0.15);\n",
       "      filter: drop-shadow(0px 1px 2px rgba(0, 0, 0, 0.3));\n",
       "      fill: #FFFFFF;\n",
       "    }\n",
       "  </style>\n",
       "\n",
       "      <script>\n",
       "        const buttonEl =\n",
       "          document.querySelector('#df-1d60a8c8-2113-4d23-a1bb-af425e66afd2 button.colab-df-convert');\n",
       "        buttonEl.style.display =\n",
       "          google.colab.kernel.accessAllowed ? 'block' : 'none';\n",
       "\n",
       "        async function convertToInteractive(key) {\n",
       "          const element = document.querySelector('#df-1d60a8c8-2113-4d23-a1bb-af425e66afd2');\n",
       "          const dataTable =\n",
       "            await google.colab.kernel.invokeFunction('convertToInteractive',\n",
       "                                                     [key], {});\n",
       "          if (!dataTable) return;\n",
       "\n",
       "          const docLinkHtml = 'Like what you see? Visit the ' +\n",
       "            '<a target=\"_blank\" href=https://colab.research.google.com/notebooks/data_table.ipynb>data table notebook</a>'\n",
       "            + ' to learn more about interactive tables.';\n",
       "          element.innerHTML = '';\n",
       "          dataTable['output_type'] = 'display_data';\n",
       "          await google.colab.output.renderOutput(dataTable, element);\n",
       "          const docLink = document.createElement('div');\n",
       "          docLink.innerHTML = docLinkHtml;\n",
       "          element.appendChild(docLink);\n",
       "        }\n",
       "      </script>\n",
       "    </div>\n",
       "  </div>\n",
       "  "
      ],
      "text/plain": [
       "     Model Name  Precison    Recall  Balanced_acc      k  Precison at k  \\\n",
       "0  linear model  0.483607  0.004214      0.501792  20000       0.317084   \n",
       "\n",
       "   Recall at k  \n",
       "0     0.452968  "
      ]
     },
     "execution_count": 104,
     "metadata": {},
     "output_type": "execute_result"
    }
   ],
   "source": [
    "lm_performace"
   ]
  },
  {
   "cell_type": "markdown",
   "metadata": {
    "cell_id": "00050-e6b0f135-4fa7-4b06-a9fa-c2951bd5e88a",
    "deepnote_cell_height": 69.60000610351562,
    "deepnote_cell_type": "markdown",
    "id": "UbP8Pg1NPrZm"
   },
   "source": [
    "## Randon forrest"
   ]
  },
  {
   "cell_type": "code",
   "execution_count": 105,
   "metadata": {
    "ExecuteTime": {
     "end_time": "2022-09-21T22:36:39.398293Z",
     "start_time": "2022-09-21T22:36:39.371364Z"
    },
    "cell_id": "00051-69a2972c-6073-4c73-9495-c75f08b585c8",
    "deepnote_cell_height": 75.60000610351562,
    "deepnote_cell_type": "code",
    "deepnote_to_be_reexecuted": false,
    "executionInfo": {
     "elapsed": 35,
     "status": "ok",
     "timestamp": 1665685802563,
     "user": {
      "displayName": "Lavis",
      "userId": "11464059397454562428"
     },
     "user_tz": 180
    },
    "execution_millis": 0,
    "execution_start": 1663075830194,
    "id": "120zX-pkPrZn",
    "source_hash": "a252b339"
   },
   "outputs": [],
   "source": [
    "rf_df = val.copy()"
   ]
  },
  {
   "cell_type": "code",
   "execution_count": 106,
   "metadata": {
    "ExecuteTime": {
     "end_time": "2022-09-21T22:36:39.492944Z",
     "start_time": "2022-09-21T22:36:39.401284Z"
    },
    "cell_id": "00052-9a1a2149-e455-4660-94b7-ada3a784b077",
    "deepnote_cell_height": 111.60000610351562,
    "deepnote_cell_type": "code",
    "deepnote_to_be_reexecuted": false,
    "executionInfo": {
     "elapsed": 36,
     "status": "ok",
     "timestamp": 1665685802564,
     "user": {
      "displayName": "Lavis",
      "userId": "11464059397454562428"
     },
     "user_tz": 180
    },
    "execution_millis": 84,
    "execution_start": 1663075830194,
    "id": "kC3_Kvo8PrZn",
    "source_hash": "e6544e31"
   },
   "outputs": [],
   "source": [
    "rf_df['score_rf'] = yhat_rf_proba[:,1].tolist()\n",
    "# sorte by score\n",
    "rf_df = rf_df.sort_values('score_rf',ascending=False)"
   ]
  },
  {
   "cell_type": "code",
   "execution_count": 107,
   "metadata": {
    "ExecuteTime": {
     "end_time": "2022-09-21T22:36:39.524345Z",
     "start_time": "2022-09-21T22:36:39.497931Z"
    },
    "cell_id": "00053-ae3f04e1-419b-417a-ad20-8d95a50b4d38",
    "colab": {
     "base_uri": "https://localhost:8080/",
     "height": 270
    },
    "deepnote_cell_height": 266.3999938964844,
    "deepnote_cell_type": "code",
    "deepnote_output_heights": [
     175
    ],
    "deepnote_to_be_reexecuted": false,
    "executionInfo": {
     "elapsed": 36,
     "status": "ok",
     "timestamp": 1665685802565,
     "user": {
      "displayName": "Lavis",
      "userId": "11464059397454562428"
     },
     "user_tz": 180
    },
    "execution_millis": 16,
    "execution_start": 1663075830278,
    "id": "N39u_M4YPrZo",
    "outputId": "e02d90a8-babc-4a8d-f038-667a7d0fb469",
    "scrolled": true,
    "source_hash": "46481eba"
   },
   "outputs": [
    {
     "data": {
      "text/html": [
       "\n",
       "  <div id=\"df-249f9569-4b82-4e58-ac65-7f14cb5d031f\">\n",
       "    <div class=\"colab-df-container\">\n",
       "      <div>\n",
       "<style scoped>\n",
       "    .dataframe tbody tr th:only-of-type {\n",
       "        vertical-align: middle;\n",
       "    }\n",
       "\n",
       "    .dataframe tbody tr th {\n",
       "        vertical-align: top;\n",
       "    }\n",
       "\n",
       "    .dataframe thead th {\n",
       "        text-align: right;\n",
       "    }\n",
       "</style>\n",
       "<table border=\"1\" class=\"dataframe\">\n",
       "  <thead>\n",
       "    <tr style=\"text-align: right;\">\n",
       "      <th></th>\n",
       "      <th>id</th>\n",
       "      <th>gender</th>\n",
       "      <th>age</th>\n",
       "      <th>region_code</th>\n",
       "      <th>policy_sales_channel</th>\n",
       "      <th>previously_insured</th>\n",
       "      <th>annual_premium</th>\n",
       "      <th>vintage</th>\n",
       "      <th>vehicle_age</th>\n",
       "      <th>vehicle_damage</th>\n",
       "      <th>response</th>\n",
       "      <th>score_rf</th>\n",
       "    </tr>\n",
       "  </thead>\n",
       "  <tbody>\n",
       "    <tr>\n",
       "      <th>9056</th>\n",
       "      <td>357538</td>\n",
       "      <td>1</td>\n",
       "      <td>0.338462</td>\n",
       "      <td>28.0</td>\n",
       "      <td>26.0</td>\n",
       "      <td>0</td>\n",
       "      <td>-1.622718</td>\n",
       "      <td>0.484429</td>\n",
       "      <td>2</td>\n",
       "      <td>1</td>\n",
       "      <td>1</td>\n",
       "      <td>0.956667</td>\n",
       "    </tr>\n",
       "    <tr>\n",
       "      <th>93911</th>\n",
       "      <td>31957</td>\n",
       "      <td>0</td>\n",
       "      <td>0.323077</td>\n",
       "      <td>28.0</td>\n",
       "      <td>26.0</td>\n",
       "      <td>0</td>\n",
       "      <td>-1.622718</td>\n",
       "      <td>0.335640</td>\n",
       "      <td>2</td>\n",
       "      <td>1</td>\n",
       "      <td>1</td>\n",
       "      <td>0.946667</td>\n",
       "    </tr>\n",
       "    <tr>\n",
       "      <th>56668</th>\n",
       "      <td>227566</td>\n",
       "      <td>0</td>\n",
       "      <td>0.384615</td>\n",
       "      <td>28.0</td>\n",
       "      <td>26.0</td>\n",
       "      <td>0</td>\n",
       "      <td>2.234592</td>\n",
       "      <td>0.688581</td>\n",
       "      <td>3</td>\n",
       "      <td>1</td>\n",
       "      <td>0</td>\n",
       "      <td>0.906667</td>\n",
       "    </tr>\n",
       "    <tr>\n",
       "      <th>23484</th>\n",
       "      <td>88517</td>\n",
       "      <td>0</td>\n",
       "      <td>0.492308</td>\n",
       "      <td>28.0</td>\n",
       "      <td>26.0</td>\n",
       "      <td>0</td>\n",
       "      <td>1.775268</td>\n",
       "      <td>0.750865</td>\n",
       "      <td>3</td>\n",
       "      <td>1</td>\n",
       "      <td>0</td>\n",
       "      <td>0.896667</td>\n",
       "    </tr>\n",
       "    <tr>\n",
       "      <th>64942</th>\n",
       "      <td>263086</td>\n",
       "      <td>1</td>\n",
       "      <td>0.446154</td>\n",
       "      <td>28.0</td>\n",
       "      <td>26.0</td>\n",
       "      <td>0</td>\n",
       "      <td>1.057117</td>\n",
       "      <td>0.214533</td>\n",
       "      <td>2</td>\n",
       "      <td>1</td>\n",
       "      <td>1</td>\n",
       "      <td>0.890000</td>\n",
       "    </tr>\n",
       "  </tbody>\n",
       "</table>\n",
       "</div>\n",
       "      <button class=\"colab-df-convert\" onclick=\"convertToInteractive('df-249f9569-4b82-4e58-ac65-7f14cb5d031f')\"\n",
       "              title=\"Convert this dataframe to an interactive table.\"\n",
       "              style=\"display:none;\">\n",
       "        \n",
       "  <svg xmlns=\"http://www.w3.org/2000/svg\" height=\"24px\"viewBox=\"0 0 24 24\"\n",
       "       width=\"24px\">\n",
       "    <path d=\"M0 0h24v24H0V0z\" fill=\"none\"/>\n",
       "    <path d=\"M18.56 5.44l.94 2.06.94-2.06 2.06-.94-2.06-.94-.94-2.06-.94 2.06-2.06.94zm-11 1L8.5 8.5l.94-2.06 2.06-.94-2.06-.94L8.5 2.5l-.94 2.06-2.06.94zm10 10l.94 2.06.94-2.06 2.06-.94-2.06-.94-.94-2.06-.94 2.06-2.06.94z\"/><path d=\"M17.41 7.96l-1.37-1.37c-.4-.4-.92-.59-1.43-.59-.52 0-1.04.2-1.43.59L10.3 9.45l-7.72 7.72c-.78.78-.78 2.05 0 2.83L4 21.41c.39.39.9.59 1.41.59.51 0 1.02-.2 1.41-.59l7.78-7.78 2.81-2.81c.8-.78.8-2.07 0-2.86zM5.41 20L4 18.59l7.72-7.72 1.47 1.35L5.41 20z\"/>\n",
       "  </svg>\n",
       "      </button>\n",
       "      \n",
       "  <style>\n",
       "    .colab-df-container {\n",
       "      display:flex;\n",
       "      flex-wrap:wrap;\n",
       "      gap: 12px;\n",
       "    }\n",
       "\n",
       "    .colab-df-convert {\n",
       "      background-color: #E8F0FE;\n",
       "      border: none;\n",
       "      border-radius: 50%;\n",
       "      cursor: pointer;\n",
       "      display: none;\n",
       "      fill: #1967D2;\n",
       "      height: 32px;\n",
       "      padding: 0 0 0 0;\n",
       "      width: 32px;\n",
       "    }\n",
       "\n",
       "    .colab-df-convert:hover {\n",
       "      background-color: #E2EBFA;\n",
       "      box-shadow: 0px 1px 2px rgba(60, 64, 67, 0.3), 0px 1px 3px 1px rgba(60, 64, 67, 0.15);\n",
       "      fill: #174EA6;\n",
       "    }\n",
       "\n",
       "    [theme=dark] .colab-df-convert {\n",
       "      background-color: #3B4455;\n",
       "      fill: #D2E3FC;\n",
       "    }\n",
       "\n",
       "    [theme=dark] .colab-df-convert:hover {\n",
       "      background-color: #434B5C;\n",
       "      box-shadow: 0px 1px 3px 1px rgba(0, 0, 0, 0.15);\n",
       "      filter: drop-shadow(0px 1px 2px rgba(0, 0, 0, 0.3));\n",
       "      fill: #FFFFFF;\n",
       "    }\n",
       "  </style>\n",
       "\n",
       "      <script>\n",
       "        const buttonEl =\n",
       "          document.querySelector('#df-249f9569-4b82-4e58-ac65-7f14cb5d031f button.colab-df-convert');\n",
       "        buttonEl.style.display =\n",
       "          google.colab.kernel.accessAllowed ? 'block' : 'none';\n",
       "\n",
       "        async function convertToInteractive(key) {\n",
       "          const element = document.querySelector('#df-249f9569-4b82-4e58-ac65-7f14cb5d031f');\n",
       "          const dataTable =\n",
       "            await google.colab.kernel.invokeFunction('convertToInteractive',\n",
       "                                                     [key], {});\n",
       "          if (!dataTable) return;\n",
       "\n",
       "          const docLinkHtml = 'Like what you see? Visit the ' +\n",
       "            '<a target=\"_blank\" href=https://colab.research.google.com/notebooks/data_table.ipynb>data table notebook</a>'\n",
       "            + ' to learn more about interactive tables.';\n",
       "          element.innerHTML = '';\n",
       "          dataTable['output_type'] = 'display_data';\n",
       "          await google.colab.output.renderOutput(dataTable, element);\n",
       "          const docLink = document.createElement('div');\n",
       "          docLink.innerHTML = docLinkHtml;\n",
       "          element.appendChild(docLink);\n",
       "        }\n",
       "      </script>\n",
       "    </div>\n",
       "  </div>\n",
       "  "
      ],
      "text/plain": [
       "           id  gender       age  region_code  policy_sales_channel  \\\n",
       "9056   357538       1  0.338462         28.0                  26.0   \n",
       "93911   31957       0  0.323077         28.0                  26.0   \n",
       "56668  227566       0  0.384615         28.0                  26.0   \n",
       "23484   88517       0  0.492308         28.0                  26.0   \n",
       "64942  263086       1  0.446154         28.0                  26.0   \n",
       "\n",
       "       previously_insured  annual_premium   vintage  vehicle_age  \\\n",
       "9056                    0       -1.622718  0.484429            2   \n",
       "93911                   0       -1.622718  0.335640            2   \n",
       "56668                   0        2.234592  0.688581            3   \n",
       "23484                   0        1.775268  0.750865            3   \n",
       "64942                   0        1.057117  0.214533            2   \n",
       "\n",
       "       vehicle_damage  response  score_rf  \n",
       "9056                1         1  0.956667  \n",
       "93911               1         1  0.946667  \n",
       "56668               1         0  0.906667  \n",
       "23484               1         0  0.896667  \n",
       "64942               1         1  0.890000  "
      ]
     },
     "execution_count": 107,
     "metadata": {},
     "output_type": "execute_result"
    }
   ],
   "source": [
    "rf_df.head()"
   ]
  },
  {
   "cell_type": "code",
   "execution_count": 108,
   "metadata": {
    "ExecuteTime": {
     "end_time": "2022-09-21T22:36:39.667961Z",
     "start_time": "2022-09-21T22:36:39.527338Z"
    },
    "cell_id": "00054-34328c7b-ef48-4413-a617-e954eb8af022",
    "deepnote_cell_height": 75.60000610351562,
    "deepnote_cell_type": "code",
    "deepnote_to_be_reexecuted": false,
    "executionInfo": {
     "elapsed": 34,
     "status": "ok",
     "timestamp": 1665685802565,
     "user": {
      "displayName": "Lavis",
      "userId": "11464059397454562428"
     },
     "user_tz": 180
    },
    "execution_millis": 92,
    "execution_start": 1663075830287,
    "id": "3vHUkwYaPrZo",
    "source_hash": "ea237d99"
   },
   "outputs": [],
   "source": [
    "rf_performace = performace(\"Random forest\",rf_df,y_val,yhat_rf_class,clients)"
   ]
  },
  {
   "cell_type": "code",
   "execution_count": 109,
   "metadata": {
    "ExecuteTime": {
     "end_time": "2022-09-21T22:36:39.699876Z",
     "start_time": "2022-09-21T22:36:39.672948Z"
    },
    "cell_id": "00055-9db3f910-6e56-4d5c-b448-f000a9b00e36",
    "colab": {
     "base_uri": "https://localhost:8080/",
     "height": 81
    },
    "deepnote_cell_height": 150.39999389648438,
    "deepnote_cell_type": "code",
    "deepnote_output_heights": [
     59
    ],
    "deepnote_to_be_reexecuted": false,
    "executionInfo": {
     "elapsed": 35,
     "status": "ok",
     "timestamp": 1665685802567,
     "user": {
      "displayName": "Lavis",
      "userId": "11464059397454562428"
     },
     "user_tz": 180
    },
    "execution_millis": 4,
    "execution_start": 1663075830418,
    "id": "nG1qRA3OPrZo",
    "outputId": "95694153-b8c6-4a97-8fe7-9852098d4adc",
    "source_hash": "ed170d2f"
   },
   "outputs": [
    {
     "data": {
      "text/html": [
       "\n",
       "  <div id=\"df-cf3f2623-ba4e-42cd-a916-0433bb96ee20\">\n",
       "    <div class=\"colab-df-container\">\n",
       "      <div>\n",
       "<style scoped>\n",
       "    .dataframe tbody tr th:only-of-type {\n",
       "        vertical-align: middle;\n",
       "    }\n",
       "\n",
       "    .dataframe tbody tr th {\n",
       "        vertical-align: top;\n",
       "    }\n",
       "\n",
       "    .dataframe thead th {\n",
       "        text-align: right;\n",
       "    }\n",
       "</style>\n",
       "<table border=\"1\" class=\"dataframe\">\n",
       "  <thead>\n",
       "    <tr style=\"text-align: right;\">\n",
       "      <th></th>\n",
       "      <th>Model Name</th>\n",
       "      <th>Precison</th>\n",
       "      <th>Recall</th>\n",
       "      <th>Balanced_acc</th>\n",
       "      <th>k</th>\n",
       "      <th>Precison at k</th>\n",
       "      <th>Recall at k</th>\n",
       "    </tr>\n",
       "  </thead>\n",
       "  <tbody>\n",
       "    <tr>\n",
       "      <th>0</th>\n",
       "      <td>Random forest</td>\n",
       "      <td>0.37645</td>\n",
       "      <td>0.120563</td>\n",
       "      <td>0.546314</td>\n",
       "      <td>20000</td>\n",
       "      <td>0.333683</td>\n",
       "      <td>0.47668</td>\n",
       "    </tr>\n",
       "  </tbody>\n",
       "</table>\n",
       "</div>\n",
       "      <button class=\"colab-df-convert\" onclick=\"convertToInteractive('df-cf3f2623-ba4e-42cd-a916-0433bb96ee20')\"\n",
       "              title=\"Convert this dataframe to an interactive table.\"\n",
       "              style=\"display:none;\">\n",
       "        \n",
       "  <svg xmlns=\"http://www.w3.org/2000/svg\" height=\"24px\"viewBox=\"0 0 24 24\"\n",
       "       width=\"24px\">\n",
       "    <path d=\"M0 0h24v24H0V0z\" fill=\"none\"/>\n",
       "    <path d=\"M18.56 5.44l.94 2.06.94-2.06 2.06-.94-2.06-.94-.94-2.06-.94 2.06-2.06.94zm-11 1L8.5 8.5l.94-2.06 2.06-.94-2.06-.94L8.5 2.5l-.94 2.06-2.06.94zm10 10l.94 2.06.94-2.06 2.06-.94-2.06-.94-.94-2.06-.94 2.06-2.06.94z\"/><path d=\"M17.41 7.96l-1.37-1.37c-.4-.4-.92-.59-1.43-.59-.52 0-1.04.2-1.43.59L10.3 9.45l-7.72 7.72c-.78.78-.78 2.05 0 2.83L4 21.41c.39.39.9.59 1.41.59.51 0 1.02-.2 1.41-.59l7.78-7.78 2.81-2.81c.8-.78.8-2.07 0-2.86zM5.41 20L4 18.59l7.72-7.72 1.47 1.35L5.41 20z\"/>\n",
       "  </svg>\n",
       "      </button>\n",
       "      \n",
       "  <style>\n",
       "    .colab-df-container {\n",
       "      display:flex;\n",
       "      flex-wrap:wrap;\n",
       "      gap: 12px;\n",
       "    }\n",
       "\n",
       "    .colab-df-convert {\n",
       "      background-color: #E8F0FE;\n",
       "      border: none;\n",
       "      border-radius: 50%;\n",
       "      cursor: pointer;\n",
       "      display: none;\n",
       "      fill: #1967D2;\n",
       "      height: 32px;\n",
       "      padding: 0 0 0 0;\n",
       "      width: 32px;\n",
       "    }\n",
       "\n",
       "    .colab-df-convert:hover {\n",
       "      background-color: #E2EBFA;\n",
       "      box-shadow: 0px 1px 2px rgba(60, 64, 67, 0.3), 0px 1px 3px 1px rgba(60, 64, 67, 0.15);\n",
       "      fill: #174EA6;\n",
       "    }\n",
       "\n",
       "    [theme=dark] .colab-df-convert {\n",
       "      background-color: #3B4455;\n",
       "      fill: #D2E3FC;\n",
       "    }\n",
       "\n",
       "    [theme=dark] .colab-df-convert:hover {\n",
       "      background-color: #434B5C;\n",
       "      box-shadow: 0px 1px 3px 1px rgba(0, 0, 0, 0.15);\n",
       "      filter: drop-shadow(0px 1px 2px rgba(0, 0, 0, 0.3));\n",
       "      fill: #FFFFFF;\n",
       "    }\n",
       "  </style>\n",
       "\n",
       "      <script>\n",
       "        const buttonEl =\n",
       "          document.querySelector('#df-cf3f2623-ba4e-42cd-a916-0433bb96ee20 button.colab-df-convert');\n",
       "        buttonEl.style.display =\n",
       "          google.colab.kernel.accessAllowed ? 'block' : 'none';\n",
       "\n",
       "        async function convertToInteractive(key) {\n",
       "          const element = document.querySelector('#df-cf3f2623-ba4e-42cd-a916-0433bb96ee20');\n",
       "          const dataTable =\n",
       "            await google.colab.kernel.invokeFunction('convertToInteractive',\n",
       "                                                     [key], {});\n",
       "          if (!dataTable) return;\n",
       "\n",
       "          const docLinkHtml = 'Like what you see? Visit the ' +\n",
       "            '<a target=\"_blank\" href=https://colab.research.google.com/notebooks/data_table.ipynb>data table notebook</a>'\n",
       "            + ' to learn more about interactive tables.';\n",
       "          element.innerHTML = '';\n",
       "          dataTable['output_type'] = 'display_data';\n",
       "          await google.colab.output.renderOutput(dataTable, element);\n",
       "          const docLink = document.createElement('div');\n",
       "          docLink.innerHTML = docLinkHtml;\n",
       "          element.appendChild(docLink);\n",
       "        }\n",
       "      </script>\n",
       "    </div>\n",
       "  </div>\n",
       "  "
      ],
      "text/plain": [
       "      Model Name  Precison    Recall  Balanced_acc      k  Precison at k  \\\n",
       "0  Random forest   0.37645  0.120563      0.546314  20000       0.333683   \n",
       "\n",
       "   Recall at k  \n",
       "0      0.47668  "
      ]
     },
     "execution_count": 109,
     "metadata": {},
     "output_type": "execute_result"
    }
   ],
   "source": [
    "rf_performace"
   ]
  },
  {
   "cell_type": "markdown",
   "metadata": {
    "cell_id": "00056-d6b22faf-9ace-4332-82b7-25c9eef166ed",
    "deepnote_cell_height": 69.60000610351562,
    "deepnote_cell_type": "markdown",
    "id": "ugXp8cM9PrZp"
   },
   "source": [
    "## Extra trees"
   ]
  },
  {
   "cell_type": "code",
   "execution_count": 110,
   "metadata": {
    "ExecuteTime": {
     "end_time": "2022-09-21T22:36:39.715834Z",
     "start_time": "2022-09-21T22:36:39.702868Z"
    },
    "cell_id": "00057-ab10e8ec-87df-4a0b-8d17-092ff9bd7d9c",
    "deepnote_cell_height": 75.60000610351562,
    "deepnote_cell_type": "code",
    "deepnote_to_be_reexecuted": false,
    "executionInfo": {
     "elapsed": 35,
     "status": "ok",
     "timestamp": 1665685802568,
     "user": {
      "displayName": "Lavis",
      "userId": "11464059397454562428"
     },
     "user_tz": 180
    },
    "execution_millis": 4,
    "execution_start": 1663075830419,
    "id": "DgIMQe6TPrZp",
    "source_hash": "1b318dfe"
   },
   "outputs": [],
   "source": [
    "et_df = val.copy()"
   ]
  },
  {
   "cell_type": "code",
   "execution_count": 111,
   "metadata": {
    "ExecuteTime": {
     "end_time": "2022-09-21T22:36:39.779716Z",
     "start_time": "2022-09-21T22:36:39.718825Z"
    },
    "cell_id": "00058-f309bae6-132f-492f-aee5-2eeb9d63e3e3",
    "deepnote_cell_height": 111.60000610351562,
    "deepnote_cell_type": "code",
    "deepnote_to_be_reexecuted": false,
    "executionInfo": {
     "elapsed": 35,
     "status": "ok",
     "timestamp": 1665685802569,
     "user": {
      "displayName": "Lavis",
      "userId": "11464059397454562428"
     },
     "user_tz": 180
    },
    "execution_millis": 33,
    "execution_start": 1663075830427,
    "id": "eBBq2LawPrZp",
    "source_hash": "c65c3bec"
   },
   "outputs": [],
   "source": [
    "et_df['score_et'] = yhat_et_proba[:,1].tolist()\n",
    "# sorte by score\n",
    "et_df = et_df.sort_values('score_et',ascending=False)"
   ]
  },
  {
   "cell_type": "code",
   "execution_count": 112,
   "metadata": {
    "ExecuteTime": {
     "end_time": "2022-09-21T22:36:39.826717Z",
     "start_time": "2022-09-21T22:36:39.791472Z"
    },
    "cell_id": "00059-f1641854-fefd-47a9-9944-1b45bab93295",
    "colab": {
     "base_uri": "https://localhost:8080/",
     "height": 270
    },
    "deepnote_cell_height": 266.3999938964844,
    "deepnote_cell_type": "code",
    "deepnote_output_heights": [
     175
    ],
    "deepnote_to_be_reexecuted": false,
    "executionInfo": {
     "elapsed": 34,
     "status": "ok",
     "timestamp": 1665685802569,
     "user": {
      "displayName": "Lavis",
      "userId": "11464059397454562428"
     },
     "user_tz": 180
    },
    "execution_millis": 56,
    "execution_start": 1663075830465,
    "id": "NGeGQu8nPrZp",
    "outputId": "978eaefd-5e9a-4147-e21d-bc793633b647",
    "source_hash": "9c48153f"
   },
   "outputs": [
    {
     "data": {
      "text/html": [
       "\n",
       "  <div id=\"df-99be2d49-be9e-42d6-a501-dfc3a79621c7\">\n",
       "    <div class=\"colab-df-container\">\n",
       "      <div>\n",
       "<style scoped>\n",
       "    .dataframe tbody tr th:only-of-type {\n",
       "        vertical-align: middle;\n",
       "    }\n",
       "\n",
       "    .dataframe tbody tr th {\n",
       "        vertical-align: top;\n",
       "    }\n",
       "\n",
       "    .dataframe thead th {\n",
       "        text-align: right;\n",
       "    }\n",
       "</style>\n",
       "<table border=\"1\" class=\"dataframe\">\n",
       "  <thead>\n",
       "    <tr style=\"text-align: right;\">\n",
       "      <th></th>\n",
       "      <th>id</th>\n",
       "      <th>gender</th>\n",
       "      <th>age</th>\n",
       "      <th>region_code</th>\n",
       "      <th>policy_sales_channel</th>\n",
       "      <th>previously_insured</th>\n",
       "      <th>annual_premium</th>\n",
       "      <th>vintage</th>\n",
       "      <th>vehicle_age</th>\n",
       "      <th>vehicle_damage</th>\n",
       "      <th>response</th>\n",
       "      <th>score_et</th>\n",
       "    </tr>\n",
       "  </thead>\n",
       "  <tbody>\n",
       "    <tr>\n",
       "      <th>66637</th>\n",
       "      <td>352541</td>\n",
       "      <td>0</td>\n",
       "      <td>0.400000</td>\n",
       "      <td>28.0</td>\n",
       "      <td>26.0</td>\n",
       "      <td>0</td>\n",
       "      <td>-1.622718</td>\n",
       "      <td>0.982699</td>\n",
       "      <td>2</td>\n",
       "      <td>1</td>\n",
       "      <td>0</td>\n",
       "      <td>1.0</td>\n",
       "    </tr>\n",
       "    <tr>\n",
       "      <th>105806</th>\n",
       "      <td>54715</td>\n",
       "      <td>0</td>\n",
       "      <td>0.661538</td>\n",
       "      <td>48.0</td>\n",
       "      <td>26.0</td>\n",
       "      <td>0</td>\n",
       "      <td>-1.622718</td>\n",
       "      <td>0.608997</td>\n",
       "      <td>2</td>\n",
       "      <td>1</td>\n",
       "      <td>0</td>\n",
       "      <td>1.0</td>\n",
       "    </tr>\n",
       "    <tr>\n",
       "      <th>58842</th>\n",
       "      <td>267737</td>\n",
       "      <td>0</td>\n",
       "      <td>0.215385</td>\n",
       "      <td>12.0</td>\n",
       "      <td>157.0</td>\n",
       "      <td>0</td>\n",
       "      <td>-1.622718</td>\n",
       "      <td>0.948097</td>\n",
       "      <td>2</td>\n",
       "      <td>1</td>\n",
       "      <td>1</td>\n",
       "      <td>1.0</td>\n",
       "    </tr>\n",
       "    <tr>\n",
       "      <th>93315</th>\n",
       "      <td>325889</td>\n",
       "      <td>0</td>\n",
       "      <td>0.446154</td>\n",
       "      <td>28.0</td>\n",
       "      <td>26.0</td>\n",
       "      <td>0</td>\n",
       "      <td>0.873120</td>\n",
       "      <td>0.477509</td>\n",
       "      <td>2</td>\n",
       "      <td>1</td>\n",
       "      <td>0</td>\n",
       "      <td>1.0</td>\n",
       "    </tr>\n",
       "    <tr>\n",
       "      <th>88534</th>\n",
       "      <td>366756</td>\n",
       "      <td>0</td>\n",
       "      <td>0.307692</td>\n",
       "      <td>48.0</td>\n",
       "      <td>15.0</td>\n",
       "      <td>0</td>\n",
       "      <td>-1.622718</td>\n",
       "      <td>0.456747</td>\n",
       "      <td>2</td>\n",
       "      <td>1</td>\n",
       "      <td>0</td>\n",
       "      <td>1.0</td>\n",
       "    </tr>\n",
       "  </tbody>\n",
       "</table>\n",
       "</div>\n",
       "      <button class=\"colab-df-convert\" onclick=\"convertToInteractive('df-99be2d49-be9e-42d6-a501-dfc3a79621c7')\"\n",
       "              title=\"Convert this dataframe to an interactive table.\"\n",
       "              style=\"display:none;\">\n",
       "        \n",
       "  <svg xmlns=\"http://www.w3.org/2000/svg\" height=\"24px\"viewBox=\"0 0 24 24\"\n",
       "       width=\"24px\">\n",
       "    <path d=\"M0 0h24v24H0V0z\" fill=\"none\"/>\n",
       "    <path d=\"M18.56 5.44l.94 2.06.94-2.06 2.06-.94-2.06-.94-.94-2.06-.94 2.06-2.06.94zm-11 1L8.5 8.5l.94-2.06 2.06-.94-2.06-.94L8.5 2.5l-.94 2.06-2.06.94zm10 10l.94 2.06.94-2.06 2.06-.94-2.06-.94-.94-2.06-.94 2.06-2.06.94z\"/><path d=\"M17.41 7.96l-1.37-1.37c-.4-.4-.92-.59-1.43-.59-.52 0-1.04.2-1.43.59L10.3 9.45l-7.72 7.72c-.78.78-.78 2.05 0 2.83L4 21.41c.39.39.9.59 1.41.59.51 0 1.02-.2 1.41-.59l7.78-7.78 2.81-2.81c.8-.78.8-2.07 0-2.86zM5.41 20L4 18.59l7.72-7.72 1.47 1.35L5.41 20z\"/>\n",
       "  </svg>\n",
       "      </button>\n",
       "      \n",
       "  <style>\n",
       "    .colab-df-container {\n",
       "      display:flex;\n",
       "      flex-wrap:wrap;\n",
       "      gap: 12px;\n",
       "    }\n",
       "\n",
       "    .colab-df-convert {\n",
       "      background-color: #E8F0FE;\n",
       "      border: none;\n",
       "      border-radius: 50%;\n",
       "      cursor: pointer;\n",
       "      display: none;\n",
       "      fill: #1967D2;\n",
       "      height: 32px;\n",
       "      padding: 0 0 0 0;\n",
       "      width: 32px;\n",
       "    }\n",
       "\n",
       "    .colab-df-convert:hover {\n",
       "      background-color: #E2EBFA;\n",
       "      box-shadow: 0px 1px 2px rgba(60, 64, 67, 0.3), 0px 1px 3px 1px rgba(60, 64, 67, 0.15);\n",
       "      fill: #174EA6;\n",
       "    }\n",
       "\n",
       "    [theme=dark] .colab-df-convert {\n",
       "      background-color: #3B4455;\n",
       "      fill: #D2E3FC;\n",
       "    }\n",
       "\n",
       "    [theme=dark] .colab-df-convert:hover {\n",
       "      background-color: #434B5C;\n",
       "      box-shadow: 0px 1px 3px 1px rgba(0, 0, 0, 0.15);\n",
       "      filter: drop-shadow(0px 1px 2px rgba(0, 0, 0, 0.3));\n",
       "      fill: #FFFFFF;\n",
       "    }\n",
       "  </style>\n",
       "\n",
       "      <script>\n",
       "        const buttonEl =\n",
       "          document.querySelector('#df-99be2d49-be9e-42d6-a501-dfc3a79621c7 button.colab-df-convert');\n",
       "        buttonEl.style.display =\n",
       "          google.colab.kernel.accessAllowed ? 'block' : 'none';\n",
       "\n",
       "        async function convertToInteractive(key) {\n",
       "          const element = document.querySelector('#df-99be2d49-be9e-42d6-a501-dfc3a79621c7');\n",
       "          const dataTable =\n",
       "            await google.colab.kernel.invokeFunction('convertToInteractive',\n",
       "                                                     [key], {});\n",
       "          if (!dataTable) return;\n",
       "\n",
       "          const docLinkHtml = 'Like what you see? Visit the ' +\n",
       "            '<a target=\"_blank\" href=https://colab.research.google.com/notebooks/data_table.ipynb>data table notebook</a>'\n",
       "            + ' to learn more about interactive tables.';\n",
       "          element.innerHTML = '';\n",
       "          dataTable['output_type'] = 'display_data';\n",
       "          await google.colab.output.renderOutput(dataTable, element);\n",
       "          const docLink = document.createElement('div');\n",
       "          docLink.innerHTML = docLinkHtml;\n",
       "          element.appendChild(docLink);\n",
       "        }\n",
       "      </script>\n",
       "    </div>\n",
       "  </div>\n",
       "  "
      ],
      "text/plain": [
       "            id  gender       age  region_code  policy_sales_channel  \\\n",
       "66637   352541       0  0.400000         28.0                  26.0   \n",
       "105806   54715       0  0.661538         48.0                  26.0   \n",
       "58842   267737       0  0.215385         12.0                 157.0   \n",
       "93315   325889       0  0.446154         28.0                  26.0   \n",
       "88534   366756       0  0.307692         48.0                  15.0   \n",
       "\n",
       "        previously_insured  annual_premium   vintage  vehicle_age  \\\n",
       "66637                    0       -1.622718  0.982699            2   \n",
       "105806                   0       -1.622718  0.608997            2   \n",
       "58842                    0       -1.622718  0.948097            2   \n",
       "93315                    0        0.873120  0.477509            2   \n",
       "88534                    0       -1.622718  0.456747            2   \n",
       "\n",
       "        vehicle_damage  response  score_et  \n",
       "66637                1         0       1.0  \n",
       "105806               1         0       1.0  \n",
       "58842                1         1       1.0  \n",
       "93315                1         0       1.0  \n",
       "88534                1         0       1.0  "
      ]
     },
     "execution_count": 112,
     "metadata": {},
     "output_type": "execute_result"
    }
   ],
   "source": [
    "et_df.head()"
   ]
  },
  {
   "cell_type": "code",
   "execution_count": 113,
   "metadata": {
    "ExecuteTime": {
     "end_time": "2022-09-21T22:36:40.001096Z",
     "start_time": "2022-09-21T22:36:39.831998Z"
    },
    "cell_id": "00060-7253624e-e847-4c39-9e7c-098ca220fb82",
    "deepnote_cell_height": 75.60000610351562,
    "deepnote_cell_type": "code",
    "deepnote_to_be_reexecuted": false,
    "executionInfo": {
     "elapsed": 35,
     "status": "ok",
     "timestamp": 1665685802571,
     "user": {
      "displayName": "Lavis",
      "userId": "11464059397454562428"
     },
     "user_tz": 180
    },
    "execution_millis": 89,
    "execution_start": 1663075830523,
    "id": "CqC-KpknPrZq",
    "source_hash": "72701628"
   },
   "outputs": [],
   "source": [
    "et_performace = performace(\"Extra trees\",et_df,y_val,yhat_et_class,clients)"
   ]
  },
  {
   "cell_type": "code",
   "execution_count": 114,
   "metadata": {
    "ExecuteTime": {
     "end_time": "2022-09-21T22:36:40.017054Z",
     "start_time": "2022-09-21T22:36:40.003090Z"
    },
    "cell_id": "00061-1bd81c17-ac04-48c0-8c5e-3218c8bfd7c6",
    "colab": {
     "base_uri": "https://localhost:8080/",
     "height": 81
    },
    "deepnote_cell_height": 150.39999389648438,
    "deepnote_cell_type": "code",
    "deepnote_output_heights": [
     59
    ],
    "deepnote_to_be_reexecuted": false,
    "executionInfo": {
     "elapsed": 35,
     "status": "ok",
     "timestamp": 1665685802572,
     "user": {
      "displayName": "Lavis",
      "userId": "11464059397454562428"
     },
     "user_tz": 180
    },
    "execution_millis": 4,
    "execution_start": 1663075830634,
    "id": "NdUuyZzPPrZq",
    "outputId": "faa8487d-6d93-4def-d06e-7e3f823892f8",
    "scrolled": true,
    "source_hash": "b4f684ea"
   },
   "outputs": [
    {
     "data": {
      "text/html": [
       "\n",
       "  <div id=\"df-661b3985-bda8-4958-9dee-ccc1e21daf46\">\n",
       "    <div class=\"colab-df-container\">\n",
       "      <div>\n",
       "<style scoped>\n",
       "    .dataframe tbody tr th:only-of-type {\n",
       "        vertical-align: middle;\n",
       "    }\n",
       "\n",
       "    .dataframe tbody tr th {\n",
       "        vertical-align: top;\n",
       "    }\n",
       "\n",
       "    .dataframe thead th {\n",
       "        text-align: right;\n",
       "    }\n",
       "</style>\n",
       "<table border=\"1\" class=\"dataframe\">\n",
       "  <thead>\n",
       "    <tr style=\"text-align: right;\">\n",
       "      <th></th>\n",
       "      <th>Model Name</th>\n",
       "      <th>Precison</th>\n",
       "      <th>Recall</th>\n",
       "      <th>Balanced_acc</th>\n",
       "      <th>k</th>\n",
       "      <th>Precison at k</th>\n",
       "      <th>Recall at k</th>\n",
       "    </tr>\n",
       "  </thead>\n",
       "  <tbody>\n",
       "    <tr>\n",
       "      <th>0</th>\n",
       "      <td>Extra trees</td>\n",
       "      <td>0.355784</td>\n",
       "      <td>0.160346</td>\n",
       "      <td>0.559866</td>\n",
       "      <td>20000</td>\n",
       "      <td>0.322834</td>\n",
       "      <td>0.461181</td>\n",
       "    </tr>\n",
       "  </tbody>\n",
       "</table>\n",
       "</div>\n",
       "      <button class=\"colab-df-convert\" onclick=\"convertToInteractive('df-661b3985-bda8-4958-9dee-ccc1e21daf46')\"\n",
       "              title=\"Convert this dataframe to an interactive table.\"\n",
       "              style=\"display:none;\">\n",
       "        \n",
       "  <svg xmlns=\"http://www.w3.org/2000/svg\" height=\"24px\"viewBox=\"0 0 24 24\"\n",
       "       width=\"24px\">\n",
       "    <path d=\"M0 0h24v24H0V0z\" fill=\"none\"/>\n",
       "    <path d=\"M18.56 5.44l.94 2.06.94-2.06 2.06-.94-2.06-.94-.94-2.06-.94 2.06-2.06.94zm-11 1L8.5 8.5l.94-2.06 2.06-.94-2.06-.94L8.5 2.5l-.94 2.06-2.06.94zm10 10l.94 2.06.94-2.06 2.06-.94-2.06-.94-.94-2.06-.94 2.06-2.06.94z\"/><path d=\"M17.41 7.96l-1.37-1.37c-.4-.4-.92-.59-1.43-.59-.52 0-1.04.2-1.43.59L10.3 9.45l-7.72 7.72c-.78.78-.78 2.05 0 2.83L4 21.41c.39.39.9.59 1.41.59.51 0 1.02-.2 1.41-.59l7.78-7.78 2.81-2.81c.8-.78.8-2.07 0-2.86zM5.41 20L4 18.59l7.72-7.72 1.47 1.35L5.41 20z\"/>\n",
       "  </svg>\n",
       "      </button>\n",
       "      \n",
       "  <style>\n",
       "    .colab-df-container {\n",
       "      display:flex;\n",
       "      flex-wrap:wrap;\n",
       "      gap: 12px;\n",
       "    }\n",
       "\n",
       "    .colab-df-convert {\n",
       "      background-color: #E8F0FE;\n",
       "      border: none;\n",
       "      border-radius: 50%;\n",
       "      cursor: pointer;\n",
       "      display: none;\n",
       "      fill: #1967D2;\n",
       "      height: 32px;\n",
       "      padding: 0 0 0 0;\n",
       "      width: 32px;\n",
       "    }\n",
       "\n",
       "    .colab-df-convert:hover {\n",
       "      background-color: #E2EBFA;\n",
       "      box-shadow: 0px 1px 2px rgba(60, 64, 67, 0.3), 0px 1px 3px 1px rgba(60, 64, 67, 0.15);\n",
       "      fill: #174EA6;\n",
       "    }\n",
       "\n",
       "    [theme=dark] .colab-df-convert {\n",
       "      background-color: #3B4455;\n",
       "      fill: #D2E3FC;\n",
       "    }\n",
       "\n",
       "    [theme=dark] .colab-df-convert:hover {\n",
       "      background-color: #434B5C;\n",
       "      box-shadow: 0px 1px 3px 1px rgba(0, 0, 0, 0.15);\n",
       "      filter: drop-shadow(0px 1px 2px rgba(0, 0, 0, 0.3));\n",
       "      fill: #FFFFFF;\n",
       "    }\n",
       "  </style>\n",
       "\n",
       "      <script>\n",
       "        const buttonEl =\n",
       "          document.querySelector('#df-661b3985-bda8-4958-9dee-ccc1e21daf46 button.colab-df-convert');\n",
       "        buttonEl.style.display =\n",
       "          google.colab.kernel.accessAllowed ? 'block' : 'none';\n",
       "\n",
       "        async function convertToInteractive(key) {\n",
       "          const element = document.querySelector('#df-661b3985-bda8-4958-9dee-ccc1e21daf46');\n",
       "          const dataTable =\n",
       "            await google.colab.kernel.invokeFunction('convertToInteractive',\n",
       "                                                     [key], {});\n",
       "          if (!dataTable) return;\n",
       "\n",
       "          const docLinkHtml = 'Like what you see? Visit the ' +\n",
       "            '<a target=\"_blank\" href=https://colab.research.google.com/notebooks/data_table.ipynb>data table notebook</a>'\n",
       "            + ' to learn more about interactive tables.';\n",
       "          element.innerHTML = '';\n",
       "          dataTable['output_type'] = 'display_data';\n",
       "          await google.colab.output.renderOutput(dataTable, element);\n",
       "          const docLink = document.createElement('div');\n",
       "          docLink.innerHTML = docLinkHtml;\n",
       "          element.appendChild(docLink);\n",
       "        }\n",
       "      </script>\n",
       "    </div>\n",
       "  </div>\n",
       "  "
      ],
      "text/plain": [
       "    Model Name  Precison    Recall  Balanced_acc      k  Precison at k  \\\n",
       "0  Extra trees  0.355784  0.160346      0.559866  20000       0.322834   \n",
       "\n",
       "   Recall at k  \n",
       "0     0.461181  "
      ]
     },
     "execution_count": 114,
     "metadata": {},
     "output_type": "execute_result"
    }
   ],
   "source": [
    "et_performace"
   ]
  },
  {
   "cell_type": "markdown",
   "metadata": {
    "cell_id": "00062-2f0e872a-5a97-40e8-bde0-34a8874eb3b4",
    "deepnote_cell_height": 69.60000610351562,
    "deepnote_cell_type": "markdown",
    "id": "vZMhui54PrZq"
   },
   "source": [
    "## XGboost"
   ]
  },
  {
   "cell_type": "code",
   "execution_count": 115,
   "metadata": {
    "ExecuteTime": {
     "end_time": "2022-09-21T22:36:40.033010Z",
     "start_time": "2022-09-21T22:36:40.020045Z"
    },
    "cell_id": "00063-3ba13c60-7eb9-495e-b4ed-06c546647462",
    "deepnote_cell_height": 75.60000610351562,
    "deepnote_cell_type": "code",
    "deepnote_to_be_reexecuted": false,
    "executionInfo": {
     "elapsed": 506,
     "status": "ok",
     "timestamp": 1665685803045,
     "user": {
      "displayName": "Lavis",
      "userId": "11464059397454562428"
     },
     "user_tz": 180
    },
    "execution_millis": 0,
    "execution_start": 1663075830683,
    "id": "ZfuEsXgNPrZq",
    "source_hash": "ce3549ee"
   },
   "outputs": [],
   "source": [
    "xgb_df = val.copy()"
   ]
  },
  {
   "cell_type": "code",
   "execution_count": 116,
   "metadata": {
    "ExecuteTime": {
     "end_time": "2022-09-21T22:36:40.128151Z",
     "start_time": "2022-09-21T22:36:40.037002Z"
    },
    "cell_id": "00064-af73a354-da26-47fe-afaf-da6516ae265d",
    "deepnote_cell_height": 111.60000610351562,
    "deepnote_cell_type": "code",
    "deepnote_to_be_reexecuted": false,
    "executionInfo": {
     "elapsed": 10,
     "status": "ok",
     "timestamp": 1665685803048,
     "user": {
      "displayName": "Lavis",
      "userId": "11464059397454562428"
     },
     "user_tz": 180
    },
    "execution_millis": 44,
    "execution_start": 1663075830684,
    "id": "lAnWN_LYPrZq",
    "source_hash": "bfe8602"
   },
   "outputs": [],
   "source": [
    "xgb_df['score_xgb'] = yhat_xgb_proba[:,1].tolist()\n",
    "# sorte by score\n",
    "xgb_df = xgb_df.sort_values('score_xgb',ascending=False)"
   ]
  },
  {
   "cell_type": "code",
   "execution_count": 117,
   "metadata": {
    "ExecuteTime": {
     "end_time": "2022-09-21T22:36:40.160628Z",
     "start_time": "2022-09-21T22:36:40.131143Z"
    },
    "cell_id": "00065-203b47f9-af3e-4755-bc28-9936b15ffacc",
    "colab": {
     "base_uri": "https://localhost:8080/",
     "height": 270
    },
    "deepnote_cell_height": 266.3999938964844,
    "deepnote_cell_type": "code",
    "deepnote_output_heights": [
     175
    ],
    "deepnote_to_be_reexecuted": false,
    "executionInfo": {
     "elapsed": 9,
     "status": "ok",
     "timestamp": 1665685803048,
     "user": {
      "displayName": "Lavis",
      "userId": "11464059397454562428"
     },
     "user_tz": 180
    },
    "execution_millis": 35,
    "execution_start": 1663075830730,
    "id": "2zACjWhfPrZr",
    "outputId": "a8e89499-387b-47bf-f2b4-bae5c136ec06",
    "scrolled": true,
    "source_hash": "e7f31522"
   },
   "outputs": [
    {
     "data": {
      "text/html": [
       "\n",
       "  <div id=\"df-fe709653-bc3f-4325-9e9b-0e5af3fb1e73\">\n",
       "    <div class=\"colab-df-container\">\n",
       "      <div>\n",
       "<style scoped>\n",
       "    .dataframe tbody tr th:only-of-type {\n",
       "        vertical-align: middle;\n",
       "    }\n",
       "\n",
       "    .dataframe tbody tr th {\n",
       "        vertical-align: top;\n",
       "    }\n",
       "\n",
       "    .dataframe thead th {\n",
       "        text-align: right;\n",
       "    }\n",
       "</style>\n",
       "<table border=\"1\" class=\"dataframe\">\n",
       "  <thead>\n",
       "    <tr style=\"text-align: right;\">\n",
       "      <th></th>\n",
       "      <th>id</th>\n",
       "      <th>gender</th>\n",
       "      <th>age</th>\n",
       "      <th>region_code</th>\n",
       "      <th>policy_sales_channel</th>\n",
       "      <th>previously_insured</th>\n",
       "      <th>annual_premium</th>\n",
       "      <th>vintage</th>\n",
       "      <th>vehicle_age</th>\n",
       "      <th>vehicle_damage</th>\n",
       "      <th>response</th>\n",
       "      <th>score_xgb</th>\n",
       "    </tr>\n",
       "  </thead>\n",
       "  <tbody>\n",
       "    <tr>\n",
       "      <th>54753</th>\n",
       "      <td>260266</td>\n",
       "      <td>0</td>\n",
       "      <td>0.492308</td>\n",
       "      <td>28.0</td>\n",
       "      <td>26.0</td>\n",
       "      <td>0</td>\n",
       "      <td>3.012585</td>\n",
       "      <td>0.283737</td>\n",
       "      <td>1</td>\n",
       "      <td>1</td>\n",
       "      <td>1</td>\n",
       "      <td>0.706611</td>\n",
       "    </tr>\n",
       "    <tr>\n",
       "      <th>112844</th>\n",
       "      <td>128772</td>\n",
       "      <td>0</td>\n",
       "      <td>0.184615</td>\n",
       "      <td>0.0</td>\n",
       "      <td>122.0</td>\n",
       "      <td>0</td>\n",
       "      <td>0.816010</td>\n",
       "      <td>1.000000</td>\n",
       "      <td>1</td>\n",
       "      <td>1</td>\n",
       "      <td>1</td>\n",
       "      <td>0.698583</td>\n",
       "    </tr>\n",
       "    <tr>\n",
       "      <th>51808</th>\n",
       "      <td>238645</td>\n",
       "      <td>0</td>\n",
       "      <td>0.353846</td>\n",
       "      <td>28.0</td>\n",
       "      <td>26.0</td>\n",
       "      <td>0</td>\n",
       "      <td>0.489440</td>\n",
       "      <td>0.176471</td>\n",
       "      <td>1</td>\n",
       "      <td>1</td>\n",
       "      <td>1</td>\n",
       "      <td>0.686802</td>\n",
       "    </tr>\n",
       "    <tr>\n",
       "      <th>11996</th>\n",
       "      <td>29298</td>\n",
       "      <td>0</td>\n",
       "      <td>0.384615</td>\n",
       "      <td>11.0</td>\n",
       "      <td>26.0</td>\n",
       "      <td>0</td>\n",
       "      <td>0.613247</td>\n",
       "      <td>0.847751</td>\n",
       "      <td>1</td>\n",
       "      <td>1</td>\n",
       "      <td>1</td>\n",
       "      <td>0.677028</td>\n",
       "    </tr>\n",
       "    <tr>\n",
       "      <th>88515</th>\n",
       "      <td>66840</td>\n",
       "      <td>0</td>\n",
       "      <td>0.446154</td>\n",
       "      <td>41.0</td>\n",
       "      <td>26.0</td>\n",
       "      <td>0</td>\n",
       "      <td>0.994488</td>\n",
       "      <td>0.339100</td>\n",
       "      <td>1</td>\n",
       "      <td>1</td>\n",
       "      <td>1</td>\n",
       "      <td>0.674513</td>\n",
       "    </tr>\n",
       "  </tbody>\n",
       "</table>\n",
       "</div>\n",
       "      <button class=\"colab-df-convert\" onclick=\"convertToInteractive('df-fe709653-bc3f-4325-9e9b-0e5af3fb1e73')\"\n",
       "              title=\"Convert this dataframe to an interactive table.\"\n",
       "              style=\"display:none;\">\n",
       "        \n",
       "  <svg xmlns=\"http://www.w3.org/2000/svg\" height=\"24px\"viewBox=\"0 0 24 24\"\n",
       "       width=\"24px\">\n",
       "    <path d=\"M0 0h24v24H0V0z\" fill=\"none\"/>\n",
       "    <path d=\"M18.56 5.44l.94 2.06.94-2.06 2.06-.94-2.06-.94-.94-2.06-.94 2.06-2.06.94zm-11 1L8.5 8.5l.94-2.06 2.06-.94-2.06-.94L8.5 2.5l-.94 2.06-2.06.94zm10 10l.94 2.06.94-2.06 2.06-.94-2.06-.94-.94-2.06-.94 2.06-2.06.94z\"/><path d=\"M17.41 7.96l-1.37-1.37c-.4-.4-.92-.59-1.43-.59-.52 0-1.04.2-1.43.59L10.3 9.45l-7.72 7.72c-.78.78-.78 2.05 0 2.83L4 21.41c.39.39.9.59 1.41.59.51 0 1.02-.2 1.41-.59l7.78-7.78 2.81-2.81c.8-.78.8-2.07 0-2.86zM5.41 20L4 18.59l7.72-7.72 1.47 1.35L5.41 20z\"/>\n",
       "  </svg>\n",
       "      </button>\n",
       "      \n",
       "  <style>\n",
       "    .colab-df-container {\n",
       "      display:flex;\n",
       "      flex-wrap:wrap;\n",
       "      gap: 12px;\n",
       "    }\n",
       "\n",
       "    .colab-df-convert {\n",
       "      background-color: #E8F0FE;\n",
       "      border: none;\n",
       "      border-radius: 50%;\n",
       "      cursor: pointer;\n",
       "      display: none;\n",
       "      fill: #1967D2;\n",
       "      height: 32px;\n",
       "      padding: 0 0 0 0;\n",
       "      width: 32px;\n",
       "    }\n",
       "\n",
       "    .colab-df-convert:hover {\n",
       "      background-color: #E2EBFA;\n",
       "      box-shadow: 0px 1px 2px rgba(60, 64, 67, 0.3), 0px 1px 3px 1px rgba(60, 64, 67, 0.15);\n",
       "      fill: #174EA6;\n",
       "    }\n",
       "\n",
       "    [theme=dark] .colab-df-convert {\n",
       "      background-color: #3B4455;\n",
       "      fill: #D2E3FC;\n",
       "    }\n",
       "\n",
       "    [theme=dark] .colab-df-convert:hover {\n",
       "      background-color: #434B5C;\n",
       "      box-shadow: 0px 1px 3px 1px rgba(0, 0, 0, 0.15);\n",
       "      filter: drop-shadow(0px 1px 2px rgba(0, 0, 0, 0.3));\n",
       "      fill: #FFFFFF;\n",
       "    }\n",
       "  </style>\n",
       "\n",
       "      <script>\n",
       "        const buttonEl =\n",
       "          document.querySelector('#df-fe709653-bc3f-4325-9e9b-0e5af3fb1e73 button.colab-df-convert');\n",
       "        buttonEl.style.display =\n",
       "          google.colab.kernel.accessAllowed ? 'block' : 'none';\n",
       "\n",
       "        async function convertToInteractive(key) {\n",
       "          const element = document.querySelector('#df-fe709653-bc3f-4325-9e9b-0e5af3fb1e73');\n",
       "          const dataTable =\n",
       "            await google.colab.kernel.invokeFunction('convertToInteractive',\n",
       "                                                     [key], {});\n",
       "          if (!dataTable) return;\n",
       "\n",
       "          const docLinkHtml = 'Like what you see? Visit the ' +\n",
       "            '<a target=\"_blank\" href=https://colab.research.google.com/notebooks/data_table.ipynb>data table notebook</a>'\n",
       "            + ' to learn more about interactive tables.';\n",
       "          element.innerHTML = '';\n",
       "          dataTable['output_type'] = 'display_data';\n",
       "          await google.colab.output.renderOutput(dataTable, element);\n",
       "          const docLink = document.createElement('div');\n",
       "          docLink.innerHTML = docLinkHtml;\n",
       "          element.appendChild(docLink);\n",
       "        }\n",
       "      </script>\n",
       "    </div>\n",
       "  </div>\n",
       "  "
      ],
      "text/plain": [
       "            id  gender       age  region_code  policy_sales_channel  \\\n",
       "54753   260266       0  0.492308         28.0                  26.0   \n",
       "112844  128772       0  0.184615          0.0                 122.0   \n",
       "51808   238645       0  0.353846         28.0                  26.0   \n",
       "11996    29298       0  0.384615         11.0                  26.0   \n",
       "88515    66840       0  0.446154         41.0                  26.0   \n",
       "\n",
       "        previously_insured  annual_premium   vintage  vehicle_age  \\\n",
       "54753                    0        3.012585  0.283737            1   \n",
       "112844                   0        0.816010  1.000000            1   \n",
       "51808                    0        0.489440  0.176471            1   \n",
       "11996                    0        0.613247  0.847751            1   \n",
       "88515                    0        0.994488  0.339100            1   \n",
       "\n",
       "        vehicle_damage  response  score_xgb  \n",
       "54753                1         1   0.706611  \n",
       "112844               1         1   0.698583  \n",
       "51808                1         1   0.686802  \n",
       "11996                1         1   0.677028  \n",
       "88515                1         1   0.674513  "
      ]
     },
     "execution_count": 117,
     "metadata": {},
     "output_type": "execute_result"
    }
   ],
   "source": [
    "xgb_df.head()"
   ]
  },
  {
   "cell_type": "code",
   "execution_count": 118,
   "metadata": {
    "ExecuteTime": {
     "end_time": "2022-09-21T22:36:40.367075Z",
     "start_time": "2022-09-21T22:36:40.167611Z"
    },
    "cell_id": "00066-e78cbdff-e532-4e1a-86bb-c727b8b570fb",
    "deepnote_cell_height": 75.60000610351562,
    "deepnote_cell_type": "code",
    "deepnote_to_be_reexecuted": false,
    "executionInfo": {
     "elapsed": 642,
     "status": "ok",
     "timestamp": 1665685803683,
     "user": {
      "displayName": "Lavis",
      "userId": "11464059397454562428"
     },
     "user_tz": 180
    },
    "execution_millis": 89,
    "execution_start": 1663075830764,
    "id": "88MqeIipPrZr",
    "source_hash": "bd5735b3"
   },
   "outputs": [],
   "source": [
    "xgb_performace = performace(\"XGBoost\",xgb_df,y_val,yhat_xgb_class,clients)"
   ]
  },
  {
   "cell_type": "code",
   "execution_count": 119,
   "metadata": {
    "ExecuteTime": {
     "end_time": "2022-09-21T22:36:40.398990Z",
     "start_time": "2022-09-21T22:36:40.372063Z"
    },
    "cell_id": "00067-24f9a94c-dd95-4675-9ff2-08ad9e4592de",
    "colab": {
     "base_uri": "https://localhost:8080/",
     "height": 81
    },
    "deepnote_cell_height": 150.39999389648438,
    "deepnote_cell_type": "code",
    "deepnote_output_heights": [
     59
    ],
    "deepnote_to_be_reexecuted": false,
    "executionInfo": {
     "elapsed": 13,
     "status": "ok",
     "timestamp": 1665685803685,
     "user": {
      "displayName": "Lavis",
      "userId": "11464059397454562428"
     },
     "user_tz": 180
    },
    "execution_millis": 2,
    "execution_start": 1663075830899,
    "id": "QbcTZvU1PrZr",
    "outputId": "deaae3fb-3aa0-4901-c888-be625a15b9c7",
    "source_hash": "e518ccbf"
   },
   "outputs": [
    {
     "data": {
      "text/html": [
       "\n",
       "  <div id=\"df-41646998-7854-464b-9208-115cb3075482\">\n",
       "    <div class=\"colab-df-container\">\n",
       "      <div>\n",
       "<style scoped>\n",
       "    .dataframe tbody tr th:only-of-type {\n",
       "        vertical-align: middle;\n",
       "    }\n",
       "\n",
       "    .dataframe tbody tr th {\n",
       "        vertical-align: top;\n",
       "    }\n",
       "\n",
       "    .dataframe thead th {\n",
       "        text-align: right;\n",
       "    }\n",
       "</style>\n",
       "<table border=\"1\" class=\"dataframe\">\n",
       "  <thead>\n",
       "    <tr style=\"text-align: right;\">\n",
       "      <th></th>\n",
       "      <th>Model Name</th>\n",
       "      <th>Precison</th>\n",
       "      <th>Recall</th>\n",
       "      <th>Balanced_acc</th>\n",
       "      <th>k</th>\n",
       "      <th>Precison at k</th>\n",
       "      <th>Recall at k</th>\n",
       "    </tr>\n",
       "  </thead>\n",
       "  <tbody>\n",
       "    <tr>\n",
       "      <th>0</th>\n",
       "      <td>XGBoost</td>\n",
       "      <td>0.549383</td>\n",
       "      <td>0.006357</td>\n",
       "      <td>0.502814</td>\n",
       "      <td>20000</td>\n",
       "      <td>0.366082</td>\n",
       "      <td>0.522963</td>\n",
       "    </tr>\n",
       "  </tbody>\n",
       "</table>\n",
       "</div>\n",
       "      <button class=\"colab-df-convert\" onclick=\"convertToInteractive('df-41646998-7854-464b-9208-115cb3075482')\"\n",
       "              title=\"Convert this dataframe to an interactive table.\"\n",
       "              style=\"display:none;\">\n",
       "        \n",
       "  <svg xmlns=\"http://www.w3.org/2000/svg\" height=\"24px\"viewBox=\"0 0 24 24\"\n",
       "       width=\"24px\">\n",
       "    <path d=\"M0 0h24v24H0V0z\" fill=\"none\"/>\n",
       "    <path d=\"M18.56 5.44l.94 2.06.94-2.06 2.06-.94-2.06-.94-.94-2.06-.94 2.06-2.06.94zm-11 1L8.5 8.5l.94-2.06 2.06-.94-2.06-.94L8.5 2.5l-.94 2.06-2.06.94zm10 10l.94 2.06.94-2.06 2.06-.94-2.06-.94-.94-2.06-.94 2.06-2.06.94z\"/><path d=\"M17.41 7.96l-1.37-1.37c-.4-.4-.92-.59-1.43-.59-.52 0-1.04.2-1.43.59L10.3 9.45l-7.72 7.72c-.78.78-.78 2.05 0 2.83L4 21.41c.39.39.9.59 1.41.59.51 0 1.02-.2 1.41-.59l7.78-7.78 2.81-2.81c.8-.78.8-2.07 0-2.86zM5.41 20L4 18.59l7.72-7.72 1.47 1.35L5.41 20z\"/>\n",
       "  </svg>\n",
       "      </button>\n",
       "      \n",
       "  <style>\n",
       "    .colab-df-container {\n",
       "      display:flex;\n",
       "      flex-wrap:wrap;\n",
       "      gap: 12px;\n",
       "    }\n",
       "\n",
       "    .colab-df-convert {\n",
       "      background-color: #E8F0FE;\n",
       "      border: none;\n",
       "      border-radius: 50%;\n",
       "      cursor: pointer;\n",
       "      display: none;\n",
       "      fill: #1967D2;\n",
       "      height: 32px;\n",
       "      padding: 0 0 0 0;\n",
       "      width: 32px;\n",
       "    }\n",
       "\n",
       "    .colab-df-convert:hover {\n",
       "      background-color: #E2EBFA;\n",
       "      box-shadow: 0px 1px 2px rgba(60, 64, 67, 0.3), 0px 1px 3px 1px rgba(60, 64, 67, 0.15);\n",
       "      fill: #174EA6;\n",
       "    }\n",
       "\n",
       "    [theme=dark] .colab-df-convert {\n",
       "      background-color: #3B4455;\n",
       "      fill: #D2E3FC;\n",
       "    }\n",
       "\n",
       "    [theme=dark] .colab-df-convert:hover {\n",
       "      background-color: #434B5C;\n",
       "      box-shadow: 0px 1px 3px 1px rgba(0, 0, 0, 0.15);\n",
       "      filter: drop-shadow(0px 1px 2px rgba(0, 0, 0, 0.3));\n",
       "      fill: #FFFFFF;\n",
       "    }\n",
       "  </style>\n",
       "\n",
       "      <script>\n",
       "        const buttonEl =\n",
       "          document.querySelector('#df-41646998-7854-464b-9208-115cb3075482 button.colab-df-convert');\n",
       "        buttonEl.style.display =\n",
       "          google.colab.kernel.accessAllowed ? 'block' : 'none';\n",
       "\n",
       "        async function convertToInteractive(key) {\n",
       "          const element = document.querySelector('#df-41646998-7854-464b-9208-115cb3075482');\n",
       "          const dataTable =\n",
       "            await google.colab.kernel.invokeFunction('convertToInteractive',\n",
       "                                                     [key], {});\n",
       "          if (!dataTable) return;\n",
       "\n",
       "          const docLinkHtml = 'Like what you see? Visit the ' +\n",
       "            '<a target=\"_blank\" href=https://colab.research.google.com/notebooks/data_table.ipynb>data table notebook</a>'\n",
       "            + ' to learn more about interactive tables.';\n",
       "          element.innerHTML = '';\n",
       "          dataTable['output_type'] = 'display_data';\n",
       "          await google.colab.output.renderOutput(dataTable, element);\n",
       "          const docLink = document.createElement('div');\n",
       "          docLink.innerHTML = docLinkHtml;\n",
       "          element.appendChild(docLink);\n",
       "        }\n",
       "      </script>\n",
       "    </div>\n",
       "  </div>\n",
       "  "
      ],
      "text/plain": [
       "  Model Name  Precison    Recall  Balanced_acc      k  Precison at k  \\\n",
       "0    XGBoost  0.549383  0.006357      0.502814  20000       0.366082   \n",
       "\n",
       "   Recall at k  \n",
       "0     0.522963  "
      ]
     },
     "execution_count": 119,
     "metadata": {},
     "output_type": "execute_result"
    }
   ],
   "source": [
    "xgb_performace"
   ]
  },
  {
   "cell_type": "markdown",
   "metadata": {
    "cell_id": "00068-43a40468-d766-4a92-9077-be35e724189d",
    "deepnote_cell_height": 81.60000610351562,
    "deepnote_cell_type": "markdown",
    "id": "-9AAz_UrPrZs"
   },
   "source": [
    "# Model comparrison"
   ]
  },
  {
   "cell_type": "code",
   "execution_count": 120,
   "metadata": {
    "ExecuteTime": {
     "end_time": "2022-09-21T22:36:40.446862Z",
     "start_time": "2022-09-21T22:36:40.401983Z"
    },
    "cell_id": "00069-17f50f37-4610-4017-a3b1-188d76530cf0",
    "deepnote_cell_height": 75.60000610351562,
    "deepnote_cell_type": "code",
    "deepnote_to_be_reexecuted": false,
    "executionInfo": {
     "elapsed": 12,
     "status": "ok",
     "timestamp": 1665685803686,
     "user": {
      "displayName": "Lavis",
      "userId": "11464059397454562428"
     },
     "user_tz": 180
    },
    "execution_millis": 0,
    "execution_start": 1663075830942,
    "id": "VHPlq1lDPrZs",
    "source_hash": "128bf144"
   },
   "outputs": [],
   "source": [
    "model_comp = pd.concat([knn_performace,lm_performace,rf_performace,et_performace,xgb_performace])"
   ]
  },
  {
   "cell_type": "code",
   "execution_count": 121,
   "metadata": {
    "ExecuteTime": {
     "end_time": "2022-09-21T22:36:40.493738Z",
     "start_time": "2022-09-21T22:36:40.450853Z"
    },
    "cell_id": "00070-1eb35801-a6aa-4d87-abe0-e32a85d585f6",
    "colab": {
     "base_uri": "https://localhost:8080/",
     "height": 206
    },
    "deepnote_cell_height": 266.3999938964844,
    "deepnote_cell_type": "code",
    "deepnote_output_heights": [
     175
    ],
    "deepnote_to_be_reexecuted": false,
    "executionInfo": {
     "elapsed": 13,
     "status": "ok",
     "timestamp": 1665685803687,
     "user": {
      "displayName": "Lavis",
      "userId": "11464059397454562428"
     },
     "user_tz": 180
    },
    "execution_millis": 7,
    "execution_start": 1663075830943,
    "id": "WymAp7BhPrZs",
    "outputId": "69344d4a-ca50-4644-c3d2-d32db5d48e56",
    "source_hash": "c8530f44"
   },
   "outputs": [
    {
     "data": {
      "text/html": [
       "\n",
       "  <div id=\"df-72847ad7-9d23-42e2-83b3-23c76ea7db8e\">\n",
       "    <div class=\"colab-df-container\">\n",
       "      <div>\n",
       "<style scoped>\n",
       "    .dataframe tbody tr th:only-of-type {\n",
       "        vertical-align: middle;\n",
       "    }\n",
       "\n",
       "    .dataframe tbody tr th {\n",
       "        vertical-align: top;\n",
       "    }\n",
       "\n",
       "    .dataframe thead th {\n",
       "        text-align: right;\n",
       "    }\n",
       "</style>\n",
       "<table border=\"1\" class=\"dataframe\">\n",
       "  <thead>\n",
       "    <tr style=\"text-align: right;\">\n",
       "      <th></th>\n",
       "      <th>Model Name</th>\n",
       "      <th>Precison</th>\n",
       "      <th>Recall</th>\n",
       "      <th>Balanced_acc</th>\n",
       "      <th>k</th>\n",
       "      <th>Precison at k</th>\n",
       "      <th>Recall at k</th>\n",
       "    </tr>\n",
       "  </thead>\n",
       "  <tbody>\n",
       "    <tr>\n",
       "      <th>0</th>\n",
       "      <td>XGBoost</td>\n",
       "      <td>0.549383</td>\n",
       "      <td>0.006357</td>\n",
       "      <td>0.502814</td>\n",
       "      <td>20000</td>\n",
       "      <td>0.366082</td>\n",
       "      <td>0.522963</td>\n",
       "    </tr>\n",
       "    <tr>\n",
       "      <th>0</th>\n",
       "      <td>Random forest</td>\n",
       "      <td>0.376450</td>\n",
       "      <td>0.120563</td>\n",
       "      <td>0.546314</td>\n",
       "      <td>20000</td>\n",
       "      <td>0.333683</td>\n",
       "      <td>0.476680</td>\n",
       "    </tr>\n",
       "    <tr>\n",
       "      <th>0</th>\n",
       "      <td>Extra trees</td>\n",
       "      <td>0.355784</td>\n",
       "      <td>0.160346</td>\n",
       "      <td>0.559866</td>\n",
       "      <td>20000</td>\n",
       "      <td>0.322834</td>\n",
       "      <td>0.461181</td>\n",
       "    </tr>\n",
       "    <tr>\n",
       "      <th>0</th>\n",
       "      <td>linear model</td>\n",
       "      <td>0.483607</td>\n",
       "      <td>0.004214</td>\n",
       "      <td>0.501792</td>\n",
       "      <td>20000</td>\n",
       "      <td>0.317084</td>\n",
       "      <td>0.452968</td>\n",
       "    </tr>\n",
       "    <tr>\n",
       "      <th>0</th>\n",
       "      <td>KNN</td>\n",
       "      <td>0.342797</td>\n",
       "      <td>0.185415</td>\n",
       "      <td>0.567845</td>\n",
       "      <td>20000</td>\n",
       "      <td>0.313134</td>\n",
       "      <td>0.447325</td>\n",
       "    </tr>\n",
       "  </tbody>\n",
       "</table>\n",
       "</div>\n",
       "      <button class=\"colab-df-convert\" onclick=\"convertToInteractive('df-72847ad7-9d23-42e2-83b3-23c76ea7db8e')\"\n",
       "              title=\"Convert this dataframe to an interactive table.\"\n",
       "              style=\"display:none;\">\n",
       "        \n",
       "  <svg xmlns=\"http://www.w3.org/2000/svg\" height=\"24px\"viewBox=\"0 0 24 24\"\n",
       "       width=\"24px\">\n",
       "    <path d=\"M0 0h24v24H0V0z\" fill=\"none\"/>\n",
       "    <path d=\"M18.56 5.44l.94 2.06.94-2.06 2.06-.94-2.06-.94-.94-2.06-.94 2.06-2.06.94zm-11 1L8.5 8.5l.94-2.06 2.06-.94-2.06-.94L8.5 2.5l-.94 2.06-2.06.94zm10 10l.94 2.06.94-2.06 2.06-.94-2.06-.94-.94-2.06-.94 2.06-2.06.94z\"/><path d=\"M17.41 7.96l-1.37-1.37c-.4-.4-.92-.59-1.43-.59-.52 0-1.04.2-1.43.59L10.3 9.45l-7.72 7.72c-.78.78-.78 2.05 0 2.83L4 21.41c.39.39.9.59 1.41.59.51 0 1.02-.2 1.41-.59l7.78-7.78 2.81-2.81c.8-.78.8-2.07 0-2.86zM5.41 20L4 18.59l7.72-7.72 1.47 1.35L5.41 20z\"/>\n",
       "  </svg>\n",
       "      </button>\n",
       "      \n",
       "  <style>\n",
       "    .colab-df-container {\n",
       "      display:flex;\n",
       "      flex-wrap:wrap;\n",
       "      gap: 12px;\n",
       "    }\n",
       "\n",
       "    .colab-df-convert {\n",
       "      background-color: #E8F0FE;\n",
       "      border: none;\n",
       "      border-radius: 50%;\n",
       "      cursor: pointer;\n",
       "      display: none;\n",
       "      fill: #1967D2;\n",
       "      height: 32px;\n",
       "      padding: 0 0 0 0;\n",
       "      width: 32px;\n",
       "    }\n",
       "\n",
       "    .colab-df-convert:hover {\n",
       "      background-color: #E2EBFA;\n",
       "      box-shadow: 0px 1px 2px rgba(60, 64, 67, 0.3), 0px 1px 3px 1px rgba(60, 64, 67, 0.15);\n",
       "      fill: #174EA6;\n",
       "    }\n",
       "\n",
       "    [theme=dark] .colab-df-convert {\n",
       "      background-color: #3B4455;\n",
       "      fill: #D2E3FC;\n",
       "    }\n",
       "\n",
       "    [theme=dark] .colab-df-convert:hover {\n",
       "      background-color: #434B5C;\n",
       "      box-shadow: 0px 1px 3px 1px rgba(0, 0, 0, 0.15);\n",
       "      filter: drop-shadow(0px 1px 2px rgba(0, 0, 0, 0.3));\n",
       "      fill: #FFFFFF;\n",
       "    }\n",
       "  </style>\n",
       "\n",
       "      <script>\n",
       "        const buttonEl =\n",
       "          document.querySelector('#df-72847ad7-9d23-42e2-83b3-23c76ea7db8e button.colab-df-convert');\n",
       "        buttonEl.style.display =\n",
       "          google.colab.kernel.accessAllowed ? 'block' : 'none';\n",
       "\n",
       "        async function convertToInteractive(key) {\n",
       "          const element = document.querySelector('#df-72847ad7-9d23-42e2-83b3-23c76ea7db8e');\n",
       "          const dataTable =\n",
       "            await google.colab.kernel.invokeFunction('convertToInteractive',\n",
       "                                                     [key], {});\n",
       "          if (!dataTable) return;\n",
       "\n",
       "          const docLinkHtml = 'Like what you see? Visit the ' +\n",
       "            '<a target=\"_blank\" href=https://colab.research.google.com/notebooks/data_table.ipynb>data table notebook</a>'\n",
       "            + ' to learn more about interactive tables.';\n",
       "          element.innerHTML = '';\n",
       "          dataTable['output_type'] = 'display_data';\n",
       "          await google.colab.output.renderOutput(dataTable, element);\n",
       "          const docLink = document.createElement('div');\n",
       "          docLink.innerHTML = docLinkHtml;\n",
       "          element.appendChild(docLink);\n",
       "        }\n",
       "      </script>\n",
       "    </div>\n",
       "  </div>\n",
       "  "
      ],
      "text/plain": [
       "      Model Name  Precison    Recall  Balanced_acc      k  Precison at k  \\\n",
       "0        XGBoost  0.549383  0.006357      0.502814  20000       0.366082   \n",
       "0  Random forest  0.376450  0.120563      0.546314  20000       0.333683   \n",
       "0    Extra trees  0.355784  0.160346      0.559866  20000       0.322834   \n",
       "0   linear model  0.483607  0.004214      0.501792  20000       0.317084   \n",
       "0            KNN  0.342797  0.185415      0.567845  20000       0.313134   \n",
       "\n",
       "   Recall at k  \n",
       "0     0.522963  \n",
       "0     0.476680  \n",
       "0     0.461181  \n",
       "0     0.452968  \n",
       "0     0.447325  "
      ]
     },
     "execution_count": 121,
     "metadata": {},
     "output_type": "execute_result"
    }
   ],
   "source": [
    "model_comp.sort_values(by='Recall at k',ascending=False)"
   ]
  },
  {
   "cell_type": "markdown",
   "metadata": {
    "cell_id": "7729b9592a0040b9b48b9c4bf63ea40e",
    "deepnote_cell_height": 81.60000610351562,
    "deepnote_cell_type": "markdown",
    "id": "XSYJ4mjqPrZs",
    "tags": []
   },
   "source": [
    "# Cross validation"
   ]
  },
  {
   "cell_type": "code",
   "execution_count": 122,
   "metadata": {
    "ExecuteTime": {
     "end_time": "2022-09-21T22:36:40.509709Z",
     "start_time": "2022-09-21T22:36:40.496731Z"
    },
    "cell_id": "10b61a404d604ec29e3e9c0b82be0527",
    "deepnote_cell_height": 183.60000610351562,
    "deepnote_cell_type": "code",
    "deepnote_to_be_reexecuted": false,
    "executionInfo": {
     "elapsed": 12,
     "status": "ok",
     "timestamp": 1665685803687,
     "user": {
      "displayName": "Lavis",
      "userId": "11464059397454562428"
     },
     "user_tz": 180
    },
    "execution_millis": 2,
    "execution_start": 1663115859141,
    "id": "KItarqD7PrZt",
    "source_hash": "96169d53",
    "tags": []
   },
   "outputs": [],
   "source": [
    "models = {\n",
    "    'KNN': knn_model,\n",
    "    'Linear model': lm_model,\n",
    "    'Random forrest': rf_model,\n",
    "    'Extra trees': et_model,\n",
    "    'XGBoost':xgb_model\n",
    "}"
   ]
  },
  {
   "cell_type": "code",
   "execution_count": 123,
   "metadata": {
    "ExecuteTime": {
     "end_time": "2022-09-21T22:36:40.541611Z",
     "start_time": "2022-09-21T22:36:40.516678Z"
    },
    "cell_id": "b4dd383fbea74b0d99c0c71dd7b9727c",
    "deepnote_cell_height": 75.60000610351562,
    "deepnote_cell_type": "code",
    "deepnote_to_be_reexecuted": false,
    "executionInfo": {
     "elapsed": 13,
     "status": "ok",
     "timestamp": 1665685803688,
     "user": {
      "displayName": "Lavis",
      "userId": "11464059397454562428"
     },
     "user_tz": 180
    },
    "execution_millis": 2,
    "execution_start": 1663115863194,
    "id": "WcepdmCMPrZt",
    "source_hash": "3f39f1c8",
    "tags": []
   },
   "outputs": [],
   "source": [
    "models_comparison = pd.DataFrame()"
   ]
  },
  {
   "cell_type": "code",
   "execution_count": 124,
   "metadata": {
    "ExecuteTime": {
     "end_time": "2022-09-21T23:48:32.064578Z",
     "start_time": "2022-09-21T22:36:40.546597Z"
    },
    "cell_id": "77188b1acc204fefaa0cb2826b9b1cfe",
    "colab": {
     "base_uri": "https://localhost:8080/",
     "height": 345
    },
    "deepnote_cell_height": 202.39999389648438,
    "deepnote_cell_type": "code",
    "deepnote_to_be_reexecuted": false,
    "executionInfo": {
     "elapsed": 18051,
     "status": "error",
     "timestamp": 1665685821727,
     "user": {
      "displayName": "Lavis",
      "userId": "11464059397454562428"
     },
     "user_tz": 180
    },
    "execution_millis": 70213,
    "execution_start": 1663115865559,
    "id": "LGgKSsPEPrZt",
    "outputId": "f52286fa-f73d-4955-cf4f-2175c8806be6",
    "source_hash": "e239236d",
    "tags": []
   },
   "outputs": [
    {
     "ename": "KeyboardInterrupt",
     "evalue": "ignored",
     "output_type": "error",
     "traceback": [
      "\u001b[0;31m---------------------------------------------------------------------------\u001b[0m",
      "\u001b[0;31mKeyboardInterrupt\u001b[0m                         Traceback (most recent call last)",
      "\u001b[0;32m<ipython-input-124-4aec56e63d5f>\u001b[0m in \u001b[0;36m<module>\u001b[0;34m\u001b[0m\n\u001b[1;32m      1\u001b[0m \u001b[0;32mfor\u001b[0m \u001b[0mc\u001b[0m\u001b[0;34m,\u001b[0m \u001b[0mv\u001b[0m \u001b[0;32min\u001b[0m \u001b[0mmodels\u001b[0m\u001b[0;34m.\u001b[0m\u001b[0mitems\u001b[0m\u001b[0;34m(\u001b[0m\u001b[0;34m)\u001b[0m\u001b[0;34m:\u001b[0m\u001b[0;34m\u001b[0m\u001b[0;34m\u001b[0m\u001b[0m\n\u001b[0;32m----> 2\u001b[0;31m     \u001b[0maux\u001b[0m \u001b[0;34m=\u001b[0m \u001b[0mperformace_cross_val\u001b[0m\u001b[0;34m(\u001b[0m\u001b[0mdf6\u001b[0m\u001b[0;34m,\u001b[0m\u001b[0;34m'response'\u001b[0m\u001b[0;34m,\u001b[0m\u001b[0mv\u001b[0m\u001b[0;34m,\u001b[0m\u001b[0mc\u001b[0m\u001b[0;34m,\u001b[0m\u001b[0mk\u001b[0m\u001b[0;34m=\u001b[0m\u001b[0;36m20000\u001b[0m\u001b[0;34m)\u001b[0m\u001b[0;34m\u001b[0m\u001b[0;34m\u001b[0m\u001b[0m\n\u001b[0m\u001b[1;32m      3\u001b[0m     \u001b[0mmodels_comparison\u001b[0m \u001b[0;34m=\u001b[0m \u001b[0mpd\u001b[0m\u001b[0;34m.\u001b[0m\u001b[0mconcat\u001b[0m\u001b[0;34m(\u001b[0m\u001b[0;34m[\u001b[0m\u001b[0mmodels_comparison\u001b[0m\u001b[0;34m,\u001b[0m\u001b[0maux\u001b[0m\u001b[0;34m]\u001b[0m\u001b[0;34m)\u001b[0m\u001b[0;34m\u001b[0m\u001b[0;34m\u001b[0m\u001b[0m\n",
      "\u001b[0;32m/content/drive/MyDrive/health_insurance_cross_sell-main/health_insurance_cross_sell/functions.py\u001b[0m in \u001b[0;36mperformace_cross_val\u001b[0;34m(data, target, model, model_name, round_n, splits, shuffle_n, random, k)\u001b[0m\n\u001b[1;32m     95\u001b[0m \u001b[0;34m\u001b[0m\u001b[0m\n\u001b[1;32m     96\u001b[0m         \u001b[0;31m# predict the classification\u001b[0m\u001b[0;34m\u001b[0m\u001b[0;34m\u001b[0m\u001b[0;34m\u001b[0m\u001b[0m\n\u001b[0;32m---> 97\u001b[0;31m         \u001b[0myhat_class\u001b[0m \u001b[0;34m=\u001b[0m \u001b[0mmodel\u001b[0m\u001b[0;34m.\u001b[0m\u001b[0mpredict\u001b[0m\u001b[0;34m(\u001b[0m\u001b[0mX\u001b[0m\u001b[0;34m.\u001b[0m\u001b[0miloc\u001b[0m\u001b[0;34m[\u001b[0m\u001b[0mtest_index\u001b[0m\u001b[0;34m]\u001b[0m\u001b[0;34m)\u001b[0m\u001b[0;34m\u001b[0m\u001b[0;34m\u001b[0m\u001b[0m\n\u001b[0m\u001b[1;32m     98\u001b[0m \u001b[0;34m\u001b[0m\u001b[0m\n\u001b[1;32m     99\u001b[0m         \u001b[0;31m# predict the probabilit\u001b[0m\u001b[0;34m\u001b[0m\u001b[0;34m\u001b[0m\u001b[0;34m\u001b[0m\u001b[0m\n",
      "\u001b[0;32m/usr/local/lib/python3.7/dist-packages/sklearn/neighbors/_classification.py\u001b[0m in \u001b[0;36mpredict\u001b[0;34m(self, X)\u001b[0m\n\u001b[1;32m    212\u001b[0m             \u001b[0mClass\u001b[0m \u001b[0mlabels\u001b[0m \u001b[0;32mfor\u001b[0m \u001b[0meach\u001b[0m \u001b[0mdata\u001b[0m \u001b[0msample\u001b[0m\u001b[0;34m.\u001b[0m\u001b[0;34m\u001b[0m\u001b[0;34m\u001b[0m\u001b[0m\n\u001b[1;32m    213\u001b[0m         \"\"\"\n\u001b[0;32m--> 214\u001b[0;31m         \u001b[0mneigh_dist\u001b[0m\u001b[0;34m,\u001b[0m \u001b[0mneigh_ind\u001b[0m \u001b[0;34m=\u001b[0m \u001b[0mself\u001b[0m\u001b[0;34m.\u001b[0m\u001b[0mkneighbors\u001b[0m\u001b[0;34m(\u001b[0m\u001b[0mX\u001b[0m\u001b[0;34m)\u001b[0m\u001b[0;34m\u001b[0m\u001b[0;34m\u001b[0m\u001b[0m\n\u001b[0m\u001b[1;32m    215\u001b[0m         \u001b[0mclasses_\u001b[0m \u001b[0;34m=\u001b[0m \u001b[0mself\u001b[0m\u001b[0;34m.\u001b[0m\u001b[0mclasses_\u001b[0m\u001b[0;34m\u001b[0m\u001b[0;34m\u001b[0m\u001b[0m\n\u001b[1;32m    216\u001b[0m         \u001b[0m_y\u001b[0m \u001b[0;34m=\u001b[0m \u001b[0mself\u001b[0m\u001b[0;34m.\u001b[0m\u001b[0m_y\u001b[0m\u001b[0;34m\u001b[0m\u001b[0;34m\u001b[0m\u001b[0m\n",
      "\u001b[0;32m/usr/local/lib/python3.7/dist-packages/sklearn/neighbors/_base.py\u001b[0m in \u001b[0;36mkneighbors\u001b[0;34m(self, X, n_neighbors, return_distance)\u001b[0m\n\u001b[1;32m    778\u001b[0m                     \u001b[0mself\u001b[0m\u001b[0;34m.\u001b[0m\u001b[0m_tree\u001b[0m\u001b[0;34m,\u001b[0m \u001b[0mX\u001b[0m\u001b[0;34m[\u001b[0m\u001b[0ms\u001b[0m\u001b[0;34m]\u001b[0m\u001b[0;34m,\u001b[0m \u001b[0mn_neighbors\u001b[0m\u001b[0;34m,\u001b[0m \u001b[0mreturn_distance\u001b[0m\u001b[0;34m\u001b[0m\u001b[0;34m\u001b[0m\u001b[0m\n\u001b[1;32m    779\u001b[0m                 )\n\u001b[0;32m--> 780\u001b[0;31m                 \u001b[0;32mfor\u001b[0m \u001b[0ms\u001b[0m \u001b[0;32min\u001b[0m \u001b[0mgen_even_slices\u001b[0m\u001b[0;34m(\u001b[0m\u001b[0mX\u001b[0m\u001b[0;34m.\u001b[0m\u001b[0mshape\u001b[0m\u001b[0;34m[\u001b[0m\u001b[0;36m0\u001b[0m\u001b[0;34m]\u001b[0m\u001b[0;34m,\u001b[0m \u001b[0mn_jobs\u001b[0m\u001b[0;34m)\u001b[0m\u001b[0;34m\u001b[0m\u001b[0;34m\u001b[0m\u001b[0m\n\u001b[0m\u001b[1;32m    781\u001b[0m             )\n\u001b[1;32m    782\u001b[0m         \u001b[0;32melse\u001b[0m\u001b[0;34m:\u001b[0m\u001b[0;34m\u001b[0m\u001b[0;34m\u001b[0m\u001b[0m\n",
      "\u001b[0;32m/usr/local/lib/python3.7/dist-packages/joblib/parallel.py\u001b[0m in \u001b[0;36m__call__\u001b[0;34m(self, iterable)\u001b[0m\n\u001b[1;32m   1083\u001b[0m             \u001b[0;31m# remaining jobs.\u001b[0m\u001b[0;34m\u001b[0m\u001b[0;34m\u001b[0m\u001b[0;34m\u001b[0m\u001b[0m\n\u001b[1;32m   1084\u001b[0m             \u001b[0mself\u001b[0m\u001b[0;34m.\u001b[0m\u001b[0m_iterating\u001b[0m \u001b[0;34m=\u001b[0m \u001b[0;32mFalse\u001b[0m\u001b[0;34m\u001b[0m\u001b[0;34m\u001b[0m\u001b[0m\n\u001b[0;32m-> 1085\u001b[0;31m             \u001b[0;32mif\u001b[0m \u001b[0mself\u001b[0m\u001b[0;34m.\u001b[0m\u001b[0mdispatch_one_batch\u001b[0m\u001b[0;34m(\u001b[0m\u001b[0miterator\u001b[0m\u001b[0;34m)\u001b[0m\u001b[0;34m:\u001b[0m\u001b[0;34m\u001b[0m\u001b[0;34m\u001b[0m\u001b[0m\n\u001b[0m\u001b[1;32m   1086\u001b[0m                 \u001b[0mself\u001b[0m\u001b[0;34m.\u001b[0m\u001b[0m_iterating\u001b[0m \u001b[0;34m=\u001b[0m \u001b[0mself\u001b[0m\u001b[0;34m.\u001b[0m\u001b[0m_original_iterator\u001b[0m \u001b[0;32mis\u001b[0m \u001b[0;32mnot\u001b[0m \u001b[0;32mNone\u001b[0m\u001b[0;34m\u001b[0m\u001b[0;34m\u001b[0m\u001b[0m\n\u001b[1;32m   1087\u001b[0m \u001b[0;34m\u001b[0m\u001b[0m\n",
      "\u001b[0;32m/usr/local/lib/python3.7/dist-packages/joblib/parallel.py\u001b[0m in \u001b[0;36mdispatch_one_batch\u001b[0;34m(self, iterator)\u001b[0m\n\u001b[1;32m    899\u001b[0m                 \u001b[0;32mreturn\u001b[0m \u001b[0;32mFalse\u001b[0m\u001b[0;34m\u001b[0m\u001b[0;34m\u001b[0m\u001b[0m\n\u001b[1;32m    900\u001b[0m             \u001b[0;32melse\u001b[0m\u001b[0;34m:\u001b[0m\u001b[0;34m\u001b[0m\u001b[0;34m\u001b[0m\u001b[0m\n\u001b[0;32m--> 901\u001b[0;31m                 \u001b[0mself\u001b[0m\u001b[0;34m.\u001b[0m\u001b[0m_dispatch\u001b[0m\u001b[0;34m(\u001b[0m\u001b[0mtasks\u001b[0m\u001b[0;34m)\u001b[0m\u001b[0;34m\u001b[0m\u001b[0;34m\u001b[0m\u001b[0m\n\u001b[0m\u001b[1;32m    902\u001b[0m                 \u001b[0;32mreturn\u001b[0m \u001b[0;32mTrue\u001b[0m\u001b[0;34m\u001b[0m\u001b[0;34m\u001b[0m\u001b[0m\n\u001b[1;32m    903\u001b[0m \u001b[0;34m\u001b[0m\u001b[0m\n",
      "\u001b[0;32m/usr/local/lib/python3.7/dist-packages/joblib/parallel.py\u001b[0m in \u001b[0;36m_dispatch\u001b[0;34m(self, batch)\u001b[0m\n\u001b[1;32m    817\u001b[0m         \u001b[0;32mwith\u001b[0m \u001b[0mself\u001b[0m\u001b[0;34m.\u001b[0m\u001b[0m_lock\u001b[0m\u001b[0;34m:\u001b[0m\u001b[0;34m\u001b[0m\u001b[0;34m\u001b[0m\u001b[0m\n\u001b[1;32m    818\u001b[0m             \u001b[0mjob_idx\u001b[0m \u001b[0;34m=\u001b[0m \u001b[0mlen\u001b[0m\u001b[0;34m(\u001b[0m\u001b[0mself\u001b[0m\u001b[0;34m.\u001b[0m\u001b[0m_jobs\u001b[0m\u001b[0;34m)\u001b[0m\u001b[0;34m\u001b[0m\u001b[0;34m\u001b[0m\u001b[0m\n\u001b[0;32m--> 819\u001b[0;31m             \u001b[0mjob\u001b[0m \u001b[0;34m=\u001b[0m \u001b[0mself\u001b[0m\u001b[0;34m.\u001b[0m\u001b[0m_backend\u001b[0m\u001b[0;34m.\u001b[0m\u001b[0mapply_async\u001b[0m\u001b[0;34m(\u001b[0m\u001b[0mbatch\u001b[0m\u001b[0;34m,\u001b[0m \u001b[0mcallback\u001b[0m\u001b[0;34m=\u001b[0m\u001b[0mcb\u001b[0m\u001b[0;34m)\u001b[0m\u001b[0;34m\u001b[0m\u001b[0;34m\u001b[0m\u001b[0m\n\u001b[0m\u001b[1;32m    820\u001b[0m             \u001b[0;31m# A job can complete so quickly than its callback is\u001b[0m\u001b[0;34m\u001b[0m\u001b[0;34m\u001b[0m\u001b[0;34m\u001b[0m\u001b[0m\n\u001b[1;32m    821\u001b[0m             \u001b[0;31m# called before we get here, causing self._jobs to\u001b[0m\u001b[0;34m\u001b[0m\u001b[0;34m\u001b[0m\u001b[0;34m\u001b[0m\u001b[0m\n",
      "\u001b[0;32m/usr/local/lib/python3.7/dist-packages/joblib/_parallel_backends.py\u001b[0m in \u001b[0;36mapply_async\u001b[0;34m(self, func, callback)\u001b[0m\n\u001b[1;32m    206\u001b[0m     \u001b[0;32mdef\u001b[0m \u001b[0mapply_async\u001b[0m\u001b[0;34m(\u001b[0m\u001b[0mself\u001b[0m\u001b[0;34m,\u001b[0m \u001b[0mfunc\u001b[0m\u001b[0;34m,\u001b[0m \u001b[0mcallback\u001b[0m\u001b[0;34m=\u001b[0m\u001b[0;32mNone\u001b[0m\u001b[0;34m)\u001b[0m\u001b[0;34m:\u001b[0m\u001b[0;34m\u001b[0m\u001b[0;34m\u001b[0m\u001b[0m\n\u001b[1;32m    207\u001b[0m         \u001b[0;34m\"\"\"Schedule a func to be run\"\"\"\u001b[0m\u001b[0;34m\u001b[0m\u001b[0;34m\u001b[0m\u001b[0m\n\u001b[0;32m--> 208\u001b[0;31m         \u001b[0mresult\u001b[0m \u001b[0;34m=\u001b[0m \u001b[0mImmediateResult\u001b[0m\u001b[0;34m(\u001b[0m\u001b[0mfunc\u001b[0m\u001b[0;34m)\u001b[0m\u001b[0;34m\u001b[0m\u001b[0;34m\u001b[0m\u001b[0m\n\u001b[0m\u001b[1;32m    209\u001b[0m         \u001b[0;32mif\u001b[0m \u001b[0mcallback\u001b[0m\u001b[0;34m:\u001b[0m\u001b[0;34m\u001b[0m\u001b[0;34m\u001b[0m\u001b[0m\n\u001b[1;32m    210\u001b[0m             \u001b[0mcallback\u001b[0m\u001b[0;34m(\u001b[0m\u001b[0mresult\u001b[0m\u001b[0;34m)\u001b[0m\u001b[0;34m\u001b[0m\u001b[0;34m\u001b[0m\u001b[0m\n",
      "\u001b[0;32m/usr/local/lib/python3.7/dist-packages/joblib/_parallel_backends.py\u001b[0m in \u001b[0;36m__init__\u001b[0;34m(self, batch)\u001b[0m\n\u001b[1;32m    595\u001b[0m         \u001b[0;31m# Don't delay the application, to avoid keeping the input\u001b[0m\u001b[0;34m\u001b[0m\u001b[0;34m\u001b[0m\u001b[0;34m\u001b[0m\u001b[0m\n\u001b[1;32m    596\u001b[0m         \u001b[0;31m# arguments in memory\u001b[0m\u001b[0;34m\u001b[0m\u001b[0;34m\u001b[0m\u001b[0;34m\u001b[0m\u001b[0m\n\u001b[0;32m--> 597\u001b[0;31m         \u001b[0mself\u001b[0m\u001b[0;34m.\u001b[0m\u001b[0mresults\u001b[0m \u001b[0;34m=\u001b[0m \u001b[0mbatch\u001b[0m\u001b[0;34m(\u001b[0m\u001b[0;34m)\u001b[0m\u001b[0;34m\u001b[0m\u001b[0;34m\u001b[0m\u001b[0m\n\u001b[0m\u001b[1;32m    598\u001b[0m \u001b[0;34m\u001b[0m\u001b[0m\n\u001b[1;32m    599\u001b[0m     \u001b[0;32mdef\u001b[0m \u001b[0mget\u001b[0m\u001b[0;34m(\u001b[0m\u001b[0mself\u001b[0m\u001b[0;34m)\u001b[0m\u001b[0;34m:\u001b[0m\u001b[0;34m\u001b[0m\u001b[0;34m\u001b[0m\u001b[0m\n",
      "\u001b[0;32m/usr/local/lib/python3.7/dist-packages/joblib/parallel.py\u001b[0m in \u001b[0;36m__call__\u001b[0;34m(self)\u001b[0m\n\u001b[1;32m    287\u001b[0m         \u001b[0;32mwith\u001b[0m \u001b[0mparallel_backend\u001b[0m\u001b[0;34m(\u001b[0m\u001b[0mself\u001b[0m\u001b[0;34m.\u001b[0m\u001b[0m_backend\u001b[0m\u001b[0;34m,\u001b[0m \u001b[0mn_jobs\u001b[0m\u001b[0;34m=\u001b[0m\u001b[0mself\u001b[0m\u001b[0;34m.\u001b[0m\u001b[0m_n_jobs\u001b[0m\u001b[0;34m)\u001b[0m\u001b[0;34m:\u001b[0m\u001b[0;34m\u001b[0m\u001b[0;34m\u001b[0m\u001b[0m\n\u001b[1;32m    288\u001b[0m             return [func(*args, **kwargs)\n\u001b[0;32m--> 289\u001b[0;31m                     for func, args, kwargs in self.items]\n\u001b[0m\u001b[1;32m    290\u001b[0m \u001b[0;34m\u001b[0m\u001b[0m\n\u001b[1;32m    291\u001b[0m     \u001b[0;32mdef\u001b[0m \u001b[0m__reduce__\u001b[0m\u001b[0;34m(\u001b[0m\u001b[0mself\u001b[0m\u001b[0;34m)\u001b[0m\u001b[0;34m:\u001b[0m\u001b[0;34m\u001b[0m\u001b[0;34m\u001b[0m\u001b[0m\n",
      "\u001b[0;32m/usr/local/lib/python3.7/dist-packages/joblib/parallel.py\u001b[0m in \u001b[0;36m<listcomp>\u001b[0;34m(.0)\u001b[0m\n\u001b[1;32m    287\u001b[0m         \u001b[0;32mwith\u001b[0m \u001b[0mparallel_backend\u001b[0m\u001b[0;34m(\u001b[0m\u001b[0mself\u001b[0m\u001b[0;34m.\u001b[0m\u001b[0m_backend\u001b[0m\u001b[0;34m,\u001b[0m \u001b[0mn_jobs\u001b[0m\u001b[0;34m=\u001b[0m\u001b[0mself\u001b[0m\u001b[0;34m.\u001b[0m\u001b[0m_n_jobs\u001b[0m\u001b[0;34m)\u001b[0m\u001b[0;34m:\u001b[0m\u001b[0;34m\u001b[0m\u001b[0;34m\u001b[0m\u001b[0m\n\u001b[1;32m    288\u001b[0m             return [func(*args, **kwargs)\n\u001b[0;32m--> 289\u001b[0;31m                     for func, args, kwargs in self.items]\n\u001b[0m\u001b[1;32m    290\u001b[0m \u001b[0;34m\u001b[0m\u001b[0m\n\u001b[1;32m    291\u001b[0m     \u001b[0;32mdef\u001b[0m \u001b[0m__reduce__\u001b[0m\u001b[0;34m(\u001b[0m\u001b[0mself\u001b[0m\u001b[0;34m)\u001b[0m\u001b[0;34m:\u001b[0m\u001b[0;34m\u001b[0m\u001b[0;34m\u001b[0m\u001b[0m\n",
      "\u001b[0;32m/usr/local/lib/python3.7/dist-packages/sklearn/utils/fixes.py\u001b[0m in \u001b[0;36m__call__\u001b[0;34m(self, *args, **kwargs)\u001b[0m\n\u001b[1;32m    214\u001b[0m     \u001b[0;32mdef\u001b[0m \u001b[0m__call__\u001b[0m\u001b[0;34m(\u001b[0m\u001b[0mself\u001b[0m\u001b[0;34m,\u001b[0m \u001b[0;34m*\u001b[0m\u001b[0margs\u001b[0m\u001b[0;34m,\u001b[0m \u001b[0;34m**\u001b[0m\u001b[0mkwargs\u001b[0m\u001b[0;34m)\u001b[0m\u001b[0;34m:\u001b[0m\u001b[0;34m\u001b[0m\u001b[0;34m\u001b[0m\u001b[0m\n\u001b[1;32m    215\u001b[0m         \u001b[0;32mwith\u001b[0m \u001b[0mconfig_context\u001b[0m\u001b[0;34m(\u001b[0m\u001b[0;34m**\u001b[0m\u001b[0mself\u001b[0m\u001b[0;34m.\u001b[0m\u001b[0mconfig\u001b[0m\u001b[0;34m)\u001b[0m\u001b[0;34m:\u001b[0m\u001b[0;34m\u001b[0m\u001b[0;34m\u001b[0m\u001b[0m\n\u001b[0;32m--> 216\u001b[0;31m             \u001b[0;32mreturn\u001b[0m \u001b[0mself\u001b[0m\u001b[0;34m.\u001b[0m\u001b[0mfunction\u001b[0m\u001b[0;34m(\u001b[0m\u001b[0;34m*\u001b[0m\u001b[0margs\u001b[0m\u001b[0;34m,\u001b[0m \u001b[0;34m**\u001b[0m\u001b[0mkwargs\u001b[0m\u001b[0;34m)\u001b[0m\u001b[0;34m\u001b[0m\u001b[0;34m\u001b[0m\u001b[0m\n\u001b[0m\u001b[1;32m    217\u001b[0m \u001b[0;34m\u001b[0m\u001b[0m\n\u001b[1;32m    218\u001b[0m \u001b[0;34m\u001b[0m\u001b[0m\n",
      "\u001b[0;32m/usr/local/lib/python3.7/dist-packages/sklearn/neighbors/_base.py\u001b[0m in \u001b[0;36m_tree_query_parallel_helper\u001b[0;34m(tree, *args, **kwargs)\u001b[0m\n\u001b[1;32m    598\u001b[0m     \u001b[0munder\u001b[0m \u001b[0mPyPy\u001b[0m\u001b[0;34m.\u001b[0m\u001b[0;34m\u001b[0m\u001b[0;34m\u001b[0m\u001b[0m\n\u001b[1;32m    599\u001b[0m     \"\"\"\n\u001b[0;32m--> 600\u001b[0;31m     \u001b[0;32mreturn\u001b[0m \u001b[0mtree\u001b[0m\u001b[0;34m.\u001b[0m\u001b[0mquery\u001b[0m\u001b[0;34m(\u001b[0m\u001b[0;34m*\u001b[0m\u001b[0margs\u001b[0m\u001b[0;34m,\u001b[0m \u001b[0;34m**\u001b[0m\u001b[0mkwargs\u001b[0m\u001b[0;34m)\u001b[0m\u001b[0;34m\u001b[0m\u001b[0;34m\u001b[0m\u001b[0m\n\u001b[0m\u001b[1;32m    601\u001b[0m \u001b[0;34m\u001b[0m\u001b[0m\n\u001b[1;32m    602\u001b[0m \u001b[0;34m\u001b[0m\u001b[0m\n",
      "\u001b[0;31mKeyboardInterrupt\u001b[0m: "
     ]
    }
   ],
   "source": [
    "for c, v in models.items():\n",
    "    aux = performace_cross_val(df6,'response',v,c,k=20000)\n",
    "    models_comparison = pd.concat([models_comparison,aux])"
   ]
  },
  {
   "cell_type": "code",
   "execution_count": null,
   "metadata": {
    "ExecuteTime": {
     "end_time": "2022-09-22T01:29:21.124344Z",
     "start_time": "2022-09-22T01:29:21.090436Z"
    },
    "cell_id": "89bd6895251a42d999f3d89a099dc862",
    "deepnote_cell_height": 266.3999938964844,
    "deepnote_cell_type": "code",
    "deepnote_output_heights": [
     175
    ],
    "deepnote_table_loading": false,
    "deepnote_table_state": {
     "filters": [],
     "pageIndex": 0,
     "pageSize": 10,
     "sortBy": [
      {
       "id": "PRECISION AT K CROSS_VAL",
       "type": "desc"
      }
     ]
    },
    "deepnote_to_be_reexecuted": false,
    "executionInfo": {
     "elapsed": 7,
     "status": "aborted",
     "timestamp": 1665685821728,
     "user": {
      "displayName": "Lavis",
      "userId": "11464059397454562428"
     },
     "user_tz": 180
    },
    "execution_millis": 317,
    "execution_start": 1663077842336,
    "id": "EeYGaa2vPrZt",
    "source_hash": "6df05d0a",
    "tags": []
   },
   "outputs": [],
   "source": [
    "models_comparison.sort_values(by='RECALL_AT_K_CROSS_VAL',ascending=False)"
   ]
  },
  {
   "cell_type": "markdown",
   "metadata": {
    "id": "ZtzrkkVf1C4B"
   },
   "source": [
    "O algoritmo XGBoost será escolhido para seguir para etapa de fine tuning por apresentar bons valores de de *recall e precision at k*, e ter um bom *balanced accuracy score*"
   ]
  },
  {
   "cell_type": "code",
   "execution_count": null,
   "metadata": {
    "ExecuteTime": {
     "end_time": "2022-09-22T01:30:10.710243Z",
     "start_time": "2022-09-22T01:30:10.472571Z"
    },
    "cell_id": "00075-930b72fe-e52d-4aa7-893e-6f1d67f7fb57",
    "deepnote_cell_height": 60.600006103515625,
    "deepnote_cell_type": "code",
    "executionInfo": {
     "elapsed": 7,
     "status": "aborted",
     "timestamp": 1665685821728,
     "user": {
      "displayName": "Lavis",
      "userId": "11464059397454562428"
     },
     "user_tz": 180
    },
    "id": "XP89WJO3PrZu"
   },
   "outputs": [],
   "source": [
    "#models_comparison.to_csv('../data/models_comparison_balanced_accuracy.csv',index=False)"
   ]
  }
 ],
 "metadata": {
  "colab": {
   "collapsed_sections": [],
   "provenance": []
  },
  "deepnote": {},
  "deepnote_execution_queue": [],
  "deepnote_notebook_id": "902457a8-c054-48cb-9ba9-398e078092fa",
  "kernelspec": {
   "display_name": "Python 3",
   "language": "python",
   "name": "python3"
  },
  "language_info": {
   "codemirror_mode": {
    "name": "ipython",
    "version": 3
   },
   "file_extension": ".py",
   "mimetype": "text/x-python",
   "name": "python",
   "nbconvert_exporter": "python",
   "pygments_lexer": "ipython3",
   "version": "3.8.5"
  }
 },
 "nbformat": 4,
 "nbformat_minor": 1
}
