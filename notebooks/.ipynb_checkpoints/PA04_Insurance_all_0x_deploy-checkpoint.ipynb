{
 "cells": [
  {
   "cell_type": "markdown",
   "metadata": {
    "id": "GntYN-H7_bX6"
   },
   "source": [
    "# Imports"
   ]
  },
  {
   "cell_type": "code",
   "execution_count": 1,
   "metadata": {
    "ExecuteTime": {
     "end_time": "2022-10-25T13:38:42.322317Z",
     "start_time": "2022-10-25T13:38:35.803164Z"
    },
    "executionInfo": {
     "elapsed": 2911,
     "status": "ok",
     "timestamp": 1666106280256,
     "user": {
      "displayName": "Lavis",
      "userId": "11464059397454562428"
     },
     "user_tz": 180
    },
    "id": "g4bKRoJx_bX8",
    "scrolled": true
   },
   "outputs": [],
   "source": [
    "import pandas as pd\n",
    "import numpy as np\n",
    "import seaborn as sns\n",
    "\n",
    "import matplotlib.pyplot as plt\n",
    "\n",
    "\n",
    "import xgboost as xgb\n",
    "\n",
    "import sklearn.metrics\n",
    "import pickle\n",
    "\n",
    "from IPython.core.display import HTML\n",
    "pd.options.mode.chained_assignment = None  # default='warn'"
   ]
  },
  {
   "cell_type": "code",
   "execution_count": 2,
   "metadata": {
    "ExecuteTime": {
     "end_time": "2022-10-25T13:38:42.338275Z",
     "start_time": "2022-10-25T13:38:42.325312Z"
    },
    "colab": {
     "base_uri": "https://localhost:8080/"
    },
    "executionInfo": {
     "elapsed": 4121,
     "status": "ok",
     "timestamp": 1666106284362,
     "user": {
      "displayName": "Lavis",
      "userId": "11464059397454562428"
     },
     "user_tz": 180
    },
    "id": "HicOIzY0D8zK",
    "outputId": "7df3182b-fb48-42d3-a4d4-7a49f5147ae1"
   },
   "outputs": [],
   "source": [
    "# from google.colab import drive\n",
    "# drive.mount('/content/drive')"
   ]
  },
  {
   "cell_type": "markdown",
   "metadata": {
    "id": "PLefCAOf_bX-"
   },
   "source": [
    "# Helper functions"
   ]
  },
  {
   "cell_type": "code",
   "execution_count": 3,
   "metadata": {
    "ExecuteTime": {
     "end_time": "2022-10-25T13:38:42.384155Z",
     "start_time": "2022-10-25T13:38:42.343263Z"
    },
    "colab": {
     "base_uri": "https://localhost:8080/",
     "height": 34
    },
    "executionInfo": {
     "elapsed": 44,
     "status": "ok",
     "timestamp": 1666106284364,
     "user": {
      "displayName": "Lavis",
      "userId": "11464059397454562428"
     },
     "user_tz": 180
    },
    "id": "iwgIa8dr_bX_",
    "outputId": "2e7d62ff-296b-4b0d-a1a6-617d894e721c"
   },
   "outputs": [
    {
     "name": "stdout",
     "output_type": "stream",
     "text": [
      "Populating the interactive namespace from numpy and matplotlib\n"
     ]
    },
    {
     "data": {
      "text/html": [
       "<style>.container { width:100% !important; }</style>"
      ],
      "text/plain": [
       "<IPython.core.display.HTML object>"
      ]
     },
     "metadata": {},
     "output_type": "display_data"
    }
   ],
   "source": [
    "def jupyter_settings():\n",
    "    %matplotlib inline\n",
    "    %pylab inline\n",
    "    plt.style.use( 'bmh' )\n",
    "    plt.rcParams['figure.figsize'] = [25, 12]\n",
    "    plt.rcParams['font.size'] = 24\n",
    "    display( HTML( '<style>.container { width:100% !important; }</style>') )\n",
    "    sns.set()\n",
    "jupyter_settings()"
   ]
  },
  {
   "cell_type": "code",
   "execution_count": 4,
   "metadata": {
    "ExecuteTime": {
     "end_time": "2022-10-25T13:38:42.399113Z",
     "start_time": "2022-10-25T13:38:42.388142Z"
    },
    "executionInfo": {
     "elapsed": 41,
     "status": "ok",
     "timestamp": 1666106284365,
     "user": {
      "displayName": "Lavis",
      "userId": "11464059397454562428"
     },
     "user_tz": 180
    },
    "id": "NNAj-prtWJZl"
   },
   "outputs": [],
   "source": [
    "# import sys \n",
    "# path_to_module = '/content/drive/MyDrive/health_insurance_cross_sell-main/health_insurance_cross_sell'\n",
    "# sys.path.append(path_to_module)"
   ]
  },
  {
   "cell_type": "code",
   "execution_count": 5,
   "metadata": {
    "ExecuteTime": {
     "end_time": "2022-10-25T13:38:42.430051Z",
     "start_time": "2022-10-25T13:38:42.402106Z"
    },
    "executionInfo": {
     "elapsed": 41,
     "status": "ok",
     "timestamp": 1666106284365,
     "user": {
      "displayName": "Lavis",
      "userId": "11464059397454562428"
     },
     "user_tz": 180
    },
    "id": "JcHEY-o9WKGC"
   },
   "outputs": [],
   "source": [
    "from functions import performace\n",
    "from Healthinsurance.healthinsurance import HealthInsurance\n"
   ]
  },
  {
   "cell_type": "markdown",
   "metadata": {
    "id": "AKHRDzM9_bYC"
   },
   "source": [
    "# Load data"
   ]
  },
  {
   "cell_type": "code",
   "execution_count": 6,
   "metadata": {
    "ExecuteTime": {
     "end_time": "2022-10-25T13:38:42.711426Z",
     "start_time": "2022-10-25T13:38:42.435018Z"
    },
    "executionInfo": {
     "elapsed": 41,
     "status": "ok",
     "timestamp": 1666106284366,
     "user": {
      "displayName": "Lavis",
      "userId": "11464059397454562428"
     },
     "user_tz": 180
    },
    "id": "808FSwPh_bYD"
   },
   "outputs": [],
   "source": [
    "test_df = pd.read_csv('webapp/data/test_raw.csv')"
   ]
  },
  {
   "cell_type": "code",
   "execution_count": 7,
   "metadata": {
    "ExecuteTime": {
     "end_time": "2022-10-25T13:38:42.772265Z",
     "start_time": "2022-10-25T13:38:42.714418Z"
    },
    "colab": {
     "base_uri": "https://localhost:8080/",
     "height": 270
    },
    "executionInfo": {
     "elapsed": 42,
     "status": "ok",
     "timestamp": 1666106284367,
     "user": {
      "displayName": "Lavis",
      "userId": "11464059397454562428"
     },
     "user_tz": 180
    },
    "id": "fVaE2jOdLrrM",
    "outputId": "3f45bf9f-4050-4c3e-9c6e-3beab48e529d"
   },
   "outputs": [
    {
     "data": {
      "text/html": [
       "<div>\n",
       "<style scoped>\n",
       "    .dataframe tbody tr th:only-of-type {\n",
       "        vertical-align: middle;\n",
       "    }\n",
       "\n",
       "    .dataframe tbody tr th {\n",
       "        vertical-align: top;\n",
       "    }\n",
       "\n",
       "    .dataframe thead th {\n",
       "        text-align: right;\n",
       "    }\n",
       "</style>\n",
       "<table border=\"1\" class=\"dataframe\">\n",
       "  <thead>\n",
       "    <tr style=\"text-align: right;\">\n",
       "      <th></th>\n",
       "      <th>id</th>\n",
       "      <th>gender</th>\n",
       "      <th>age</th>\n",
       "      <th>region_code</th>\n",
       "      <th>policy_sales_channel</th>\n",
       "      <th>previously_insured</th>\n",
       "      <th>annual_premium</th>\n",
       "      <th>vintage</th>\n",
       "      <th>vehicle_age</th>\n",
       "      <th>vehicle_damage</th>\n",
       "      <th>response</th>\n",
       "    </tr>\n",
       "  </thead>\n",
       "  <tbody>\n",
       "    <tr>\n",
       "      <th>0</th>\n",
       "      <td>196319</td>\n",
       "      <td>Male</td>\n",
       "      <td>50</td>\n",
       "      <td>33.0</td>\n",
       "      <td>124.0</td>\n",
       "      <td>0</td>\n",
       "      <td>40841.0</td>\n",
       "      <td>154</td>\n",
       "      <td>&gt; 2 Years</td>\n",
       "      <td>1</td>\n",
       "      <td>0</td>\n",
       "    </tr>\n",
       "    <tr>\n",
       "      <th>1</th>\n",
       "      <td>377373</td>\n",
       "      <td>Male</td>\n",
       "      <td>40</td>\n",
       "      <td>8.0</td>\n",
       "      <td>124.0</td>\n",
       "      <td>1</td>\n",
       "      <td>2630.0</td>\n",
       "      <td>145</td>\n",
       "      <td>1-2 Year</td>\n",
       "      <td>0</td>\n",
       "      <td>0</td>\n",
       "    </tr>\n",
       "    <tr>\n",
       "      <th>2</th>\n",
       "      <td>96687</td>\n",
       "      <td>Female</td>\n",
       "      <td>65</td>\n",
       "      <td>41.0</td>\n",
       "      <td>109.0</td>\n",
       "      <td>0</td>\n",
       "      <td>26336.0</td>\n",
       "      <td>246</td>\n",
       "      <td>1-2 Year</td>\n",
       "      <td>1</td>\n",
       "      <td>0</td>\n",
       "    </tr>\n",
       "    <tr>\n",
       "      <th>3</th>\n",
       "      <td>303533</td>\n",
       "      <td>Male</td>\n",
       "      <td>60</td>\n",
       "      <td>28.0</td>\n",
       "      <td>124.0</td>\n",
       "      <td>0</td>\n",
       "      <td>52717.0</td>\n",
       "      <td>139</td>\n",
       "      <td>1-2 Year</td>\n",
       "      <td>1</td>\n",
       "      <td>0</td>\n",
       "    </tr>\n",
       "    <tr>\n",
       "      <th>4</th>\n",
       "      <td>256233</td>\n",
       "      <td>Male</td>\n",
       "      <td>36</td>\n",
       "      <td>36.0</td>\n",
       "      <td>26.0</td>\n",
       "      <td>0</td>\n",
       "      <td>39176.0</td>\n",
       "      <td>73</td>\n",
       "      <td>1-2 Year</td>\n",
       "      <td>1</td>\n",
       "      <td>1</td>\n",
       "    </tr>\n",
       "  </tbody>\n",
       "</table>\n",
       "</div>"
      ],
      "text/plain": [
       "       id  gender  age  region_code  policy_sales_channel  previously_insured  \\\n",
       "0  196319    Male   50         33.0                 124.0                   0   \n",
       "1  377373    Male   40          8.0                 124.0                   1   \n",
       "2   96687  Female   65         41.0                 109.0                   0   \n",
       "3  303533    Male   60         28.0                 124.0                   0   \n",
       "4  256233    Male   36         36.0                  26.0                   0   \n",
       "\n",
       "   annual_premium  vintage vehicle_age  vehicle_damage  response  \n",
       "0         40841.0      154   > 2 Years               1         0  \n",
       "1          2630.0      145    1-2 Year               0         0  \n",
       "2         26336.0      246    1-2 Year               1         0  \n",
       "3         52717.0      139    1-2 Year               1         0  \n",
       "4         39176.0       73    1-2 Year               1         1  "
      ]
     },
     "execution_count": 7,
     "metadata": {},
     "output_type": "execute_result"
    }
   ],
   "source": [
    "test_df.head()"
   ]
  },
  {
   "cell_type": "code",
   "execution_count": 8,
   "metadata": {
    "ExecuteTime": {
     "end_time": "2022-10-25T13:38:42.788221Z",
     "start_time": "2022-10-25T13:38:42.778247Z"
    },
    "colab": {
     "base_uri": "https://localhost:8080/"
    },
    "executionInfo": {
     "elapsed": 42,
     "status": "ok",
     "timestamp": 1666106284368,
     "user": {
      "displayName": "Lavis",
      "userId": "11464059397454562428"
     },
     "user_tz": 180
    },
    "id": "Ey5XBhM4_bYD",
    "outputId": "0073c782-140d-4ca4-9789-44c8335ce93a"
   },
   "outputs": [
    {
     "data": {
      "text/plain": [
       "(114090, 11)"
      ]
     },
     "execution_count": 8,
     "metadata": {},
     "output_type": "execute_result"
    }
   ],
   "source": [
    "test_df.shape"
   ]
  },
  {
   "cell_type": "code",
   "execution_count": 9,
   "metadata": {
    "ExecuteTime": {
     "end_time": "2022-10-25T13:38:42.819149Z",
     "start_time": "2022-10-25T13:38:42.796200Z"
    },
    "colab": {
     "base_uri": "https://localhost:8080/"
    },
    "executionInfo": {
     "elapsed": 41,
     "status": "ok",
     "timestamp": 1666106284369,
     "user": {
      "displayName": "Lavis",
      "userId": "11464059397454562428"
     },
     "user_tz": 180
    },
    "id": "oeYS6NoJ_bYE",
    "outputId": "4cd20654-ec54-4dda-8b28-400d19baade6"
   },
   "outputs": [
    {
     "data": {
      "text/plain": [
       "id                        int64\n",
       "gender                   object\n",
       "age                       int64\n",
       "region_code             float64\n",
       "policy_sales_channel    float64\n",
       "previously_insured        int64\n",
       "annual_premium          float64\n",
       "vintage                   int64\n",
       "vehicle_age              object\n",
       "vehicle_damage            int64\n",
       "response                  int64\n",
       "dtype: object"
      ]
     },
     "execution_count": 9,
     "metadata": {},
     "output_type": "execute_result"
    }
   ],
   "source": [
    "test_df.dtypes"
   ]
  },
  {
   "cell_type": "markdown",
   "metadata": {
    "id": "VXQxVXET0GE6"
   },
   "source": [
    "# Data Preparation"
   ]
  },
  {
   "cell_type": "code",
   "execution_count": 10,
   "metadata": {
    "ExecuteTime": {
     "end_time": "2022-10-25T13:38:42.850056Z",
     "start_time": "2022-10-25T13:38:42.824125Z"
    },
    "executionInfo": {
     "elapsed": 39,
     "status": "ok",
     "timestamp": 1666106284369,
     "user": {
      "displayName": "Lavis",
      "userId": "11464059397454562428"
     },
     "user_tz": 180
    },
    "id": "neXzmfFe0RQx"
   },
   "outputs": [],
   "source": [
    "df9 = test_df.copy()"
   ]
  },
  {
   "cell_type": "markdown",
   "metadata": {
    "id": "9qCSrRkeQX0d"
   },
   "source": [
    "# Deploy"
   ]
  },
  {
   "cell_type": "markdown",
   "metadata": {
    "id": "zFQ6kypjbHkb"
   },
   "source": [
    "## HealthInsurance class"
   ]
  },
  {
   "cell_type": "code",
   "execution_count": 13,
   "metadata": {
    "ExecuteTime": {
     "end_time": "2022-10-25T13:38:42.926850Z",
     "start_time": "2022-10-25T13:38:42.901917Z"
    },
    "executionInfo": {
     "elapsed": 40,
     "status": "ok",
     "timestamp": 1666106284371,
     "user": {
      "displayName": "Lavis",
      "userId": "11464059397454562428"
     },
     "user_tz": 180
    },
    "id": "uppbmNrEQZ00"
   },
   "outputs": [],
   "source": [
    "import pickle\n",
    "import numpy  as np\n",
    "import pandas as pd\n",
    "\n",
    "class HealthInsurance:\n",
    "    \n",
    "    def __init__( self ):\n",
    "        self.home_path = 'Users/Lavin/Documents/Comunidade DS/health_insurance_cross_sell/'\n",
    "        self.annual_premium_scaler =            pickle.load( open( self.home_path + 'features/annual_premium_scaler.pkl','rb' ) )\n",
    "        self.age_scaler =                       pickle.load( open( self.home_path + 'features/age_scaler.pkl','rb' ) ) \n",
    "        self.vintage_scaler =                   pickle.load( open( self.home_path + 'features/vintage_scaler.pkl','rb' ) ) \n",
    "        \n",
    "    def data_cleaning( self, df1 ):\n",
    "        # 1.1. Rename Columns\n",
    "        cols_new = ['id', 'gender', 'age','region_code', 'previously_insured', 'vehicle_age', \n",
    "                    'vehicle_damage', 'annual_premium', 'policy_sales_channel', 'vintage', 'response']\n",
    "\n",
    "        # rename \n",
    "        df1.columns = cols_new\n",
    "        \n",
    "        return df1 \n",
    "\n",
    "    \n",
    "    def feature_engineering( self, df2 ):\n",
    "        # Feature Engineering\n",
    "\n",
    "        # Vehicle Damage Number\n",
    "        df2['vehicle_damage'] = df2['vehicle_damage'].apply(lambda x: 1 if x =='Yes' else 0)\n",
    "\n",
    "        # Vehicle Age\n",
    "        df2['gender'] = df2['gender'].apply(lambda x: 1 if x=='Female' else (0 if x=='Male' else x))\n",
    "\n",
    "        \n",
    "        return df2\n",
    "    \n",
    "    \n",
    "    def data_preparation( self, df5 ):\n",
    "\n",
    "        # Min - max sacaler\n",
    "        df5['age'] = self.annual_premium_scaler.transform(df5[['age']].values)\n",
    "\n",
    "        df5['vintage'] = self.vintage_scaler.transform(df5[['vintage']].values)\n",
    "\n",
    "        # StandardScale\n",
    "        df5['annual_premium'] = self.annual_premium_scaler.transform(df5[['annual_premium']].values)\n",
    "\n",
    "        # vehicle_age ordinal scale\n",
    "        vehicle_age_dict = {'> 2 Years':3, '1-2 Year':2, '< 1 Year':1}\n",
    "        df5['vehicle_age'] = df5['vehicle_age'].map(vehicle_age_dict)\n",
    "\n",
    "        # Feature Selection\n",
    "        final_columns = ['id',  'age', 'region_code', 'policy_sales_channel',\n",
    "              'previously_insured', 'annual_premium', 'vintage', 'vehicle_age',\n",
    "              'vehicle_damage', 'response']\n",
    "        \n",
    "        return df5[ final_columns ]\n",
    "    \n",
    "    \n",
    "    def get_prediction( self, model, original_data, test_data ):\n",
    "        # model prediction\n",
    "        pred = model.predict_proba( test_data )\n",
    "        \n",
    "        # join prediction into original data\n",
    "        original_data['prediction'] = pred\n",
    "        \n",
    "        return original_data.to_json( orient='records', date_format='iso' )"
   ]
  },
  {
   "cell_type": "markdown",
   "metadata": {
    "id": "6Xl14JYpbCJR"
   },
   "source": [
    "## API Handler"
   ]
  },
  {
   "cell_type": "code",
   "execution_count": 14,
   "metadata": {
    "ExecuteTime": {
     "end_time": "2022-10-25T13:38:44.228371Z",
     "start_time": "2022-10-25T13:38:42.932835Z"
    },
    "colab": {
     "base_uri": "https://localhost:8080/",
     "height": 269
    },
    "executionInfo": {
     "elapsed": 696,
     "status": "error",
     "timestamp": 1666106285027,
     "user": {
      "displayName": "Lavis",
      "userId": "11464059397454562428"
     },
     "user_tz": 180
    },
    "id": "fxIdOjW5UwYb",
    "outputId": "c7956f6b-67c7-4f84-e009-389f52d124cd"
   },
   "outputs": [
    {
     "ename": "XGBoostError",
     "evalue": "[10:38:43] C:/Users/Administrator/workspace/xgboost-win64_release_1.6.0/src/learner.cc:1059: Check failed: header == serialisation_header_: \n  If you are loading a serialized model (like pickle in Python, RDS in R) generated by\n  older XGBoost, please export the model by calling `Booster.save_model` from that version\n  first, then load it back in current version. See:\n\n    https://xgboost.readthedocs.io/en/latest/tutorials/saving_model.html\n\n  for more details about differences between saving model and serializing.\n",
     "output_type": "error",
     "traceback": [
      "\u001b[1;31m---------------------------------------------------------------------------\u001b[0m",
      "\u001b[1;31mXGBoostError\u001b[0m                              Traceback (most recent call last)",
      "\u001b[1;32m<ipython-input-14-5c055b467b2f>\u001b[0m in \u001b[0;36m<module>\u001b[1;34m\u001b[0m\n\u001b[0;32m      6\u001b[0m \u001b[1;31m# loading model\u001b[0m\u001b[1;33m\u001b[0m\u001b[1;33m\u001b[0m\u001b[1;33m\u001b[0m\u001b[0m\n\u001b[0;32m      7\u001b[0m \u001b[0mpath\u001b[0m \u001b[1;33m=\u001b[0m \u001b[1;34m''\u001b[0m\u001b[1;33m\u001b[0m\u001b[1;33m\u001b[0m\u001b[0m\n\u001b[1;32m----> 8\u001b[1;33m \u001b[0mmodel\u001b[0m \u001b[1;33m=\u001b[0m \u001b[0mpickle\u001b[0m\u001b[1;33m.\u001b[0m\u001b[0mload\u001b[0m\u001b[1;33m(\u001b[0m \u001b[0mopen\u001b[0m\u001b[1;33m(\u001b[0m \u001b[0mpath\u001b[0m \u001b[1;33m+\u001b[0m \u001b[1;34m'models/xgb_model_final.pkl'\u001b[0m\u001b[1;33m,\u001b[0m \u001b[1;34m'rb'\u001b[0m \u001b[1;33m)\u001b[0m \u001b[1;33m)\u001b[0m\u001b[1;33m\u001b[0m\u001b[1;33m\u001b[0m\u001b[0m\n\u001b[0m\u001b[0;32m      9\u001b[0m \u001b[1;33m\u001b[0m\u001b[0m\n\u001b[0;32m     10\u001b[0m \u001b[1;31m# initialize API\u001b[0m\u001b[1;33m\u001b[0m\u001b[1;33m\u001b[0m\u001b[1;33m\u001b[0m\u001b[0m\n",
      "\u001b[1;32m~\\anaconda3\\lib\\site-packages\\xgboost\\core.py\u001b[0m in \u001b[0;36m__setstate__\u001b[1;34m(self, state)\u001b[0m\n\u001b[0;32m   1494\u001b[0m             \u001b[0mlength\u001b[0m \u001b[1;33m=\u001b[0m \u001b[0mc_bst_ulong\u001b[0m\u001b[1;33m(\u001b[0m\u001b[0mlen\u001b[0m\u001b[1;33m(\u001b[0m\u001b[0mbuf\u001b[0m\u001b[1;33m)\u001b[0m\u001b[1;33m)\u001b[0m\u001b[1;33m\u001b[0m\u001b[1;33m\u001b[0m\u001b[0m\n\u001b[0;32m   1495\u001b[0m             \u001b[0mptr\u001b[0m \u001b[1;33m=\u001b[0m \u001b[1;33m(\u001b[0m\u001b[0mctypes\u001b[0m\u001b[1;33m.\u001b[0m\u001b[0mc_char\u001b[0m \u001b[1;33m*\u001b[0m \u001b[0mlen\u001b[0m\u001b[1;33m(\u001b[0m\u001b[0mbuf\u001b[0m\u001b[1;33m)\u001b[0m\u001b[1;33m)\u001b[0m\u001b[1;33m.\u001b[0m\u001b[0mfrom_buffer\u001b[0m\u001b[1;33m(\u001b[0m\u001b[0mbuf\u001b[0m\u001b[1;33m)\u001b[0m\u001b[1;33m\u001b[0m\u001b[1;33m\u001b[0m\u001b[0m\n\u001b[1;32m-> 1496\u001b[1;33m             _check_call(\n\u001b[0m\u001b[0;32m   1497\u001b[0m                 _LIB.XGBoosterUnserializeFromBuffer(handle, ptr, length))\n\u001b[0;32m   1498\u001b[0m             \u001b[0mstate\u001b[0m\u001b[1;33m[\u001b[0m\u001b[1;34m'handle'\u001b[0m\u001b[1;33m]\u001b[0m \u001b[1;33m=\u001b[0m \u001b[0mhandle\u001b[0m\u001b[1;33m\u001b[0m\u001b[1;33m\u001b[0m\u001b[0m\n",
      "\u001b[1;32m~\\anaconda3\\lib\\site-packages\\xgboost\\core.py\u001b[0m in \u001b[0;36m_check_call\u001b[1;34m(ret)\u001b[0m\n\u001b[0;32m    201\u001b[0m     \"\"\"\n\u001b[0;32m    202\u001b[0m     \u001b[1;32mif\u001b[0m \u001b[0mret\u001b[0m \u001b[1;33m!=\u001b[0m \u001b[1;36m0\u001b[0m\u001b[1;33m:\u001b[0m\u001b[1;33m\u001b[0m\u001b[1;33m\u001b[0m\u001b[0m\n\u001b[1;32m--> 203\u001b[1;33m         \u001b[1;32mraise\u001b[0m \u001b[0mXGBoostError\u001b[0m\u001b[1;33m(\u001b[0m\u001b[0mpy_str\u001b[0m\u001b[1;33m(\u001b[0m\u001b[0m_LIB\u001b[0m\u001b[1;33m.\u001b[0m\u001b[0mXGBGetLastError\u001b[0m\u001b[1;33m(\u001b[0m\u001b[1;33m)\u001b[0m\u001b[1;33m)\u001b[0m\u001b[1;33m)\u001b[0m\u001b[1;33m\u001b[0m\u001b[1;33m\u001b[0m\u001b[0m\n\u001b[0m\u001b[0;32m    204\u001b[0m \u001b[1;33m\u001b[0m\u001b[0m\n\u001b[0;32m    205\u001b[0m \u001b[1;33m\u001b[0m\u001b[0m\n",
      "\u001b[1;31mXGBoostError\u001b[0m: [10:38:43] C:/Users/Administrator/workspace/xgboost-win64_release_1.6.0/src/learner.cc:1059: Check failed: header == serialisation_header_: \n  If you are loading a serialized model (like pickle in Python, RDS in R) generated by\n  older XGBoost, please export the model by calling `Booster.save_model` from that version\n  first, then load it back in current version. See:\n\n    https://xgboost.readthedocs.io/en/latest/tutorials/saving_model.html\n\n  for more details about differences between saving model and serializing.\n"
     ]
    }
   ],
   "source": [
    "import pickle\n",
    "import pandas as pd\n",
    "from flask import Flask, request, Response\n",
    "from Healthinsurance.healthinsurance import HealthInsurance\n",
    "\n",
    "# loading model\n",
    "path = ''\n",
    "model = pickle.load( open( path + 'models/xgb_model_final.pkl', 'rb' ) )\n",
    "\n",
    "# initialize API\n",
    "app = Flask( __name__ )\n",
    "\n",
    "@app.route( '/predict', methods=['POST'] )\n",
    "def health_insurance_predict():\n",
    "    test_json = request.get_json()\n",
    "    \n",
    "    if test_json: # there is data\n",
    "        if isinstance( test_json, dict ): # unique example\n",
    "            test_raw = pd.DataFrame( test_json, index=[0] )\n",
    "            \n",
    "        else: # multiple example\n",
    "            test_raw = pd.DataFrame( test_json, columns=test_json[0].keys() )\n",
    "            \n",
    "        # Instantiate Rossmann class\n",
    "        pipeline = HealthInsurance()\n",
    "        \n",
    "        # data cleaning\n",
    "        df1 = pipeline.data_cleaning( test_df )\n",
    "        \n",
    "        # feature engineering\n",
    "        df2 = pipeline.feature_engineering( df1 )\n",
    "        \n",
    "        # data preparation\n",
    "        df3 = pipeline.data_preparation( df2 )\n",
    "        \n",
    "        # prediction\n",
    "        df_response = pipeline.get_prediction( model, test_df, df3 )\n",
    "        \n",
    "        return df_response\n",
    "    \n",
    "    else:\n",
    "        return Response( '{}', status=200, mimetype='application/json' )\n",
    "    \n",
    "if __name__ == '__main__':\n",
    "    app.run( '0.0.0.0', debug=True )"
   ]
  },
  {
   "cell_type": "markdown",
   "metadata": {
    "id": "HqXMYSKOolUn"
   },
   "source": [
    "## API tester"
   ]
  },
  {
   "cell_type": "code",
   "execution_count": 31,
   "metadata": {
    "ExecuteTime": {
     "end_time": "2022-10-25T15:28:30.850109Z",
     "start_time": "2022-10-25T15:28:30.630304Z"
    }
   },
   "outputs": [],
   "source": [
    "data = df9.sample(10)"
   ]
  },
  {
   "cell_type": "code",
   "execution_count": 32,
   "metadata": {
    "ExecuteTime": {
     "end_time": "2022-10-25T15:28:34.950697Z",
     "start_time": "2022-10-25T15:28:32.250533Z"
    },
    "executionInfo": {
     "elapsed": 5,
     "status": "aborted",
     "timestamp": 1666106285028,
     "user": {
      "displayName": "Lavis",
      "userId": "11464059397454562428"
     },
     "user_tz": 180
    },
    "id": "PQMagqXBok12"
   },
   "outputs": [],
   "source": [
    "import requests\n",
    "import json\n",
    "\n",
    "data = json.dumps( df9.to_dict( orient='records' ) )"
   ]
  },
  {
   "cell_type": "code",
   "execution_count": 46,
   "metadata": {
    "ExecuteTime": {
     "end_time": "2022-10-25T17:27:41.613544Z",
     "start_time": "2022-10-25T17:27:27.099892Z"
    },
    "executionInfo": {
     "elapsed": 6,
     "status": "aborted",
     "timestamp": 1666106285029,
     "user": {
      "displayName": "Lavis",
      "userId": "11464059397454562428"
     },
     "user_tz": 180
    },
    "id": "yAIHMiIOpEqy"
   },
   "outputs": [
    {
     "name": "stdout",
     "output_type": "stream",
     "text": [
      "Status code 200\n"
     ]
    }
   ],
   "source": [
    "# API Call\n",
    "#url = 'http://192.168.0.5:5000/HealthInsurance/predict'\n",
    "# #url = 'http://0.0.0.0:5000/predict'\n",
    "url = 'https://heatl-insurance-predction-test.herokuapp.com/HealthInsurance/predict'\n",
    "# header = {'Content-type': 'application/json' }\n",
    "\n",
    "# r = requests.post( url, data=data, headers=header )\n",
    "# print( 'Status Code {}'.format( r.status_code ) )\n",
    "\n",
    "# Api call\n",
    "\n",
    "#url = 'http://192.168.0.5:5000/rossmann/predict'\n",
    "#url = 'https://rossmann-predict-lav-test.herokuapp.com/rossmann/predict'\n",
    "header = {'Content-type':'application/json'}\n",
    "data = data\n",
    "\n",
    "r = requests.post(url,data,headers=header)\n",
    "print('Status code {}'.format(r.status_code))"
   ]
  },
  {
   "cell_type": "code",
   "execution_count": 47,
   "metadata": {
    "ExecuteTime": {
     "end_time": "2022-10-25T17:27:53.652605Z",
     "start_time": "2022-10-25T17:27:52.264326Z"
    }
   },
   "outputs": [
    {
     "data": {
      "text/html": [
       "<div>\n",
       "<style scoped>\n",
       "    .dataframe tbody tr th:only-of-type {\n",
       "        vertical-align: middle;\n",
       "    }\n",
       "\n",
       "    .dataframe tbody tr th {\n",
       "        vertical-align: top;\n",
       "    }\n",
       "\n",
       "    .dataframe thead th {\n",
       "        text-align: right;\n",
       "    }\n",
       "</style>\n",
       "<table border=\"1\" class=\"dataframe\">\n",
       "  <thead>\n",
       "    <tr style=\"text-align: right;\">\n",
       "      <th></th>\n",
       "      <th>id</th>\n",
       "      <th>gender</th>\n",
       "      <th>age</th>\n",
       "      <th>region_code</th>\n",
       "      <th>policy_sales_channel</th>\n",
       "      <th>previously_insured</th>\n",
       "      <th>annual_premium</th>\n",
       "      <th>vintage</th>\n",
       "      <th>vehicle_age</th>\n",
       "      <th>vehicle_damage</th>\n",
       "      <th>response</th>\n",
       "      <th>score</th>\n",
       "    </tr>\n",
       "  </thead>\n",
       "  <tbody>\n",
       "    <tr>\n",
       "      <th>112906</th>\n",
       "      <td>247986</td>\n",
       "      <td>Male</td>\n",
       "      <td>34</td>\n",
       "      <td>28.0</td>\n",
       "      <td>124.0</td>\n",
       "      <td>0</td>\n",
       "      <td>90941.0</td>\n",
       "      <td>164</td>\n",
       "      <td>1-2 Year</td>\n",
       "      <td>1</td>\n",
       "      <td>0</td>\n",
       "      <td>0.747272</td>\n",
       "    </tr>\n",
       "    <tr>\n",
       "      <th>51525</th>\n",
       "      <td>299944</td>\n",
       "      <td>Male</td>\n",
       "      <td>39</td>\n",
       "      <td>18.0</td>\n",
       "      <td>124.0</td>\n",
       "      <td>0</td>\n",
       "      <td>134092.0</td>\n",
       "      <td>195</td>\n",
       "      <td>1-2 Year</td>\n",
       "      <td>1</td>\n",
       "      <td>0</td>\n",
       "      <td>0.739605</td>\n",
       "    </tr>\n",
       "    <tr>\n",
       "      <th>51094</th>\n",
       "      <td>139716</td>\n",
       "      <td>Female</td>\n",
       "      <td>53</td>\n",
       "      <td>28.0</td>\n",
       "      <td>124.0</td>\n",
       "      <td>0</td>\n",
       "      <td>133280.0</td>\n",
       "      <td>203</td>\n",
       "      <td>&gt; 2 Years</td>\n",
       "      <td>1</td>\n",
       "      <td>0</td>\n",
       "      <td>0.711632</td>\n",
       "    </tr>\n",
       "    <tr>\n",
       "      <th>92549</th>\n",
       "      <td>232888</td>\n",
       "      <td>Male</td>\n",
       "      <td>54</td>\n",
       "      <td>28.0</td>\n",
       "      <td>26.0</td>\n",
       "      <td>0</td>\n",
       "      <td>132387.0</td>\n",
       "      <td>240</td>\n",
       "      <td>1-2 Year</td>\n",
       "      <td>1</td>\n",
       "      <td>0</td>\n",
       "      <td>0.695620</td>\n",
       "    </tr>\n",
       "    <tr>\n",
       "      <th>20598</th>\n",
       "      <td>334982</td>\n",
       "      <td>Male</td>\n",
       "      <td>59</td>\n",
       "      <td>51.0</td>\n",
       "      <td>157.0</td>\n",
       "      <td>0</td>\n",
       "      <td>132401.0</td>\n",
       "      <td>135</td>\n",
       "      <td>1-2 Year</td>\n",
       "      <td>1</td>\n",
       "      <td>1</td>\n",
       "      <td>0.657332</td>\n",
       "    </tr>\n",
       "  </tbody>\n",
       "</table>\n",
       "</div>"
      ],
      "text/plain": [
       "            id  gender  age  region_code  policy_sales_channel  \\\n",
       "112906  247986    Male   34         28.0                 124.0   \n",
       "51525   299944    Male   39         18.0                 124.0   \n",
       "51094   139716  Female   53         28.0                 124.0   \n",
       "92549   232888    Male   54         28.0                  26.0   \n",
       "20598   334982    Male   59         51.0                 157.0   \n",
       "\n",
       "        previously_insured  annual_premium  vintage vehicle_age  \\\n",
       "112906                   0         90941.0      164    1-2 Year   \n",
       "51525                    0        134092.0      195    1-2 Year   \n",
       "51094                    0        133280.0      203   > 2 Years   \n",
       "92549                    0        132387.0      240    1-2 Year   \n",
       "20598                    0        132401.0      135    1-2 Year   \n",
       "\n",
       "        vehicle_damage  response     score  \n",
       "112906               1         0  0.747272  \n",
       "51525                1         0  0.739605  \n",
       "51094                1         0  0.711632  \n",
       "92549                1         0  0.695620  \n",
       "20598                1         1  0.657332  "
      ]
     },
     "execution_count": 47,
     "metadata": {},
     "output_type": "execute_result"
    }
   ],
   "source": [
    "d1 = pd.DataFrame( r.json(), columns=r.json()[0].keys() )\n",
    "d1.sort_values( 'score', ascending=False ).head()"
   ]
  }
 ],
 "metadata": {
  "colab": {
   "collapsed_sections": [],
   "provenance": []
  },
  "deepnote": {},
  "deepnote_execution_queue": [],
  "deepnote_notebook_id": "1c4ae238-6d82-4b11-b14c-6a3b5dfcbe14",
  "kernelspec": {
   "display_name": "Python 3",
   "language": "python",
   "name": "python3"
  },
  "language_info": {
   "codemirror_mode": {
    "name": "ipython",
    "version": 3
   },
   "file_extension": ".py",
   "mimetype": "text/x-python",
   "name": "python",
   "nbconvert_exporter": "python",
   "pygments_lexer": "ipython3",
   "version": "3.8.5"
  }
 },
 "nbformat": 4,
 "nbformat_minor": 1
}
